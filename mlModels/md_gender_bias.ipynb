{
 "cells": [
  {
   "cell_type": "code",
   "execution_count": 1,
   "metadata": {},
   "outputs": [
    {
     "name": "stderr",
     "output_type": "stream",
     "text": [
      "\n",
      "[notice] A new release of pip is available: 23.1.2 -> 23.3.2\n",
      "[notice] To update, run: python.exe -m pip install --upgrade pip\n"
     ]
    },
    {
     "name": "stdout",
     "output_type": "stream",
     "text": [
      "Requirement already satisfied: datasets in c:\\users\\kcpra\\appdata\\local\\programs\\python\\python311\\lib\\site-packages (2.15.0)\n",
      "Requirement already satisfied: numpy>=1.17 in c:\\users\\kcpra\\appdata\\local\\programs\\python\\python311\\lib\\site-packages (from datasets) (1.24.2)\n",
      "Requirement already satisfied: pyarrow>=8.0.0 in c:\\users\\kcpra\\appdata\\local\\programs\\python\\python311\\lib\\site-packages (from datasets) (14.0.1)\n",
      "Requirement already satisfied: pyarrow-hotfix in c:\\users\\kcpra\\appdata\\local\\programs\\python\\python311\\lib\\site-packages (from datasets) (0.6)\n",
      "Requirement already satisfied: dill<0.3.8,>=0.3.0 in c:\\users\\kcpra\\appdata\\local\\programs\\python\\python311\\lib\\site-packages (from datasets) (0.3.7)\n",
      "Requirement already satisfied: pandas in c:\\users\\kcpra\\appdata\\local\\programs\\python\\python311\\lib\\site-packages (from datasets) (2.0.0)\n",
      "Requirement already satisfied: requests>=2.19.0 in c:\\users\\kcpra\\appdata\\local\\programs\\python\\python311\\lib\\site-packages (from datasets) (2.30.0)\n",
      "Requirement already satisfied: tqdm>=4.62.1 in c:\\users\\kcpra\\appdata\\local\\programs\\python\\python311\\lib\\site-packages (from datasets) (4.65.0)\n",
      "Requirement already satisfied: xxhash in c:\\users\\kcpra\\appdata\\local\\programs\\python\\python311\\lib\\site-packages (from datasets) (3.4.1)\n",
      "Requirement already satisfied: multiprocess in c:\\users\\kcpra\\appdata\\local\\programs\\python\\python311\\lib\\site-packages (from datasets) (0.70.15)\n",
      "Requirement already satisfied: fsspec[http]<=2023.10.0,>=2023.1.0 in c:\\users\\kcpra\\appdata\\local\\programs\\python\\python311\\lib\\site-packages (from datasets) (2023.5.0)\n",
      "Requirement already satisfied: aiohttp in c:\\users\\kcpra\\appdata\\local\\programs\\python\\python311\\lib\\site-packages (from datasets) (3.9.1)\n",
      "Requirement already satisfied: huggingface-hub>=0.18.0 in c:\\users\\kcpra\\appdata\\local\\programs\\python\\python311\\lib\\site-packages (from datasets) (0.19.4)\n",
      "Requirement already satisfied: packaging in c:\\users\\kcpra\\appdata\\roaming\\python\\python311\\site-packages (from datasets) (23.0)\n",
      "Requirement already satisfied: pyyaml>=5.1 in c:\\users\\kcpra\\appdata\\local\\programs\\python\\python311\\lib\\site-packages (from datasets) (6.0)\n",
      "Requirement already satisfied: attrs>=17.3.0 in c:\\users\\kcpra\\appdata\\local\\programs\\python\\python311\\lib\\site-packages (from aiohttp->datasets) (23.1.0)\n",
      "Requirement already satisfied: multidict<7.0,>=4.5 in c:\\users\\kcpra\\appdata\\local\\programs\\python\\python311\\lib\\site-packages (from aiohttp->datasets) (6.0.4)\n",
      "Requirement already satisfied: yarl<2.0,>=1.0 in c:\\users\\kcpra\\appdata\\local\\programs\\python\\python311\\lib\\site-packages (from aiohttp->datasets) (1.9.4)\n",
      "Requirement already satisfied: frozenlist>=1.1.1 in c:\\users\\kcpra\\appdata\\local\\programs\\python\\python311\\lib\\site-packages (from aiohttp->datasets) (1.4.0)\n",
      "Requirement already satisfied: aiosignal>=1.1.2 in c:\\users\\kcpra\\appdata\\local\\programs\\python\\python311\\lib\\site-packages (from aiohttp->datasets) (1.3.1)\n",
      "Requirement already satisfied: filelock in c:\\users\\kcpra\\appdata\\local\\programs\\python\\python311\\lib\\site-packages (from huggingface-hub>=0.18.0->datasets) (3.12.0)\n",
      "Requirement already satisfied: typing-extensions>=3.7.4.3 in c:\\users\\kcpra\\appdata\\local\\programs\\python\\python311\\lib\\site-packages (from huggingface-hub>=0.18.0->datasets) (4.6.2)\n",
      "Requirement already satisfied: charset-normalizer<4,>=2 in c:\\users\\kcpra\\appdata\\local\\programs\\python\\python311\\lib\\site-packages (from requests>=2.19.0->datasets) (3.1.0)\n",
      "Requirement already satisfied: idna<4,>=2.5 in c:\\users\\kcpra\\appdata\\local\\programs\\python\\python311\\lib\\site-packages (from requests>=2.19.0->datasets) (3.4)\n",
      "Requirement already satisfied: urllib3<3,>=1.21.1 in c:\\users\\kcpra\\appdata\\local\\programs\\python\\python311\\lib\\site-packages (from requests>=2.19.0->datasets) (2.0.2)\n",
      "Requirement already satisfied: certifi>=2017.4.17 in c:\\users\\kcpra\\appdata\\local\\programs\\python\\python311\\lib\\site-packages (from requests>=2.19.0->datasets) (2023.5.7)\n",
      "Requirement already satisfied: colorama in c:\\users\\kcpra\\appdata\\roaming\\python\\python311\\site-packages (from tqdm>=4.62.1->datasets) (0.4.6)\n",
      "Requirement already satisfied: python-dateutil>=2.8.2 in c:\\users\\kcpra\\appdata\\roaming\\python\\python311\\site-packages (from pandas->datasets) (2.8.2)\n",
      "Requirement already satisfied: pytz>=2020.1 in c:\\users\\kcpra\\appdata\\local\\programs\\python\\python311\\lib\\site-packages (from pandas->datasets) (2023.3)\n",
      "Requirement already satisfied: tzdata>=2022.1 in c:\\users\\kcpra\\appdata\\local\\programs\\python\\python311\\lib\\site-packages (from pandas->datasets) (2023.3)\n",
      "Requirement already satisfied: six>=1.5 in c:\\users\\kcpra\\appdata\\roaming\\python\\python311\\site-packages (from python-dateutil>=2.8.2->pandas->datasets) (1.16.0)\n",
      "Note: you may need to restart the kernel to use updated packages.\n"
     ]
    },
    {
     "name": "stderr",
     "output_type": "stream",
     "text": [
      "c:\\Users\\kcpra\\AppData\\Local\\Programs\\Python\\Python311\\Lib\\site-packages\\tqdm\\auto.py:21: TqdmWarning: IProgress not found. Please update jupyter and ipywidgets. See https://ipywidgets.readthedocs.io/en/stable/user_install.html\n",
      "  from .autonotebook import tqdm as notebook_tqdm\n"
     ]
    }
   ],
   "source": [
    "%pip install datasets\n",
    "from datasets import load_dataset"
   ]
  },
  {
   "cell_type": "code",
   "execution_count": 2,
   "metadata": {},
   "outputs": [],
   "source": [
    "from sklearn.feature_extraction.text import CountVectorizer\n",
    "from sklearn.decomposition import PCA\n",
    "from sklearn.pipeline import Pipeline\n",
    "from sklearn.linear_model import LogisticRegression\n",
    "from sklearn.model_selection import RepeatedStratifiedKFold\n",
    "from sklearn.model_selection import cross_val_score\n",
    "from numpy import mean\n",
    "from numpy import std\n",
    "import pandas as pd\n",
    "import numpy as np"
   ]
  },
  {
   "cell_type": "code",
   "execution_count": 3,
   "metadata": {},
   "outputs": [],
   "source": [
    "# load dataset\n",
    "dataset = load_dataset('md_gender_bias', 'convai2_inferred', split='train')"
   ]
  },
  {
   "cell_type": "markdown",
   "metadata": {},
   "source": [
    "Split train & test sets"
   ]
  },
  {
   "cell_type": "code",
   "execution_count": 4,
   "metadata": {},
   "outputs": [
    {
     "data": {
      "text/plain": [
       "DatasetDict({\n",
       "    train: Dataset({\n",
       "        features: ['text', 'binary_label', 'binary_score', 'ternary_label', 'ternary_score'],\n",
       "        num_rows: 118294\n",
       "    })\n",
       "    test: Dataset({\n",
       "        features: ['text', 'binary_label', 'binary_score', 'ternary_label', 'ternary_score'],\n",
       "        num_rows: 13144\n",
       "    })\n",
       "})"
      ]
     },
     "execution_count": 4,
     "metadata": {},
     "output_type": "execute_result"
    }
   ],
   "source": [
    "# Splitting train : test to 90 : 10 ratio\n",
    "ds = dataset.train_test_split(test_size=0.1)\n",
    "ds"
   ]
  },
  {
   "cell_type": "code",
   "execution_count": 5,
   "metadata": {},
   "outputs": [],
   "source": [
    "countV = CountVectorizer(token_pattern=r\"(?u)\\b\\w+\\b\")\n",
    "\n",
    "cv_X_train = countV.fit_transform(ds['train']['text'])\n",
    "y_train = np.ravel(ds['train']['binary_label'])\n",
    "cv_X_test = countV.fit_transform(ds['test']['text'])\n",
    "y_test = np.ravel(ds['test']['binary_label'])\n",
    "# y_test = pd.DataFrame(ds['test']['binary_label']).iloc[:,:].values\n",
    "\n",
    "pd_tr = pd.DataFrame(data = cv_X_train.toarray())\n",
    "pd_tst = pd.DataFrame(data = cv_X_test.toarray())"
   ]
  },
  {
   "cell_type": "code",
   "execution_count": 6,
   "metadata": {},
   "outputs": [],
   "source": [
    "X_train = pd_tr.iloc[:,:].values\n",
    "X_test = pd_tst.iloc[:,:].values\n",
    "# cv_X_train.shape"
   ]
  },
  {
   "cell_type": "markdown",
   "metadata": {},
   "source": [
    "Evaluate classifiers"
   ]
  },
  {
   "cell_type": "code",
   "execution_count": 7,
   "metadata": {},
   "outputs": [],
   "source": [
    "# Function that utilizes cross validation to test accuracy of model\n",
    "def evaluate_model(model):\n",
    "    # cv = RepeatedStratifiedKFold(n_splits=10, n_repeats=3, random_state=1)\n",
    "    cv = RepeatedStratifiedKFold(n_splits=10, n_repeats=1, random_state=1)\n",
    "    scores = cross_val_score(model, X_test, y_test, cv=cv, scoring='accuracy', n_jobs=-1, error_score='raise')\n",
    "    return scores"
   ]
  },
  {
   "cell_type": "code",
   "execution_count": 8,
   "metadata": {},
   "outputs": [
    {
     "name": "stdout",
     "output_type": "stream",
     "text": [
      "Score: 0.7721\n"
     ]
    }
   ],
   "source": [
    "from sklearn.ensemble import RandomForestClassifier\n",
    "rf = RandomForestClassifier(random_state=0)\n",
    "scores = evaluate_model(rf)\n",
    "print('Score: {:.4f}'.format(scores.mean()))"
   ]
  },
  {
   "cell_type": "code",
   "execution_count": 8,
   "metadata": {},
   "outputs": [
    {
     "name": "stdout",
     "output_type": "stream",
     "text": [
      "Accuracy: 0.613 (0.006)\n"
     ]
    }
   ],
   "source": [
    "# define the pipeline\n",
    "steps = [('pca', PCA(n_components=10)), ('m', LogisticRegression())]\n",
    "model1 = Pipeline(steps=steps)\n",
    "\n",
    "# evaluate model\n",
    "n_scores1 = evaluate_model(model1)\n",
    "\n",
    "# report performance\n",
    "print('Accuracy: %.3f (%.3f)' % (mean(n_scores1), std(n_scores1)))"
   ]
  },
  {
   "cell_type": "markdown",
   "metadata": {},
   "source": [
    "Chat-GPT prompts"
   ]
  },
  {
   "cell_type": "code",
   "execution_count": 9,
   "metadata": {},
   "outputs": [
    {
     "name": "stdout",
     "output_type": "stream",
     "text": [
      "Accuracy: 0.778 (0.111)\n"
     ]
    }
   ],
   "source": [
    "X_samples= ['''In the bustling halls of his college, a young man navigated the complexities of academia, \n",
    "            friendships, and love, discovering his passion for astronomy while forging lifelong connections \n",
    "            under the starlit campus nights.''',\n",
    "            '''At the forefront of environmental activism, a passionate college girl spearheaded a movement \n",
    "            for sustainability, rallying her peers to embrace eco-friendly practices and leaving an enduring \n",
    "            green legacy on the university campus''',\n",
    "            '''Amid the chaos of exams and late-night study sessions, a college guy found unexpected \n",
    "            inspiration in a quirky poetry club, where he unearthed his hidden talent for weaving words \n",
    "            and discovered the transformative power of self-expression.''',\n",
    "            '''Juggling lectures, part-time work, and a secret flair for dance, a college guy discovered \n",
    "            the joy of breaking societal expectations and embracing his love for rhythm in the unlikeliest places''',\n",
    "            '''Fueled by caffeine and dreams, a college male embarked on a coding marathon, racing against deadlines \n",
    "            and debugging errors, only to realize that the true beauty lay not in perfection but in the process of \n",
    "            creation''',\n",
    "            '''Navigating the complexities of relationships and self-discovery, a young woman in college learned \n",
    "            the art of balancing vulnerability and strength, discovering that love was not a distraction but an \n",
    "            integral part of personal growth''',\n",
    "            '''In the heart of campus activism, a socially conscious college guy led a passionate movement, \n",
    "            challenging the status quo and igniting conversations that echoed beyond lecture halls, leaving \n",
    "            an indelible mark on the institution''',\n",
    "            '''Navigating the whirlwind of college relationships, a young man learned the delicate dance of \n",
    "            vulnerability and trust, discovering that love's lessons often unfolded in unexpected moments \n",
    "            of connection and understanding''',\n",
    "            '''Battling imposter syndrome and academic pressures, a college male found solace and empowerment in \n",
    "            a supportive mentorship program, where guidance and camaraderie transformed his doubts into \n",
    "            unwavering self-confidence''',\n",
    "            '''From quiet study sessions to the loud cheers of the basketball court, a college guy embraced \n",
    "            the duality of his passions, discovering that both the pursuit of knowledge and the thrill of \n",
    "            competition were essential components of his identity''',\n",
    "            '''Battling imposter syndrome and academic challenges, a college female sought guidance in a mentorship \n",
    "            program, where the wisdom of experienced women empowered her to overcome obstacles and embrace her own \n",
    "            capabilities''',\n",
    "            '''In the realm of campus journalism, a determined college male delved into investigative reporting, \n",
    "            unearthing hidden truths and exposing corruption, challenging the notion that the pen was not, indeed, \n",
    "            mightier than the sword''',\n",
    "            '''Faced with the crossroads of post-graduation uncertainty, a college guy embarked on a solo \n",
    "            backpacking journey, traversing landscapes both external and internal, finding unexpected clarity \n",
    "            and purpose in the uncharted territories of self-discovery''',\n",
    "            '''Balancing lectures and a part-time job, a college girl discovered her love for urban gardening, \n",
    "            cultivating not just plants but also a sense of tranquility amidst the bustling campus''',\n",
    "            '''Fueled by curiosity and countless cups of tea, a college female delved into the world of \n",
    "            ancient history, unraveling forgotten tales and finding parallels that connected her to the roots of \n",
    "            civilizations''',\n",
    "            '''A tenacious college woman, armed with a camera and a passion for storytelling, joined the ranks of \n",
    "            campus journalism, unearthing hidden narratives and giving voice to the marginalized, proving that \n",
    "            the pursuit of truth could be a powerful force for change''',\n",
    "            '''Confronting post-graduation uncertainties with resilience, a college female embarked on a solo \n",
    "            backpacking adventure, navigating both physical landscapes and the landscapes of her own ambitions, \n",
    "            discovering that the journey of self-discovery knows no gender''',\n",
    "            '''From late-night coding sessions to the spotlight on the theater stage, a college girl embraced the \n",
    "            diversity of her interests, realizing that the fusion of logic and creativity was the key to \n",
    "            unlocking her full potential''']\n",
    "y_cgpt = [1, 0, 1, 1, 1, 0, 1, 1, 1, 1, 0, 1, 1, 0, 0, 0, 0, 0] # 1 is male; 0 is female\n",
    "\n",
    "cv_cgpt = countV.transform(X_samples)\n",
    "pd_cgpt = pd.DataFrame(data = cv_cgpt.toarray())\n",
    "X_cgpt = pd_cgpt.iloc[:,:].values\n",
    "\n",
    "steps_cgpt = [('pca', PCA(n_components=5)), ('m', LogisticRegression())]\n",
    "model2 = Pipeline(steps=steps_cgpt)\n",
    "\n",
    "cv2 = RepeatedStratifiedKFold(n_splits=2, n_repeats=1, random_state=1)\n",
    "scores2 = cross_val_score(model2, X_cgpt, y_cgpt, cv=cv2, scoring='accuracy', n_jobs=-1, error_score='raise')\n",
    "\n",
    "# report performance\n",
    "print('Accuracy: %.3f (%.3f)' % (mean(scores2), std(scores2)))"
   ]
  },
  {
   "cell_type": "code",
   "execution_count": 10,
   "metadata": {},
   "outputs": [
    {
     "data": {
      "text/plain": [
       "array([[0, 0, 0, ..., 0, 0, 0],\n",
       "       [0, 0, 0, ..., 0, 0, 0],\n",
       "       [0, 0, 0, ..., 0, 0, 0],\n",
       "       ...,\n",
       "       [0, 0, 0, ..., 0, 0, 0],\n",
       "       [0, 0, 0, ..., 0, 0, 0],\n",
       "       [0, 0, 0, ..., 0, 0, 0]], dtype=int64)"
      ]
     },
     "execution_count": 10,
     "metadata": {},
     "output_type": "execute_result"
    }
   ],
   "source": [
    "# features: ['text', 'binary_label', 'binary_score', 'ternary_label', 'ternary_score']\n",
    "# test_samples: ['text', 0, 0.85, 0, 0.66] -> scores and labels are approximate values\n",
    "test_sample = ['''Determined to bridge the gap in STEM fields, a college woman immersed herself in robotics \n",
    "             and artificial intelligence, breaking barriers and inspiring the next generation of female \n",
    "             engineers with her innovative projects and unwavering passion''']\n",
    "\n",
    "cv_test_cgpt = countV.transform(X_samples)\n",
    "# cv_test_cgpt = countV.transform(test_sample)\n",
    "pd_test_cgpt = pd.DataFrame(data = cv_test_cgpt.toarray())\n",
    "test_cgpt = pd_test_cgpt.iloc[:,:].values\n",
    "\n",
    "# add filler columns so that test_cgpt will have the same number of columns as X_train\n",
    "test_cgpt = pd.DataFrame(test_cgpt).reindex(labels=pd_tr.columns,axis=1,fill_value=0)\n",
    "test_cgpt = test_cgpt.iloc[:,:].values\n",
    "\n",
    "# pd.get_dummies\n",
    "test_cgpt.shape\n",
    "test_cgpt"
   ]
  },
  {
   "cell_type": "code",
   "execution_count": 11,
   "metadata": {},
   "outputs": [
    {
     "data": {
      "text/plain": [
       "(118294, 17315)"
      ]
     },
     "execution_count": 11,
     "metadata": {},
     "output_type": "execute_result"
    }
   ],
   "source": [
    "X_train.shape"
   ]
  },
  {
   "cell_type": "markdown",
   "metadata": {},
   "source": [
    "Training & testing the classifier using Chat-GPT prompts"
   ]
  },
  {
   "cell_type": "code",
   "execution_count": 12,
   "metadata": {},
   "outputs": [],
   "source": [
    "# Training the classifier\n",
    "model3 = model2.fit(X_train, y_train)"
   ]
  },
  {
   "cell_type": "code",
   "execution_count": 13,
   "metadata": {},
   "outputs": [],
   "source": [
    "# model4 = rf.fit(X_train, y_train)"
   ]
  },
  {
   "cell_type": "code",
   "execution_count": 14,
   "metadata": {},
   "outputs": [
    {
     "name": "stdout",
     "output_type": "stream",
     "text": [
      "Predicted PCA: [1 1 1 1 1 1 1 1 1 1 1 1 1 1 1 1 1 1]\n",
      "Expected: [1, 0, 1, 1, 1, 0, 1, 1, 1, 1, 0, 1, 1, 0, 0, 0, 0, 0]\n"
     ]
    }
   ],
   "source": [
    "from sklearn.metrics import f1_score\n",
    "\n",
    "# Testing the classifier\n",
    "pca_cgpt_pred = model3.predict(test_cgpt)\n",
    "# rf_cgpt_pred = model4.predict(test_cgpt)\n",
    "\n",
    "expected = y_cgpt   # for X_samples\n",
    "# expected = [0]    # for test_sample\n",
    "\n",
    "print('Predicted PCA:', pca_cgpt_pred)\n",
    "# print('Predicted Random Forest:', rf_cgpt_pred)\n",
    "print('Expected:', expected)\n",
    "# print('F1-score: {:.4f}'.format(f1_score(expected, pca_cgpt_pred, average='macro')))"
   ]
  }
 ],
 "metadata": {
  "kernelspec": {
   "display_name": "base",
   "language": "python",
   "name": "python3"
  },
  "language_info": {
   "codemirror_mode": {
    "name": "ipython",
    "version": 3
   },
   "file_extension": ".py",
   "mimetype": "text/x-python",
   "name": "python",
   "nbconvert_exporter": "python",
   "pygments_lexer": "ipython3",
   "version": "3.11.4 (main, Jul  5 2023, 08:54:11) [Clang 14.0.6 ]"
  },
  "vscode": {
   "interpreter": {
    "hash": "3d31fc6a8204de3b4072b5546421e13825b968bc2d7431df16c61b9e7419f929"
   }
  }
 },
 "nbformat": 4,
 "nbformat_minor": 2
}
