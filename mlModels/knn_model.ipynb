{
 "cells": [
  {
   "cell_type": "markdown",
   "metadata": {},
   "source": [
    "KNN Classifier"
   ]
  },
  {
   "cell_type": "code",
   "execution_count": 2,
   "metadata": {},
   "outputs": [],
   "source": [
    "from sklearn import preprocessing\n",
    "from sklearn.model_selection import train_test_split\n",
    "from sklearn.neighbors import KNeighborsClassifier\n",
    "from sklearn.metrics import accuracy_score\n",
    "import pandas as pd\n",
    "import numpy as np\n",
    "file_loc = \"./gender_classification/Transformed Data Set - Sheet1.csv\""
   ]
  },
  {
   "cell_type": "markdown",
   "metadata": {},
   "source": [
    "Get labeled data"
   ]
  },
  {
   "cell_type": "code",
   "execution_count": 4,
   "metadata": {},
   "outputs": [],
   "source": [
    "df = pd.read_csv(file_loc)\n",
    "\n",
    "# First Feature\n",
    "color = df['Favorite Color']\n",
    "# Second Feature\n",
    "music = df['Favorite Music Genre']\n",
    "# Third Feature\n",
    "beverage = df['Favorite Beverage']\n",
    "# Fourth Feature\n",
    "soda = df['Favorite Soft Drink']\n",
    "# Label or target variable\n",
    "gender = df['Gender']"
   ]
  },
  {
   "cell_type": "markdown",
   "metadata": {},
   "source": [
    "Convert labeled data to encoded data"
   ]
  },
  {
   "cell_type": "code",
   "execution_count": 5,
   "metadata": {},
   "outputs": [
    {
     "name": "stdout",
     "output_type": "stream",
     "text": [
      "Color Encoded [0 1 2 2 0 2 0 2 2 1 0 2 2 2 0 2 0 0 0 0 0 2 0 2 0 2 0 0 0 0 2 1 0 2 1 2 1\n",
      " 0 0 2 0 1 2 0 0 0 0 0 0 2 0 0 0 2 0 0 2 2 2 0 0 0 0 1 0 0]\n"
     ]
    }
   ],
   "source": [
    "le = preprocessing.LabelEncoder()\n",
    "\n",
    "color_encoded = le.fit_transform(color)\n",
    "print('Color Encoded', color_encoded)\n",
    "\n",
    "music_encoded = le.fit_transform(music)\n",
    "beverage_encoded = le.fit_transform(beverage)\n",
    "soda_encoded = le.fit_transform(soda)\n",
    "\n",
    "label = le.fit_transform(gender)\n",
    "# print('Label Encoded', label)"
   ]
  },
  {
   "cell_type": "markdown",
   "metadata": {},
   "source": [
    "Create feature set"
   ]
  },
  {
   "cell_type": "code",
   "execution_count": 6,
   "metadata": {},
   "outputs": [
    {
     "name": "stdout",
     "output_type": "stream",
     "text": [
      "Features [(0, 6, 3, 0), (1, 2, 3, 1), (2, 6, 5, 1), (2, 1, 4, 2), (0, 6, 3, 1), (2, 3, 1, 2), (0, 4, 0, 1), (2, 4, 4, 2), (2, 6, 2, 0), (1, 4, 5, 1), (0, 4, 2, 0), (2, 4, 2, 0), (2, 4, 5, 0), (2, 0, 5, 1), (0, 6, 0, 1), (2, 3, 5, 1), (0, 4, 5, 0), (0, 6, 2, 1), (0, 6, 2, 1), (0, 4, 1, 0), (0, 4, 0, 2), (2, 3, 4, 2), (0, 6, 3, 1), (2, 4, 2, 1), (0, 1, 4, 0), (2, 5, 4, 1), (0, 4, 0, 3), (0, 4, 1, 3), (0, 4, 1, 1), (0, 0, 1, 2), (2, 6, 2, 1), (1, 6, 0, 1), (0, 5, 0, 1), (2, 5, 5, 3), (1, 2, 0, 0), (2, 0, 2, 1), (1, 6, 1, 1), (0, 4, 2, 2), (0, 4, 4, 2), (2, 6, 3, 0), (0, 6, 3, 1), (1, 4, 1, 0), (2, 5, 1, 1), (0, 6, 5, 0), (0, 1, 0, 3), (0, 2, 0, 1), (0, 2, 5, 1), (0, 5, 4, 0), (0, 6, 1, 3), (2, 2, 0, 1), (0, 5, 1, 1), (0, 6, 1, 1), (0, 2, 1, 3), (2, 6, 0, 2), (0, 0, 1, 2), (0, 0, 2, 2), (2, 1, 2, 2), (2, 0, 3, 2), (2, 3, 3, 1), (0, 4, 4, 3), (0, 0, 4, 1), (0, 6, 3, 1), (0, 2, 0, 1), (1, 2, 1, 2), (0, 6, 5, 1), (0, 0, 0, 1)]\n"
     ]
    }
   ],
   "source": [
    "features = list(zip(color_encoded, music_encoded, beverage_encoded, soda_encoded))\n",
    "print('Features', features)"
   ]
  },
  {
   "cell_type": "markdown",
   "metadata": {},
   "source": [
    "Split train and test sets & train the classifier"
   ]
  },
  {
   "cell_type": "code",
   "execution_count": 14,
   "metadata": {},
   "outputs": [
    {
     "data": {
      "text/html": [
       "<style>#sk-container-id-2 {color: black;background-color: white;}#sk-container-id-2 pre{padding: 0;}#sk-container-id-2 div.sk-toggleable {background-color: white;}#sk-container-id-2 label.sk-toggleable__label {cursor: pointer;display: block;width: 100%;margin-bottom: 0;padding: 0.3em;box-sizing: border-box;text-align: center;}#sk-container-id-2 label.sk-toggleable__label-arrow:before {content: \"▸\";float: left;margin-right: 0.25em;color: #696969;}#sk-container-id-2 label.sk-toggleable__label-arrow:hover:before {color: black;}#sk-container-id-2 div.sk-estimator:hover label.sk-toggleable__label-arrow:before {color: black;}#sk-container-id-2 div.sk-toggleable__content {max-height: 0;max-width: 0;overflow: hidden;text-align: left;background-color: #f0f8ff;}#sk-container-id-2 div.sk-toggleable__content pre {margin: 0.2em;color: black;border-radius: 0.25em;background-color: #f0f8ff;}#sk-container-id-2 input.sk-toggleable__control:checked~div.sk-toggleable__content {max-height: 200px;max-width: 100%;overflow: auto;}#sk-container-id-2 input.sk-toggleable__control:checked~label.sk-toggleable__label-arrow:before {content: \"▾\";}#sk-container-id-2 div.sk-estimator input.sk-toggleable__control:checked~label.sk-toggleable__label {background-color: #d4ebff;}#sk-container-id-2 div.sk-label input.sk-toggleable__control:checked~label.sk-toggleable__label {background-color: #d4ebff;}#sk-container-id-2 input.sk-hidden--visually {border: 0;clip: rect(1px 1px 1px 1px);clip: rect(1px, 1px, 1px, 1px);height: 1px;margin: -1px;overflow: hidden;padding: 0;position: absolute;width: 1px;}#sk-container-id-2 div.sk-estimator {font-family: monospace;background-color: #f0f8ff;border: 1px dotted black;border-radius: 0.25em;box-sizing: border-box;margin-bottom: 0.5em;}#sk-container-id-2 div.sk-estimator:hover {background-color: #d4ebff;}#sk-container-id-2 div.sk-parallel-item::after {content: \"\";width: 100%;border-bottom: 1px solid gray;flex-grow: 1;}#sk-container-id-2 div.sk-label:hover label.sk-toggleable__label {background-color: #d4ebff;}#sk-container-id-2 div.sk-serial::before {content: \"\";position: absolute;border-left: 1px solid gray;box-sizing: border-box;top: 0;bottom: 0;left: 50%;z-index: 0;}#sk-container-id-2 div.sk-serial {display: flex;flex-direction: column;align-items: center;background-color: white;padding-right: 0.2em;padding-left: 0.2em;position: relative;}#sk-container-id-2 div.sk-item {position: relative;z-index: 1;}#sk-container-id-2 div.sk-parallel {display: flex;align-items: stretch;justify-content: center;background-color: white;position: relative;}#sk-container-id-2 div.sk-item::before, #sk-container-id-2 div.sk-parallel-item::before {content: \"\";position: absolute;border-left: 1px solid gray;box-sizing: border-box;top: 0;bottom: 0;left: 50%;z-index: -1;}#sk-container-id-2 div.sk-parallel-item {display: flex;flex-direction: column;z-index: 1;position: relative;background-color: white;}#sk-container-id-2 div.sk-parallel-item:first-child::after {align-self: flex-end;width: 50%;}#sk-container-id-2 div.sk-parallel-item:last-child::after {align-self: flex-start;width: 50%;}#sk-container-id-2 div.sk-parallel-item:only-child::after {width: 0;}#sk-container-id-2 div.sk-dashed-wrapped {border: 1px dashed gray;margin: 0 0.4em 0.5em 0.4em;box-sizing: border-box;padding-bottom: 0.4em;background-color: white;}#sk-container-id-2 div.sk-label label {font-family: monospace;font-weight: bold;display: inline-block;line-height: 1.2em;}#sk-container-id-2 div.sk-label-container {text-align: center;}#sk-container-id-2 div.sk-container {/* jupyter's `normalize.less` sets `[hidden] { display: none; }` but bootstrap.min.css set `[hidden] { display: none !important; }` so we also need the `!important` here to be able to override the default hidden behavior on the sphinx rendered scikit-learn.org. See: https://github.com/scikit-learn/scikit-learn/issues/21755 */display: inline-block !important;position: relative;}#sk-container-id-2 div.sk-text-repr-fallback {display: none;}</style><div id=\"sk-container-id-2\" class=\"sk-top-container\"><div class=\"sk-text-repr-fallback\"><pre>KNeighborsClassifier(n_neighbors=4)</pre><b>In a Jupyter environment, please rerun this cell to show the HTML representation or trust the notebook. <br />On GitHub, the HTML representation is unable to render, please try loading this page with nbviewer.org.</b></div><div class=\"sk-container\" hidden><div class=\"sk-item\"><div class=\"sk-estimator sk-toggleable\"><input class=\"sk-toggleable__control sk-hidden--visually\" id=\"sk-estimator-id-2\" type=\"checkbox\" checked><label for=\"sk-estimator-id-2\" class=\"sk-toggleable__label sk-toggleable__label-arrow\">KNeighborsClassifier</label><div class=\"sk-toggleable__content\"><pre>KNeighborsClassifier(n_neighbors=4)</pre></div></div></div></div></div>"
      ],
      "text/plain": [
       "KNeighborsClassifier(n_neighbors=4)"
      ]
     },
     "execution_count": 14,
     "metadata": {},
     "output_type": "execute_result"
    }
   ],
   "source": [
    "# Splitting train : test to 70 : 30 ratio\n",
    "X_train, X_test, y_train, y_test = train_test_split(features, label, test_size=0.3)\n",
    "\n",
    "# Applying k = 3, default Minkowski distance metrics\n",
    "model = KNeighborsClassifier(n_neighbors=4)\n",
    "# Training the classifier\n",
    "model.fit(X_train, y_train)"
   ]
  },
  {
   "cell_type": "markdown",
   "metadata": {},
   "source": [
    "Test the classifier"
   ]
  },
  {
   "cell_type": "code",
   "execution_count": 15,
   "metadata": {},
   "outputs": [
    {
     "name": "stdout",
     "output_type": "stream",
     "text": [
      "Predicted [0 0 0 1 0 0 1 1 1 1 1 0 0 1 0 1 1 0 0 1]\n",
      "Actual data [0 0 0 1 0 1 0 1 0 1 1 0 0 1 1 1 1 1 1 1]\n"
     ]
    }
   ],
   "source": [
    "# Testing the classifier\n",
    "y_pred = model.predict(X_test)\n",
    "print('Predicted', y_pred)\n",
    "print('Actual data', y_test)"
   ]
  },
  {
   "cell_type": "markdown",
   "metadata": {},
   "source": [
    "Evaluate the classifier"
   ]
  },
  {
   "cell_type": "code",
   "execution_count": 16,
   "metadata": {},
   "outputs": [
    {
     "name": "stdout",
     "output_type": "stream",
     "text": [
      "Accuracy 0.7\n"
     ]
    }
   ],
   "source": [
    "accuracy = accuracy_score(y_test, y_pred)\n",
    "print('Accuracy', accuracy)"
   ]
  },
  {
   "cell_type": "code",
   "execution_count": 30,
   "metadata": {},
   "outputs": [
    {
     "name": "stdout",
     "output_type": "stream",
     "text": [
      "User-inputted Accuracy (0 if wrong; 1 if correct): 0.0\n"
     ]
    }
   ],
   "source": [
    "user_color = ['Cool']\n",
    "user_music = ['Pop']\n",
    "user_beverage = ['Doesn\\'t drink']\n",
    "user_soda = ['7UP/Sprite']\n",
    "user_gender = ['F']\n",
    "\n",
    "user_color_encoded = le.fit_transform(user_color)\n",
    "user_music_encoded = le.fit_transform(user_music)\n",
    "user_beverage_encoded = le.fit_transform(user_beverage)\n",
    "user_soda_encoded = le.fit_transform(user_soda)\n",
    "user_label = le.fit_transform(user_gender)\n",
    "\n",
    "features = list(zip(user_color_encoded, user_music_encoded, user_beverage_encoded, user_soda_encoded))\n",
    "\n",
    "user_pred = model.predict(features)\n",
    "print('User-inputted Accuracy (0 if wrong; 1 if correct):', accuracy_score(user_label, user_pred))"
   ]
  }
 ],
 "metadata": {
  "kernelspec": {
   "display_name": "base",
   "language": "python",
   "name": "python3"
  },
  "language_info": {
   "codemirror_mode": {
    "name": "ipython",
    "version": 3
   },
   "file_extension": ".py",
   "mimetype": "text/x-python",
   "name": "python",
   "nbconvert_exporter": "python",
   "pygments_lexer": "ipython3",
   "version": "3.11.4 (main, Jul  5 2023, 08:54:11) [Clang 14.0.6 ]"
  },
  "vscode": {
   "interpreter": {
    "hash": "3d31fc6a8204de3b4072b5546421e13825b968bc2d7431df16c61b9e7419f929"
   }
  }
 },
 "nbformat": 4,
 "nbformat_minor": 2
}
