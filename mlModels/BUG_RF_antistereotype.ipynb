{
 "cells": [
  {
   "cell_type": "code",
   "execution_count": 36,
   "metadata": {},
   "outputs": [],
   "source": [
    "from sklearn.feature_extraction.text import CountVectorizer\n",
    "from sklearn.decomposition import PCA\n",
    "from sklearn.pipeline import Pipeline\n",
    "from sklearn.linear_model import LogisticRegression\n",
    "from sklearn.model_selection import RepeatedStratifiedKFold\n",
    "from sklearn.model_selection import cross_val_score\n",
    "from sklearn.model_selection import train_test_split\n",
    "from numpy import mean\n",
    "from numpy import std\n",
    "import pandas as pd\n",
    "import numpy as np\n",
    "import pickle"
   ]
  },
  {
   "cell_type": "code",
   "execution_count": 37,
   "metadata": {},
   "outputs": [],
   "source": [
    "# load data\n",
    "dataset = pd.read_csv('datasets/BUG/balanced_BUG.csv')\n",
    "\n",
    "# Randomly select 10,000 samples from your dataset\n",
    "subset_dataset = dataset.sample(n=15000, random_state=42)\n",
    "\n",
    "train, test = train_test_split(subset_dataset, test_size=0.2, random_state=42)\n",
    "\n",
    "train = train[train['stereotype'].isin([0, 1, -1])]\n",
    "test = test[test['stereotype'].isin([0, 1, -1])]\n",
    "\n",
    "countV = CountVectorizer()\n",
    "trainTexts = countV.fit_transform(train['sentence_text'])\n",
    "testTexts = countV.transform(test['sentence_text'])\n",
    "\n",
    "X_train = pd.DataFrame(trainTexts.toarray(), columns=countV.get_feature_names_out())\n",
    "X_test = pd.DataFrame(testTexts.toarray(), columns=countV.get_feature_names_out())\n",
    "y_train = train['predicted gender']\n",
    "y_test = test['predicted gender']"
   ]
  },
  {
   "cell_type": "code",
   "execution_count": 38,
   "metadata": {},
   "outputs": [],
   "source": [
    "# Function that utilizes cross validation to test accuracy of model\n",
    "def evaluate_model(model):\n",
    "    # cv = RepeatedStratifiedKFold(n_splits=10, n_repeats=3, random_state=1)\n",
    "    cv = RepeatedStratifiedKFold(n_splits=10, n_repeats=1, random_state=1)\n",
    "    scores = cross_val_score(model, X_test, y_test, cv=cv, scoring='accuracy', n_jobs=-1, error_score='raise')\n",
    "    return scores"
   ]
  },
  {
   "cell_type": "markdown",
   "metadata": {},
   "source": [
    "Random Forest"
   ]
  },
  {
   "cell_type": "code",
   "execution_count": 39,
   "metadata": {},
   "outputs": [
    {
     "name": "stdout",
     "output_type": "stream",
     "text": [
      "Score: 0.9713\n"
     ]
    }
   ],
   "source": [
    "from sklearn.ensemble import RandomForestClassifier\n",
    "rf = RandomForestClassifier(n_estimators=100, random_state=42)\n",
    "scores = evaluate_model(rf)\n",
    "print('Score: {:.4f}'.format(scores.mean()))"
   ]
  },
  {
   "cell_type": "code",
   "execution_count": 47,
   "metadata": {},
   "outputs": [],
   "source": [
    "import pickle\n",
    "from sklearn.metrics import accuracy_score, confusion_matrix\n",
    "# load data\n",
    "dataset = pd.read_csv('datasets/BUG/balanced_BUG.csv')\n",
    "\n",
    "# Randomly select 10,000 samples from your dataset\n",
    "subset_dataset = dataset.sample(n=15000, random_state=42)\n",
    "\n",
    "train, test = train_test_split(subset_dataset, test_size=0.2, random_state=42)\n",
    "\n",
    "train = train[train['stereotype'].isin([0, 1, -1])]\n",
    "test = test[test['stereotype'].isin([0, 1, -1])]\n",
    "\n",
    "countV = CountVectorizer()\n",
    "trainTexts = countV.fit_transform(train['sentence_text'])\n",
    "testTexts = countV.transform(test['sentence_text'])\n",
    "\n",
    "X_train = pd.DataFrame(trainTexts.toarray(), columns=countV.get_feature_names_out())\n",
    "X_test = pd.DataFrame(testTexts.toarray(), columns=countV.get_feature_names_out())\n",
    "y_train = train['predicted gender']\n",
    "y_test = test['predicted gender']\n",
    "\n",
    "# train model\n",
    "model = RandomForestClassifier(n_estimators=100, random_state=42)\n",
    "model.fit(X_train, y_train)\n",
    "\n",
    "with open('savedModels/anti_stereotypeRFM.pkl', 'wb') as model_file:\n",
    "    pickle.dump((model, countV), model_file)"
   ]
  },
  {
   "cell_type": "code",
   "execution_count": 48,
   "metadata": {},
   "outputs": [
    {
     "name": "stdout",
     "output_type": "stream",
     "text": [
      "Accuracy: 0.976\n",
      "Confusion matrix:\n",
      " [[1492   29]\n",
      " [  43 1436]]\n"
     ]
    }
   ],
   "source": [
    "# accuracy\n",
    "pred = model.predict(X_test)\n",
    "\n",
    "accuracy = accuracy_score(y_test, pred)\n",
    "print(\"Accuracy:\", accuracy)\n",
    "\n",
    "# confusion matrix\n",
    "cm = confusion_matrix(y_test, pred)\n",
    "print(\"Confusion matrix:\\n\", cm)"
   ]
  }
 ],
 "metadata": {
  "kernelspec": {
   "display_name": "base",
   "language": "python",
   "name": "python3"
  },
  "language_info": {
   "codemirror_mode": {
    "name": "ipython",
    "version": 3
   },
   "file_extension": ".py",
   "mimetype": "text/x-python",
   "name": "python",
   "nbconvert_exporter": "python",
   "pygments_lexer": "ipython3",
   "version": "3.11.4 (main, Jul  5 2023, 08:54:11) [Clang 14.0.6 ]"
  },
  "orig_nbformat": 4,
  "vscode": {
   "interpreter": {
    "hash": "3d31fc6a8204de3b4072b5546421e13825b968bc2d7431df16c61b9e7419f929"
   }
  }
 },
 "nbformat": 4,
 "nbformat_minor": 2
}
