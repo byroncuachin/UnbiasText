{
 "cells": [
  {
   "cell_type": "code",
   "execution_count": 119,
   "metadata": {},
   "outputs": [],
   "source": [
    "import pandas as pd\n",
    "from sklearn.feature_extraction.text import CountVectorizer\n",
    "from sklearn.feature_extraction.text import TfidfTransformer\n",
    "from sklearn.metrics import accuracy_score, confusion_matrix, f1_score\n",
    "from sklearn.svm import LinearSVC\n",
    "from sklearn.calibration import CalibratedClassifierCV\n",
    "from sklearn.ensemble import RandomForestClassifier\n",
    "from sklearn.linear_model import SGDClassifier\n",
    "from lime import lime_text\n",
    "from lime.lime_text import LimeTextExplainer\n",
    "from spacy.lang.en.stop_words import STOP_WORDS\n",
    "from nltk.stem import PorterStemmer\n",
    "import pickle, re, spacy\n",
    "# from sklearn.model_selection import train_test_split\n",
    "# from sklearn.decomposition import PCA\n",
    "# from sklearn.pipeline import Pipeline\n",
    "# from sklearn.linear_model import LogisticRegression\n",
    "# from sklearn.model_selection import RepeatedStratifiedKFold\n",
    "# from sklearn.model_selection import cross_val_score"
   ]
  },
  {
   "cell_type": "code",
   "execution_count": 120,
   "metadata": {},
   "outputs": [],
   "source": [
    "# load data\n",
    "from datasets import load_dataset\n",
    "dataset = load_dataset(\"pranjali97/Bias-detection-combined\")\n",
    "# train, test = train_test_split(dataset, test_size=0.2, random_state=42)\n",
    "\n",
    "# 0 is liberal; 1 is conservative\n",
    "\n",
    "# dataset[\"train\"][\"text\"]"
   ]
  },
  {
   "cell_type": "code",
   "execution_count": 151,
   "metadata": {},
   "outputs": [],
   "source": [
    "stemmer = PorterStemmer()\n",
    "nlp = spacy.load(\"en_core_web_sm\")\n",
    "\n",
    "# Preprocessing functions\n",
    "# add space before punctuations\n",
    "def add_space_before(text):\n",
    "    # regular expression to add space before punctuations\n",
    "    processed_text = re.sub(r'([^\\s\\w])', r' \\1', text)\n",
    "    return processed_text\n",
    "\n",
    "# remove gendered pronounds, names, stop words, and apply stemming\n",
    "def removeUnnecessaryWords(text):\n",
    "    doc = nlp(text)\n",
    "\n",
    "    result = \" \".join([\n",
    "        \"\" if (\n",
    "            token.text.lower() in STOP_WORDS\n",
    "        ) else stemmer.stem(token.lemma_) for token in doc])\n",
    "\n",
    "    return result.strip()"
   ]
  },
  {
   "cell_type": "code",
   "execution_count": 131,
   "metadata": {},
   "outputs": [
    {
     "data": {
      "text/plain": [
       "list"
      ]
     },
     "execution_count": 131,
     "metadata": {},
     "output_type": "execute_result"
    }
   ],
   "source": [
    "type(dataset[\"validation\"][\"text\"][:38200])"
   ]
  },
  {
   "cell_type": "code",
   "execution_count": 138,
   "metadata": {},
   "outputs": [
    {
     "name": "stdout",
     "output_type": "stream",
     "text": [
      "<class 'str'> good aside from my family issues . my sister disappeared years ago . found out she's in a cult\n",
      "<class 'str'>  If that was my missus horse he’d fuck right off and have us chasing him like bell ends\n",
      "<class 'str'> that's nice , i love zebras , do you\n",
      "<class 'str'>  We have nothing to lose in dumping rump asap. He is a menace.\n",
      "<class 'str'> hi , read any good books lately ? i just finished hadean james latest .\n",
      "<class 'str'>   OH FUCK-\n"
     ]
    }
   ],
   "source": [
    "for text in dataset[\"validation\"][\"text\"][:6]:\n",
    "    print(type(text), text)"
   ]
  },
  {
   "cell_type": "markdown",
   "metadata": {},
   "source": [
    "Preprocessing"
   ]
  },
  {
   "cell_type": "code",
   "execution_count": 156,
   "metadata": {},
   "outputs": [],
   "source": [
    "for text in dataset[\"train\"][\"text\"][:38200]:\n",
    "    text = removeUnnecessaryWords(text).lower()\n",
    "    "
   ]
  },
  {
   "cell_type": "code",
   "execution_count": 157,
   "metadata": {},
   "outputs": [],
   "source": [
    "for text in dataset[\"validation\"][\"text\"][:38200]:\n",
    "    text = removeUnnecessaryWords(text).lower()"
   ]
  },
  {
   "cell_type": "code",
   "execution_count": 155,
   "metadata": {},
   "outputs": [
    {
     "name": "stdout",
     "output_type": "stream",
     "text": [
      "good aside from my family issues . my sister disappeared years ago . found out she's in a cult\n",
      " If that was my missus horse he’d fuck right off and have us chasing him like bell ends\n",
      "that's nice , i love zebras , do you\n",
      " We have nothing to lose in dumping rump asap. He is a menace.\n",
      "hi , read any good books lately ? i just finished hadean james latest .\n",
      "  OH FUCK-\n"
     ]
    }
   ],
   "source": [
    "for text in dataset[\"validation\"][\"text\"][:6]:\n",
    "    print(text)"
   ]
  },
  {
   "cell_type": "markdown",
   "metadata": {},
   "source": [
    "Training"
   ]
  },
  {
   "cell_type": "code",
   "execution_count": 158,
   "metadata": {},
   "outputs": [],
   "source": [
    "count_vectorizer = CountVectorizer()\n",
    "train_counts = count_vectorizer.fit_transform(dataset[\"train\"][\"text\"][:38200]) # 20000; use this form with Count Vectorizer\n",
    "test_counts = count_vectorizer.transform(dataset[\"validation\"][\"text\"][:38200]) # 20000; use this form with Count Vectorizer\n",
    "\n",
    "tfidf_transformer = TfidfTransformer()\n",
    "trainTexts = tfidf_transformer.fit_transform(train_counts)\n",
    "testTexts = tfidf_transformer.fit_transform(test_counts)\n",
    "\n",
    "X_train = pd.DataFrame(trainTexts.toarray(), columns=count_vectorizer.get_feature_names_out())\n",
    "X_test = pd.DataFrame(testTexts.toarray(), columns=count_vectorizer.get_feature_names_out())\n",
    "y_train = dataset[\"train\"][\"label\"][:38200] # 20000\n",
    "y_test = dataset[\"validation\"][\"label\"][:38200] # 20000\n",
    "\n",
    "# train model\n",
    "# model = LinearSVC()\n",
    "# model.fit(xTrain, yTrain)\n",
    "\n",
    "# model = CalibratedClassifierCV(model, method='sigmoid', cv='prefit')\n",
    "# model.fit(xTrain, yTrain)\n",
    "\n",
    "# with open('./savedModels/randomForestPOLITICAL.pkl', 'wb') as model_file:\n",
    "#     pickle.dump((model, vectorizer), model_file)"
   ]
  },
  {
   "cell_type": "code",
   "execution_count": 159,
   "metadata": {},
   "outputs": [],
   "source": [
    "rf = RandomForestClassifier(n_estimators=100, random_state=42)"
   ]
  },
  {
   "cell_type": "code",
   "execution_count": 160,
   "metadata": {},
   "outputs": [],
   "source": [
    "# cross_val_score(rf, X_test, y_test, cv=cv, scoring='accuracy', n_jobs=-1, error_score='raise')\n",
    "# scores = evaluate_model(rf)\n",
    "# print('Score: {:.4f}'.format(scores.mean()))\n",
    "modelrf = rf.fit(X_train, y_train)\n",
    "# accuracy\n",
    "predrf = rf.predict(X_test)"
   ]
  },
  {
   "cell_type": "code",
   "execution_count": 161,
   "metadata": {},
   "outputs": [],
   "source": [
    "modelSVC = LinearSVC()\n",
    "modelSVC.fit(X_train, y_train)\n",
    "predSVC = modelSVC.predict(X_test)"
   ]
  },
  {
   "cell_type": "code",
   "execution_count": 162,
   "metadata": {},
   "outputs": [],
   "source": [
    "modelCC = CalibratedClassifierCV(modelSVC, method='sigmoid', cv='prefit')\n",
    "# modelCC = CalibratedClassifierCV(modelSVC, method='isotonic', cv='prefit')\n",
    "modelCC.fit(X_train, y_train)\n",
    "predCC = modelCC.predict(X_test)"
   ]
  },
  {
   "cell_type": "code",
   "execution_count": 163,
   "metadata": {},
   "outputs": [],
   "source": [
    "modelSGD = SGDClassifier()\n",
    "modelSGD.fit(X_train, y_train)\n",
    "predSGD = modelSGD.predict(X_test)"
   ]
  },
  {
   "cell_type": "code",
   "execution_count": null,
   "metadata": {},
   "outputs": [],
   "source": [
    "# steps_cgpt = [('pca', PCA(n_components=7)), ('m', LogisticRegression())]\n",
    "# modelPip = Pipeline(steps=steps_cgpt)\n",
    "# modelPip.fit(X_train, y_train)\n",
    "# predPip = modelPip.predict(X_test)\n",
    "\n",
    "# from sklearn.ensemble import AdaBoostClassifier\n",
    "# from sklearn.tree import DecisionTreeClassifier\n",
    "# from sklearn.ensemble import BaggingClassifier\n",
    "# from sklearn.ensemble import VotingClassifier\n",
    "# from sklearn.metrics import f1_score\n",
    "# clf1 = DecisionTreeClassifier(max_features=1, random_state=0)\n",
    "# clf2 = BaggingClassifier(max_features=4, random_state=0)\n",
    "# clf3 = RandomForestClassifier(max_features=1, random_state=0)\n",
    "# clf4 = AdaBoostClassifier(n_estimators=50, random_state=0)\n",
    "# eclf1 = VotingClassifier(estimators=[('dt', clf1), ('bdt', clf2), ('rf', clf3), ('ab', clf4)], voting='hard')\n",
    "# eclf1 = eclf1.fit(X_train, y_train)\n",
    "# predEoE = eclf1.predict(X_test)"
   ]
  },
  {
   "cell_type": "markdown",
   "metadata": {},
   "source": [
    "Best Model"
   ]
  },
  {
   "cell_type": "code",
   "execution_count": 175,
   "metadata": {},
   "outputs": [],
   "source": [
    "with open('./savedModels/politicalCCModel.pkl', 'wb') as model_file:\n",
    "    pickle.dump((modelCC, count_vectorizer), model_file)"
   ]
  },
  {
   "cell_type": "code",
   "execution_count": 165,
   "metadata": {},
   "outputs": [
    {
     "name": "stdout",
     "output_type": "stream",
     "text": [
      "1 :\n",
      "Liberal:  0.13368954267473965\n",
      "Conservative:  0.8663104573252604\n",
      "Predicted:  0\n",
      "Actual: Liberal\n",
      "Top words for text response 1:\n",
      "Liberal words:  [('know', 0.1854243561655282), ('up', 0.03098906744438674), ('s', 0.006059703262995474), ('Liberals', 0.004493564608651654)]\n",
      "Conservative words:  [('what', -0.17199968926395443)]\n",
      "\n",
      "2 :\n",
      "Liberal:  0.3643466746481276\n",
      "Conservative:  0.6356533253518724\n",
      "Predicted:  0\n",
      "Actual: Conservative\n",
      "Top words for text response 2:\n",
      "Liberal words:  [('Abortion', 0.3791373590489367), ('illegal', 0.35106119523434176), ('be', 0.010595042370050321)]\n",
      "Conservative words:  [('should', -0.28299832903403993)]\n",
      "\n",
      "3 :\n",
      "Liberal:  0.5011648332274894\n",
      "Conservative:  0.4988351667725106\n",
      "Predicted:  1\n",
      "Actual: Conservative\n"
     ]
    },
    {
     "name": "stderr",
     "output_type": "stream",
     "text": [
      "c:\\Users\\kcpra\\AppData\\Local\\Programs\\Python\\Python311\\Lib\\site-packages\\sklearn\\base.py:439: UserWarning: X does not have valid feature names, but LinearSVC was fitted with feature names\n",
      "  warnings.warn(\n",
      "c:\\Users\\kcpra\\AppData\\Local\\Programs\\Python\\Python311\\Lib\\site-packages\\sklearn\\base.py:439: UserWarning: X does not have valid feature names, but LinearSVC was fitted with feature names\n",
      "  warnings.warn(\n",
      "c:\\Users\\kcpra\\AppData\\Local\\Programs\\Python\\Python311\\Lib\\site-packages\\sklearn\\base.py:439: UserWarning: X does not have valid feature names, but LinearSVC was fitted with feature names\n",
      "  warnings.warn(\n",
      "c:\\Users\\kcpra\\AppData\\Local\\Programs\\Python\\Python311\\Lib\\site-packages\\sklearn\\base.py:439: UserWarning: X does not have valid feature names, but LinearSVC was fitted with feature names\n",
      "  warnings.warn(\n"
     ]
    },
    {
     "name": "stdout",
     "output_type": "stream",
     "text": [
      "Top words for text response 3:\n",
      "Liberal words:  [('Trump', 0.8219342304617554), ('the', 0.06139993015345013)]\n",
      "Conservative words:  [('win', -0.054367693548818), ('for', -0.05210166315301239)]\n",
      "\n",
      "4 :\n",
      "Liberal:  0.0477841465873955\n",
      "Conservative:  0.9522158534126045\n",
      "Predicted:  0\n",
      "Actual: Liberal\n",
      "Top words for text response 4:\n",
      "Liberal words:  [('biden', 0.2183659204845987), ('more', 0.10962400886698383)]\n",
      "Conservative words:  [('Thanks', -0.3180817903529079), ('yessss', -0.12238362024346494), ('student', -0.05902889542268618), ('debt', -0.0443234594639752), ('no', -0.009488640614990466)]\n",
      "\n",
      "5 :\n",
      "Liberal:  0.5368392551431437\n",
      "Conservative:  0.4631607448568563\n",
      "Predicted:  1\n",
      "Actual: Conservative\n"
     ]
    },
    {
     "name": "stderr",
     "output_type": "stream",
     "text": [
      "c:\\Users\\kcpra\\AppData\\Local\\Programs\\Python\\Python311\\Lib\\site-packages\\sklearn\\base.py:439: UserWarning: X does not have valid feature names, but LinearSVC was fitted with feature names\n",
      "  warnings.warn(\n",
      "c:\\Users\\kcpra\\AppData\\Local\\Programs\\Python\\Python311\\Lib\\site-packages\\sklearn\\base.py:439: UserWarning: X does not have valid feature names, but LinearSVC was fitted with feature names\n",
      "  warnings.warn(\n"
     ]
    },
    {
     "name": "stdout",
     "output_type": "stream",
     "text": [
      "Top words for text response 5:\n",
      "Liberal words:  [('old', 0.5285500210233776), ('Trump', 0.28251847367784055), ('biden', 0.1662804753531387), ('even', 0.03698862093058713)]\n",
      "Conservative words:  [('is', -0.36595258488895444), ('if', -0.060595745527053366), ('too', -0.012242947914665176)]\n",
      "\n",
      "6 :\n",
      "Liberal:  0.20644924072977303\n",
      "Conservative:  0.793550759270227\n",
      "Predicted:  0\n",
      "Actual: Conservative\n",
      "Top words for text response 6:\n",
      "Liberal words:  [('wade', 0.43402056564649505), ('roe', 0.3603677521935746), ('v', 0.017695404114365237), ('gone', 0.0011454516474580304)]\n",
      "Conservative words:  [('is', -0.4022060483879761), ('thank', -0.2184799470454067), ('god', -0.07644073396919132)]\n",
      "\n",
      "7 :\n",
      "Liberal:  0.0350351198338589\n",
      "Conservative:  0.9649648801661411\n",
      "Predicted:  0\n",
      "Actual: Conservative\n",
      "Top words for text response 7:\n",
      "Liberal words:  []\n",
      "Conservative words:  [('MAGA', -0.03714058190806652)]\n",
      "\n",
      "8 :\n",
      "Liberal:  0.7228462464568526\n",
      "Conservative:  0.2771537535431474\n",
      "Predicted:  1\n",
      "Actual: Liberal\n",
      "Top words for text response 8:\n",
      "Liberal words:  [('biden', 0.17826277153807926), ('years', 0.14101835479123825), ('has', 0.13191885600230333), ('been', 0.10831298985388749), ('of', 0.07121509029046157), ('couple', 0.06879689202239385), ('the', 0.06330958700188687), ('well', 0.02380176075026281)]\n",
      "Conservative words:  [('past', -0.09540134440821497), ('doing', -0.0806508323830339)]\n",
      "\n"
     ]
    },
    {
     "name": "stderr",
     "output_type": "stream",
     "text": [
      "c:\\Users\\kcpra\\AppData\\Local\\Programs\\Python\\Python311\\Lib\\site-packages\\sklearn\\base.py:439: UserWarning: X does not have valid feature names, but LinearSVC was fitted with feature names\n",
      "  warnings.warn(\n",
      "c:\\Users\\kcpra\\AppData\\Local\\Programs\\Python\\Python311\\Lib\\site-packages\\sklearn\\base.py:439: UserWarning: X does not have valid feature names, but LinearSVC was fitted with feature names\n",
      "  warnings.warn(\n"
     ]
    }
   ],
   "source": [
    "from nltk.stem import PorterStemmer\n",
    "\n",
    "explainer = LimeTextExplainer(class_names=[\"conservative\", \"liberal\"])\n",
    "stemmer = PorterStemmer()\n",
    "text= ['''Liberals know what's up''',\n",
    "            '''Abortion should be illegal.''',\n",
    "            '''Trump for the win''',\n",
    "            '''no more student debt yessss. Thanks biden''',\n",
    "            '''even if Trump is old, biden is too old''',\n",
    "            '''thank god roe v wade is gone''',\n",
    "            '''MAGA. MAGA. MAGA''',\n",
    "            '''biden has been doing well the past couple of years''']\n",
    "yActual = [1, 0, 0, 1, 0, 0, 0, 1] # 0 is conservative (similar to female); 1 is liberal (similar to male)\n",
    "\n",
    "vectorizedText = count_vectorizer.transform(text)\n",
    "vectorizedTextTFIDF = tfidf_transformer.fit_transform(vectorizedText)\n",
    "textsTransformed = pd.DataFrame(vectorizedTextTFIDF.toarray(), columns=count_vectorizer.get_feature_names_out())\n",
    "predProb = modelCC.predict_proba(textsTransformed)\n",
    "pred = modelCC.predict(textsTransformed)\n",
    "\n",
    "explainer = LimeTextExplainer(class_names=['Conservative', 'Liberal'])\n",
    "for i in range(len(pred)):\n",
    "    print(i + 1, \":\")\n",
    "    print(\"Liberal: \", predProb[i][1])\n",
    "    print(\"Conservative: \", predProb[i][0])\n",
    "    print(\"Predicted: \", pred[i])\n",
    "    if(yActual[i] == 0):\n",
    "        print(\"Actual: Conservative\")\n",
    "    else:\n",
    "        print(\"Actual: Liberal\")\n",
    "        \n",
    "    predict_function = lambda x: modelCC.predict_proba(count_vectorizer.transform(x))\n",
    "    explanation = explainer.explain_instance(text[i], predict_function, num_features=20)\n",
    "    top_words_lime = explanation.as_list()\n",
    "    print(f\"Top words for text response {i + 1}:\")\n",
    "    liberalWords = []\n",
    "    conservativeWords = []\n",
    "    for word, score in top_words_lime:\n",
    "        if score > 0:\n",
    "            liberalWords.append((word, score))\n",
    "        else:\n",
    "            conservativeWords.append((word, score))\n",
    "    print(\"Liberal words: \", liberalWords)\n",
    "    print(\"Conservative words: \", conservativeWords)\n",
    "    print(\"\")"
   ]
  },
  {
   "cell_type": "code",
   "execution_count": 166,
   "metadata": {},
   "outputs": [
    {
     "name": "stderr",
     "output_type": "stream",
     "text": [
      "c:\\Users\\kcpra\\AppData\\Local\\Programs\\Python\\Python311\\Lib\\site-packages\\sklearn\\base.py:439: UserWarning: X does not have valid feature names, but LinearSVC was fitted with feature names\n",
      "  warnings.warn(\n",
      "c:\\Users\\kcpra\\AppData\\Local\\Programs\\Python\\Python311\\Lib\\site-packages\\sklearn\\base.py:439: UserWarning: X does not have valid feature names, but LinearSVC was fitted with feature names\n",
      "  warnings.warn(\n",
      "c:\\Users\\kcpra\\AppData\\Local\\Programs\\Python\\Python311\\Lib\\site-packages\\sklearn\\base.py:439: UserWarning: X does not have valid feature names, but LinearSVC was fitted with feature names\n",
      "  warnings.warn(\n"
     ]
    },
    {
     "name": "stdout",
     "output_type": "stream",
     "text": [
      "Liberal Percentage:  0.13368954267473965\n",
      "Conservative Percentage:  0.8663104573252604\n",
      "Liberal Words:  [('know', 0.186)]\n",
      "Conservative Words:  [('what', -0.171)]\n",
      "Original Liberal Words:  ['know']\n",
      "Original Conservative Words:  []\n",
      "Liberal Percentage:  0.13368954267473965\n",
      "Conservative Percentage:  0.8663104573252604\n",
      "Liberal Words:  [('Abortion', 0.379)]\n",
      "Conservative Words:  [('should', -0.282)]\n",
      "Original Liberal Words:  ['Abortion']\n",
      "Original Conservative Words:  ['should']\n",
      "Liberal Percentage:  0.13368954267473965\n",
      "Conservative Percentage:  0.8663104573252604\n",
      "Liberal Words:  [('Trump', 0.822), ('the', 0.061)]\n",
      "Conservative Words:  [('win', -0.053), ('for', -0.051)]\n",
      "Original Liberal Words:  ['Trump', 'the']\n",
      "Original Conservative Words:  ['win', 'for']\n"
     ]
    },
    {
     "name": "stderr",
     "output_type": "stream",
     "text": [
      "c:\\Users\\kcpra\\AppData\\Local\\Programs\\Python\\Python311\\Lib\\site-packages\\sklearn\\base.py:439: UserWarning: X does not have valid feature names, but LinearSVC was fitted with feature names\n",
      "  warnings.warn(\n",
      "c:\\Users\\kcpra\\AppData\\Local\\Programs\\Python\\Python311\\Lib\\site-packages\\sklearn\\base.py:439: UserWarning: X does not have valid feature names, but LinearSVC was fitted with feature names\n",
      "  warnings.warn(\n"
     ]
    },
    {
     "name": "stdout",
     "output_type": "stream",
     "text": [
      "Liberal Percentage:  0.13368954267473965\n",
      "Conservative Percentage:  0.8663104573252604\n",
      "Liberal Words:  [('biden', 0.222), ('more', 0.106), ('no', 0.0)]\n",
      "Conservative Words:  [('Thanks', -0.307), ('yessss', -0.118), ('student', -0.061)]\n",
      "Original Liberal Words:  ['biden', 'more', 'no']\n",
      "Original Conservative Words:  ['Thanks', 'student']\n",
      "Liberal Percentage:  0.13368954267473965\n",
      "Conservative Percentage:  0.8663104573252604\n",
      "Liberal Words:  [('old', 0.516), ('Trump', 0.281), ('biden', 0.164)]\n",
      "Conservative Words:  [('is', -0.373), ('if', -0.066), ('too', -0.01)]\n",
      "Original Liberal Words:  ['old', 'Trump', 'biden']\n",
      "Original Conservative Words:  ['is', 'if', 'too']\n",
      "Liberal Percentage:  0.13368954267473965\n",
      "Conservative Percentage:  0.8663104573252604\n",
      "Liberal Words:  [('wade', 0.428), ('roe', 0.356), ('v', 0.026)]\n",
      "Conservative Words:  [('is', -0.411), ('thank', -0.209), ('god', -0.078)]\n",
      "Original Liberal Words:  ['wade', 'roe', 'v']\n",
      "Original Conservative Words:  ['is', 'thank', 'god']\n",
      "Liberal Percentage:  0.13368954267473965\n",
      "Conservative Percentage:  0.8663104573252604\n",
      "Liberal Words:  []\n",
      "Conservative Words:  []\n",
      "Original Liberal Words:  []\n",
      "Original Conservative Words:  []\n",
      "Liberal Percentage:  0.13368954267473965\n",
      "Conservative Percentage:  0.8663104573252604\n",
      "Liberal Words:  [('biden', 0.178), ('has', 0.143)]\n",
      "Conservative Words:  [('past', -0.086), ('doing', -0.081)]\n",
      "Original Liberal Words:  ['biden', 'has']\n",
      "Original Conservative Words:  ['past', 'doing']\n"
     ]
    },
    {
     "name": "stderr",
     "output_type": "stream",
     "text": [
      "c:\\Users\\kcpra\\AppData\\Local\\Programs\\Python\\Python311\\Lib\\site-packages\\sklearn\\base.py:439: UserWarning: X does not have valid feature names, but LinearSVC was fitted with feature names\n",
      "  warnings.warn(\n",
      "c:\\Users\\kcpra\\AppData\\Local\\Programs\\Python\\Python311\\Lib\\site-packages\\sklearn\\base.py:439: UserWarning: X does not have valid feature names, but LinearSVC was fitted with feature names\n",
      "  warnings.warn(\n",
      "c:\\Users\\kcpra\\AppData\\Local\\Programs\\Python\\Python311\\Lib\\site-packages\\sklearn\\base.py:439: UserWarning: X does not have valid feature names, but LinearSVC was fitted with feature names\n",
      "  warnings.warn(\n"
     ]
    }
   ],
   "source": [
    "# get model with vectorizer\n",
    "# with open(\"savedModels/svmModel.pkl\", \"rb\") as model_file:\n",
    "with open(\"savedModels/politicalCCModel.pkl\", \"rb\") as model_file:\n",
    "    model = pickle.load(model_file)\n",
    "vectorizedText = count_vectorizer.transform(text)\n",
    "vectorizedTextTF = tfidf_transformer.fit_transform(vectorizedText)\n",
    "textsTransformed = pd.DataFrame(\n",
    "    vectorizedTextTF.toarray(), columns=count_vectorizer.get_feature_names_out()\n",
    ")\n",
    "# predict text bias probabilities\n",
    "pred = model.predict_proba(textsTransformed)\n",
    "# get most influential words\n",
    "predict_function = lambda x: model.predict_proba(count_vectorizer.transform(x))\n",
    "\n",
    "for i in range(len(pred)):\n",
    "    explanation = explainer.explain_instance(\n",
    "        text[i], predict_function, num_features=20\n",
    "    )\n",
    "    top_words_lime = explanation.as_list()\n",
    "    liberalWords = []\n",
    "    conservativeWords = []\n",
    "    for word, score in top_words_lime:\n",
    "        if score > 0:\n",
    "            liberalWords.append((word, round(score, 3)))\n",
    "        else:\n",
    "            conservativeWords.append((word, round(score, 3)))\n",
    "\n",
    "    # make the amount of liberal and conservative words equal\n",
    "    liberalWords = liberalWords[:10]\n",
    "    conservativeWords = conservativeWords[:10]\n",
    "    if len(liberalWords) != len(conservativeWords):\n",
    "        liberalWords = liberalWords[\n",
    "            : min(len(liberalWords), len(conservativeWords))\n",
    "        ]\n",
    "        conservativeWords = conservativeWords[\n",
    "            : min(len(liberalWords), len(conservativeWords))\n",
    "        ]\n",
    "\n",
    "    # get original words from stemmed words (map)\n",
    "    liberalStemmedWords = [stemmer.stem(word) for word, score in liberalWords]\n",
    "    conservativeStemmedWords = [\n",
    "        stemmer.stem(word) for word, score in conservativeWords\n",
    "    ]\n",
    "    originalLiberalWords = []\n",
    "    originalConservativeWords = []\n",
    "    for stemmedWord in liberalStemmedWords:\n",
    "        for token in text[i].split():\n",
    "            if stemmer.stem(token) == stemmedWord:\n",
    "                originalLiberalWords.append(token)\n",
    "                break\n",
    "    for stemmedWord in conservativeStemmedWords:\n",
    "        for token in text[i].split():\n",
    "            if stemmer.stem(token) == stemmedWord:\n",
    "                originalConservativeWords.append(token)\n",
    "                break\n",
    "\n",
    "    print(\"Liberal Percentage: \", pred[0][1])\n",
    "    print(\"Conservative Percentage: \", pred[0][0])\n",
    "    print(\"Liberal Words: \", liberalWords)\n",
    "    print(\"Conservative Words: \", conservativeWords)\n",
    "    print(\"Original Liberal Words: \", originalLiberalWords)\n",
    "    print(\"Original Conservative Words: \", originalConservativeWords)"
   ]
  },
  {
   "cell_type": "code",
   "execution_count": 167,
   "metadata": {},
   "outputs": [
    {
     "name": "stdout",
     "output_type": "stream",
     "text": [
      "Random Forest\n",
      "Accuracy: 76.97 %\n",
      "F1-score: 0.762\n",
      "Confusion matrix:\n",
      " [[2007  314]\n",
      " [ 664 1261]]\n",
      "\n",
      "SVC\n",
      "Accuracy: 77.98 %\n",
      "F1-score: 0.777\n",
      "Confusion matrix:\n",
      " [[1911  410]\n",
      " [ 525 1400]]\n",
      "\n",
      "Calibrated Classifier\n",
      "Accuracy: 77.91 %\n",
      "F1-score: 0.776\n",
      "Confusion matrix:\n",
      " [[1891  430]\n",
      " [ 508 1417]]\n",
      "\n",
      "Stochastic Gradient Descent\n",
      "Accuracy: 76.92 %\n",
      "F1-score: 0.761\n",
      "Confusion matrix:\n",
      " [[2026  295]\n",
      " [ 685 1240]]\n"
     ]
    }
   ],
   "source": [
    "# accuracyPip = accuracy_score(y_test, predPip)\n",
    "# accuracyEoE = accuracy_score(y_test, predEoE)\n",
    "\n",
    "cmrf = confusion_matrix(y_test, predrf)\n",
    "cmSVC = confusion_matrix(y_test, predSVC)\n",
    "cmCC = confusion_matrix(y_test, predCC)\n",
    "cmSGD = confusion_matrix(y_test, predSGD)\n",
    "# cmPip = confusion_matrix(y_test, predPip)\n",
    "# cmEoE = confusion_matrix(y_test, predEoE)\n",
    "\n",
    "print(\"Random Forest\\nAccuracy: {:.2f} %\".format(100*accuracy_score(y_test, predrf)))\n",
    "print('F1-score: {:.3f}'.format(f1_score(y_test, predrf, average='macro')))\n",
    "print(\"Confusion matrix:\\n\", cmrf)\n",
    "print(\"\\nSVC\\nAccuracy: {:.2f} %\".format(100*accuracy_score(y_test, predSVC)))\n",
    "print('F1-score: {:.3f}'.format(f1_score(y_test, predSVC, average='macro')))\n",
    "print(\"Confusion matrix:\\n\", cmSVC)\n",
    "print(\"\\nCalibrated Classifier\\nAccuracy: {:.2f} %\".format(100*accuracy_score(y_test, predCC)))\n",
    "print('F1-score: {:.3f}'.format(f1_score(y_test, predCC, average='macro')))\n",
    "print(\"Confusion matrix:\\n\", cmCC)\n",
    "print(\"\\nStochastic Gradient Descent\\nAccuracy: {:.2f} %\".format(100*accuracy_score(y_test, predSGD)))\n",
    "print('F1-score: {:.3f}'.format(f1_score(y_test, predSGD, average='macro')))\n",
    "print(\"Confusion matrix:\\n\", cmSGD)\n",
    "# print(\"\\nAccuracy Pipeline:\", accuracyPip)\n",
    "# print(\"Confusion matrix Pipeline:\\n\", cmPip)\n",
    "# print(\"\\nAccuracy Ensemble of Ensembles:\", accuracyEoE)\n",
    "# print(\"Confusion matrix Ensemble of Ensembles:\\n\", cmEoE)"
   ]
  },
  {
   "cell_type": "code",
   "execution_count": 169,
   "metadata": {},
   "outputs": [
    {
     "name": "stdout",
     "output_type": "stream",
     "text": [
      "\n",
      "Accuracy Random Forest: 0.500\n",
      "Confusion matrix Random Forest:\n",
      " [[7 0]\n",
      " [7 0]]\n",
      "\n",
      "Accuracy SVC: 0.571\n",
      "Confusion matrix SVC:\n",
      " [[7 0]\n",
      " [6 1]]\n",
      "\n",
      "Accuracy Calib. Classifier: 0.643\n",
      "Confusion matrix Calib. Classifier:\n",
      " [[7 0]\n",
      " [5 2]]\n",
      "\n",
      "Accuracy Stochastic Gradient Descent: 0.500\n",
      "Confusion matrix Stochastic Gradient Descent:\n",
      " [[7 0]\n",
      " [7 0]]\n"
     ]
    },
    {
     "name": "stderr",
     "output_type": "stream",
     "text": [
      "c:\\Users\\kcpra\\AppData\\Local\\Programs\\Python\\Python311\\Lib\\site-packages\\sklearn\\base.py:439: UserWarning: X does not have valid feature names, but RandomForestClassifier was fitted with feature names\n",
      "  warnings.warn(\n",
      "c:\\Users\\kcpra\\AppData\\Local\\Programs\\Python\\Python311\\Lib\\site-packages\\sklearn\\base.py:439: UserWarning: X does not have valid feature names, but LinearSVC was fitted with feature names\n",
      "  warnings.warn(\n",
      "c:\\Users\\kcpra\\AppData\\Local\\Programs\\Python\\Python311\\Lib\\site-packages\\sklearn\\base.py:439: UserWarning: X does not have valid feature names, but LinearSVC was fitted with feature names\n",
      "  warnings.warn(\n",
      "c:\\Users\\kcpra\\AppData\\Local\\Programs\\Python\\Python311\\Lib\\site-packages\\sklearn\\base.py:439: UserWarning: X does not have valid feature names, but SGDClassifier was fitted with feature names\n",
      "  warnings.warn(\n"
     ]
    }
   ],
   "source": [
    "from numpy import mean\n",
    "from numpy import std\n",
    "\n",
    "X_samples= ['''Climate change is real, and we must take urgent action to protect our planet!''',\n",
    "            '''🇺🇸 Our Constitution is timeless and should be upheld without compromise. #OriginalIntent''',\n",
    "            #'''Trump for the winn''', (0)\n",
    "            #'''Every voice matters! Let's ensure fair voting rights for all citizens. #DemocracyFirst''', from ChatGPT (1)\n",
    "            '''The Second Amendment guarantees our right to bear arms. Let's defend it fiercely!''',\n",
    "            '''Family values matter. Let's prioritize strong families and community bonds.''',\n",
    "            '''MAGA. MAGA. MAGA''',\n",
    "            #'''Love is love! Let's celebrate diversity and fight for LGBTQ+ rights.''', from ChatGPT (1)\n",
    "            '''Traditional values are the bedrock of a stable society. 🇺🇸''',\n",
    "            '''Equality and justice for all!''',\n",
    "            '''biden can go another term''',\n",
    "            '''🇺🇸 Small government, big freedom! Let's reduce bureaucracy and empower individual liberty''',\n",
    "            '''Let's prioritize renewable energy sources and combat climate change together! #GreenNewDeal''',\n",
    "            '''Voting is a fundamental right. Let's make it accessible, fair, and inclusive for everyone! 🇺🇸''',\n",
    "            '''Abortion should be illegal.''',\n",
    "            '''After the Capitol Riot, ain't no way Trump is runnin again..''',\n",
    "            '''Two old guys. Rly. I'm givin this one to biden''']\n",
    "\n",
    "y_cgpt = [1, 0, 0, 0, 0, 0, 1, 1, 0, 1, 1, 0, 1, 1] # 0 is conservative (similar to female); 1 is liberal (similar to male)\n",
    "#         |  |  |  |     |  |     |  |  |           (|: from ChatGPT)\n",
    "cv_cgpt = count_vectorizer.transform(X_samples)\n",
    "tfidf_cgpt = tfidf_transformer.transform(cv_cgpt)\n",
    "pd_cgpt = pd.DataFrame(data = tfidf_cgpt.toarray())\n",
    "X_cgpt = pd_cgpt.iloc[:,:].values\n",
    "\n",
    "predrfGPT = modelrf.predict(X_cgpt)\n",
    "predSVCGPT = modelSVC.predict(X_cgpt)\n",
    "predCCGPT = modelCC.predict(X_cgpt)\n",
    "predSGDGPT = modelSGD.predict(X_cgpt)\n",
    "\n",
    "# report performance\n",
    "print(\"\\nAccuracy Random Forest: {:.3f}\".format(accuracy_score(y_cgpt, predrfGPT)))\n",
    "print(\"Confusion matrix Random Forest:\\n\", confusion_matrix(y_cgpt, predrfGPT))\n",
    "print(\"\\nAccuracy SVC: {:.3f}\".format(accuracy_score(y_cgpt, predSVCGPT)))\n",
    "print(\"Confusion matrix SVC:\\n\", confusion_matrix(y_cgpt, predSVCGPT))\n",
    "print(\"\\nAccuracy Calib. Classifier: {:.3f}\".format(accuracy_score(y_cgpt, predCCGPT)))\n",
    "print(\"Confusion matrix Calib. Classifier:\\n\", confusion_matrix(y_cgpt, predCCGPT))\n",
    "print(\"\\nAccuracy Stochastic Gradient Descent: {:.3f}\".format(accuracy_score(y_cgpt, predSGDGPT)))\n",
    "print(\"Confusion matrix Stochastic Gradient Descent:\\n\", confusion_matrix(y_cgpt, predSGDGPT))"
   ]
  }
 ],
 "metadata": {
  "kernelspec": {
   "display_name": "Python 3",
   "language": "python",
   "name": "python3"
  },
  "language_info": {
   "codemirror_mode": {
    "name": "ipython",
    "version": 3
   },
   "file_extension": ".py",
   "mimetype": "text/x-python",
   "name": "python",
   "nbconvert_exporter": "python",
   "pygments_lexer": "ipython3",
   "version": "3.11.1"
  }
 },
 "nbformat": 4,
 "nbformat_minor": 2
}
