{
 "cells": [
  {
   "cell_type": "code",
   "execution_count": 30,
   "metadata": {},
   "outputs": [],
   "source": [
    "import pandas as pd\n",
    "import numpy as np\n",
    "from sklearn.feature_extraction.text import CountVectorizer\n",
    "from sklearn.metrics import accuracy_score, confusion_matrix\n",
    "from sklearn.svm import LinearSVC\n",
    "from sklearn.calibration import CalibratedClassifierCV\n",
    "from sklearn.ensemble import RandomForestClassifier\n",
    "from sklearn.linear_model import SGDClassifier\n",
    "from lime import lime_text\n",
    "from lime.lime_text import LimeTextExplainer\n",
    "import pickle, re\n",
    "from flask import Flask, request, jsonify\n",
    "from nltk.stem import PorterStemmer\n",
    "from spacy.lang.en.stop_words import STOP_WORDS\n",
    "import spacy\n",
    "from sklearn.metrics.pairwise import cosine_similarity\n",
    "from gensim.models import KeyedVectors\n",
    "\n",
    "# from sklearn.model_selection import train_test_split\n",
    "# from sklearn.decomposition import PCA\n",
    "# from sklearn.pipeline import Pipeline\n",
    "# from sklearn.linear_model import LogisticRegression\n",
    "# from sklearn.model_selection import RepeatedStratifiedKFold\n",
    "# from sklearn.model_selection import cross_val_score"
   ]
  },
  {
   "cell_type": "code",
   "execution_count": 13,
   "metadata": {},
   "outputs": [],
   "source": [
    "# preprocessing functions\n",
    "# # Preprocessing functions\n",
    "# add space before punctuations\n",
    "\n",
    "app = Flask(__name__)\n",
    "explainer = LimeTextExplainer(class_names=['female', 'male'])\n",
    "stemmer = PorterStemmer()\n",
    "def add_space_before(text):\n",
    "    # regular expression to add space before punctuations\n",
    "    processed_text = re.sub(r'([^\\s\\w])', r' \\1', text)\n",
    "    return processed_text\n",
    "\n",
    "# remove gendered pronounds, names, stop words, and apply stemming\n",
    "def removeUnnecessaryWords(text):\n",
    "    nlp = spacy.load(\"en_core_web_sm\")\n",
    "    doc = nlp(text)\n",
    "\n",
    "    result = \" \".join([\n",
    "        \"\" if (\n",
    "            token.pos_ == \"PRON\" and token.lemma_ not in [\"I\", \"you\"]\n",
    "        ) or (\n",
    "            token.ent_type_ == \"PERSON\" or token.text.lower() in [\"woman\", \"women\", \"man\", \"men\", \"he\", \"she\", \"him\", \"her\"]\n",
    "        ) or (\n",
    "            token.text.lower() in STOP_WORDS\n",
    "        ) else stemmer.stem(token.lemma_) for token in doc])\n",
    "\n",
    "    return result.strip()"
   ]
  },
  {
   "cell_type": "code",
   "execution_count": 8,
   "metadata": {},
   "outputs": [],
   "source": [
    "from datasets import load_dataset\n",
    "\n",
    "# load data\n",
    "dataset = load_dataset(\"pranjali97/Bias-detection-combined\")\n",
    "# train, test = train_test_split(dataset, test_size=0.2, random_state=42)\n",
    "\n",
    "# 0 is liberal; 1 is conservative\n",
    "\n",
    "# dataset[\"train\"][\"text\"]"
   ]
  },
  {
   "cell_type": "code",
   "execution_count": 20,
   "metadata": {},
   "outputs": [],
   "source": [
    "vectorizer = CountVectorizer()\n",
    "\n",
    "# preprocess training and testing data\n",
    "train = [removeUnnecessaryWords(add_space_before(text)) for text in dataset[\"train\"][\"text\"][:1000]]\n",
    "validation = [removeUnnecessaryWords(add_space_before(text)) for text in dataset[\"validation\"][\"text\"][:1000]]\n",
    "\n",
    "trainTexts = vectorizer.fit_transform(train) # 20000\n",
    "testTexts = vectorizer.transform(validation) # 20000\n",
    "\n",
    "X_train = pd.DataFrame(trainTexts.toarray(), columns=vectorizer.get_feature_names_out())\n",
    "X_test = pd.DataFrame(testTexts.toarray(), columns=vectorizer.get_feature_names_out())\n",
    "y_train = dataset[\"train\"][\"label\"][:1000] # 20000\n",
    "y_test = dataset[\"validation\"][\"label\"][:1000] # 20000\n",
    "\n",
    "# train model\n",
    "# model = LinearSVC()\n",
    "# model.fit(xTrain, yTrain)\n",
    "\n",
    "# model = CalibratedClassifierCV(model, method='sigmoid', cv='prefit')\n",
    "# model.fit(xTrain, yTrain)\n",
    "\n",
    "# with open('./savedModels/randomForestPOLITICAL.pkl', 'wb') as model_file:\n",
    "#     pickle.dump((model, vectorizer), model_file)"
   ]
  },
  {
   "cell_type": "code",
   "execution_count": 21,
   "metadata": {},
   "outputs": [],
   "source": [
    "rf = RandomForestClassifier(n_estimators=100, random_state=42)"
   ]
  },
  {
   "cell_type": "code",
   "execution_count": 22,
   "metadata": {},
   "outputs": [],
   "source": [
    "# cross_val_score(rf, X_test, y_test, cv=cv, scoring='accuracy', n_jobs=-1, error_score='raise')\n",
    "# scores = evaluate_model(rf)\n",
    "# print('Score: {:.4f}'.format(scores.mean()))\n",
    "modelrf = rf.fit(X_train, y_train)\n",
    "# accuracy\n",
    "predrf = rf.predict(X_test)"
   ]
  },
  {
   "cell_type": "code",
   "execution_count": 23,
   "metadata": {},
   "outputs": [
    {
     "name": "stderr",
     "output_type": "stream",
     "text": [
      "/Users/byroncuachin/anaconda3/lib/python3.11/site-packages/sklearn/svm/_classes.py:32: FutureWarning: The default value of `dual` will change from `True` to `'auto'` in 1.5. Set the value of `dual` explicitly to suppress the warning.\n",
      "  warnings.warn(\n"
     ]
    }
   ],
   "source": [
    "modelSVC = LinearSVC()\n",
    "modelSVC.fit(X_train, y_train)\n",
    "predSVC = modelSVC.predict(X_test)"
   ]
  },
  {
   "cell_type": "code",
   "execution_count": 24,
   "metadata": {},
   "outputs": [],
   "source": [
    "modelCC = CalibratedClassifierCV(modelSVC, method='sigmoid', cv='prefit')\n",
    "# modelCC = CalibratedClassifierCV(modelSVC, method='isotonic', cv='prefit')\n",
    "modelCC.fit(X_train, y_train)\n",
    "predCC = modelCC.predict(X_test)"
   ]
  },
  {
   "cell_type": "code",
   "execution_count": 25,
   "metadata": {},
   "outputs": [],
   "source": [
    "modelSGD = SGDClassifier()\n",
    "modelSGD.fit(X_train, y_train)\n",
    "predSGD = modelSGD.predict(X_test)"
   ]
  },
  {
   "cell_type": "code",
   "execution_count": null,
   "metadata": {},
   "outputs": [],
   "source": [
    "# steps_cgpt = [('pca', PCA(n_components=7)), ('m', LogisticRegression())]\n",
    "# modelPip = Pipeline(steps=steps_cgpt)\n",
    "# modelPip.fit(X_train, y_train)\n",
    "# predPip = modelPip.predict(X_test)\n",
    "\n",
    "# from sklearn.ensemble import AdaBoostClassifier\n",
    "# from sklearn.tree import DecisionTreeClassifier\n",
    "# from sklearn.ensemble import BaggingClassifier\n",
    "# from sklearn.ensemble import VotingClassifier\n",
    "# from sklearn.metrics import f1_score\n",
    "# clf1 = DecisionTreeClassifier(max_features=1, random_state=0)\n",
    "# clf2 = BaggingClassifier(max_features=4, random_state=0)\n",
    "# clf3 = RandomForestClassifier(max_features=1, random_state=0)\n",
    "# clf4 = AdaBoostClassifier(n_estimators=50, random_state=0)\n",
    "# eclf1 = VotingClassifier(estimators=[('dt', clf1), ('bdt', clf2), ('rf', clf3), ('ab', clf4)], voting='hard')\n",
    "# eclf1 = eclf1.fit(X_train, y_train)\n",
    "# predEoE = eclf1.predict(X_test)"
   ]
  },
  {
   "cell_type": "markdown",
   "metadata": {},
   "source": [
    "Best Model"
   ]
  },
  {
   "cell_type": "code",
   "execution_count": 27,
   "metadata": {},
   "outputs": [],
   "source": [
    "with open('../savedModels/politicalCCModel.pkl', 'wb') as model_file:\n",
    "    pickle.dump((modelCC, vectorizer), model_file)"
   ]
  },
  {
   "cell_type": "code",
   "execution_count": 28,
   "metadata": {},
   "outputs": [
    {
     "name": "stdout",
     "output_type": "stream",
     "text": [
      "1 :\n",
      "Liberal:  0.003097892889321571\n",
      "Conservative:  0.9969021071106784\n",
      "Predicted:  0\n",
      "Actual: Liberal\n",
      "Top words for text response 1:\n",
      "Liberal words:  []\n",
      "Conservative words:  [('know', -0.023476484574767774), ('up', -0.0020203011199220714), ('Liberals', -0.00018541017251410736), ('s', -0.00017224570386588316), ('what', -0.00014488239923638515)]\n",
      "\n",
      "2 :\n",
      "Liberal:  0.029904043787915835\n",
      "Conservative:  0.9700959562120841\n",
      "Predicted:  0\n",
      "Actual: Conservative\n",
      "Top words for text response 2:\n",
      "Liberal words:  []\n",
      "Conservative words:  [('Abortion', 0.0), ('should', 0.0), ('be', 0.0), ('illegal', 0.0)]\n",
      "\n",
      "3 :\n",
      "Liberal:  0.9998989016119424\n",
      "Conservative:  0.00010109838805760774\n",
      "Predicted:  1\n",
      "Actual: Conservative\n"
     ]
    },
    {
     "name": "stderr",
     "output_type": "stream",
     "text": [
      "/Users/byroncuachin/anaconda3/lib/python3.11/site-packages/sklearn/base.py:464: UserWarning: X does not have valid feature names, but LinearSVC was fitted with feature names\n",
      "  warnings.warn(\n",
      "/Users/byroncuachin/anaconda3/lib/python3.11/site-packages/sklearn/base.py:464: UserWarning: X does not have valid feature names, but LinearSVC was fitted with feature names\n",
      "  warnings.warn(\n",
      "/Users/byroncuachin/anaconda3/lib/python3.11/site-packages/sklearn/base.py:464: UserWarning: X does not have valid feature names, but LinearSVC was fitted with feature names\n",
      "  warnings.warn(\n"
     ]
    },
    {
     "name": "stdout",
     "output_type": "stream",
     "text": [
      "Top words for text response 3:\n",
      "Liberal words:  [('Trump', 0.3981783789573515), ('win', 0.331170643296357), ('for', 0.13118368558689628), ('the', 0.08024210116376682)]\n",
      "Conservative words:  []\n",
      "\n",
      "4 :\n",
      "Liberal:  0.021231170229045995\n",
      "Conservative:  0.978768829770954\n",
      "Predicted:  0\n",
      "Actual: Liberal\n",
      "Top words for text response 4:\n",
      "Liberal words:  [('student', 0.008728634593342513), ('no', 0.00020832478472099233), ('yessss', 0.00020676948944734372), ('Thanks', 0.00015807950810481003), ('more', 7.539705217440952e-05), ('biden', 7.438009320146678e-05)]\n",
      "Conservative words:  [('debt', -0.019359631668459883)]\n",
      "\n",
      "5 :\n",
      "Liberal:  0.9998705226849852\n",
      "Conservative:  0.000129477315014781\n",
      "Predicted:  1\n",
      "Actual: Conservative\n"
     ]
    },
    {
     "name": "stderr",
     "output_type": "stream",
     "text": [
      "/Users/byroncuachin/anaconda3/lib/python3.11/site-packages/sklearn/base.py:464: UserWarning: X does not have valid feature names, but LinearSVC was fitted with feature names\n",
      "  warnings.warn(\n",
      "/Users/byroncuachin/anaconda3/lib/python3.11/site-packages/sklearn/base.py:464: UserWarning: X does not have valid feature names, but LinearSVC was fitted with feature names\n",
      "  warnings.warn(\n"
     ]
    },
    {
     "name": "stdout",
     "output_type": "stream",
     "text": [
      "Top words for text response 5:\n",
      "Liberal words:  [('old', 0.36709725451584335), ('Trump', 0.3451253179613628), ('even', 0.024974084346353266), ('too', 0.0205572294213355), ('is', 0.016919477438620573), ('biden', 0.012896931458934481)]\n",
      "Conservative words:  [('if', -0.004952965985852626)]\n",
      "\n",
      "6 :\n",
      "Liberal:  0.0009643868324754551\n",
      "Conservative:  0.9990356131675245\n",
      "Predicted:  0\n",
      "Actual: Conservative\n",
      "Top words for text response 6:\n",
      "Liberal words:  []\n",
      "Conservative words:  [('thank', -0.0120110943177875), ('god', -0.010576489500987928), ('wade', -0.0006819497129112941), ('roe', -0.0005931784918213847), ('v', -0.0004809942553496519), ('is', -0.0004569926878966187), ('gone', -0.0004180907241746933)]\n",
      "\n",
      "7 :\n",
      "Liberal:  0.10155437430905313\n",
      "Conservative:  0.8984456256909469\n",
      "Predicted:  0\n",
      "Actual: Conservative\n"
     ]
    },
    {
     "name": "stderr",
     "output_type": "stream",
     "text": [
      "/Users/byroncuachin/anaconda3/lib/python3.11/site-packages/sklearn/base.py:464: UserWarning: X does not have valid feature names, but LinearSVC was fitted with feature names\n",
      "  warnings.warn(\n",
      "/Users/byroncuachin/anaconda3/lib/python3.11/site-packages/sklearn/base.py:464: UserWarning: X does not have valid feature names, but LinearSVC was fitted with feature names\n",
      "  warnings.warn(\n"
     ]
    },
    {
     "name": "stdout",
     "output_type": "stream",
     "text": [
      "Top words for text response 7:\n",
      "Liberal words:  [('MAGA', 0.027596976786025882)]\n",
      "Conservative words:  []\n",
      "\n",
      "8 :\n",
      "Liberal:  0.3576212305109313\n",
      "Conservative:  0.6423787694890687\n",
      "Predicted:  0\n",
      "Actual: Liberal\n",
      "Top words for text response 8:\n",
      "Liberal words:  [('well', 0.32702712643405596), ('biden', 4.540157586642417e-05), ('couple', 3.829385738588693e-05), ('past', 3.352589848464036e-05), ('the', 3.122924889509688e-05), ('has', 3.116832029671241e-05), ('doing', 3.1118722187138686e-05), ('years', 2.5156443026418673e-05), ('been', 2.3324556708121878e-05), ('of', 2.1914998182988445e-05)]\n",
      "Conservative words:  []\n",
      "\n"
     ]
    },
    {
     "name": "stderr",
     "output_type": "stream",
     "text": [
      "/Users/byroncuachin/anaconda3/lib/python3.11/site-packages/sklearn/base.py:464: UserWarning: X does not have valid feature names, but LinearSVC was fitted with feature names\n",
      "  warnings.warn(\n"
     ]
    }
   ],
   "source": [
    "from nltk.stem import PorterStemmer\n",
    "\n",
    "explainer = LimeTextExplainer(class_names=[\"conservative\", \"liberal\"])\n",
    "stemmer = PorterStemmer()\n",
    "text= ['''Liberals know what's up''',\n",
    "            '''Abortion should be illegal.''',\n",
    "            '''Trump for the win''',\n",
    "            '''no more student debt yessss. Thanks biden''',\n",
    "            '''even if Trump is old, biden is too old''',\n",
    "            '''thank god roe v wade is gone''',\n",
    "            '''MAGA. MAGA. MAGA''',\n",
    "            '''biden has been doing well the past couple of years''']\n",
    "yActual = [1, 0, 0, 1, 0, 0, 0, 1] # 0 is conservative (similar to female); 1 is liberal (similar to male)\n",
    "\n",
    "vectorizedText = vectorizer.transform(text)\n",
    "textsTransformed = pd.DataFrame(vectorizedText.toarray(), columns=vectorizer.get_feature_names_out())\n",
    "predProb = modelCC.predict_proba(textsTransformed)\n",
    "pred = modelCC.predict(textsTransformed)\n",
    "\n",
    "explainer = LimeTextExplainer(class_names=['Conservative', 'Liberal'])\n",
    "for i in range(len(pred)):\n",
    "    print(i + 1, \":\")\n",
    "    print(\"Liberal: \", predProb[i][1])\n",
    "    print(\"Conservative: \", predProb[i][0])\n",
    "    print(\"Predicted: \", pred[i])\n",
    "    if(yActual[i] == 0):\n",
    "        print(\"Actual: Conservative\")\n",
    "    else:\n",
    "        print(\"Actual: Liberal\")\n",
    "        \n",
    "    vectorized_text = vectorizer.transform([text[i]])\n",
    "    predict_function = lambda x: modelCC.predict_proba(vectorizer.transform(x))\n",
    "    explanation = explainer.explain_instance(text[i], predict_function, num_features=20)\n",
    "    top_words_lime = explanation.as_list()\n",
    "    print(f\"Top words for text response {i + 1}:\")\n",
    "    liberalWords = []\n",
    "    conservativeWords = []\n",
    "    for word, score in top_words_lime:\n",
    "        if score > 0:\n",
    "            liberalWords.append((word, score))\n",
    "        else:\n",
    "            conservativeWords.append((word, score))\n",
    "    print(\"Liberal words: \", liberalWords)\n",
    "    print(\"Conservative words: \", conservativeWords)\n",
    "    print(\"\")"
   ]
  },
  {
   "cell_type": "code",
   "execution_count": null,
   "metadata": {},
   "outputs": [
    {
     "name": "stderr",
     "output_type": "stream",
     "text": [
      "/usr/local/lib/python3.10/dist-packages/sklearn/base.py:439: UserWarning: X does not have valid feature names, but LinearSVC was fitted with feature names\n",
      "  warnings.warn(\n",
      "/usr/local/lib/python3.10/dist-packages/sklearn/base.py:439: UserWarning: X does not have valid feature names, but LinearSVC was fitted with feature names\n",
      "  warnings.warn(\n"
     ]
    },
    {
     "name": "stdout",
     "output_type": "stream",
     "text": [
      "Liberal Percentage:  0 0.2171458321821546\n",
      "Conservative Percentage:  0.7828541678178453\n",
      "Liberal Words:  [('know', 0.061), ('Liberals', 0.044)]\n",
      "Conservative Words:  [('what', -0.028), ('up', -0.015)]\n",
      "Original Liberal Words:  ['know', 'Liberals']\n",
      "Original Conservative Words:  ['up']\n",
      "Liberal Percentage:  1 0.2171458321821546\n",
      "Conservative Percentage:  0.7828541678178453\n",
      "Liberal Words:  [('illegal', 0.027), ('be', 0.005)]\n",
      "Conservative Words:  [('should', -0.051), ('Abortion', -0.012)]\n",
      "Original Liberal Words:  ['be']\n",
      "Original Conservative Words:  ['should', 'Abortion']\n"
     ]
    },
    {
     "name": "stderr",
     "output_type": "stream",
     "text": [
      "/usr/local/lib/python3.10/dist-packages/sklearn/base.py:439: UserWarning: X does not have valid feature names, but LinearSVC was fitted with feature names\n",
      "  warnings.warn(\n",
      "/usr/local/lib/python3.10/dist-packages/sklearn/base.py:439: UserWarning: X does not have valid feature names, but LinearSVC was fitted with feature names\n",
      "  warnings.warn(\n"
     ]
    },
    {
     "name": "stdout",
     "output_type": "stream",
     "text": [
      "Liberal Percentage:  2 0.2171458321821546\n",
      "Conservative Percentage:  0.7828541678178453\n",
      "Liberal Words:  [('Trump', 0.132), ('the', 0.012)]\n",
      "Conservative Words:  [('win', -0.037), ('for', -0.029)]\n",
      "Original Liberal Words:  ['Trump', 'the']\n",
      "Original Conservative Words:  ['win', 'for']\n",
      "Liberal Percentage:  3 0.2171458321821546\n",
      "Conservative Percentage:  0.7828541678178453\n",
      "Liberal Words:  [('debt', 0.038), ('biden', 0.031), ('more', 0.016)]\n",
      "Conservative Words:  [('Thanks', -0.097), ('yessss', -0.077), ('student', -0.033)]\n",
      "Original Liberal Words:  ['debt', 'biden', 'more']\n",
      "Original Conservative Words:  ['Thanks', 'student']\n"
     ]
    },
    {
     "name": "stderr",
     "output_type": "stream",
     "text": [
      "/usr/local/lib/python3.10/dist-packages/sklearn/base.py:439: UserWarning: X does not have valid feature names, but LinearSVC was fitted with feature names\n",
      "  warnings.warn(\n",
      "/usr/local/lib/python3.10/dist-packages/sklearn/base.py:439: UserWarning: X does not have valid feature names, but LinearSVC was fitted with feature names\n",
      "  warnings.warn(\n"
     ]
    },
    {
     "name": "stdout",
     "output_type": "stream",
     "text": [
      "Liberal Percentage:  4 0.2171458321821546\n",
      "Conservative Percentage:  0.7828541678178453\n",
      "Liberal Words:  [('old', 0.429), ('Trump', 0.172), ('biden', 0.079)]\n",
      "Conservative Words:  [('is', -0.142), ('if', -0.057), ('too', -0.007)]\n",
      "Original Liberal Words:  ['old', 'Trump', 'biden']\n",
      "Original Conservative Words:  ['is', 'if', 'too']\n",
      "Liberal Percentage:  5 0.2171458321821546\n",
      "Conservative Percentage:  0.7828541678178453\n",
      "Liberal Words:  [('roe', 0.429), ('wade', 0.197), ('v', 0.0)]\n",
      "Conservative Words:  [('thank', -0.15), ('is', -0.069), ('god', -0.056)]\n",
      "Original Liberal Words:  ['roe', 'wade', 'v']\n",
      "Original Conservative Words:  ['thank', 'is', 'god']\n",
      "Liberal Percentage:  6 0.2171458321821546\n",
      "Conservative Percentage:  0.7828541678178453\n",
      "Liberal Words:  []\n",
      "Conservative Words:  []\n",
      "Original Liberal Words:  []\n",
      "Original Conservative Words:  []\n",
      "Liberal Percentage:  7 0.2171458321821546\n",
      "Conservative Percentage:  0.7828541678178453\n",
      "Liberal Words:  [('years', 0.086), ('been', 0.085)]\n",
      "Conservative Words:  [('past', -0.207), ('doing', -0.109)]\n",
      "Original Liberal Words:  ['years', 'been']\n",
      "Original Conservative Words:  ['past', 'doing']\n"
     ]
    },
    {
     "name": "stderr",
     "output_type": "stream",
     "text": [
      "/usr/local/lib/python3.10/dist-packages/sklearn/base.py:439: UserWarning: X does not have valid feature names, but LinearSVC was fitted with feature names\n",
      "  warnings.warn(\n",
      "/usr/local/lib/python3.10/dist-packages/sklearn/base.py:439: UserWarning: X does not have valid feature names, but LinearSVC was fitted with feature names\n",
      "  warnings.warn(\n"
     ]
    }
   ],
   "source": [
    "# get model with vectorizer\n",
    "# with open(\"savedModels/svmModel.pkl\", \"rb\") as model_file:\n",
    "with open(\"savedModels/politicalCCModel.pkl\", \"rb\") as model_file:\n",
    "    model, vectorizer = pickle.load(model_file)\n",
    "vectorizedText = vectorizer.transform(text) # CHANGED HERE\n",
    "textsTransformed = pd.DataFrame(\n",
    "    vectorizedText.toarray(), columns=vectorizer.get_feature_names_out()\n",
    ")\n",
    "# predict text bias probabilities\n",
    "pred = model.predict_proba(textsTransformed)\n",
    "# get most influential words\n",
    "predict_function = lambda x: model.predict_proba(vectorizer.transform(x))\n",
    "\n",
    "for i in range(len(pred)):\n",
    "    explanation = explainer.explain_instance(\n",
    "        text[i], predict_function, num_features=20\n",
    "    )\n",
    "    top_words_lime = explanation.as_list()\n",
    "    liberalWords = []\n",
    "    conservativeWords = []\n",
    "    for word, score in top_words_lime:\n",
    "        if score > 0:\n",
    "            liberalWords.append((word, round(score, 3)))\n",
    "        else:\n",
    "            conservativeWords.append((word, round(score, 3)))\n",
    "\n",
    "    # make the amount of liberal and conservative words equal\n",
    "    liberalWords = liberalWords[:10]\n",
    "    conservativeWords = conservativeWords[:10]\n",
    "    if len(liberalWords) != len(conservativeWords):\n",
    "        liberalWords = liberalWords[\n",
    "            : min(len(liberalWords), len(conservativeWords))\n",
    "        ]\n",
    "        conservativeWords = conservativeWords[\n",
    "            : min(len(liberalWords), len(conservativeWords))\n",
    "        ]\n",
    "\n",
    "    # get original words from stemmed words (map)\n",
    "    liberalStemmedWords = [stemmer.stem(word) for word, score in liberalWords]\n",
    "    conservativeStemmedWords = [\n",
    "        stemmer.stem(word) for word, score in conservativeWords\n",
    "    ]\n",
    "    originalLiberalWords = []\n",
    "    originalConservativeWords = []\n",
    "    for stemmedWord in liberalStemmedWords:\n",
    "        for token in text[i].split():\n",
    "            if stemmer.stem(token) == stemmedWord:\n",
    "                originalLiberalWords.append(token)\n",
    "                break\n",
    "    for stemmedWord in conservativeStemmedWords:\n",
    "        for token in text[i].split():\n",
    "            if stemmer.stem(token) == stemmedWord:\n",
    "                originalConservativeWords.append(token)\n",
    "                break\n",
    "\n",
    "    print(\"Liberal Percentage: \", pred[0][1])\n",
    "    print(\"Conservative Percentage: \", pred[0][0])\n",
    "    print(\"Liberal Words: \", liberalWords)\n",
    "    print(\"Conservative Words: \", conservativeWords)\n",
    "    print(\"Original Liberal Words: \", originalLiberalWords)\n",
    "    print(\"Original Conservative Words: \", originalConservativeWords)"
   ]
  },
  {
   "cell_type": "code",
   "execution_count": null,
   "metadata": {},
   "outputs": [
    {
     "name": "stdout",
     "output_type": "stream",
     "text": [
      "Accuracy Random Forest: 0.7696655675930287\n",
      "Confusion matrix Random Forest:\n",
      " [[2024  297]\n",
      " [ 681 1244]]\n",
      "\n",
      "Accuracy SVC: 0.7618935468676401\n",
      "Confusion matrix SVC:\n",
      " [[1835  486]\n",
      " [ 525 1400]]\n",
      "\n",
      "Accuracy Calib. Classifier: 0.7616580310880829\n",
      "Confusion matrix Calib. Classifier:\n",
      " [[1828  493]\n",
      " [ 519 1406]]\n",
      "\n",
      "Accuracy Stochastic Gradient Descent: 0.7633066415449835\n",
      "Confusion matrix Stochastic Gradient Descent:\n",
      " [[1908  413]\n",
      " [ 592 1333]]\n"
     ]
    }
   ],
   "source": [
    "accuracyrf = accuracy_score(y_test, predrf)\n",
    "accuracySVC = accuracy_score(y_test, predSVC)\n",
    "accuracyCC = accuracy_score(y_test, predCC)\n",
    "accuracySGD = accuracy_score(y_test, predSGD)\n",
    "# accuracyPip = accuracy_score(y_test, predPip)\n",
    "# accuracyEoE = accuracy_score(y_test, predEoE)\n",
    "\n",
    "cmrf = confusion_matrix(y_test, predrf)\n",
    "cmSVC = confusion_matrix(y_test, predSVC)\n",
    "cmCC = confusion_matrix(y_test, predCC)\n",
    "cmSGD = confusion_matrix(y_test, predSGD)\n",
    "# cmPip = confusion_matrix(y_test, predPip)\n",
    "# cmEoE = confusion_matrix(y_test, predEoE)\n",
    "\n",
    "print(\"Accuracy Random Forest:\", accuracyrf)\n",
    "print(\"Confusion matrix Random Forest:\\n\", cmrf)\n",
    "print(\"\\nAccuracy SVC:\", accuracySVC)\n",
    "print(\"Confusion matrix SVC:\\n\", cmSVC)\n",
    "print(\"\\nAccuracy Calib. Classifier:\", accuracyCC)\n",
    "print(\"Confusion matrix Calib. Classifier:\\n\", cmCC)\n",
    "print(\"\\nAccuracy Stochastic Gradient Descent:\", accuracySGD)\n",
    "print(\"Confusion matrix Stochastic Gradient Descent:\\n\", cmSGD)\n",
    "# print(\"\\nAccuracy Pipeline:\", accuracyPip)\n",
    "# print(\"Confusion matrix Pipeline:\\n\", cmPip)\n",
    "# print(\"\\nAccuracy Ensemble of Ensembles:\", accuracyEoE)\n",
    "# print(\"Confusion matrix Ensemble of Ensembles:\\n\", cmEoE)"
   ]
  },
  {
   "cell_type": "code",
   "execution_count": null,
   "metadata": {},
   "outputs": [
    {
     "name": "stderr",
     "output_type": "stream",
     "text": [
      "/usr/local/lib/python3.10/dist-packages/sklearn/base.py:439: UserWarning: X does not have valid feature names, but RandomForestClassifier was fitted with feature names\n",
      "  warnings.warn(\n"
     ]
    },
    {
     "name": "stdout",
     "output_type": "stream",
     "text": [
      "\n",
      "Accuracy Random Forest: 0.375\n",
      "Confusion matrix Random Forest (picks liberal all the time):\n",
      " [[3 0]\n",
      " [5 0]]\n",
      "\n",
      "Accuracy Calib. Classifier: 0.625\n",
      "Confusion matrix Calib. Classifier:\n",
      " [[3 0]\n",
      " [3 2]]\n",
      "\n",
      "Accuracy Stochastic Gradient Descent: 0.5\n",
      "Confusion matrix Stochastic Gradient Descent:\n",
      " [[3 0]\n",
      " [4 1]]\n"
     ]
    },
    {
     "name": "stderr",
     "output_type": "stream",
     "text": [
      "/usr/local/lib/python3.10/dist-packages/sklearn/base.py:439: UserWarning: X does not have valid feature names, but LinearSVC was fitted with feature names\n",
      "  warnings.warn(\n",
      "/usr/local/lib/python3.10/dist-packages/sklearn/base.py:439: UserWarning: X does not have valid feature names, but SGDClassifier was fitted with feature names\n",
      "  warnings.warn(\n"
     ]
    }
   ],
   "source": [
    "from numpy import mean\n",
    "from numpy import std\n",
    "\n",
    "X_samples= ['''Liberals know what's up''',\n",
    "            '''Abortion should be illegal.''',\n",
    "            '''Trump for the win''',\n",
    "            '''no more student debt yessss. Thanks biden''',\n",
    "            '''even if Trump is old, biden is too old''',\n",
    "            '''thank god roe v wade is gone''',\n",
    "            '''MAGA. MAGA. MAGA''',\n",
    "            '''biden hasn't been doing too bad the past couple of years''']\n",
    "\n",
    "y_cgpt = [1, 0, 0, 1, 0, 0, 0, 1] # 0 is conservative (similar to female); 1 is liberal (similar to male)\n",
    "\n",
    "cv_cgpt = vectorizer.transform(X_samples)\n",
    "pd_cgpt = pd.DataFrame(data = cv_cgpt.toarray())\n",
    "X_cgpt = pd_cgpt.iloc[:,:].values\n",
    "\n",
    "predrfGPT = modelrf.predict(X_cgpt)\n",
    "predCCGPT = modelCC.predict(X_cgpt)\n",
    "predSGDGPT = modelSGD.predict(X_cgpt)\n",
    "\n",
    "# report performance\n",
    "print(\"\\nAccuracy Random Forest:\", accuracy_score(y_cgpt, predrfGPT))\n",
    "print(\"Confusion matrix Random Forest (picks liberal all the time):\\n\", confusion_matrix(y_cgpt, predrfGPT))\n",
    "print(\"\\nAccuracy Calib. Classifier:\", accuracy_score(y_cgpt, predCCGPT))\n",
    "print(\"Confusion matrix Calib. Classifier:\\n\", confusion_matrix(y_cgpt, predCCGPT))\n",
    "print(\"\\nAccuracy Stochastic Gradient Descent:\", accuracy_score(y_cgpt, predSGDGPT))\n",
    "print(\"Confusion matrix Stochastic Gradient Descent:\\n\", confusion_matrix(y_cgpt, predSGDGPT))"
   ]
  },
  {
   "attachments": {},
   "cell_type": "markdown",
   "metadata": {},
   "source": [
    "Word Embeddings/Cosine Similarity Political"
   ]
  },
  {
   "cell_type": "code",
   "execution_count": 32,
   "metadata": {},
   "outputs": [
    {
     "name": "stdout",
     "output_type": "stream",
     "text": [
      "Liberal Percentage: 49.984556436538696\n",
      "Conservative Percentage: 50.015443563461304\n",
      "Predicted bias: conservative\n",
      "Liberal words: [('biden', 0.09245667), ('coupl', 0.068678774), ('bad', 0.016252339), ('t', 0.015689336)]\n",
      "Conservative words: [('hasn', -0.016007911), ('year', -0.08667511), ('past', -0.09083285)]\n"
     ]
    }
   ],
   "source": [
    "# load word vectors\n",
    "wordVectors = KeyedVectors.load_word2vec_format('../wordEmbeddings/GoogleNews-vectors-negative300.bin', binary=True)\n",
    "manVector = wordVectors['liberal']\n",
    "womanVector = wordVectors['conservative']\n",
    "\n",
    "# get average vector\n",
    "def text_to_average_vector(text):\n",
    "    if text.strip() == \"\":\n",
    "        return None\n",
    "    words = text.split()\n",
    "    vectors = [wordVectors[word] for word in words if word in wordVectors.vocab]\n",
    "    if len(vectors) == 0:\n",
    "        return None\n",
    "    return np.mean(vectors, axis=0)\n",
    "\n",
    "# use cosine similarity to predict bais\n",
    "def predict_bias(inputText):\n",
    "    similaritiesToLiberal = []\n",
    "    similaritiesToConservative = []\n",
    "    words = inputText.split()\n",
    "    \n",
    "    # go through each word and calculate cosine similarity\n",
    "    for word in words:\n",
    "        if word in wordVectors.key_to_index:\n",
    "            similarityToLiberal = cosine_similarity(wordVectors[word].reshape(1, -1), manVector.reshape(1, -1))\n",
    "            similarityToConservative = cosine_similarity(wordVectors[word].reshape(1, -1), womanVector.reshape(1, -1))\n",
    "            similaritiesToLiberal.append(similarityToLiberal)\n",
    "            similaritiesToConservative.append(similarityToConservative)\n",
    "    \n",
    "    # calculate average\n",
    "    if len(similaritiesToLiberal) == 0 or len(similaritiesToConservative) == 0:\n",
    "        return None, None\n",
    "    avgSimilarityToLiberal = np.mean(similaritiesToLiberal)\n",
    "    avgSimilarityToConservative = np.mean(similaritiesToConservative)\n",
    "    \n",
    "    # normalize\n",
    "    probLiberalBias = (avgSimilarityToLiberal / (avgSimilarityToLiberal + avgSimilarityToConservative)) * 100\n",
    "    probConservativeBias = (avgSimilarityToConservative / (avgSimilarityToLiberal + avgSimilarityToConservative)) * 100\n",
    "    \n",
    "    return probLiberalBias, probConservativeBias\n",
    "\n",
    "# testing\n",
    "inputText = \"\"\"\n",
    "biden hasn't been doing too bad the past couple of years\n",
    "\"\"\"\n",
    "\n",
    "addSpaceBeforeText = add_space_before(inputText)\n",
    "inputText = removeUnnecessaryWords(addSpaceBeforeText)\n",
    "\n",
    "probMaleBias, probFemaleBias = predict_bias(inputText)\n",
    "\n",
    "print(\"Liberal Percentage:\", probMaleBias)\n",
    "print(\"Conservative Percentage:\", probFemaleBias)\n",
    "\n",
    "if probMaleBias > probFemaleBias:\n",
    "    bias = \"liberal\" \n",
    "else:\n",
    "    bias = \"conservative\"\n",
    "print(\"Predicted bias:\", bias)\n",
    "\n",
    "# bias scores for each word\n",
    "biasScores = {}\n",
    "words = inputText.split()\n",
    "for word in words:\n",
    "    if word in wordVectors.key_to_index:\n",
    "        similarityToLiberal = cosine_similarity(wordVectors[word].reshape(1, -1), manVector.reshape(1, -1))\n",
    "        similarityToConservative = cosine_similarity(wordVectors[word].reshape(1, -1), womanVector.reshape(1, -1))\n",
    "        biasScores[word] = (similarityToLiberal - similarityToConservative)[0][0]\n",
    "sortedBiasScores = sorted(biasScores.items(), key=lambda item: item[1], reverse=True)\n",
    "\n",
    "liberalWords = [(word, score) for word, score in sortedBiasScores if score > 0][:10]\n",
    "conservativeWords = [(word, score) for word, score in sortedBiasScores if score < 0][:10]\n",
    "\n",
    "print(\"Liberal words:\", liberalWords)\n",
    "print(\"Conservative words:\", conservativeWords)"
   ]
  }
 ],
 "metadata": {
  "kernelspec": {
   "display_name": "base",
   "language": "python",
   "name": "python3"
  },
  "language_info": {
   "codemirror_mode": {
    "name": "ipython",
    "version": 3
   },
   "file_extension": ".py",
   "mimetype": "text/x-python",
   "name": "python",
   "nbconvert_exporter": "python",
   "pygments_lexer": "ipython3",
   "version": "3.11.4"
  },
  "vscode": {
   "interpreter": {
    "hash": "3d31fc6a8204de3b4072b5546421e13825b968bc2d7431df16c61b9e7419f929"
   }
  }
 },
 "nbformat": 4,
 "nbformat_minor": 2
}
