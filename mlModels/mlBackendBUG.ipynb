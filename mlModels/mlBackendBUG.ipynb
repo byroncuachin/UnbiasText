{
 "cells": [
  {
   "attachments": {},
   "cell_type": "markdown",
   "metadata": {},
   "source": [
    "SVM using BUG dataset"
   ]
  },
  {
   "cell_type": "code",
   "execution_count": 1,
   "metadata": {},
   "outputs": [],
   "source": [
    "import pandas as pd\n",
    "import numpy as np\n",
    "from sklearn.feature_extraction.text import CountVectorizer\n",
    "from sklearn.metrics import accuracy_score, confusion_matrix\n",
    "from sklearn.svm import LinearSVC\n",
    "from sklearn.calibration import CalibratedClassifierCV\n",
    "from sklearn.model_selection import train_test_split\n",
    "from sklearn.ensemble import RandomForestClassifier\n",
    "from lime import lime_text\n",
    "from lime.lime_text import LimeTextExplainer\n",
    "import pickle\n",
    "import xgboost as xgb"
   ]
  },
  {
   "cell_type": "code",
   "execution_count": 2,
   "metadata": {},
   "outputs": [
    {
     "name": "stderr",
     "output_type": "stream",
     "text": [
      "/Users/byroncuachin/anaconda3/lib/python3.11/site-packages/sklearn/svm/_classes.py:32: FutureWarning: The default value of `dual` will change from `True` to `'auto'` in 1.5. Set the value of `dual` explicitly to suppress the warning.\n",
      "  warnings.warn(\n"
     ]
    }
   ],
   "source": [
    "# load data\n",
    "dataset = pd.read_csv('../datasets/BUG/balanced_BUG.csv')\n",
    "train, test = train_test_split(dataset, test_size=0.2, random_state=42)\n",
    "# get samples with only neutral or stereotype sentence\n",
    "train = train[train['stereotype'].isin([0, 1])]\n",
    "test = test[test['stereotype'].isin([0, 1])]\n",
    "\n",
    "vectorizer = CountVectorizer()\n",
    "trainTexts = vectorizer.fit_transform(train['sentence_text'])\n",
    "testTexts = vectorizer.transform(test['sentence_text'])\n",
    "\n",
    "xTrain = pd.DataFrame(trainTexts.toarray(), columns=vectorizer.get_feature_names_out())\n",
    "xTest = pd.DataFrame(testTexts.toarray(), columns=vectorizer.get_feature_names_out())\n",
    "yTrain = train['predicted gender']\n",
    "yTest = test['predicted gender']\n",
    "\n",
    "# train model\n",
    "model = LinearSVC()\n",
    "model.fit(xTrain, yTrain)\n",
    "\n",
    "model = CalibratedClassifierCV(model, method='sigmoid', cv='prefit')\n",
    "model.fit(xTrain, yTrain)\n",
    "\n",
    "with open('../savedModels/svmModel.pkl', 'wb') as model_file:\n",
    "    pickle.dump((model, vectorizer), model_file)"
   ]
  },
  {
   "cell_type": "code",
   "execution_count": 3,
   "metadata": {},
   "outputs": [
    {
     "name": "stdout",
     "output_type": "stream",
     "text": [
      "Accuracy: 0.9875097580015613\n",
      "Confusion matrix:\n",
      " [[1280   15]\n",
      " [  17 1250]]\n"
     ]
    }
   ],
   "source": [
    "# accuracy\n",
    "pred = model.predict(xTest)\n",
    "\n",
    "accuracy = accuracy_score(yTest, pred)\n",
    "print(\"Accuracy:\", accuracy)\n",
    "\n",
    "# confusion matrix\n",
    "cm = confusion_matrix(yTest, pred)\n",
    "print(\"Confusion matrix:\\n\", cm)"
   ]
  },
  {
   "cell_type": "code",
   "execution_count": 4,
   "metadata": {},
   "outputs": [
    {
     "name": "stdout",
     "output_type": "stream",
     "text": [
      "1 :\n",
      "Male:  4.583630904533539e-37\n",
      "Female:  1.0\n",
      "Predicted:  female\n",
      "Actual: Female\n"
     ]
    },
    {
     "name": "stderr",
     "output_type": "stream",
     "text": [
      "/Users/byroncuachin/anaconda3/lib/python3.11/site-packages/sklearn/base.py:464: UserWarning: X does not have valid feature names, but LinearSVC was fitted with feature names\n",
      "  warnings.warn(\n"
     ]
    },
    {
     "name": "stdout",
     "output_type": "stream",
     "text": [
      "Top words for text response 1:\n",
      "Masculine words:  [('of', 0.023217969789085753), ('the', 0.019850307561715318), ('into', 0.014196773174421385), ('come', 0.013298688040336184), ('annual', 0.01128686921851896), ('for', 0.010740834773249457), ('college', 0.010092206558169127)]\n",
      "Feminine words:  [('her', -0.049761836092567416), ('student', -0.0493513904693281), ('she', -0.04434976929837419), ('Her', -0.034600807530578655), ('She', -0.028329666142787365), ('about', -0.019190889298751665), ('students', -0.01430262699923828), ('even', -0.013889061136720601), ('environmental', -0.0114408039270223), ('presented', -0.010919434676077241), ('ways', -0.010792720034731168), ('in', -0.01009727406143404), ('further', -0.009819130552230857)]\n",
      "\n",
      "2 :\n",
      "Male:  3.3466445295315325e-05\n",
      "Female:  0.9999665335547047\n",
      "Predicted:  female\n",
      "Actual: Female\n"
     ]
    },
    {
     "name": "stderr",
     "output_type": "stream",
     "text": [
      "/Users/byroncuachin/anaconda3/lib/python3.11/site-packages/sklearn/base.py:464: UserWarning: X does not have valid feature names, but LinearSVC was fitted with feature names\n",
      "  warnings.warn(\n"
     ]
    },
    {
     "name": "stdout",
     "output_type": "stream",
     "text": [
      "Top words for text response 2:\n",
      "Masculine words:  [('of', 0.1280764356619574), ('the', 0.1260181125460982), ('to', 0.0442396371022015), ('come', 0.04258245283517468), ('on', 0.03534272457246779), ('Once', 0.0287345190434594), ('and', 0.028669295183162868), ('college', 0.02762755253486234), ('for', 0.02564494968232141), ('believed', 0.020100544252393025), ('hand', 0.01995646737544452), ('University', 0.014420200760090445)]\n",
      "Feminine words:  [('student', -0.547824948906003), ('about', -0.11408751148919734), ('Green', -0.08449475327364127), ('could', -0.08105097437712823), ('living', -0.07568362752551554), ('students', -0.06938110480160713), ('own', -0.06615379012762328), ('green', -0.0532142755568898)]\n",
      "\n",
      "3 :\n",
      "Male:  0.7026919248084144\n",
      "Female:  0.29730807519158564\n",
      "Predicted:  male\n",
      "Actual: Male\n",
      "Top words for text response 3:\n",
      "Masculine words:  [('his', 0.2881208303322273), ('He', 0.24088615518721743), ('he', 0.23916351192604715), ('Once', 0.08693641377511749), ('the', 0.07285209557363535), ('for', 0.049963679609912194), ('University', 0.04277259678686505), ('of', 0.041487409624610956), ('Alex', 0.036076825943823616), ('Reynolds', 0.031876347254913055)]\n",
      "Feminine words:  [('student', -0.6745501871920166), ('was', -0.08404330127018035), ('lived', -0.07583214310951099), ('at', -0.07354166121612565), ('in', -0.059929517704276104), ('library', -0.050660059670994344), ('One', -0.04827644108188955), ('studies', -0.03258085953388605), ('day', -0.03231391628775536), ('time', -0.0265314421071807)]\n",
      "\n",
      "4 :\n",
      "Male:  7.120728260543286e-10\n",
      "Female:  0.9999999992879272\n",
      "Predicted:  female\n",
      "Actual: Male\n"
     ]
    },
    {
     "name": "stderr",
     "output_type": "stream",
     "text": [
      "/Users/byroncuachin/anaconda3/lib/python3.11/site-packages/sklearn/base.py:464: UserWarning: X does not have valid feature names, but LinearSVC was fitted with feature names\n",
      "  warnings.warn(\n",
      "/Users/byroncuachin/anaconda3/lib/python3.11/site-packages/sklearn/base.py:464: UserWarning: X does not have valid feature names, but LinearSVC was fitted with feature names\n",
      "  warnings.warn(\n"
     ]
    },
    {
     "name": "stdout",
     "output_type": "stream",
     "text": [
      "Top words for text response 4:\n",
      "Masculine words:  [('Once', 0.06827510428976304), ('the', 0.05805531269619869), ('for', 0.035161577930228616), ('of', 0.03322683488410279), ('an', 0.025722263252391856), ('University', 0.02360431440616777), ('college', 0.021771590138308657), ('They', 0.018046049075229414)]\n",
      "Feminine words:  [('student', -0.5753752607040841), ('lived', -0.0703968852821714), ('at', -0.06402004253673584), ('was', -0.04414147274659463), ('One', -0.04362135229911495), ('in', -0.04353165406783731), ('library', -0.030870429712286502), ('this', -0.028045769172255097), ('their', -0.027671527948978356), ('time', -0.026300448863314153), ('This', -0.023996897911749384), ('day', -0.02250911092475635)]\n",
      "\n",
      "5 :\n",
      "Male:  2.2988084446783432e-45\n",
      "Female:  1.0\n",
      "Predicted:  female\n",
      "Actual: Female\n"
     ]
    },
    {
     "name": "stderr",
     "output_type": "stream",
     "text": [
      "/Users/byroncuachin/anaconda3/lib/python3.11/site-packages/sklearn/base.py:464: UserWarning: X does not have valid feature names, but LinearSVC was fitted with feature names\n",
      "  warnings.warn(\n"
     ]
    },
    {
     "name": "stdout",
     "output_type": "stream",
     "text": [
      "Top words for text response 5:\n",
      "Masculine words:  [('the', 0.01668470839174514), ('importance', 0.010314166181354884), ('members', 0.009930879309415157), ('life', 0.009231948882192515), ('ambitious', 0.006644413990770388), ('movement', 0.006028636535067574), ('wide', 0.005584688427911144), ('through', 0.005301922549101918), ('expand', 0.004939437560215826)]\n",
      "Feminine words:  [('her', -0.03491457530846118), ('student', -0.033976186734336014), ('she', -0.031214005372783425), ('She', -0.028604539531972787), ('Her', -0.021062996522958816), ('herself', -0.017411902732171948), ('garden', -0.013785898994537369), ('by', -0.011043265193270427), ('a', -0.009607512118976865), ('become', -0.008948959794782921), ('about', -0.008722260242953599)]\n",
      "\n",
      "6 :\n",
      "Male:  0.0002787362280442071\n",
      "Female:  0.9997212637719558\n",
      "Predicted:  female\n",
      "Actual: Female\n"
     ]
    },
    {
     "name": "stderr",
     "output_type": "stream",
     "text": [
      "/Users/byroncuachin/anaconda3/lib/python3.11/site-packages/sklearn/base.py:464: UserWarning: X does not have valid feature names, but LinearSVC was fitted with feature names\n",
      "  warnings.warn(\n"
     ]
    },
    {
     "name": "stdout",
     "output_type": "stream",
     "text": [
      "Top words for text response 6:\n",
      "Masculine words:  [('the', 0.11866663102579164), ('college', 0.07097573606060324), ('of', 0.055027009864489364), ('discovered', 0.05498247601449957), ('into', 0.044674947289514766), ('once', 0.04422376097731068), ('The', 0.04138930214989551), ('for', 0.037295522626427935), ('life', 0.035906739234713075), ('found', 0.023766823969640704), ('and', 0.02280192606857018)]\n",
      "Feminine words:  [('student', -0.8006596310076046), ('garden', -0.07510624749437077), ('become', -0.06126473894287379), ('was', -0.05942615316177663), ('personal', -0.05669433483252448), ('about', -0.05528573904627835), ('Green', -0.05167502745403329), ('meeting', -0.039138012432884506), ('idea', -0.03750381101108437)]\n",
      "\n",
      "7 :\n",
      "Male:  5.180961962800257e-19\n",
      "Female:  1.0\n",
      "Predicted:  female\n",
      "Actual: Male\n"
     ]
    },
    {
     "name": "stderr",
     "output_type": "stream",
     "text": [
      "/Users/byroncuachin/anaconda3/lib/python3.11/site-packages/sklearn/base.py:464: UserWarning: X does not have valid feature names, but LinearSVC was fitted with feature names\n",
      "  warnings.warn(\n"
     ]
    },
    {
     "name": "stdout",
     "output_type": "stream",
     "text": [
      "Top words for text response 7:\n",
      "Masculine words:  [('his', 0.16929379689406507), ('he', 0.08173473948974155), ('life', 0.05706420522557071), ('the', 0.05614342131116224), ('His', 0.047783542562239135), ('himself', 0.04349297435445761), ('He', 0.033970432125530935), ('had', 0.02770346836149372), ('of', 0.023101926139737394)]\n",
      "Feminine words:  [('her', -0.4921235415355401), ('Mrs', -0.16259389728913634), ('Her', -0.07523225733743026), ('student', -0.07416086245042915), ('story', -0.05559666335926094), ('she', -0.05538942490467066), ('librarian', -0.05233565232621916), ('journalist', -0.045895905431097055), ('him', -0.03299729881611282), ('only', -0.03219233079129882), ('own', -0.020503213191648252)]\n",
      "\n",
      "8 :\n",
      "Male:  2.379071596879954e-05\n",
      "Female:  0.9999762092840312\n",
      "Predicted:  female\n",
      "Actual: Male\n"
     ]
    },
    {
     "name": "stderr",
     "output_type": "stream",
     "text": [
      "/Users/byroncuachin/anaconda3/lib/python3.11/site-packages/sklearn/base.py:464: UserWarning: X does not have valid feature names, but LinearSVC was fitted with feature names\n",
      "  warnings.warn(\n"
     ]
    },
    {
     "name": "stdout",
     "output_type": "stream",
     "text": [
      "Top words for text response 8:\n",
      "Masculine words:  [('the', 0.14195139529379247), ('had', 0.10589982840399097), ('life', 0.1046068246189731), ('of', 0.06712037208957533), ('for', 0.061485473496906536), ('to', 0.055476036486825316), ('full', 0.04367436811782674), ('an', 0.043025882650115845), ('surprise', 0.0331045486848779)]\n",
      "Feminine words:  [('librarian', -0.22859194502467473), ('student', -0.20021870396936128), ('journalist', -0.16592189654655246), ('story', -0.12746155547759488), ('Mrs', -0.09234775224741149), ('out', -0.09113059345951682), ('in', -0.09019488280259902), ('only', -0.06731385013842194), ('at', -0.0607468123675423), ('lived', -0.05094098540984345), ('own', -0.04989995112437865)]\n",
      "\n",
      "9 :\n",
      "Male:  1.0\n",
      "Female:  0.0\n",
      "Predicted:  male\n",
      "Actual: Male\n"
     ]
    },
    {
     "name": "stderr",
     "output_type": "stream",
     "text": [
      "/Users/byroncuachin/anaconda3/lib/python3.11/site-packages/sklearn/base.py:464: UserWarning: X does not have valid feature names, but LinearSVC was fitted with feature names\n",
      "  warnings.warn(\n"
     ]
    },
    {
     "name": "stdout",
     "output_type": "stream",
     "text": [
      "Top words for text response 9:\n",
      "Masculine words:  [('his', 0.029481400240510762), ('he', 0.027445548532937448), ('His', 0.02600490099409685), ('the', 0.02199464338679458), ('on', 0.01364873379012274), ('of', 0.01154050899611273), ('life', 0.011493857888772012), ('for', 0.011059610715832663), ('to', 0.010673786211852663), ('decided', 0.010011736173122916), ('continued', 0.008769454604444076)]\n",
      "Feminine words:  [('became', -0.011923760525352383), ('One', -0.01122766645307607), ('help', -0.011059261558027935), ('night', -0.009941494403473247), ('personal', -0.009701866108560856), ('lived', -0.009228522992420083), ('was', -0.00808221358088134), ('impact', -0.0065059713486025185), ('It', -0.005677575532789112)]\n",
      "\n",
      "10 :\n",
      "Male:  0.9999548171668828\n",
      "Female:  4.518283311716331e-05\n",
      "Predicted:  male\n",
      "Actual: Male\n",
      "Top words for text response 10:\n",
      "Masculine words:  [('the', 0.14849342302510596), ('life', 0.11313891627732289), ('of', 0.07510277270535512), ('for', 0.0727544694787192), ('on', 0.07220600122939577), ('to', 0.07008822267806973), ('college', 0.0494660525465164), ('hands', 0.04037344085024873), ('The', 0.03845849324655305), ('engineering', 0.03616719164357354), ('decided', 0.034136711390689335)]\n",
      "Feminine words:  [('help', -0.058218384736208564), ('students', -0.05649307436474216), ('town', -0.05287246241167763), ('night', -0.04590215957315721), ('about', -0.045336021583884674), ('was', -0.04091366097241652), ('One', -0.04018580518640156), ('only', -0.03870913165238957), ('gained', -0.03767647085617962)]\n",
      "\n"
     ]
    },
    {
     "name": "stderr",
     "output_type": "stream",
     "text": [
      "/Users/byroncuachin/anaconda3/lib/python3.11/site-packages/sklearn/base.py:464: UserWarning: X does not have valid feature names, but LinearSVC was fitted with feature names\n",
      "  warnings.warn(\n"
     ]
    }
   ],
   "source": [
    "text = [\n",
    "\"\"\"\n",
    "Once upon a time in the vibrant city of Harmonyville , there lived a college student named Mia Rodriguez . Mia was a junior majoring in environmental science at Rivertide University . Her love for nature and a deep sense of responsibility towards the planet fueled her determination to make a positive impact . One sunny afternoon , Mia stumbled upon a notice about the annual Green Innovation Challenge —an event where students could pitch eco -friendly projects to a panel of environmental experts . Inspired and eager to contribute , Mia decided to develop a sustainable urban gardening initiative called  \"GreenHaven . \" With her hands in the soil and a heart full of passion , Mia transformed an unused corner of the campus into a thriving community garden . She envisioned GreenHaven as a place where students could come together , learn about sustainable agriculture , and cultivate their own fruits and vegetables . Mia believed that this initiative could not only promote environmental consciousness but also foster a sense of community among her peers . As the garden flourished , so did Mia 's connection with her fellow students . The project became a hub of creativity , where ideas for sustainable living blossomed alongside the vibrant array of fruits and vegetables . Mia 's dedication and leadership drew the attention of both students and faculty alike . When the day of the Green Innovation Challenge arrived , Mia nervously but proudly presented GreenHaven to the panel of judges . The vision , dedication , and positive impact of her project resonated deeply , earning her the first prize and a scholarship for further environmental studies . Word of Mia 's success spread , and GreenHaven became a symbol of sustainable living on campus . Mia 's journey didn 't end with the competition ; instead , it marked the beginning of a new chapter . With the scholarship in hand , Mia continued her studies , conducting research on innovative ways to create sustainable urban environments . As Mia graduated from Rivertide University , she left behind a legacy of green initiatives and a campus that had been transformed by the power of community and sustainability . GreenHaven continued to thrive , inspiring future generations of students to think creatively about environmental issues . Mia 's story became a beacon of hope , showing that even a single college student with a passion for change could make a lasting impact on the world . And so , as Mia embarked on her journey beyond college , she carried with her not just a degree but the knowledge that small , meaningful actions could ripple into waves of positive transformation for the planet and its people .\n",
    "\"\"\",\n",
    "\"\"\"\n",
    "Once upon a time in the vibrant city of Harmonyville ,  lived a college student named   .  was a junior majoring in environmental science at Rivertide University .  love for nature and a deep sense of responsibility towards the planet fueled  determination to make a positive impact . One sunny afternoon ,  stumbled upon a notice about the annual Green Innovation Challenge — an event where students could pitch eco -friendly projects to a panel of environmental experts . Inspired and eager to contribute ,  decided to develop a sustainable urban gardening initiative called   \" GreenHaven . \" With  hands in the soil and a heart full of passion ,  transformed an unused corner of the campus into a thriving community garden .  envisioned GreenHaven as a place where students could come together , learn about sustainable agriculture , and cultivate  own fruits and vegetables .  believed that this initiative could not only promote environmental consciousness but also foster a sense of community among  peers . As the garden flourished , so did  's connection with  fellow students . The project became a hub of creativity , where ideas for sustainable living blossomed alongside the vibrant array of fruits and vegetables .  's dedication and leadership drew the attention of both students and faculty alike . When the day of the Green Innovation Challenge arrived ,  nervously but proudly presented GreenHaven to the panel of judges . The vision , dedication , and positive impact of  project resonated deeply , earning  the first prize and a scholarship for further environmental studies . Word of  's success spread , and  became a symbol of sustainable living on campus .  's    t end with the competition ; instead ,  marked the beginning of a new chapter . With the scholarship in hand ,  continued  studies , conducting research on innovative ways to create sustainable urban environments . As  graduated from Rivertide University ,  left behind a legacy of green initiatives and a campus  had been transformed by the power of community and sustainability . GreenHaven continued to thrive , inspiring future generations of students to think creatively about environmental issues .  's story became a beacon of hope , showing that even a single college student with a passion for change could make a lasting impact on the world . And so , as  embarked on  journey beyond college ,  carried with  not just a degree but the knowledge  small , meaningful actions could ripple into waves of positive transformation for the planet and  people .\n",
    "\"\"\",\n",
    "\"\"\"\n",
    "Once upon a time in the bustling city of Arcadia , there lived a college student named Alex Reynolds . Alex was a junior majoring in computer science at the prestigious Arcadia University . He was a diligent student with a passion for coding and a penchant for exploring the world of technology . One day , as Alex was immersed in his studies at the campus library , he stumbled upon an intriguing flyer .\n",
    "\"\"\",\n",
    "\"\"\"\n",
    "Once upon a time in the bustling city of Arcadia , there lived a college student . This student was a junior majoring in computer science at the prestigious Arcadia University . They were a diligent student with a passion for coding and a penchant for exploring the world of technology . One day , as this student was immersed in their studies at the campus library , they stumbled upon an intriguing flyer .\n",
    "\"\"\",\n",
    "\"\"\"\n",
    "Once upon a time in the vibrant college town of Crestwood , there lived a spirited young student named Emily . She was a sophomore at Crestwood University , pursuing a degree in environmental science with dreams of making a positive impact on the planet . Emily was known for her boundless enthusiasm , infectious energy , and a love for exploring the world around her . One crisp autumn day , Emily stumbled upon a flyer for an environmental awareness club called  \"Green Harmony \" on the college bulletin board . Intrigued and passionate about environmental causes , she decided to attend their next meeting . As Emily walked into the meeting room , she was greeted by a diverse group of students who shared her passion for sustainability . The club was planning an ambitious project to transform an unused campus space into a thriving community garden . Emily was immediately captivated by the idea and eagerly joined the efforts . The days turned into weeks as the Green Harmony team worked tirelessly , planning , planting , and nurturing their garden . Emily found herself forming deep connections with her fellow club members as they faced challenges and celebrated victories together . The project not only brought life to the neglected space but also breathed new life into Emily 's college experience . Amidst the busy academic schedule , Emily discovered a sense of purpose beyond textbooks and exams . The garden project became a symbol of unity , showcasing the power of collaboration and the positive impact a group of dedicated individuals could make . As the garden flourished , so did Emily 's personal growth . She learned about sustainable practices , organic gardening , and the importance of community engagement . Her once mundane college routine transformed into a fulfilling journey , where every day brought new lessons and opportunities . Word of the Green Harmony garden spread throughout the campus , attracting attention from both students and faculty . The college recognized the club 's efforts and even awarded them a grant to expand their project . Emily and her friends found themselves at the forefront of a campus -wide movement toward sustainability . Through this journey , Emily discovered not only her passion for environmental science but also her ability to lead and inspire change . The once ordinary college student had become a beacon of hope and inspiration for those around her . As the seasons changed , so did Emily and her friends , leaving behind a legacy of a thriving community garden and a more environmentally conscious campus . The tale of the college student who discovered her purpose in the embrace of nature and community echoed through the years , inspiring future generations of students to dream big and make a difference in the world .\n",
    "\"\"\",\n",
    "\"\"\"\n",
    "Once upon a time in the vibrant college town of Crestwood ,  lived a spirited young student named  .  was a sophomore at Crestwood University , pursuing a degree in environmental science with dreams of making a positive impact on the planet . Emily was known for  boundless enthusiasm , infectious energy , and a love for exploring the world around  . One crisp autumn day , Emily stumbled upon a flyer for an environmental awareness club called   \" Green Harmony \" on the college bulletin board . Intrigued and passionate about environmental causes ,  decided to attend  next meeting . As Emily walked into the meeting room ,  was greeted by a diverse group of students  shared  passion for sustainability . The club was planning an ambitious project to transform an unused campus space into a thriving community garden . Emily was immediately captivated by the idea and eagerly joined the efforts . The days turned into weeks as the   team worked tirelessly , planning , planting , and nurturing  garden . Emily found  forming deep connections with  fellow club members as  faced challenges and celebrated victories together . The project not only brought life to the neglected space but also breathed new life into Emily 's college experience . Amidst the busy academic schedule , Emily discovered a sense of purpose beyond textbooks and exams . The garden project became a symbol of unity , showcasing the power of collaboration and the positive impact a group of dedicated individuals could make . As the garden flourished , so did  's personal growth .  learned about sustainable practices , organic gardening , and the importance of community engagement .  once mundane college routine transformed into a fulfilling journey , where every day brought new lessons and opportunities . Word of the Green Harmony garden spread throughout the campus , attracting attention from both students and faculty . The college recognized the club 's efforts and even awarded  a grant to expand  project . Emily and  friends found  at the forefront of a campus -wide movement toward sustainability . Through this journey , Emily discovered not only  passion for environmental science but also  ability to lead and inspire change . The once ordinary college student had become a beacon of hope and inspiration for  around  . As the seasons changed , so did  and  friends , leaving behind a legacy of a thriving community garden and a more environmentally conscious campus . The tale of the college student  discovered  purpose in the embrace of nature and community echoed through the years , inspiring future generations of students to dream big and make a difference in the world .\n",
    "\"\"\",\n",
    "\"\"\"\n",
    "In the vibrant city of Rivertown , there lived a college student named Jason Harris . Jason was a senior at Rivertown University , majoring in journalism and aspiring to be a storyteller . He had a keen interest in human experiences and a passion for shedding light on untold stories . One day , while perusing the local newspaper , Jason stumbled upon an article about an elderly woman named Mrs . Eleanor Bennett , who had spent decades working as a librarian in the city . Intrigued by the snippet of her life story , Jason felt compelled to dig deeper and share her tale with the world . After some research , Jason learned that Mrs . Bennett had not only been a dedicated librarian but had also been involved in community initiatives , fostering a love for reading among children and organizing events to bring people together . However , her own life story had largely remained in the shadows . Determined to uncover the full narrative , Jason reached out to Mrs . Bennett and asked for an interview . To his surprise , she welcomed the opportunity to share her story , and soon they sat down for a conversation that would unveil a lifetime of experiences . As Jason delved into Mrs . Bennett 's past , he discovered a woman who had overcome personal challenges , witnessed historical events , and touched the lives of many in Rivertown . Her journey was filled with moments of joy , heartbreak , and resilience , making for a compelling narrative that Jason couldn 't wait to share with his readers . With meticulous attention to detail , Jason crafted a feature article that not only highlighted Mrs . Bennett 's contributions to the community but also captured the essence of her character . The story resonated with readers , and the local newspaper received an overwhelming response . Mrs . Bennett became a beloved figure in Rivertown , celebrated for her dedication and the richness of her life story . The success of the article opened doors for Jason , who found himself on the path to becoming a respected journalist . Inspired by Mrs . Bennett 's story , he continued to seek out and share the untold narratives within his community , becoming a storyteller who bridged the gaps between generations . As graduation day approached , Jason reflected on his college journey . His time at Rivertown University had not only provided him with an education but had also instilled in him the power of storytelling to connect people and inspire change . With a heart full of gratitude and a portfolio filled with impactful stories , Jason ventured into the world , ready to make a difference , one narrative at a time .\n",
    "\"\"\",\n",
    "\"\"\"\n",
    "In the vibrant city of Rivertown ,  lived a college student named   .  was a senior at Rivertown University , majoring in journalism and aspiring to be a storyteller .  had a keen interest in human experiences and a passion for shedding light on untold stories . One day , while perusing the local newspaper ,  stumbled upon an article about an elderly woman named  .   ,  had spent decades working as a librarian in the city . Intrigued by the snippet of  life story ,  felt compelled to dig deeper and share  tale with the world . After some research ,  learned that  .  had not only been a dedicated librarian but had also been involved in community initiatives , fostering a love for reading among children and organizing events to bring people together . However ,  own life story had largely remained in the shadows . Determined to uncover the full narrative ,  reached out to  .  and asked for an interview . To  surprise ,  welcomed the opportunity to share  story , and soon  sat down for a conversation  would unveil a lifetime of experiences . As  delved into  .  's past ,  discovered a woman  had overcome personal challenges , witnessed historical events , and touched the lives of many in Rivertown .  journey was filled with moments of joy , heartbreak , and resilience , making for a compelling narrative   couldn ' t wait to share with  readers . With meticulous attention to detail ,  crafted a feature article that not only highlighted  .  's contributions to the community but also captured the essence of  character . The story resonated with readers , and the local newspaper received an overwhelming response . Mrs .  became a beloved figure in Rivertown , celebrated for  dedication and the richness of  life story . The success of the article opened doors for  ,  found  on the path to becoming a respected journalist . Inspired by  .  's story ,  continued to seek out and share the untold narratives within  community , becoming a storyteller  bridged the gaps between generations . As graduation day approached ,  reflected on  college journey .  time at Rivertown University had not only provided  with an education but had also instilled in  the power of storytelling to connect people and inspire change . With a heart full of gratitude and a portfolio filled with impactful stories ,  ventured into the world , ready to make a difference , one narrative at a time .\n",
    "\"\"\",\n",
    "\"\"\"\n",
    "In the bustling town of Summitville , there lived a college man named Lucas Turner . Lucas was a mechanical engineering major at Summitville Tech , known for his passion for building things from the ground up . His college life was a dynamic mix of late -night design sessions , hands -on projects , and a camaraderie with his fellow engineering students . One day , Lucas stumbled upon an old , abandoned workshop on the outskirts of town . The sight of forgotten tools and discarded materials sparked a fire in him . Inspired by the potential of the neglected space , he decided to breathe new life into it and create a collaborative hub for engineering students . Lucas rallied a group of like -minded friends , and together they transformed the workshop into the  \"Innovation Forge . \" It became a haven for students to work on personal projects , exchange ideas , and bring their engineering dreams to life . The space buzzed with the sounds of drills , the clanking of metal , and the hum of 3D printers as students collaborated on everything from robotics to sustainable energy solutions . As the Innovation Forge gained popularity , Lucas and his team decided to organize an annual engineering expo , showcasing the innovative projects that emerged from their workshop . The expo not only attracted students and faculty but also local businesses and industry professionals keen on discovering emerging talent . One year , Lucas and his team developed a prototype for a solar -powered irrigation system designed to help local farmers in Summitville . The project gained attention not only for its engineering prowess but also for its potential to make a real impact in the community . The Innovation Forge became a focal point for collaborative projects that aimed to address real -world challenges . Lucas 's journey through college was not just about earning a degree ; it was about leaving a lasting mark on the engineering community . As graduation approached , the Innovation Forge continued to thrive , and Lucas felt a sense of pride in the legacy he had created . The town of Summitville now had a vibrant hub of innovation , thanks to the hard work and dedication of Lucas Turner . His college experience became a testament to the transformative power of hands -on learning , collaboration , and the drive to make a positive impact on the world through engineering ingenuity .\n",
    "\"\"\",\n",
    "\"\"\"\n",
    "In the bustling town of Summitville ,  lived a college man named   . Lucas was a mechanical engineering major at Summitville Tech , known for  passion for building things from the ground up .  college life was a dynamic mix of late -night design sessions , hands -on projects , and a camaraderie with  fellow engineering students . One day , Lucas stumbled upon an old , abandoned workshop on the outskirts of town . The sight of forgotten tools and discarded materials sparked a fire in  . Inspired by the potential of the neglected space ,  decided to breathe new life into  and create a collaborative hub for engineering students . Lucas rallied a group of like -minded friends , and together  transformed the workshop into the   \" Innovation Forge . \"  became a haven for students to work on personal projects , exchange ideas , and bring  engineering dreams to life . The space buzzed with the sounds of drills , the clanking of metal , and the hum of 3D printers as students collaborated on  from robotics to sustainable energy solutions . As the Innovation Forge gained popularity , Lucas and  team decided to organize an annual engineering expo , showcasing the innovative projects  emerged from  workshop . The expo not only attracted students and faculty but also local businesses and industry professionals keen on discovering emerging talent . One year , Lucas and  team developed a prototype for a solar -powered irrigation system designed to help local farmers in Summitville . The project gained attention not only for  engineering prowess but also for  potential to make a real impact in the community . The Innovation Forge became a focal point for collaborative projects  aimed to address real -world challenges . Lucas 's journey through college was not just about earning a degree ;  was about leaving a lasting mark on the engineering community . As graduation approached , the Innovation Forge continued to thrive , and Lucas felt a sense of pride in the legacy  had created . The town of Summitville now had a vibrant hub of innovation , thanks to the hard work and dedication of Lucas Turner .  college experience became a testament to the transformative power of hands -on learning , collaboration , and the drive to make a positive impact on the world through engineering ingenuity .\n",
    "\"\"\"\n",
    "]\n",
    "vectorizedText = vectorizer.transform(text)\n",
    "textsTransformed = pd.DataFrame(vectorizedText.toarray(), columns=vectorizer.get_feature_names_out())\n",
    "predProb = model.predict_proba(textsTransformed)\n",
    "pred = model.predict(textsTransformed)\n",
    "\n",
    "yActual = [0, 0, 1, 1, 0, 0, 1, 1, 1, 1]\n",
    "explainer = LimeTextExplainer(class_names=['female', 'male'])\n",
    "for i in range(len(pred)):\n",
    "    print(i + 1, \":\")\n",
    "    print(\"Male: \", predProb[i][1])\n",
    "    print(\"Female: \", predProb[i][0])\n",
    "    print(\"Predicted: \", pred[i])\n",
    "    if(yActual[i] == 0):\n",
    "        print(\"Actual: Female\")\n",
    "    else:\n",
    "        print(\"Actual: Male\")\n",
    "    \n",
    "    vectorized_text = vectorizer.transform([text[i]])\n",
    "    predict_function = lambda x: model.predict_proba(vectorizer.transform(x))\n",
    "    explanation = explainer.explain_instance(text[i], predict_function, num_features=20)\n",
    "    top_words_lime = explanation.as_list()\n",
    "    print(f\"Top words for text response {i + 1}:\")\n",
    "    masculineWords = []\n",
    "    feminineWords = []\n",
    "    for word, score in top_words_lime:\n",
    "        if score > 0:\n",
    "            masculineWords.append((word, score))\n",
    "        else:\n",
    "            feminineWords.append((word, score))\n",
    "    print(\"Masculine words: \", masculineWords)\n",
    "    print(\"Feminine words: \", feminineWords)\n",
    "    print(\"\")\n",
    "\n",
    "\n",
    "\n"
   ]
  },
  {
   "attachments": {},
   "cell_type": "markdown",
   "metadata": {},
   "source": [
    "Random Forest Using BUG Dataset"
   ]
  },
  {
   "cell_type": "code",
   "execution_count": 5,
   "metadata": {},
   "outputs": [],
   "source": [
    "# load data\n",
    "dataset = pd.read_csv('../datasets/BUG/balanced_BUG.csv')\n",
    "train, test = train_test_split(dataset, test_size=0.2, random_state=42)\n",
    "# get samples with only neutral or stereotype sentence\n",
    "train = train[train['stereotype'].isin([0, 1])]\n",
    "test = test[test['stereotype'].isin([0, 1])]\n",
    "\n",
    "vectorizer = CountVectorizer()\n",
    "trainTexts = vectorizer.fit_transform(train['sentence_text'])\n",
    "testTexts = vectorizer.transform(test['sentence_text'])\n",
    "\n",
    "xTrain = pd.DataFrame(trainTexts.toarray(), columns=vectorizer.get_feature_names_out())\n",
    "xTest = pd.DataFrame(testTexts.toarray(), columns=vectorizer.get_feature_names_out())\n",
    "yTrain = train['predicted gender']\n",
    "yTest = test['predicted gender']\n",
    "\n",
    "# train model\n",
    "model = RandomForestClassifier(n_estimators=100, random_state=42)\n",
    "model.fit(xTrain, yTrain)\n",
    "\n",
    "with open('../savedModels/randomForestModel.pkl', 'wb') as model_file:\n",
    "    pickle.dump((model, vectorizer), model_file)"
   ]
  },
  {
   "cell_type": "code",
   "execution_count": 6,
   "metadata": {},
   "outputs": [
    {
     "name": "stdout",
     "output_type": "stream",
     "text": [
      "Accuracy: 0.9914129586260734\n",
      "Confusion matrix:\n",
      " [[1291    4]\n",
      " [  18 1249]]\n"
     ]
    }
   ],
   "source": [
    "# accuracy\n",
    "pred = model.predict(xTest)\n",
    "\n",
    "accuracy = accuracy_score(yTest, pred)\n",
    "print(\"Accuracy:\", accuracy)\n",
    "\n",
    "# confusion matrix\n",
    "cm = confusion_matrix(yTest, pred)\n",
    "print(\"Confusion matrix:\\n\", cm)"
   ]
  },
  {
   "cell_type": "code",
   "execution_count": 7,
   "metadata": {},
   "outputs": [
    {
     "name": "stdout",
     "output_type": "stream",
     "text": [
      "1 :\n",
      "Male:  0.3\n",
      "Female:  0.7\n",
      "Predicted:  female\n",
      "Actual: Female\n"
     ]
    },
    {
     "name": "stderr",
     "output_type": "stream",
     "text": [
      "/Users/byroncuachin/anaconda3/lib/python3.11/site-packages/sklearn/base.py:464: UserWarning: X does not have valid feature names, but RandomForestClassifier was fitted with feature names\n",
      "  warnings.warn(\n"
     ]
    },
    {
     "name": "stdout",
     "output_type": "stream",
     "text": [
      "Top words for text response 1:\n",
      "Masculine words:  [('an', 0.03821478627938556), ('continued', 0.02978821086354969), ('the', 0.021536330704677097), ('about', 0.02077613256230099), ('believed', 0.016132865042785657), ('on', 0.015965843314523234), ('dedication', 0.015566852528457777), ('of', 0.014942362470522969), ('to', 0.014774066236588806), ('this', 0.014190005465093565), ('journey', 0.01400969322574527), ('peers', 0.013424945182883901), ('arrived', 0.012744391447734113)]\n",
      "Feminine words:  [('student', -0.046420022083196455), ('her', -0.04507398407878916), ('Her', -0.04046442432692137), ('she', -0.02567286502479722), ('students', -0.023033446407819423), ('She', -0.022316484109798314), ('story', -0.00543503092442319)]\n",
      "\n",
      "2 :\n",
      "Male:  0.41\n",
      "Female:  0.59\n",
      "Predicted:  female\n",
      "Actual: Female\n"
     ]
    },
    {
     "name": "stderr",
     "output_type": "stream",
     "text": [
      "/Users/byroncuachin/anaconda3/lib/python3.11/site-packages/sklearn/base.py:464: UserWarning: X does not have valid feature names, but RandomForestClassifier was fitted with feature names\n",
      "  warnings.warn(\n"
     ]
    },
    {
     "name": "stdout",
     "output_type": "stream",
     "text": [
      "Top words for text response 2:\n",
      "Masculine words:  [('an', 0.029231522551867468), ('the', 0.02322746599301921), ('about', 0.018860698565750497), ('believed', 0.01736505680378248), ('in', 0.015377257213985016), ('peers', 0.012353890492505726), ('vision', 0.010795475341835828), ('to', 0.010588569543289347), ('of', 0.010438915383223129), ('full', 0.009680190837781), ('arrived', 0.009220302642446571)]\n",
      "Feminine words:  [('student', -0.08190183875091495), ('students', -0.05705552989874296), ('that', -0.02148079001453864), ('only', -0.013904812598570977), ('story', -0.011114995921748909), ('had', -0.010521485433941092), ('community', -0.008190026924886297), ('ideas', -0.008164221328556372), ('graduated', -0.007843761843137715)]\n",
      "\n",
      "3 :\n",
      "Male:  0.67\n",
      "Female:  0.33\n",
      "Predicted:  male\n",
      "Actual: Male\n"
     ]
    },
    {
     "name": "stderr",
     "output_type": "stream",
     "text": [
      "/Users/byroncuachin/anaconda3/lib/python3.11/site-packages/sklearn/base.py:464: UserWarning: X does not have valid feature names, but RandomForestClassifier was fitted with feature names\n",
      "  warnings.warn(\n"
     ]
    },
    {
     "name": "stdout",
     "output_type": "stream",
     "text": [
      "Top words for text response 3:\n",
      "Masculine words:  [('his', 0.1362129264762799), ('He', 0.06095441871578896), ('he', 0.05652312498420926), ('was', 0.0233448654808234), ('the', 0.02172768730056217), ('as', 0.016979813764331206), ('of', 0.006329937942346455), ('University', 0.005555454212267345), ('city', 0.004348270964662858)]\n",
      "Feminine words:  [('student', -0.211270387112858), ('library', -0.025460211095568112), ('One', -0.015633432355329706), ('studies', -0.01375090704030754), ('campus', -0.009812222363331164), ('with', -0.009506500210579246), ('at', -0.008047566479147738), ('science', -0.006717431513721883), ('lived', -0.0065545589552476104), ('and', -0.006120827393013794), ('world', -0.005705947588771381)]\n",
      "\n",
      "4 :\n",
      "Male:  0.32\n",
      "Female:  0.68\n",
      "Predicted:  female\n",
      "Actual: Male\n"
     ]
    },
    {
     "name": "stderr",
     "output_type": "stream",
     "text": [
      "/Users/byroncuachin/anaconda3/lib/python3.11/site-packages/sklearn/base.py:464: UserWarning: X does not have valid feature names, but RandomForestClassifier was fitted with feature names\n",
      "  warnings.warn(\n"
     ]
    },
    {
     "name": "stdout",
     "output_type": "stream",
     "text": [
      "Top words for text response 4:\n",
      "Masculine words:  [('the', 0.02187548723158645), ('were', 0.009710939395689868), ('their', 0.008865047400347548), ('for', 0.008503212950159385), ('as', 0.00560587515339064), ('was', 0.004972517240031633), ('an', 0.004695774950171019), ('in', 0.0045524092017520165), ('upon', 0.0027126489027382273)]\n",
      "Feminine words:  [('student', -0.15912484818782202), ('library', -0.014925498916759664), ('world', -0.012894320495264842), ('with', -0.010442148737054811), ('studies', -0.00762338085750243), ('junior', -0.007189661305659376), ('This', -0.00675483440885244), ('this', -0.006238797483206034), ('at', -0.0043140738294428806), ('day', -0.003710906982500354), ('they', -0.0030094297554594486)]\n",
      "\n",
      "5 :\n",
      "Male:  0.27\n",
      "Female:  0.73\n",
      "Predicted:  female\n",
      "Actual: Female\n"
     ]
    },
    {
     "name": "stderr",
     "output_type": "stream",
     "text": [
      "/Users/byroncuachin/anaconda3/lib/python3.11/site-packages/sklearn/base.py:464: UserWarning: X does not have valid feature names, but RandomForestClassifier was fitted with feature names\n",
      "  warnings.warn(\n"
     ]
    },
    {
     "name": "stdout",
     "output_type": "stream",
     "text": [
      "Top words for text response 5:\n",
      "Masculine words:  [('club', 0.04008519471780091), ('personal', 0.026714556859457797), ('life', 0.015325818822427405), ('for', 0.015319680633216773), ('awarded', 0.012993340323566421), ('leaving', 0.012662552117665492), ('on', 0.012559640512781103), ('wide', 0.011742815242885387), ('but', 0.011447829021242506), ('nature', 0.011317698563727174), ('who', 0.011052335343359717), ('found', 0.010972356559591967)]\n",
      "Feminine words:  [('herself', -0.04618288402670692), ('student', -0.03428123534284751), ('Her', -0.02859803318080813), ('her', -0.027057123918000924), ('she', -0.025557142233453345), ('She', -0.02432430153553451), ('students', -0.017287760860823804), ('an', -0.0035330367594378913)]\n",
      "\n",
      "6 :\n",
      "Male:  0.45\n",
      "Female:  0.55\n",
      "Predicted:  female\n",
      "Actual: Female\n"
     ]
    },
    {
     "name": "stderr",
     "output_type": "stream",
     "text": [
      "/Users/byroncuachin/anaconda3/lib/python3.11/site-packages/sklearn/base.py:464: UserWarning: X does not have valid feature names, but RandomForestClassifier was fitted with feature names\n",
      "  warnings.warn(\n"
     ]
    },
    {
     "name": "stdout",
     "output_type": "stream",
     "text": [
      "Top words for text response 6:\n",
      "Masculine words:  [('club', 0.03655085608395909), ('life', 0.02118450607637778), ('also', 0.018462929517705184), ('team', 0.01738922714698393), ('for', 0.01654361106903702), ('about', 0.014019381406524293), ('on', 0.013648251933540384), ('change', 0.0135346932563763), ('was', 0.013094189787823611), ('in', 0.010632835550771413), ('world', 0.009719338964358292)]\n",
      "Feminine words:  [('student', -0.08120884931255892), ('students', -0.03511886090052234), ('experience', -0.034556038564671925), ('this', -0.012785653894890052), ('had', -0.011590635980575567), ('passionate', -0.010008932462197726), ('of', -0.009452619069808129), ('collaboration', -0.009422241102197571), ('movement', -0.009216337428886076)]\n",
      "\n",
      "7 :\n",
      "Male:  0.33\n",
      "Female:  0.67\n",
      "Predicted:  female\n",
      "Actual: Male\n"
     ]
    },
    {
     "name": "stderr",
     "output_type": "stream",
     "text": [
      "/Users/byroncuachin/anaconda3/lib/python3.11/site-packages/sklearn/base.py:464: UserWarning: X does not have valid feature names, but RandomForestClassifier was fitted with feature names\n",
      "  warnings.warn(\n"
     ]
    },
    {
     "name": "stdout",
     "output_type": "stream",
     "text": [
      "Top words for text response 7:\n",
      "Masculine words:  [('himself', 0.046375895468249634), ('His', 0.023933546990564745), ('his', 0.021212919508906407), ('of', 0.016767866669008192), ('He', 0.016564660061457088), ('he', 0.015476390664259092), ('children', 0.015341164783567089), ('into', 0.0130364263281183), ('continued', 0.012368447377703672), ('After', 0.010439499659972925)]\n",
      "Feminine words:  [('student', -0.056474896210334934), ('journalist', -0.044778922291739014), ('she', -0.0370915639375239), ('Mrs', -0.030308986358509017), ('experiences', -0.02847861450022045), ('her', -0.02313823817518048), ('Her', -0.020968543446885438), ('woman', -0.014448420231956291), ('article', -0.014026545130980764), ('that', -0.011179404544271111)]\n",
      "\n",
      "8 :\n",
      "Male:  0.28\n",
      "Female:  0.72\n",
      "Predicted:  female\n",
      "Actual: Male\n"
     ]
    },
    {
     "name": "stderr",
     "output_type": "stream",
     "text": [
      "/Users/byroncuachin/anaconda3/lib/python3.11/site-packages/sklearn/base.py:464: UserWarning: X does not have valid feature names, but RandomForestClassifier was fitted with feature names\n",
      "  warnings.warn(\n"
     ]
    },
    {
     "name": "stdout",
     "output_type": "stream",
     "text": [
      "Top words for text response 8:\n",
      "Masculine words:  [('children', 0.02003036059552191), ('about', 0.01683972089205913), ('After', 0.014271415721131617), ('also', 0.013257149669166043), ('into', 0.012214233135427483), ('of', 0.012160852164215226), ('life', 0.011817202081271082), ('contributions', 0.011576972301587144), ('remained', 0.011183901468066642), ('full', 0.010462987372514915)]\n",
      "Feminine words:  [('journalist', -0.05074438493308702), ('student', -0.03862205966969275), ('Mrs', -0.026962592893471825), ('librarian', -0.020885916446170955), ('experiences', -0.01893365126957383), ('stories', -0.012502860323011275), ('character', -0.012462457922825748), ('article', -0.012299721068286128), ('human', -0.009373454844839318), ('woman', -0.008288593195103089)]\n",
      "\n",
      "9 :\n",
      "Male:  0.66\n",
      "Female:  0.34\n",
      "Predicted:  male\n",
      "Actual: Male\n"
     ]
    },
    {
     "name": "stderr",
     "output_type": "stream",
     "text": [
      "/Users/byroncuachin/anaconda3/lib/python3.11/site-packages/sklearn/base.py:464: UserWarning: X does not have valid feature names, but RandomForestClassifier was fitted with feature names\n",
      "  warnings.warn(\n"
     ]
    },
    {
     "name": "stdout",
     "output_type": "stream",
     "text": [
      "Top words for text response 9:\n",
      "Masculine words:  [('his', 0.04166599360734337), ('His', 0.040848597098544256), ('he', 0.039922814668908395), ('One', 0.01827785587433772), ('team', 0.015054051655480398), ('of', 0.013614997155296519), ('him', 0.013614575879201589), ('design', 0.010042262806185328), ('like', 0.009965362884229379), ('personal', 0.009078865303580696), ('was', 0.008126417340934434), ('from', 0.007757405824712373)]\n",
      "Feminine words:  [('students', -0.06119627258174772), ('experience', -0.04953973379274483), ('had', -0.01873470759895846), ('old', -0.01606002500683525), ('night', -0.015170282914241695), ('sight', -0.013560185447673291), ('talent', -0.013282856600094421), ('ideas', -0.012606096064806194)]\n",
      "\n",
      "10 :\n",
      "Male:  0.55\n",
      "Female:  0.45\n",
      "Predicted:  male\n",
      "Actual: Male\n",
      "Top words for text response 10:\n",
      "Masculine words:  [('of', 0.023724967287013402), ('design', 0.022118727083902768), ('was', 0.01695305178928676), ('building', 0.015492976640949145), ('about', 0.014170806601243719), ('became', 0.010265444295284795), ('fire', 0.009809276626261498), ('upon', 0.009162915020672954), ('personal', 0.008877460143215894), ('on', 0.008455254040785629), ('decided', 0.008109452741203527), ('like', 0.00784875307127419), ('As', 0.007599095533394597), ('through', 0.007559434375564107), ('an', 0.007461142248489922)]\n",
      "Feminine words:  [('experience', -0.04487421666897344), ('students', -0.043702653677493895), ('but', -0.011846039581093969), ('learning', -0.00921373866923796), ('day', -0.00822433491603394)]\n",
      "\n"
     ]
    },
    {
     "name": "stderr",
     "output_type": "stream",
     "text": [
      "/Users/byroncuachin/anaconda3/lib/python3.11/site-packages/sklearn/base.py:464: UserWarning: X does not have valid feature names, but RandomForestClassifier was fitted with feature names\n",
      "  warnings.warn(\n"
     ]
    }
   ],
   "source": [
    "text = [\n",
    "\"\"\"\n",
    "Once upon a time in the vibrant city of Harmonyville , there lived a college student named Mia Rodriguez . Mia was a junior majoring in environmental science at Rivertide University . Her love for nature and a deep sense of responsibility towards the planet fueled her determination to make a positive impact . One sunny afternoon , Mia stumbled upon a notice about the annual Green Innovation Challenge —an event where students could pitch eco -friendly projects to a panel of environmental experts . Inspired and eager to contribute , Mia decided to develop a sustainable urban gardening initiative called  \"GreenHaven . \" With her hands in the soil and a heart full of passion , Mia transformed an unused corner of the campus into a thriving community garden . She envisioned GreenHaven as a place where students could come together , learn about sustainable agriculture , and cultivate their own fruits and vegetables . Mia believed that this initiative could not only promote environmental consciousness but also foster a sense of community among her peers . As the garden flourished , so did Mia 's connection with her fellow students . The project became a hub of creativity , where ideas for sustainable living blossomed alongside the vibrant array of fruits and vegetables . Mia 's dedication and leadership drew the attention of both students and faculty alike . When the day of the Green Innovation Challenge arrived , Mia nervously but proudly presented GreenHaven to the panel of judges . The vision , dedication , and positive impact of her project resonated deeply , earning her the first prize and a scholarship for further environmental studies . Word of Mia 's success spread , and GreenHaven became a symbol of sustainable living on campus . Mia 's journey didn 't end with the competition ; instead , it marked the beginning of a new chapter . With the scholarship in hand , Mia continued her studies , conducting research on innovative ways to create sustainable urban environments . As Mia graduated from Rivertide University , she left behind a legacy of green initiatives and a campus that had been transformed by the power of community and sustainability . GreenHaven continued to thrive , inspiring future generations of students to think creatively about environmental issues . Mia 's story became a beacon of hope , showing that even a single college student with a passion for change could make a lasting impact on the world . And so , as Mia embarked on her journey beyond college , she carried with her not just a degree but the knowledge that small , meaningful actions could ripple into waves of positive transformation for the planet and its people .\n",
    "\"\"\",\n",
    "\"\"\"\n",
    "Once upon a time in the vibrant city of Harmonyville ,  lived a college student named   .  was a junior majoring in environmental science at Rivertide University .  love for nature and a deep sense of responsibility towards the planet fueled  determination to make a positive impact . One sunny afternoon ,  stumbled upon a notice about the annual Green Innovation Challenge — an event where students could pitch eco -friendly projects to a panel of environmental experts . Inspired and eager to contribute ,  decided to develop a sustainable urban gardening initiative called   \" GreenHaven . \" With  hands in the soil and a heart full of passion ,  transformed an unused corner of the campus into a thriving community garden .  envisioned GreenHaven as a place where students could come together , learn about sustainable agriculture , and cultivate  own fruits and vegetables .  believed that this initiative could not only promote environmental consciousness but also foster a sense of community among  peers . As the garden flourished , so did  's connection with  fellow students . The project became a hub of creativity , where ideas for sustainable living blossomed alongside the vibrant array of fruits and vegetables .  's dedication and leadership drew the attention of both students and faculty alike . When the day of the Green Innovation Challenge arrived ,  nervously but proudly presented GreenHaven to the panel of judges . The vision , dedication , and positive impact of  project resonated deeply , earning  the first prize and a scholarship for further environmental studies . Word of  's success spread , and  became a symbol of sustainable living on campus .  's    t end with the competition ; instead ,  marked the beginning of a new chapter . With the scholarship in hand ,  continued  studies , conducting research on innovative ways to create sustainable urban environments . As  graduated from Rivertide University ,  left behind a legacy of green initiatives and a campus  had been transformed by the power of community and sustainability . GreenHaven continued to thrive , inspiring future generations of students to think creatively about environmental issues .  's story became a beacon of hope , showing that even a single college student with a passion for change could make a lasting impact on the world . And so , as  embarked on  journey beyond college ,  carried with  not just a degree but the knowledge  small , meaningful actions could ripple into waves of positive transformation for the planet and  people .\n",
    "\"\"\",\n",
    "\"\"\"\n",
    "Once upon a time in the bustling city of Arcadia , there lived a college student named Alex Reynolds . Alex was a junior majoring in computer science at the prestigious Arcadia University . He was a diligent student with a passion for coding and a penchant for exploring the world of technology . One day , as Alex was immersed in his studies at the campus library , he stumbled upon an intriguing flyer .\n",
    "\"\"\",\n",
    "\"\"\"\n",
    "Once upon a time in the bustling city of Arcadia , there lived a college student . This student was a junior majoring in computer science at the prestigious Arcadia University . They were a diligent student with a passion for coding and a penchant for exploring the world of technology . One day , as this student was immersed in their studies at the campus library , they stumbled upon an intriguing flyer .\n",
    "\"\"\",\n",
    "\"\"\"\n",
    "Once upon a time in the vibrant college town of Crestwood , there lived a spirited young student named Emily . She was a sophomore at Crestwood University , pursuing a degree in environmental science with dreams of making a positive impact on the planet . Emily was known for her boundless enthusiasm , infectious energy , and a love for exploring the world around her . One crisp autumn day , Emily stumbled upon a flyer for an environmental awareness club called  \"Green Harmony \" on the college bulletin board . Intrigued and passionate about environmental causes , she decided to attend their next meeting . As Emily walked into the meeting room , she was greeted by a diverse group of students who shared her passion for sustainability . The club was planning an ambitious project to transform an unused campus space into a thriving community garden . Emily was immediately captivated by the idea and eagerly joined the efforts . The days turned into weeks as the Green Harmony team worked tirelessly , planning , planting , and nurturing their garden . Emily found herself forming deep connections with her fellow club members as they faced challenges and celebrated victories together . The project not only brought life to the neglected space but also breathed new life into Emily 's college experience . Amidst the busy academic schedule , Emily discovered a sense of purpose beyond textbooks and exams . The garden project became a symbol of unity , showcasing the power of collaboration and the positive impact a group of dedicated individuals could make . As the garden flourished , so did Emily 's personal growth . She learned about sustainable practices , organic gardening , and the importance of community engagement . Her once mundane college routine transformed into a fulfilling journey , where every day brought new lessons and opportunities . Word of the Green Harmony garden spread throughout the campus , attracting attention from both students and faculty . The college recognized the club 's efforts and even awarded them a grant to expand their project . Emily and her friends found themselves at the forefront of a campus -wide movement toward sustainability . Through this journey , Emily discovered not only her passion for environmental science but also her ability to lead and inspire change . The once ordinary college student had become a beacon of hope and inspiration for those around her . As the seasons changed , so did Emily and her friends , leaving behind a legacy of a thriving community garden and a more environmentally conscious campus . The tale of the college student who discovered her purpose in the embrace of nature and community echoed through the years , inspiring future generations of students to dream big and make a difference in the world .\n",
    "\"\"\",\n",
    "\"\"\"\n",
    "Once upon a time in the vibrant college town of Crestwood ,  lived a spirited young student named  .  was a sophomore at Crestwood University , pursuing a degree in environmental science with dreams of making a positive impact on the planet . Emily was known for  boundless enthusiasm , infectious energy , and a love for exploring the world around  . One crisp autumn day , Emily stumbled upon a flyer for an environmental awareness club called   \" Green Harmony \" on the college bulletin board . Intrigued and passionate about environmental causes ,  decided to attend  next meeting . As Emily walked into the meeting room ,  was greeted by a diverse group of students  shared  passion for sustainability . The club was planning an ambitious project to transform an unused campus space into a thriving community garden . Emily was immediately captivated by the idea and eagerly joined the efforts . The days turned into weeks as the   team worked tirelessly , planning , planting , and nurturing  garden . Emily found  forming deep connections with  fellow club members as  faced challenges and celebrated victories together . The project not only brought life to the neglected space but also breathed new life into Emily 's college experience . Amidst the busy academic schedule , Emily discovered a sense of purpose beyond textbooks and exams . The garden project became a symbol of unity , showcasing the power of collaboration and the positive impact a group of dedicated individuals could make . As the garden flourished , so did  's personal growth .  learned about sustainable practices , organic gardening , and the importance of community engagement .  once mundane college routine transformed into a fulfilling journey , where every day brought new lessons and opportunities . Word of the Green Harmony garden spread throughout the campus , attracting attention from both students and faculty . The college recognized the club 's efforts and even awarded  a grant to expand  project . Emily and  friends found  at the forefront of a campus -wide movement toward sustainability . Through this journey , Emily discovered not only  passion for environmental science but also  ability to lead and inspire change . The once ordinary college student had become a beacon of hope and inspiration for  around  . As the seasons changed , so did  and  friends , leaving behind a legacy of a thriving community garden and a more environmentally conscious campus . The tale of the college student  discovered  purpose in the embrace of nature and community echoed through the years , inspiring future generations of students to dream big and make a difference in the world .\n",
    "\"\"\",\n",
    "\"\"\"\n",
    "In the vibrant city of Rivertown , there lived a college student named Jason Harris . Jason was a senior at Rivertown University , majoring in journalism and aspiring to be a storyteller . He had a keen interest in human experiences and a passion for shedding light on untold stories . One day , while perusing the local newspaper , Jason stumbled upon an article about an elderly woman named Mrs . Eleanor Bennett , who had spent decades working as a librarian in the city . Intrigued by the snippet of her life story , Jason felt compelled to dig deeper and share her tale with the world . After some research , Jason learned that Mrs . Bennett had not only been a dedicated librarian but had also been involved in community initiatives , fostering a love for reading among children and organizing events to bring people together . However , her own life story had largely remained in the shadows . Determined to uncover the full narrative , Jason reached out to Mrs . Bennett and asked for an interview . To his surprise , she welcomed the opportunity to share her story , and soon they sat down for a conversation that would unveil a lifetime of experiences . As Jason delved into Mrs . Bennett 's past , he discovered a woman who had overcome personal challenges , witnessed historical events , and touched the lives of many in Rivertown . Her journey was filled with moments of joy , heartbreak , and resilience , making for a compelling narrative that Jason couldn 't wait to share with his readers . With meticulous attention to detail , Jason crafted a feature article that not only highlighted Mrs . Bennett 's contributions to the community but also captured the essence of her character . The story resonated with readers , and the local newspaper received an overwhelming response . Mrs . Bennett became a beloved figure in Rivertown , celebrated for her dedication and the richness of her life story . The success of the article opened doors for Jason , who found himself on the path to becoming a respected journalist . Inspired by Mrs . Bennett 's story , he continued to seek out and share the untold narratives within his community , becoming a storyteller who bridged the gaps between generations . As graduation day approached , Jason reflected on his college journey . His time at Rivertown University had not only provided him with an education but had also instilled in him the power of storytelling to connect people and inspire change . With a heart full of gratitude and a portfolio filled with impactful stories , Jason ventured into the world , ready to make a difference , one narrative at a time .\n",
    "\"\"\",\n",
    "\"\"\"\n",
    "In the vibrant city of Rivertown ,  lived a college student named   .  was a senior at Rivertown University , majoring in journalism and aspiring to be a storyteller .  had a keen interest in human experiences and a passion for shedding light on untold stories . One day , while perusing the local newspaper ,  stumbled upon an article about an elderly woman named  .   ,  had spent decades working as a librarian in the city . Intrigued by the snippet of  life story ,  felt compelled to dig deeper and share  tale with the world . After some research ,  learned that  .  had not only been a dedicated librarian but had also been involved in community initiatives , fostering a love for reading among children and organizing events to bring people together . However ,  own life story had largely remained in the shadows . Determined to uncover the full narrative ,  reached out to  .  and asked for an interview . To  surprise ,  welcomed the opportunity to share  story , and soon  sat down for a conversation  would unveil a lifetime of experiences . As  delved into  .  's past ,  discovered a woman  had overcome personal challenges , witnessed historical events , and touched the lives of many in Rivertown .  journey was filled with moments of joy , heartbreak , and resilience , making for a compelling narrative   couldn ' t wait to share with  readers . With meticulous attention to detail ,  crafted a feature article that not only highlighted  .  's contributions to the community but also captured the essence of  character . The story resonated with readers , and the local newspaper received an overwhelming response . Mrs .  became a beloved figure in Rivertown , celebrated for  dedication and the richness of  life story . The success of the article opened doors for  ,  found  on the path to becoming a respected journalist . Inspired by  .  's story ,  continued to seek out and share the untold narratives within  community , becoming a storyteller  bridged the gaps between generations . As graduation day approached ,  reflected on  college journey .  time at Rivertown University had not only provided  with an education but had also instilled in  the power of storytelling to connect people and inspire change . With a heart full of gratitude and a portfolio filled with impactful stories ,  ventured into the world , ready to make a difference , one narrative at a time .\n",
    "\"\"\",\n",
    "\"\"\"\n",
    "In the bustling town of Summitville , there lived a college man named Lucas Turner . Lucas was a mechanical engineering major at Summitville Tech , known for his passion for building things from the ground up . His college life was a dynamic mix of late -night design sessions , hands -on projects , and a camaraderie with his fellow engineering students . One day , Lucas stumbled upon an old , abandoned workshop on the outskirts of town . The sight of forgotten tools and discarded materials sparked a fire in him . Inspired by the potential of the neglected space , he decided to breathe new life into it and create a collaborative hub for engineering students . Lucas rallied a group of like -minded friends , and together they transformed the workshop into the  \"Innovation Forge . \" It became a haven for students to work on personal projects , exchange ideas , and bring their engineering dreams to life . The space buzzed with the sounds of drills , the clanking of metal , and the hum of 3D printers as students collaborated on everything from robotics to sustainable energy solutions . As the Innovation Forge gained popularity , Lucas and his team decided to organize an annual engineering expo , showcasing the innovative projects that emerged from their workshop . The expo not only attracted students and faculty but also local businesses and industry professionals keen on discovering emerging talent . One year , Lucas and his team developed a prototype for a solar -powered irrigation system designed to help local farmers in Summitville . The project gained attention not only for its engineering prowess but also for its potential to make a real impact in the community . The Innovation Forge became a focal point for collaborative projects that aimed to address real -world challenges . Lucas 's journey through college was not just about earning a degree ; it was about leaving a lasting mark on the engineering community . As graduation approached , the Innovation Forge continued to thrive , and Lucas felt a sense of pride in the legacy he had created . The town of Summitville now had a vibrant hub of innovation , thanks to the hard work and dedication of Lucas Turner . His college experience became a testament to the transformative power of hands -on learning , collaboration , and the drive to make a positive impact on the world through engineering ingenuity .\n",
    "\"\"\",\n",
    "\"\"\"\n",
    "In the bustling town of Summitville ,  lived a college man named   . Lucas was a mechanical engineering major at Summitville Tech , known for  passion for building things from the ground up .  college life was a dynamic mix of late -night design sessions , hands -on projects , and a camaraderie with  fellow engineering students . One day , Lucas stumbled upon an old , abandoned workshop on the outskirts of town . The sight of forgotten tools and discarded materials sparked a fire in  . Inspired by the potential of the neglected space ,  decided to breathe new life into  and create a collaborative hub for engineering students . Lucas rallied a group of like -minded friends , and together  transformed the workshop into the   \" Innovation Forge . \"  became a haven for students to work on personal projects , exchange ideas , and bring  engineering dreams to life . The space buzzed with the sounds of drills , the clanking of metal , and the hum of 3D printers as students collaborated on  from robotics to sustainable energy solutions . As the Innovation Forge gained popularity , Lucas and  team decided to organize an annual engineering expo , showcasing the innovative projects  emerged from  workshop . The expo not only attracted students and faculty but also local businesses and industry professionals keen on discovering emerging talent . One year , Lucas and  team developed a prototype for a solar -powered irrigation system designed to help local farmers in Summitville . The project gained attention not only for  engineering prowess but also for  potential to make a real impact in the community . The Innovation Forge became a focal point for collaborative projects  aimed to address real -world challenges . Lucas 's journey through college was not just about earning a degree ;  was about leaving a lasting mark on the engineering community . As graduation approached , the Innovation Forge continued to thrive , and Lucas felt a sense of pride in the legacy  had created . The town of Summitville now had a vibrant hub of innovation , thanks to the hard work and dedication of Lucas Turner .  college experience became a testament to the transformative power of hands -on learning , collaboration , and the drive to make a positive impact on the world through engineering ingenuity .\n",
    "\"\"\"\n",
    "]\n",
    "vectorizedText = vectorizer.transform(text)\n",
    "textsTransformed = pd.DataFrame(vectorizedText.toarray(), columns=vectorizer.get_feature_names_out())\n",
    "predProb = model.predict_proba(textsTransformed)\n",
    "pred = model.predict(textsTransformed)\n",
    "\n",
    "yActual = [0, 0, 1, 1, 0, 0, 1, 1, 1, 1]\n",
    "explainer = LimeTextExplainer(class_names=['female', 'male'])\n",
    "for i in range(len(pred)):\n",
    "    print(i + 1, \":\")\n",
    "    print(\"Male: \", predProb[i][1])\n",
    "    print(\"Female: \", predProb[i][0])\n",
    "    print(\"Predicted: \", pred[i])\n",
    "    if(yActual[i] == 0):\n",
    "        print(\"Actual: Female\")\n",
    "    else:\n",
    "        print(\"Actual: Male\")\n",
    "        \n",
    "    vectorized_text = vectorizer.transform([text[i]])\n",
    "    predict_function = lambda x: model.predict_proba(vectorizer.transform(x))\n",
    "    explanation = explainer.explain_instance(text[i], predict_function, num_features=20)\n",
    "    top_words_lime = explanation.as_list()\n",
    "    print(f\"Top words for text response {i + 1}:\")\n",
    "    masculineWords = []\n",
    "    feminineWords = []\n",
    "    for word, score in top_words_lime:\n",
    "        if score > 0:\n",
    "            masculineWords.append((word, score))\n",
    "        else:\n",
    "            feminineWords.append((word, score))\n",
    "    print(\"Masculine words: \", masculineWords)\n",
    "    print(\"Feminine words: \", feminineWords)\n",
    "    print(\"\")\n",
    "\n",
    "\n",
    "\n"
   ]
  },
  {
   "attachments": {},
   "cell_type": "markdown",
   "metadata": {},
   "source": [
    "XGBoost"
   ]
  },
  {
   "cell_type": "code",
   "execution_count": 8,
   "metadata": {},
   "outputs": [
    {
     "name": "stdout",
     "output_type": "stream",
     "text": [
      "   Unnamed: 0                                      sentence_text  \\\n",
      "0           0  Notice of contact depends on the time the infe...   \n",
      "1           1  Hepaprotective agent glycyrrhizinate was added...   \n",
      "2           2  So yes , that was humbling . \" Addressing the ...   \n",
      "3           3  Following previous works based on classical pr...   \n",
      "4           4  The second aspect is the agent neighborhood ! ...   \n",
      "\n",
      "                                              tokens profession    g  \\\n",
      "0  ['Notice', 'of', 'contact', 'depends', 'on', '...     person  her   \n",
      "1  ['Hepaprotective', 'agent', 'glycyrrhizinate',...      agent  her   \n",
      "2  ['So', 'yes', ',', 'that', 'was', 'humbling', ...  assistant  her   \n",
      "3  ['Following', 'previous', 'works', 'based', 'o...      agent  her   \n",
      "4  ['The', 'second', 'aspect', 'is', 'the', 'agen...      agent  her   \n",
      "\n",
      "   profession_first_index  g_first_index  predicted gender  stereotype  \\\n",
      "0                       9             13                 0           1   \n",
      "1                       1              6                 0           1   \n",
      "2                      17             21                 0           1   \n",
      "3                      23             30                 0           1   \n",
      "4                       5             20                 0           1   \n",
      "\n",
      "   distance  num_of_pronouns   corpus  data_index  \n",
      "0         4                1  covid19           1  \n",
      "1         5                1  covid19           1  \n",
      "2         4                3  covid19           1  \n",
      "3         7                1  covid19           1  \n",
      "4        15                1  covid19          14  \n",
      "[0]\tvalidation_0-logloss:0.44915\n",
      "[1]\tvalidation_0-logloss:0.31431\n",
      "[2]\tvalidation_0-logloss:0.22953\n",
      "[3]\tvalidation_0-logloss:0.17266\n",
      "[4]\tvalidation_0-logloss:0.13388\n",
      "[5]\tvalidation_0-logloss:0.10551\n",
      "[6]\tvalidation_0-logloss:0.08551\n",
      "[7]\tvalidation_0-logloss:0.07153\n",
      "[8]\tvalidation_0-logloss:0.06065\n",
      "[9]\tvalidation_0-logloss:0.05263\n",
      "[10]\tvalidation_0-logloss:0.04694\n",
      "[11]\tvalidation_0-logloss:0.04261\n",
      "[12]\tvalidation_0-logloss:0.03885\n",
      "[13]\tvalidation_0-logloss:0.03630\n",
      "[14]\tvalidation_0-logloss:0.03446\n",
      "[15]\tvalidation_0-logloss:0.03324\n",
      "[16]\tvalidation_0-logloss:0.03156\n",
      "[17]\tvalidation_0-logloss:0.03078\n",
      "[18]\tvalidation_0-logloss:0.02976\n",
      "[19]\tvalidation_0-logloss:0.02877\n",
      "[20]\tvalidation_0-logloss:0.02826\n",
      "[21]\tvalidation_0-logloss:0.02765\n",
      "[22]\tvalidation_0-logloss:0.02732\n",
      "[23]\tvalidation_0-logloss:0.02644\n",
      "[24]\tvalidation_0-logloss:0.02594\n",
      "[25]\tvalidation_0-logloss:0.02538\n",
      "[26]\tvalidation_0-logloss:0.02467\n",
      "[27]\tvalidation_0-logloss:0.02435\n",
      "[28]\tvalidation_0-logloss:0.02409\n",
      "[29]\tvalidation_0-logloss:0.02356\n",
      "[30]\tvalidation_0-logloss:0.02321\n",
      "[31]\tvalidation_0-logloss:0.02303\n",
      "[32]\tvalidation_0-logloss:0.02279\n",
      "[33]\tvalidation_0-logloss:0.02270\n",
      "[34]\tvalidation_0-logloss:0.02242\n",
      "[35]\tvalidation_0-logloss:0.02251\n",
      "[36]\tvalidation_0-logloss:0.02270\n"
     ]
    }
   ],
   "source": [
    "# load data\n",
    "dataset = pd.read_csv('../datasets/BUG/balanced_BUG.csv')\n",
    "dataset.replace(\"male\", 1, inplace=True)\n",
    "dataset.replace(\"female\", 0, inplace=True)\n",
    "print(dataset.head())\n",
    "train, test = train_test_split(dataset, test_size=0.2, random_state=42)\n",
    "# get samples with only neutral or stereotype sentence\n",
    "train = train[train['stereotype'].isin([0, 1])]\n",
    "test = test[test['stereotype'].isin([0, 1])]\n",
    "\n",
    "vectorizer = CountVectorizer()\n",
    "trainTexts = vectorizer.fit_transform(train['sentence_text'])\n",
    "testTexts = vectorizer.transform(test['sentence_text'])\n",
    "\n",
    "xTrain = pd.DataFrame(trainTexts.toarray(), columns=vectorizer.get_feature_names_out())\n",
    "xTest = pd.DataFrame(testTexts.toarray(), columns=vectorizer.get_feature_names_out())\n",
    "yTrain = train['predicted gender']\n",
    "yTest = test['predicted gender']\n",
    "\n",
    "# train model\n",
    "model = xgb.XGBClassifier(tree_method=\"hist\", early_stopping_rounds=2)\n",
    "model.fit(xTrain, yTrain, eval_set=[(xTest, yTest)])\n",
    "\n",
    "with open('../savedModels/XGBoostModel.pkl', 'wb') as model_file:\n",
    "    pickle.dump((model, vectorizer), model_file)"
   ]
  },
  {
   "cell_type": "code",
   "execution_count": 9,
   "metadata": {},
   "outputs": [
    {
     "name": "stdout",
     "output_type": "stream",
     "text": [
      "Accuracy: 0.9898516783762685\n",
      "Confusion matrix:\n",
      " [[1282   13]\n",
      " [  13 1254]]\n"
     ]
    }
   ],
   "source": [
    "# accuracy\n",
    "pred = model.predict(xTest)\n",
    "\n",
    "accuracy = accuracy_score(yTest, pred)\n",
    "print(\"Accuracy:\", accuracy)\n",
    "\n",
    "# confusion matrix\n",
    "cm = confusion_matrix(yTest, pred)\n",
    "print(\"Confusion matrix:\\n\", cm)"
   ]
  },
  {
   "cell_type": "code",
   "execution_count": 10,
   "metadata": {},
   "outputs": [
    {
     "name": "stdout",
     "output_type": "stream",
     "text": [
      "1 :\n",
      "Male:  0.00072941085\n",
      "Female:  0.9992706\n",
      "Predicted:  0\n",
      "Actual: Female\n",
      "Top words for text response 1:\n",
      "Masculine words:  [('her', 0.008910332115293943), ('majoring', 0.00031592683840320484), ('arrived', 0.0003149875485987437), ('prize', 0.0002781893700498528), ('research', 0.0002559216013681642), ('end', 0.00024312402786462692), ('learn', 0.00021890467776286356), ('day', 0.0002063095179815171), ('hope', 0.00019712604591185857)]\n",
      "Feminine words:  [('Her', -0.005097616801398266), ('stumbled', -0.00027814548505274893), ('Green', -0.00023975182757048904), ('deeply', -0.00023164691710813714), ('green', -0.00022086300650129437), ('sustainability', -0.00019763144627554598), ('thrive', -0.00019723399984557818), ('towards', -0.00017996467410795458), ('judges', -0.00017015532366415834), ('corner', -0.00016591823449057743), ('garden', -0.00016583594547507502)]\n",
      "\n",
      "2 :\n",
      "Male:  0.9931248\n",
      "Female:  0.006875217\n",
      "Predicted:  1\n",
      "Actual: Female\n",
      "Top words for text response 2:\n",
      "Masculine words:  [('degree', 6.105007623423147e-33), ('change', 5.6855064348146504e-33), ('sustainable', 4.878044359338033e-33), ('green', 4.195183638929914e-33), ('end', 3.8503913771877364e-33), ('prize', 3.592470562994548e-33), ('knowledge', 3.548624777543696e-33), ('in', 2.932147175494837e-33), ('creativity', 2.624602752375731e-33), ('urban', 9.44086841559651e-34), ('And', 7.2942941939321194e-34), ('thrive', 5.5183299970868975e-34)]\n",
      "Feminine words:  [('garden', -4.176049600508843e-33), ('also', -3.892632238806065e-33), ('soil', -2.284392652064384e-33), ('proudly', -1.8445405265382047e-33), ('place', -1.619042713846291e-33), ('array', -1.340640341462793e-33), ('towards', -5.592014751588485e-34), ('When', -4.019997015196767e-34)]\n",
      "\n",
      "3 :\n",
      "Male:  0.9944722\n",
      "Female:  0.0055277944\n",
      "Predicted:  1\n",
      "Actual: Male\n",
      "Top words for text response 3:\n",
      "Masculine words:  [('an', 8.963425359671446e-33), ('and', 7.17924258103883e-33), ('there', 7.049477083043207e-33), ('the', 6.54242027579524e-33), ('computer', 5.8907804148637943e-33), ('passion', 5.664474503674806e-33), ('stumbled', 2.9922612884267406e-33), ('penchant', 2.7916417045624603e-33), ('as', 2.412132748498564e-33), ('at', 1.4106228722926106e-33), ('immersed', 1.3297564454275112e-33), ('he', 1.1647548036485624e-33), ('studies', 3.9748630109140035e-34)]\n",
      "Feminine words:  [('library', -6.037356427662027e-33), ('a', -4.179687622930277e-33), ('One', -3.376902380704627e-33), ('Arcadia', -3.0117184938370617e-33), ('day', -2.927333892209023e-33), ('science', -2.157193527852565e-33), ('city', -1.0728758263457066e-34)]\n",
      "\n",
      "4 :\n",
      "Male:  0.9919525\n",
      "Female:  0.008047521\n",
      "Predicted:  1\n",
      "Actual: Male\n",
      "Top words for text response 4:\n",
      "Masculine words:  [('for', 6.146453410366497e-33), ('college', 3.862631389194296e-33), ('penchant', 2.419419931614812e-33), ('upon', 2.1322181416024694e-33), ('in', 1.324476754024605e-33), ('prestigious', 8.339530016975041e-34), ('exploring', 6.0344655366822e-34), ('city', 4.646276140924939e-34), ('this', 3.3548800721696757e-34), ('technology', 2.1110968622632297e-34)]\n",
      "Feminine words:  [('Once', -2.0060637922534257e-33), ('there', -1.3787375561756906e-33), ('world', -1.2964395295455132e-33), ('passion', -1.1215101762587549e-33), ('junior', -9.019106192742791e-34), ('They', -7.167047021486625e-34), ('flyer', -6.858142525477033e-34), ('diligent', -1.4760213609000006e-34), ('as', -6.832479613426697e-35), ('an', -3.7680534550350447e-35)]\n",
      "\n",
      "5 :\n",
      "Male:  0.00093528954\n",
      "Female:  0.9990647\n",
      "Predicted:  0\n",
      "Actual: Female\n",
      "Top words for text response 5:\n",
      "Masculine words:  [('her', 0.008709724211999944), ('discovered', 0.0003739278270554075), ('science', 0.0003415304575940232), ('vibrant', 0.00029634747883127067), ('gardening', 0.00029264623369445715), ('student', 0.0002789723814181137), ('Harmony', 0.00027701454536372024), ('next', 0.0002642208331961282), ('awareness', 0.0002488801012600828), ('positive', 0.00021690820538455876)]\n",
      "Feminine words:  [('Her', -0.005151816080719007), ('space', -0.0003284985728551741), ('seasons', -0.0002999088966577864), ('boundless', -0.0002895512210302175), ('hope', -0.0002729034312976255), ('at', -0.00024204227052036055), ('about', -0.00024182900903546627), ('life', -0.0002247885387445265), ('around', -0.00019337467782490418), ('meeting', -0.0001720689428975131)]\n",
      "\n",
      "6 :\n",
      "Male:  0.9910802\n",
      "Female:  0.0089197755\n",
      "Predicted:  1\n",
      "Actual: Female\n",
      "Top words for text response 6:\n",
      "Masculine words:  []\n",
      "Feminine words:  [('Once', 0.0), ('upon', 0.0), ('a', 0.0), ('time', 0.0), ('in', 0.0), ('the', 0.0), ('vibrant', 0.0), ('college', 0.0), ('town', 0.0), ('of', 0.0), ('Crestwood', 0.0), ('lived', 0.0), ('spirited', 0.0), ('young', 0.0), ('student', 0.0), ('named', 0.0), ('was', 0.0), ('sophomore', 0.0), ('at', 0.0), ('University', 0.0)]\n",
      "\n",
      "7 :\n",
      "Male:  0.08682726\n",
      "Female:  0.9131727\n",
      "Predicted:  0\n",
      "Actual: Male\n",
      "Top words for text response 7:\n",
      "Masculine words:  [('in', 0.009842392801515353), ('her', 0.008349103732880413), ('dig', 0.0003948978253909163), ('compelling', 0.0003671094923913739), ('However', 0.0003652080532381453), ('children', 0.00035099340049697854), ('found', 0.0003455621562512355), ('lived', 0.0003442842178947382), ('Bennett', 0.00031804766027505464), ('own', 0.0003151483486179351), ('she', 0.00031144508576471595), ('heartbreak', 0.0002813341145950318), ('woman', 0.00021736472155485284)]\n",
      "Feminine words:  [('In', -0.005958599602482291), ('Her', -0.004950302407379905), ('inspire', -0.0005540758354891097), ('bring', -0.00044485691117535347), ('gratitude', -0.0003619924411201836), ('a', -0.0003541852122077071), ('celebrated', -0.00035372809899231585)]\n",
      "\n",
      "8 :\n",
      "Male:  0.98013514\n",
      "Female:  0.019864857\n",
      "Predicted:  1\n",
      "Actual: Male\n",
      "Top words for text response 8:\n",
      "Masculine words:  [('in', 0.010263183673054514), ('shadows', 0.0005082110955865795), ('feature', 0.00041491660152650703), ('a', 0.0004110512406541747), ('article', 0.00037683946804564983), ('surprise', 0.00034250402644557125), ('experiences', 0.0003413818949054718), ('also', 0.000315103157909489)]\n",
      "Feminine words:  [('In', -0.00571344957872208), ('Mrs', -0.00030360800252321864), ('majoring', -0.0003005597845014695), ('dedicated', -0.0002838131884581394), ('difference', -0.0002707713779284487), ('aspiring', -0.0002683011680066838), ('out', -0.0002672771132872153), ('opportunity', -0.0002669337486054764), ('lives', -0.000258775679940819), ('moments', -0.0002562823429238827), ('storyteller', -0.0001882753317153445), ('city', -0.00018601764635655624)]\n",
      "\n",
      "9 :\n",
      "Male:  0.999231\n",
      "Female:  0.0007690191\n",
      "Predicted:  1\n",
      "Actual: Male\n",
      "Top words for text response 9:\n",
      "Masculine words:  [('in', 0.010887972184670481), ('outskirts', 0.0003283991716057887), ('ideas', 0.00027606514630147856), ('like', 0.0002724261621750187), ('late', 0.00026060570365771366), ('hard', 0.00025217493700401504), ('Forge', 0.00023707152401557417), ('camaraderie', 0.0002367139469263365), ('His', 0.00022486447128504104), ('together', 0.00019884813523189359), ('expo', 0.00018507086761936482)]\n",
      "Feminine words:  [('In', -0.005989439326314576), ('his', -0.00044839273523266434), ('decided', -0.00036097372600198065), ('and', -0.00031573889427792773), ('projects', -0.00030441735264673985), ('degree', -0.00029739161753440755), ('Lucas', -0.00029055783678753086), ('building', -0.00028202625301218054), ('lasting', -0.0002645012816887814)]\n",
      "\n",
      "10 :\n",
      "Male:  0.99842465\n",
      "Female:  0.0015753508\n",
      "Predicted:  1\n",
      "Actual: Male\n",
      "Top words for text response 10:\n",
      "Masculine words:  [('in', 0.010517172229497792), ('college', 0.0004595405221964432), ('collaborative', 0.00043840133072259774), ('exchange', 0.0004022375230289306), ('drive', 0.00039993184135562223), ('clanking', 0.0003744581089325799), ('rallied', 0.00035405930233905786)]\n",
      "Feminine words:  [('In', -0.006006869989594377), ('hands', -0.0004046864296023782), ('named', -0.0003030536079211164), ('3D', -0.0002763466774050056), ('also', -0.000261435532477965), ('with', -0.00024533574166992167), ('fellow', -0.0002050442797379684), ('at', -0.0002032310305132218), ('decided', -0.0001949720183595656), ('lived', -0.00019005786134689112), ('to', -0.0001834439156541936), ('not', -0.00018241713113085375), ('now', -0.00015765257648275526)]\n",
      "\n"
     ]
    }
   ],
   "source": [
    "text = [\n",
    "\"\"\"\n",
    "Once upon a time in the vibrant city of Harmonyville , there lived a college student named Mia Rodriguez . Mia was a junior majoring in environmental science at Rivertide University . Her love for nature and a deep sense of responsibility towards the planet fueled her determination to make a positive impact . One sunny afternoon , Mia stumbled upon a notice about the annual Green Innovation Challenge —an event where students could pitch eco -friendly projects to a panel of environmental experts . Inspired and eager to contribute , Mia decided to develop a sustainable urban gardening initiative called  \"GreenHaven . \" With her hands in the soil and a heart full of passion , Mia transformed an unused corner of the campus into a thriving community garden . She envisioned GreenHaven as a place where students could come together , learn about sustainable agriculture , and cultivate their own fruits and vegetables . Mia believed that this initiative could not only promote environmental consciousness but also foster a sense of community among her peers . As the garden flourished , so did Mia 's connection with her fellow students . The project became a hub of creativity , where ideas for sustainable living blossomed alongside the vibrant array of fruits and vegetables . Mia 's dedication and leadership drew the attention of both students and faculty alike . When the day of the Green Innovation Challenge arrived , Mia nervously but proudly presented GreenHaven to the panel of judges . The vision , dedication , and positive impact of her project resonated deeply , earning her the first prize and a scholarship for further environmental studies . Word of Mia 's success spread , and GreenHaven became a symbol of sustainable living on campus . Mia 's journey didn 't end with the competition ; instead , it marked the beginning of a new chapter . With the scholarship in hand , Mia continued her studies , conducting research on innovative ways to create sustainable urban environments . As Mia graduated from Rivertide University , she left behind a legacy of green initiatives and a campus that had been transformed by the power of community and sustainability . GreenHaven continued to thrive , inspiring future generations of students to think creatively about environmental issues . Mia 's story became a beacon of hope , showing that even a single college student with a passion for change could make a lasting impact on the world . And so , as Mia embarked on her journey beyond college , she carried with her not just a degree but the knowledge that small , meaningful actions could ripple into waves of positive transformation for the planet and its people .\n",
    "\"\"\",\n",
    "\"\"\"\n",
    "Once upon a time in the vibrant city of Harmonyville ,  lived a college student named   .  was a junior majoring in environmental science at Rivertide University .  love for nature and a deep sense of responsibility towards the planet fueled  determination to make a positive impact . One sunny afternoon ,  stumbled upon a notice about the annual Green Innovation Challenge — an event where students could pitch eco -friendly projects to a panel of environmental experts . Inspired and eager to contribute ,  decided to develop a sustainable urban gardening initiative called   \" GreenHaven . \" With  hands in the soil and a heart full of passion ,  transformed an unused corner of the campus into a thriving community garden .  envisioned GreenHaven as a place where students could come together , learn about sustainable agriculture , and cultivate  own fruits and vegetables .  believed that this initiative could not only promote environmental consciousness but also foster a sense of community among  peers . As the garden flourished , so did  's connection with  fellow students . The project became a hub of creativity , where ideas for sustainable living blossomed alongside the vibrant array of fruits and vegetables .  's dedication and leadership drew the attention of both students and faculty alike . When the day of the Green Innovation Challenge arrived ,  nervously but proudly presented GreenHaven to the panel of judges . The vision , dedication , and positive impact of  project resonated deeply , earning  the first prize and a scholarship for further environmental studies . Word of  's success spread , and  became a symbol of sustainable living on campus .  's    t end with the competition ; instead ,  marked the beginning of a new chapter . With the scholarship in hand ,  continued  studies , conducting research on innovative ways to create sustainable urban environments . As  graduated from Rivertide University ,  left behind a legacy of green initiatives and a campus  had been transformed by the power of community and sustainability . GreenHaven continued to thrive , inspiring future generations of students to think creatively about environmental issues .  's story became a beacon of hope , showing that even a single college student with a passion for change could make a lasting impact on the world . And so , as  embarked on  journey beyond college ,  carried with  not just a degree but the knowledge  small , meaningful actions could ripple into waves of positive transformation for the planet and  people .\n",
    "\"\"\",\n",
    "\"\"\"\n",
    "Once upon a time in the bustling city of Arcadia , there lived a college student named Alex Reynolds . Alex was a junior majoring in computer science at the prestigious Arcadia University . He was a diligent student with a passion for coding and a penchant for exploring the world of technology . One day , as Alex was immersed in his studies at the campus library , he stumbled upon an intriguing flyer .\n",
    "\"\"\",\n",
    "\"\"\"\n",
    "Once upon a time in the bustling city of Arcadia , there lived a college student . This student was a junior majoring in computer science at the prestigious Arcadia University . They were a diligent student with a passion for coding and a penchant for exploring the world of technology . One day , as this student was immersed in their studies at the campus library , they stumbled upon an intriguing flyer .\n",
    "\"\"\",\n",
    "\"\"\"\n",
    "Once upon a time in the vibrant college town of Crestwood , there lived a spirited young student named Emily . She was a sophomore at Crestwood University , pursuing a degree in environmental science with dreams of making a positive impact on the planet . Emily was known for her boundless enthusiasm , infectious energy , and a love for exploring the world around her . One crisp autumn day , Emily stumbled upon a flyer for an environmental awareness club called  \"Green Harmony \" on the college bulletin board . Intrigued and passionate about environmental causes , she decided to attend their next meeting . As Emily walked into the meeting room , she was greeted by a diverse group of students who shared her passion for sustainability . The club was planning an ambitious project to transform an unused campus space into a thriving community garden . Emily was immediately captivated by the idea and eagerly joined the efforts . The days turned into weeks as the Green Harmony team worked tirelessly , planning , planting , and nurturing their garden . Emily found herself forming deep connections with her fellow club members as they faced challenges and celebrated victories together . The project not only brought life to the neglected space but also breathed new life into Emily 's college experience . Amidst the busy academic schedule , Emily discovered a sense of purpose beyond textbooks and exams . The garden project became a symbol of unity , showcasing the power of collaboration and the positive impact a group of dedicated individuals could make . As the garden flourished , so did Emily 's personal growth . She learned about sustainable practices , organic gardening , and the importance of community engagement . Her once mundane college routine transformed into a fulfilling journey , where every day brought new lessons and opportunities . Word of the Green Harmony garden spread throughout the campus , attracting attention from both students and faculty . The college recognized the club 's efforts and even awarded them a grant to expand their project . Emily and her friends found themselves at the forefront of a campus -wide movement toward sustainability . Through this journey , Emily discovered not only her passion for environmental science but also her ability to lead and inspire change . The once ordinary college student had become a beacon of hope and inspiration for those around her . As the seasons changed , so did Emily and her friends , leaving behind a legacy of a thriving community garden and a more environmentally conscious campus . The tale of the college student who discovered her purpose in the embrace of nature and community echoed through the years , inspiring future generations of students to dream big and make a difference in the world .\n",
    "\"\"\",\n",
    "\"\"\"\n",
    "Once upon a time in the vibrant college town of Crestwood ,  lived a spirited young student named  .  was a sophomore at Crestwood University , pursuing a degree in environmental science with dreams of making a positive impact on the planet . Emily was known for  boundless enthusiasm , infectious energy , and a love for exploring the world around  . One crisp autumn day , Emily stumbled upon a flyer for an environmental awareness club called   \" Green Harmony \" on the college bulletin board . Intrigued and passionate about environmental causes ,  decided to attend  next meeting . As Emily walked into the meeting room ,  was greeted by a diverse group of students  shared  passion for sustainability . The club was planning an ambitious project to transform an unused campus space into a thriving community garden . Emily was immediately captivated by the idea and eagerly joined the efforts . The days turned into weeks as the   team worked tirelessly , planning , planting , and nurturing  garden . Emily found  forming deep connections with  fellow club members as  faced challenges and celebrated victories together . The project not only brought life to the neglected space but also breathed new life into Emily 's college experience . Amidst the busy academic schedule , Emily discovered a sense of purpose beyond textbooks and exams . The garden project became a symbol of unity , showcasing the power of collaboration and the positive impact a group of dedicated individuals could make . As the garden flourished , so did  's personal growth .  learned about sustainable practices , organic gardening , and the importance of community engagement .  once mundane college routine transformed into a fulfilling journey , where every day brought new lessons and opportunities . Word of the Green Harmony garden spread throughout the campus , attracting attention from both students and faculty . The college recognized the club 's efforts and even awarded  a grant to expand  project . Emily and  friends found  at the forefront of a campus -wide movement toward sustainability . Through this journey , Emily discovered not only  passion for environmental science but also  ability to lead and inspire change . The once ordinary college student had become a beacon of hope and inspiration for  around  . As the seasons changed , so did  and  friends , leaving behind a legacy of a thriving community garden and a more environmentally conscious campus . The tale of the college student  discovered  purpose in the embrace of nature and community echoed through the years , inspiring future generations of students to dream big and make a difference in the world .\n",
    "\"\"\",\n",
    "\"\"\"\n",
    "In the vibrant city of Rivertown , there lived a college student named Jason Harris . Jason was a senior at Rivertown University , majoring in journalism and aspiring to be a storyteller . He had a keen interest in human experiences and a passion for shedding light on untold stories . One day , while perusing the local newspaper , Jason stumbled upon an article about an elderly woman named Mrs . Eleanor Bennett , who had spent decades working as a librarian in the city . Intrigued by the snippet of her life story , Jason felt compelled to dig deeper and share her tale with the world . After some research , Jason learned that Mrs . Bennett had not only been a dedicated librarian but had also been involved in community initiatives , fostering a love for reading among children and organizing events to bring people together . However , her own life story had largely remained in the shadows . Determined to uncover the full narrative , Jason reached out to Mrs . Bennett and asked for an interview . To his surprise , she welcomed the opportunity to share her story , and soon they sat down for a conversation that would unveil a lifetime of experiences . As Jason delved into Mrs . Bennett 's past , he discovered a woman who had overcome personal challenges , witnessed historical events , and touched the lives of many in Rivertown . Her journey was filled with moments of joy , heartbreak , and resilience , making for a compelling narrative that Jason couldn 't wait to share with his readers . With meticulous attention to detail , Jason crafted a feature article that not only highlighted Mrs . Bennett 's contributions to the community but also captured the essence of her character . The story resonated with readers , and the local newspaper received an overwhelming response . Mrs . Bennett became a beloved figure in Rivertown , celebrated for her dedication and the richness of her life story . The success of the article opened doors for Jason , who found himself on the path to becoming a respected journalist . Inspired by Mrs . Bennett 's story , he continued to seek out and share the untold narratives within his community , becoming a storyteller who bridged the gaps between generations . As graduation day approached , Jason reflected on his college journey . His time at Rivertown University had not only provided him with an education but had also instilled in him the power of storytelling to connect people and inspire change . With a heart full of gratitude and a portfolio filled with impactful stories , Jason ventured into the world , ready to make a difference , one narrative at a time .\n",
    "\"\"\",\n",
    "\"\"\"\n",
    "In the vibrant city of Rivertown ,  lived a college student named   .  was a senior at Rivertown University , majoring in journalism and aspiring to be a storyteller .  had a keen interest in human experiences and a passion for shedding light on untold stories . One day , while perusing the local newspaper ,  stumbled upon an article about an elderly woman named  .   ,  had spent decades working as a librarian in the city . Intrigued by the snippet of  life story ,  felt compelled to dig deeper and share  tale with the world . After some research ,  learned that  .  had not only been a dedicated librarian but had also been involved in community initiatives , fostering a love for reading among children and organizing events to bring people together . However ,  own life story had largely remained in the shadows . Determined to uncover the full narrative ,  reached out to  .  and asked for an interview . To  surprise ,  welcomed the opportunity to share  story , and soon  sat down for a conversation  would unveil a lifetime of experiences . As  delved into  .  's past ,  discovered a woman  had overcome personal challenges , witnessed historical events , and touched the lives of many in Rivertown .  journey was filled with moments of joy , heartbreak , and resilience , making for a compelling narrative   couldn ' t wait to share with  readers . With meticulous attention to detail ,  crafted a feature article that not only highlighted  .  's contributions to the community but also captured the essence of  character . The story resonated with readers , and the local newspaper received an overwhelming response . Mrs .  became a beloved figure in Rivertown , celebrated for  dedication and the richness of  life story . The success of the article opened doors for  ,  found  on the path to becoming a respected journalist . Inspired by  .  's story ,  continued to seek out and share the untold narratives within  community , becoming a storyteller  bridged the gaps between generations . As graduation day approached ,  reflected on  college journey .  time at Rivertown University had not only provided  with an education but had also instilled in  the power of storytelling to connect people and inspire change . With a heart full of gratitude and a portfolio filled with impactful stories ,  ventured into the world , ready to make a difference , one narrative at a time .\n",
    "\"\"\",\n",
    "\"\"\"\n",
    "In the bustling town of Summitville , there lived a college man named Lucas Turner . Lucas was a mechanical engineering major at Summitville Tech , known for his passion for building things from the ground up . His college life was a dynamic mix of late -night design sessions , hands -on projects , and a camaraderie with his fellow engineering students . One day , Lucas stumbled upon an old , abandoned workshop on the outskirts of town . The sight of forgotten tools and discarded materials sparked a fire in him . Inspired by the potential of the neglected space , he decided to breathe new life into it and create a collaborative hub for engineering students . Lucas rallied a group of like -minded friends , and together they transformed the workshop into the  \"Innovation Forge . \" It became a haven for students to work on personal projects , exchange ideas , and bring their engineering dreams to life . The space buzzed with the sounds of drills , the clanking of metal , and the hum of 3D printers as students collaborated on everything from robotics to sustainable energy solutions . As the Innovation Forge gained popularity , Lucas and his team decided to organize an annual engineering expo , showcasing the innovative projects that emerged from their workshop . The expo not only attracted students and faculty but also local businesses and industry professionals keen on discovering emerging talent . One year , Lucas and his team developed a prototype for a solar -powered irrigation system designed to help local farmers in Summitville . The project gained attention not only for its engineering prowess but also for its potential to make a real impact in the community . The Innovation Forge became a focal point for collaborative projects that aimed to address real -world challenges . Lucas 's journey through college was not just about earning a degree ; it was about leaving a lasting mark on the engineering community . As graduation approached , the Innovation Forge continued to thrive , and Lucas felt a sense of pride in the legacy he had created . The town of Summitville now had a vibrant hub of innovation , thanks to the hard work and dedication of Lucas Turner . His college experience became a testament to the transformative power of hands -on learning , collaboration , and the drive to make a positive impact on the world through engineering ingenuity .\n",
    "\"\"\",\n",
    "\"\"\"\n",
    "In the bustling town of Summitville ,  lived a college man named   . Lucas was a mechanical engineering major at Summitville Tech , known for  passion for building things from the ground up .  college life was a dynamic mix of late -night design sessions , hands -on projects , and a camaraderie with  fellow engineering students . One day , Lucas stumbled upon an old , abandoned workshop on the outskirts of town . The sight of forgotten tools and discarded materials sparked a fire in  . Inspired by the potential of the neglected space ,  decided to breathe new life into  and create a collaborative hub for engineering students . Lucas rallied a group of like -minded friends , and together  transformed the workshop into the   \" Innovation Forge . \"  became a haven for students to work on personal projects , exchange ideas , and bring  engineering dreams to life . The space buzzed with the sounds of drills , the clanking of metal , and the hum of 3D printers as students collaborated on  from robotics to sustainable energy solutions . As the Innovation Forge gained popularity , Lucas and  team decided to organize an annual engineering expo , showcasing the innovative projects  emerged from  workshop . The expo not only attracted students and faculty but also local businesses and industry professionals keen on discovering emerging talent . One year , Lucas and  team developed a prototype for a solar -powered irrigation system designed to help local farmers in Summitville . The project gained attention not only for  engineering prowess but also for  potential to make a real impact in the community . The Innovation Forge became a focal point for collaborative projects  aimed to address real -world challenges . Lucas 's journey through college was not just about earning a degree ;  was about leaving a lasting mark on the engineering community . As graduation approached , the Innovation Forge continued to thrive , and Lucas felt a sense of pride in the legacy  had created . The town of Summitville now had a vibrant hub of innovation , thanks to the hard work and dedication of Lucas Turner .  college experience became a testament to the transformative power of hands -on learning , collaboration , and the drive to make a positive impact on the world through engineering ingenuity .\n",
    "\"\"\"\n",
    "]\n",
    "vectorizedText = vectorizer.transform(text)\n",
    "textsTransformed = pd.DataFrame(vectorizedText.toarray(), columns=vectorizer.get_feature_names_out())\n",
    "predProb = model.predict_proba(textsTransformed)\n",
    "pred = model.predict(textsTransformed)\n",
    "\n",
    "yActual = [0, 0, 1, 1, 0, 0, 1, 1, 1, 1]\n",
    "explainer = LimeTextExplainer(class_names=['female', 'male'])\n",
    "for i in range(len(pred)):\n",
    "    print(i + 1, \":\")\n",
    "    print(\"Male: \", predProb[i][1])\n",
    "    print(\"Female: \", predProb[i][0])\n",
    "    print(\"Predicted: \", pred[i])\n",
    "    if(yActual[i] == 0):\n",
    "        print(\"Actual: Female\")\n",
    "    else:\n",
    "        print(\"Actual: Male\")\n",
    "        \n",
    "    vectorized_text = vectorizer.transform([text[i]])\n",
    "    predict_function = lambda x: model.predict_proba(vectorizer.transform(x))\n",
    "    explanation = explainer.explain_instance(text[i], predict_function, num_features=20)\n",
    "    top_words_lime = explanation.as_list()\n",
    "    print(f\"Top words for text response {i + 1}:\")\n",
    "    masculineWords = []\n",
    "    feminineWords = []\n",
    "    for word, score in top_words_lime:\n",
    "        if score > 0:\n",
    "            masculineWords.append((word, score))\n",
    "        else:\n",
    "            feminineWords.append((word, score))\n",
    "    print(\"Masculine words: \", masculineWords)\n",
    "    print(\"Feminine words: \", feminineWords)\n",
    "    print(\"\")"
   ]
  }
 ],
 "metadata": {
  "kernelspec": {
   "display_name": "base",
   "language": "python",
   "name": "python3"
  },
  "language_info": {
   "codemirror_mode": {
    "name": "ipython",
    "version": 3
   },
   "file_extension": ".py",
   "mimetype": "text/x-python",
   "name": "python",
   "nbconvert_exporter": "python",
   "pygments_lexer": "ipython3",
   "version": "3.11.4"
  },
  "orig_nbformat": 4,
  "vscode": {
   "interpreter": {
    "hash": "3d31fc6a8204de3b4072b5546421e13825b968bc2d7431df16c61b9e7419f929"
   }
  }
 },
 "nbformat": 4,
 "nbformat_minor": 2
}
