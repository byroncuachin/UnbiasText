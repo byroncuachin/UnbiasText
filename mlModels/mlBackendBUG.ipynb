{
 "cells": [
  {
   "cell_type": "code",
   "execution_count": 2,
   "metadata": {},
   "outputs": [],
   "source": [
    "# pip install nltk\n",
    "# pip install transformers\n",
    "# pip install lime\n",
    "\n",
    "import sys\n",
    "import os\n",
    "\n",
    "import pandas as pd\n",
    "import numpy as np\n",
    "\n",
    "from sklearn.feature_extraction.text import CountVectorizer\n",
    "from sklearn.metrics import accuracy_score, confusion_matrix\n",
    "from sklearn.svm import LinearSVC\n",
    "from sklearn.calibration import CalibratedClassifierCV\n",
    "from sklearn.model_selection import train_test_split\n",
    "from sklearn.ensemble import RandomForestClassifier\n",
    "\n",
    "from lime import lime_text\n",
    "from lime.lime_text import LimeTextExplainer\n",
    "\n",
    "import pickle, re, spacy\n",
    "import xgboost as xgb\n",
    "import tensorflow as tf\n",
    "from transformers import BertTokenizer, TFBertForSequenceClassification\n",
    "import spacy\n",
    "from flask import Flask, request, jsonify\n",
    "from lime import lime_text\n",
    "from lime.lime_text import LimeTextExplainer\n",
    "from spacy.lang.en.stop_words import STOP_WORDS\n",
    "from nltk.stem import PorterStemmer\n",
    "from sklearn.metrics.pairwise import cosine_similarity\n",
    "from gensim.models import KeyedVectors"
   ]
  },
  {
   "cell_type": "code",
   "execution_count": 4,
   "metadata": {},
   "outputs": [],
   "source": [
    "# preprocessing functions\n",
    "# # Preprocessing functions\n",
    "# add space before punctuations\n",
    "\n",
    "app = Flask(__name__)\n",
    "explainer = LimeTextExplainer(class_names=['female', 'male'])\n",
    "stemmer = PorterStemmer()\n",
    "def add_space_before(text):\n",
    "    # regular expression to add space before punctuations\n",
    "    processed_text = re.sub(r'([^\\s\\w])', r' \\1', text)\n",
    "    return processed_text\n",
    "\n",
    "# remove gendered pronounds, names, stop words, and apply stemming\n",
    "def removeUnnecessaryWords(text):\n",
    "    nlp = spacy.load(\"en_core_web_sm\")\n",
    "    doc = nlp(text)\n",
    "\n",
    "    result = \" \".join([\n",
    "        \"\" if (\n",
    "            token.pos_ == \"PRON\" and token.lemma_ not in [\"I\", \"you\"]\n",
    "        ) or (\n",
    "            token.ent_type_ == \"PERSON\" or token.text.lower() in [\"woman\", \"women\", \"man\", \"men\", \"he\", \"she\", \"him\", \"her\"]\n",
    "        ) or (\n",
    "            token.text.lower() in STOP_WORDS\n",
    "        ) else stemmer.stem(token.lemma_) for token in doc])\n",
    "\n",
    "    return result.strip()"
   ]
  },
  {
   "attachments": {},
   "cell_type": "markdown",
   "metadata": {},
   "source": [
    "SVM using BUG dataset"
   ]
  },
  {
   "cell_type": "code",
   "execution_count": 21,
   "metadata": {},
   "outputs": [
    {
     "name": "stdout",
     "output_type": "stream",
     "text": [
      "PREPROCESSING DATA\n",
      "TRAIN 798     final  16 juli  chief   polic  klagenfurt anno...\n",
      "1175    film   , produc  gowri product   ,  music scor...\n",
      "1392    fist day  treatment   ,  patient  abl    limb ...\n",
      "1118    captain   galley   \" sã £ o    \"   ,      , de...\n",
      "1228    patient   # 28   develop fever  home quarantin...\n",
      "                              ...                        \n",
      "1130    follow  6 -week dietari lead -in phase   ,  pa...\n",
      "1294    2011   ,     intern coach   time   ,   ¶w   , ...\n",
      "860     patient  success treat   combin  plasmapheresi...\n",
      "1459    goalscor debut   , barcelona manag   prais mun...\n",
      "1126    initi  architect  matteo di cittã di castello ...\n",
      "Name: sentence_text, Length: 1040, dtype: object\n",
      "TEST 599     child hold  pomegran   hand   ,  symbol  passi...\n",
      "1348    fire  kgo  novemb 2008   engin leav  microphon...\n",
      "135     film   ,  young fighter pilot introduc  song  ...\n",
      "694     irregular menstrual cycl   ,  patient  unclear...\n",
      "240     person address  commend   pieti   ,   warn  fa...\n",
      "                              ...                        \n",
      "101     immens influenti   art   second half   19th ce...\n",
      "1197    mayor   .  appoint  postmast   controversi dec...\n",
      "107     ( 1858 â € \" juli 1905   )   african photograp...\n",
      "1007    clinician    opportun  rectifi  problem   [ 72...\n",
      "1361    highli regard     dentist tell     implant  gu...\n",
      "Name: sentence_text, Length: 257, dtype: object\n"
     ]
    },
    {
     "name": "stderr",
     "output_type": "stream",
     "text": [
      "/Users/byroncuachin/anaconda3/lib/python3.11/site-packages/sklearn/svm/_classes.py:32: FutureWarning: The default value of `dual` will change from `True` to `'auto'` in 1.5. Set the value of `dual` explicitly to suppress the warning.\n",
      "  warnings.warn(\n"
     ]
    }
   ],
   "source": [
    "# load data\n",
    "dataset = pd.read_csv('../datasets/BUG/gold_BUG.csv')\n",
    "train, test = train_test_split(dataset, test_size=0.2, random_state=42)\n",
    "# get samples with only neutral or stereotype sentence\n",
    "train = train[train['stereotype'].isin([0, 1])]\n",
    "test = test[test['stereotype'].isin([0, 1])]\n",
    "\n",
    "# preprocess data\n",
    "print(\"PREPROCESSING DATA\")\n",
    "train['sentence_text'] = train['sentence_text'].apply(add_space_before).apply(removeUnnecessaryWords)\n",
    "test['sentence_text'] = test['sentence_text'].apply(add_space_before).apply(removeUnnecessaryWords)\n",
    "print(\"TRAIN\", train['sentence_text'])\n",
    "print(\"TEST\", test['sentence_text'])\n",
    "\n",
    "vectorizer = CountVectorizer()\n",
    "trainTexts = vectorizer.fit_transform(train['sentence_text'])\n",
    "testTexts = vectorizer.transform(test['sentence_text'])\n",
    "\n",
    "xTrain = pd.DataFrame(trainTexts.toarray(), columns=vectorizer.get_feature_names_out())\n",
    "xTest = pd.DataFrame(testTexts.toarray(), columns=vectorizer.get_feature_names_out())\n",
    "yTrain = train['predicted gender']\n",
    "yTest = test['predicted gender']\n",
    "\n",
    "# train model\n",
    "model = LinearSVC()\n",
    "model.fit(xTrain, yTrain)\n",
    "\n",
    "model = CalibratedClassifierCV(model, method='sigmoid', cv='prefit')\n",
    "model.fit(xTrain, yTrain)\n",
    "\n",
    "with open('../savedModels/svmModel.pkl', 'wb') as model_file:\n",
    "    pickle.dump((model, vectorizer), model_file)"
   ]
  },
  {
   "cell_type": "code",
   "execution_count": 22,
   "metadata": {},
   "outputs": [
    {
     "name": "stdout",
     "output_type": "stream",
     "text": [
      "Accuracy: 0.8521400778210116\n",
      "Confusion matrix:\n",
      " [[ 19  29]\n",
      " [  9 200]]\n"
     ]
    }
   ],
   "source": [
    "# accuracy\n",
    "pred = model.predict(xTest)\n",
    "\n",
    "accuracy = accuracy_score(yTest, pred)\n",
    "print(\"Accuracy:\", accuracy)\n",
    "\n",
    "# confusion matrix\n",
    "cm = confusion_matrix(yTest, pred)\n",
    "print(\"Confusion matrix:\\n\", cm)"
   ]
  },
  {
   "cell_type": "code",
   "execution_count": 23,
   "metadata": {},
   "outputs": [
    {
     "name": "stdout",
     "output_type": "stream",
     "text": [
      "1 :\n",
      "Male:  0.00010151018667889043\n",
      "Female:  0.9998984898133211\n",
      "Predicted:  Female\n",
      "Actual: Female\n"
     ]
    },
    {
     "name": "stderr",
     "output_type": "stream",
     "text": [
      "/Users/byroncuachin/anaconda3/lib/python3.11/site-packages/sklearn/base.py:464: UserWarning: X does not have valid feature names, but LinearSVC was fitted with feature names\n",
      "  warnings.warn(\n"
     ]
    },
    {
     "name": "stdout",
     "output_type": "stream",
     "text": [
      "Top words for text response 1:\n",
      "Masculine words:  [('in', 0.16784448145898015), ('success', 0.1060485291667354), ('instead', 0.07485774435452584), ('time', 0.055928654847194975), ('develop', 0.037598707982474826), ('new', 0.03743953891859474), ('think', 0.037157703825689774), ('end', 0.035420828884542774), ('prize', 0.03352300466424995), ('dedication', 0.027878248466988137)]\n",
      "Feminine words:  [('of', -0.49410816788661044), ('student', -0.31601551173255005), ('Mia', -0.24004766540140787), ('impact', -0.20806484155074614), ('love', -0.06232551456346695), ('power', -0.025861047539943435), ('small', -0.023043332950955567), ('day', -0.010089543046171387), ('Word', -0.009301476820896241), ('fruits', -0.004091221268628665)]\n",
      "\n",
      "2 :\n",
      "Male:  0.03578053637047803\n",
      "Female:  0.9642194636295219\n",
      "Predicted:  Female\n",
      "Actual: Female\n"
     ]
    },
    {
     "name": "stderr",
     "output_type": "stream",
     "text": [
      "/Users/byroncuachin/anaconda3/lib/python3.11/site-packages/sklearn/base.py:464: UserWarning: X does not have valid feature names, but LinearSVC was fitted with feature names\n",
      "  warnings.warn(\n"
     ]
    },
    {
     "name": "stdout",
     "output_type": "stream",
     "text": [
      "Top words for text response 2:\n",
      "Masculine words:  [('in', 0.2208948409810855), ('success', 0.13924898460050372), ('time', 0.07786954033185205), ('instead', 0.07625541698581587), ('hope', 0.0553089179603407), ('come', 0.04434693113386587), ('hand', 0.04323522371084792), ('new', 0.042407701955249955), ('passion', 0.04006048738492008), ('learn', 0.03931408838963436), ('array', 0.03564656562083695)]\n",
      "Feminine words:  [('of', -0.6003722599849535), ('student', -0.4885739244195459), ('impact', -0.2636778567663052), ('love', -0.07124049947039983), ('power', -0.03251009382464544), ('small', -0.02859588501794974), ('day', -0.02308320170671741), ('Word', -0.017991665775622515), ('University', -0.012772341010177057)]\n",
      "\n",
      "3 :\n",
      "Male:  0.4639135382306674\n",
      "Female:  0.5360864617693326\n",
      "Predicted:  Female\n",
      "Actual: Male\n"
     ]
    },
    {
     "name": "stderr",
     "output_type": "stream",
     "text": [
      "/Users/byroncuachin/anaconda3/lib/python3.11/site-packages/sklearn/base.py:464: UserWarning: X does not have valid feature names, but LinearSVC was fitted with feature names\n",
      "  warnings.warn(\n"
     ]
    },
    {
     "name": "stdout",
     "output_type": "stream",
     "text": [
      "Top words for text response 3:\n",
      "Masculine words:  [('in', 0.26455823762922537), ('time', 0.16018876795893874), ('One', 0.028271033158327446), ('passion', 0.02362538525216148), ('junior', 0.01640690357112139), ('intriguing', 0.011420910831789196), ('as', 0.009506169249466368), ('bustling', 0.008589079527807015), ('computer', 0.007052240536983513), ('the', 0.005176410826334747), ('and', 0.005107208273047635)]\n",
      "Feminine words:  [('student', -0.6968124946133076), ('of', -0.11319577423494766), ('day', -0.08178143954230029), ('an', -0.008383433206168403), ('world', -0.008268935558163118), ('campus', -0.007279211689168079), ('city', -0.005263896096640494), ('flyer', -0.004925962075769424), ('penchant', -0.004700055210008556)]\n",
      "\n",
      "4 :\n",
      "Male:  0.00041254865744741486\n",
      "Female:  0.9995874513425526\n",
      "Predicted:  Female\n",
      "Actual: Male\n"
     ]
    },
    {
     "name": "stderr",
     "output_type": "stream",
     "text": [
      "/Users/byroncuachin/anaconda3/lib/python3.11/site-packages/sklearn/base.py:464: UserWarning: X does not have valid feature names, but LinearSVC was fitted with feature names\n",
      "  warnings.warn(\n"
     ]
    },
    {
     "name": "stdout",
     "output_type": "stream",
     "text": [
      "Top words for text response 4:\n",
      "Masculine words:  [('in', 0.010343632372091044), ('time', 0.006959535145720242), ('One', 0.0016969511295350944), ('passion', 0.0010290134024030497), ('coding', 0.0008287210747019788), ('there', 0.0006918309296950025), ('Arcadia', 0.0005720571922151267), ('stumbled', 0.0005462406224167309), ('library', 0.0005149226711141393), ('immersed', 0.0005057909271908547)]\n",
      "Feminine words:  [('student', -0.9864636389656746), ('of', -0.004398544708439524), ('day', -0.003924767584974211), ('were', -0.0010770237261862657), ('flyer', -0.0007138767588632547), ('lived', -0.0007009848110524725), ('this', -0.0006644612134427812), ('bustling', -0.0006366509664858856), ('they', -0.0005938788944944701), ('at', -0.0005040579623090862)]\n",
      "\n",
      "5 :\n",
      "Male:  1.0293681843137464e-05\n",
      "Female:  0.9999897063181569\n",
      "Predicted:  Female\n",
      "Actual: Female\n"
     ]
    },
    {
     "name": "stderr",
     "output_type": "stream",
     "text": [
      "/Users/byroncuachin/anaconda3/lib/python3.11/site-packages/sklearn/base.py:464: UserWarning: X does not have valid feature names, but LinearSVC was fitted with feature names\n",
      "  warnings.warn(\n"
     ]
    },
    {
     "name": "stdout",
     "output_type": "stream",
     "text": [
      "Top words for text response 5:\n",
      "Masculine words:  [('in', 0.14299915664607094), ('time', 0.06948792435562545), ('lead', 0.06301390485660277), ('new', 0.06130045325121815), ('team', 0.049829305039304404), ('conscious', 0.038822440667134264), ('expand', 0.034609783985968354), ('passion', 0.032263626621083195), ('movement', 0.02899887608797622)]\n",
      "Feminine words:  [('student', -0.543998074481364), ('of', -0.23510398459416706), ('impact', -0.11819411297435543), ('life', -0.0802121407239637), ('room', -0.07223968916977144), ('power', -0.04663789443295397), ('love', -0.046133034515264335), ('club', -0.035713757655514315), ('day', -0.035446820822122097), ('board', -0.01874089821881861), ('named', -0.014334493043996756)]\n",
      "\n",
      "6 :\n",
      "Male:  1.0293681843137464e-05\n",
      "Female:  0.9999897063181569\n",
      "Predicted:  Female\n",
      "Actual: Female\n"
     ]
    },
    {
     "name": "stderr",
     "output_type": "stream",
     "text": [
      "/Users/byroncuachin/anaconda3/lib/python3.11/site-packages/sklearn/base.py:464: UserWarning: X does not have valid feature names, but LinearSVC was fitted with feature names\n",
      "  warnings.warn(\n"
     ]
    },
    {
     "name": "stdout",
     "output_type": "stream",
     "text": [
      "Top words for text response 6:\n",
      "Masculine words:  [('in', 0.13256420500037727), ('new', 0.06886661675431491), ('time', 0.056462589214122845), ('team', 0.04818367682644263), ('lead', 0.04772139171525502), ('conscious', 0.04558278026242227), ('expand', 0.03750007084041019), ('passion', 0.029752075107540004), ('journey', 0.028573133618897992), ('young', 0.028336143040121064)]\n",
      "Feminine words:  [('student', -0.553382699966538), ('of', -0.24701456700800045), ('impact', -0.1172333726827235), ('life', -0.07117813972889203), ('room', -0.06919252779148588), ('love', -0.06019243791599931), ('day', -0.051927705219641636), ('power', -0.041452991845982806), ('club', -0.029562666923855695), ('Word', -0.02398632425915734)]\n",
      "\n",
      "7 :\n",
      "Male:  0.9997201576219416\n",
      "Female:  0.000279842378058448\n",
      "Predicted:  Male\n",
      "Actual: Male\n"
     ]
    },
    {
     "name": "stderr",
     "output_type": "stream",
     "text": [
      "/Users/byroncuachin/anaconda3/lib/python3.11/site-packages/sklearn/base.py:464: UserWarning: X does not have valid feature names, but LinearSVC was fitted with feature names\n",
      "  warnings.warn(\n"
     ]
    },
    {
     "name": "stdout",
     "output_type": "stream",
     "text": [
      "Top words for text response 7:\n",
      "Masculine words:  [('in', 0.42161475404564364), ('time', 0.12185671231861342), ('success', 0.1169770528542782), ('local', 0.06867410393366666), ('interview', 0.066986052943321), ('share', 0.05432474654897562), ('In', 0.043938690968905875), ('bring', 0.03710940800747659), ('keen', 0.035672479966010404), ('heart', 0.03493384052666579)]\n",
      "Feminine words:  [('of', -0.16051180193215317), ('life', -0.10168914514672354), ('student', -0.1000744944943365), ('light', -0.0769260795918413), ('journalist', -0.06092682689792174), ('love', -0.053646097192507854), ('day', -0.046512184443728274), ('interest', -0.04032957043618411), ('power', -0.0370734534565606), ('shedding', -0.020248676131184123)]\n",
      "\n",
      "8 :\n",
      "Male:  0.9997201576219416\n",
      "Female:  0.000279842378058448\n",
      "Predicted:  Male\n",
      "Actual: Male\n"
     ]
    },
    {
     "name": "stderr",
     "output_type": "stream",
     "text": [
      "/Users/byroncuachin/anaconda3/lib/python3.11/site-packages/sklearn/base.py:464: UserWarning: X does not have valid feature names, but LinearSVC was fitted with feature names\n",
      "  warnings.warn(\n"
     ]
    },
    {
     "name": "stdout",
     "output_type": "stream",
     "text": [
      "Top words for text response 8:\n",
      "Masculine words:  [('in', 0.4127605989671078), ('time', 0.12130716855094838), ('success', 0.10975568495167257), ('local', 0.06209393413465407), ('share', 0.05765952957182412), ('interview', 0.05398820811430485), ('In', 0.05074526945952506), ('keen', 0.04389417662423809), ('heart', 0.03328257689306341), ('bring', 0.03248936854191634), ('character', 0.02560803053380053)]\n",
      "Feminine words:  [('of', -0.16751611231803626), ('student', -0.12648876976250728), ('life', -0.1092466320833714), ('light', -0.09100802713849462), ('journalist', -0.07003420302760817), ('day', -0.051504016499563335), ('love', -0.04536587555790603), ('interest', -0.0427930545889603), ('power', -0.02498147093269775)]\n",
      "\n",
      "9 :\n",
      "Male:  0.9519687149875187\n",
      "Female:  0.04803128501248133\n",
      "Predicted:  Male\n",
      "Actual: Male\n"
     ]
    },
    {
     "name": "stderr",
     "output_type": "stream",
     "text": [
      "/Users/byroncuachin/anaconda3/lib/python3.11/site-packages/sklearn/base.py:464: UserWarning: X does not have valid feature names, but LinearSVC was fitted with feature names\n",
      "  warnings.warn(\n"
     ]
    },
    {
     "name": "stdout",
     "output_type": "stream",
     "text": [
      "Top words for text response 9:\n",
      "Masculine words:  [('in', 0.3319813333186945), ('team', 0.20530919738035633), ('point', 0.16082034728311498), ('local', 0.1494505145038244), ('keen', 0.10383849402836731), ('work', 0.09526347108209587), ('solar', 0.08809188592834459), ('design', 0.07938666240124265), ('new', 0.06989940405225974), ('town', 0.06884490064713782)]\n",
      "Feminine words:  [('of', -0.3597467831639391), ('life', -0.1914702212737775), ('impact', -0.18397627453580961), ('up', -0.11389055648131191), ('mark', -0.07223430815030914), ('late', -0.06659482934167288), ('ground', -0.06609396252560543), ('focal', -0.06020482752647419), ('like', -0.05916354951107339), ('power', -0.05127104395100955)]\n",
      "\n",
      "10 :\n",
      "Male:  0.9519687149875187\n",
      "Female:  0.04803128501248133\n",
      "Predicted:  Male\n",
      "Actual: Male\n",
      "Top words for text response 10:\n",
      "Masculine words:  [('in', 0.33952895451559983), ('team', 0.1974735173607874), ('point', 0.1679523042501242), ('local', 0.13525823035677462), ('work', 0.08890591641093085), ('keen', 0.0875348383012323), ('solar', 0.07885131936826328), ('design', 0.0781875558049618), ('In', 0.07728947467905657), ('workshop', 0.06773160209980422), ('bring', 0.06529087964009224)]\n",
      "Feminine words:  [('of', -0.3626438149148257), ('life', -0.19530859303883885), ('impact', -0.16765016194284255), ('up', -0.10423876676173667), ('mark', -0.08921863637136929), ('late', -0.07762981587884155), ('focal', -0.07536708046917513), ('ground', -0.07398124134383066), ('power', -0.06643797452376307)]\n",
      "\n"
     ]
    },
    {
     "name": "stderr",
     "output_type": "stream",
     "text": [
      "/Users/byroncuachin/anaconda3/lib/python3.11/site-packages/sklearn/base.py:464: UserWarning: X does not have valid feature names, but LinearSVC was fitted with feature names\n",
      "  warnings.warn(\n"
     ]
    }
   ],
   "source": [
    "text = [\n",
    "\"\"\"\n",
    "Once upon a time in the vibrant city of Harmonyville , there lived a college student named Mia Rodriguez . Mia was a junior majoring in environmental science at Rivertide University . Her love for nature and a deep sense of responsibility towards the planet fueled her determination to make a positive impact . One sunny afternoon , Mia stumbled upon a notice about the annual Green Innovation Challenge —an event where students could pitch eco -friendly projects to a panel of environmental experts . Inspired and eager to contribute , Mia decided to develop a sustainable urban gardening initiative called  \"GreenHaven . \" With her hands in the soil and a heart full of passion , Mia transformed an unused corner of the campus into a thriving community garden . She envisioned GreenHaven as a place where students could come together , learn about sustainable agriculture , and cultivate their own fruits and vegetables . Mia believed that this initiative could not only promote environmental consciousness but also foster a sense of community among her peers . As the garden flourished , so did Mia 's connection with her fellow students . The project became a hub of creativity , where ideas for sustainable living blossomed alongside the vibrant array of fruits and vegetables . Mia 's dedication and leadership drew the attention of both students and faculty alike . When the day of the Green Innovation Challenge arrived , Mia nervously but proudly presented GreenHaven to the panel of judges . The vision , dedication , and positive impact of her project resonated deeply , earning her the first prize and a scholarship for further environmental studies . Word of Mia 's success spread , and GreenHaven became a symbol of sustainable living on campus . Mia 's journey didn 't end with the competition ; instead , it marked the beginning of a new chapter . With the scholarship in hand , Mia continued her studies , conducting research on innovative ways to create sustainable urban environments . As Mia graduated from Rivertide University , she left behind a legacy of green initiatives and a campus that had been transformed by the power of community and sustainability . GreenHaven continued to thrive , inspiring future generations of students to think creatively about environmental issues . Mia 's story became a beacon of hope , showing that even a single college student with a passion for change could make a lasting impact on the world . And so , as Mia embarked on her journey beyond college , she carried with her not just a degree but the knowledge that small , meaningful actions could ripple into waves of positive transformation for the planet and its people .\n",
    "\"\"\",\n",
    "\"\"\"\n",
    "Once upon a time in the vibrant city of Harmonyville ,  lived a college student named   .  was a junior majoring in environmental science at Rivertide University .  love for nature and a deep sense of responsibility towards the planet fueled  determination to make a positive impact . One sunny afternoon ,  stumbled upon a notice about the annual Green Innovation Challenge — an event where students could pitch eco -friendly projects to a panel of environmental experts . Inspired and eager to contribute ,  decided to develop a sustainable urban gardening initiative called   \" GreenHaven . \" With  hands in the soil and a heart full of passion ,  transformed an unused corner of the campus into a thriving community garden .  envisioned GreenHaven as a place where students could come together , learn about sustainable agriculture , and cultivate  own fruits and vegetables .  believed that this initiative could not only promote environmental consciousness but also foster a sense of community among  peers . As the garden flourished , so did  's connection with  fellow students . The project became a hub of creativity , where ideas for sustainable living blossomed alongside the vibrant array of fruits and vegetables .  's dedication and leadership drew the attention of both students and faculty alike . When the day of the Green Innovation Challenge arrived ,  nervously but proudly presented GreenHaven to the panel of judges . The vision , dedication , and positive impact of  project resonated deeply , earning  the first prize and a scholarship for further environmental studies . Word of  's success spread , and  became a symbol of sustainable living on campus .  's    t end with the competition ; instead ,  marked the beginning of a new chapter . With the scholarship in hand ,  continued  studies , conducting research on innovative ways to create sustainable urban environments . As  graduated from Rivertide University ,  left behind a legacy of green initiatives and a campus  had been transformed by the power of community and sustainability . GreenHaven continued to thrive , inspiring future generations of students to think creatively about environmental issues .  's story became a beacon of hope , showing that even a single college student with a passion for change could make a lasting impact on the world . And so , as  embarked on  journey beyond college ,  carried with  not just a degree but the knowledge  small , meaningful actions could ripple into waves of positive transformation for the planet and  people .\n",
    "\"\"\",\n",
    "\"\"\"\n",
    "Once upon a time in the bustling city of Arcadia , there lived a college student named Alex Reynolds . Alex was a junior majoring in computer science at the prestigious Arcadia University . He was a diligent student with a passion for coding and a penchant for exploring the world of technology . One day , as Alex was immersed in his studies at the campus library , he stumbled upon an intriguing flyer .\n",
    "\"\"\",\n",
    "\"\"\"\n",
    "Once upon a time in the bustling city of Arcadia , there lived a college student . This student was a junior majoring in computer science at the prestigious Arcadia University . They were a diligent student with a passion for coding and a penchant for exploring the world of technology . One day , as this student was immersed in their studies at the campus library , they stumbled upon an intriguing flyer .\n",
    "\"\"\",\n",
    "\"\"\"\n",
    "Once upon a time in the vibrant college town of Crestwood , there lived a spirited young student named Emily . She was a sophomore at Crestwood University , pursuing a degree in environmental science with dreams of making a positive impact on the planet . Emily was known for her boundless enthusiasm , infectious energy , and a love for exploring the world around her . One crisp autumn day , Emily stumbled upon a flyer for an environmental awareness club called  \"Green Harmony \" on the college bulletin board . Intrigued and passionate about environmental causes , she decided to attend their next meeting . As Emily walked into the meeting room , she was greeted by a diverse group of students who shared her passion for sustainability . The club was planning an ambitious project to transform an unused campus space into a thriving community garden . Emily was immediately captivated by the idea and eagerly joined the efforts . The days turned into weeks as the Green Harmony team worked tirelessly , planning , planting , and nurturing their garden . Emily found herself forming deep connections with her fellow club members as they faced challenges and celebrated victories together . The project not only brought life to the neglected space but also breathed new life into Emily 's college experience . Amidst the busy academic schedule , Emily discovered a sense of purpose beyond textbooks and exams . The garden project became a symbol of unity , showcasing the power of collaboration and the positive impact a group of dedicated individuals could make . As the garden flourished , so did Emily 's personal growth . She learned about sustainable practices , organic gardening , and the importance of community engagement . Her once mundane college routine transformed into a fulfilling journey , where every day brought new lessons and opportunities . Word of the Green Harmony garden spread throughout the campus , attracting attention from both students and faculty . The college recognized the club 's efforts and even awarded them a grant to expand their project . Emily and her friends found themselves at the forefront of a campus -wide movement toward sustainability . Through this journey , Emily discovered not only her passion for environmental science but also her ability to lead and inspire change . The once ordinary college student had become a beacon of hope and inspiration for those around her . As the seasons changed , so did Emily and her friends , leaving behind a legacy of a thriving community garden and a more environmentally conscious campus . The tale of the college student who discovered her purpose in the embrace of nature and community echoed through the years , inspiring future generations of students to dream big and make a difference in the world .\n",
    "\"\"\",\n",
    "\"\"\"\n",
    "Once upon a time in the vibrant college town of Crestwood ,  lived a spirited young student named  .  was a sophomore at Crestwood University , pursuing a degree in environmental science with dreams of making a positive impact on the planet . Emily was known for  boundless enthusiasm , infectious energy , and a love for exploring the world around  . One crisp autumn day , Emily stumbled upon a flyer for an environmental awareness club called   \" Green Harmony \" on the college bulletin board . Intrigued and passionate about environmental causes ,  decided to attend  next meeting . As Emily walked into the meeting room ,  was greeted by a diverse group of students  shared  passion for sustainability . The club was planning an ambitious project to transform an unused campus space into a thriving community garden . Emily was immediately captivated by the idea and eagerly joined the efforts . The days turned into weeks as the   team worked tirelessly , planning , planting , and nurturing  garden . Emily found  forming deep connections with  fellow club members as  faced challenges and celebrated victories together . The project not only brought life to the neglected space but also breathed new life into Emily 's college experience . Amidst the busy academic schedule , Emily discovered a sense of purpose beyond textbooks and exams . The garden project became a symbol of unity , showcasing the power of collaboration and the positive impact a group of dedicated individuals could make . As the garden flourished , so did  's personal growth .  learned about sustainable practices , organic gardening , and the importance of community engagement .  once mundane college routine transformed into a fulfilling journey , where every day brought new lessons and opportunities . Word of the Green Harmony garden spread throughout the campus , attracting attention from both students and faculty . The college recognized the club 's efforts and even awarded  a grant to expand  project . Emily and  friends found  at the forefront of a campus -wide movement toward sustainability . Through this journey , Emily discovered not only  passion for environmental science but also  ability to lead and inspire change . The once ordinary college student had become a beacon of hope and inspiration for  around  . As the seasons changed , so did  and  friends , leaving behind a legacy of a thriving community garden and a more environmentally conscious campus . The tale of the college student  discovered  purpose in the embrace of nature and community echoed through the years , inspiring future generations of students to dream big and make a difference in the world .\n",
    "\"\"\",\n",
    "\"\"\"\n",
    "In the vibrant city of Rivertown , there lived a college student named Jason Harris . Jason was a senior at Rivertown University , majoring in journalism and aspiring to be a storyteller . He had a keen interest in human experiences and a passion for shedding light on untold stories . One day , while perusing the local newspaper , Jason stumbled upon an article about an elderly woman named Mrs . Eleanor Bennett , who had spent decades working as a librarian in the city . Intrigued by the snippet of her life story , Jason felt compelled to dig deeper and share her tale with the world . After some research , Jason learned that Mrs . Bennett had not only been a dedicated librarian but had also been involved in community initiatives , fostering a love for reading among children and organizing events to bring people together . However , her own life story had largely remained in the shadows . Determined to uncover the full narrative , Jason reached out to Mrs . Bennett and asked for an interview . To his surprise , she welcomed the opportunity to share her story , and soon they sat down for a conversation that would unveil a lifetime of experiences . As Jason delved into Mrs . Bennett 's past , he discovered a woman who had overcome personal challenges , witnessed historical events , and touched the lives of many in Rivertown . Her journey was filled with moments of joy , heartbreak , and resilience , making for a compelling narrative that Jason couldn 't wait to share with his readers . With meticulous attention to detail , Jason crafted a feature article that not only highlighted Mrs . Bennett 's contributions to the community but also captured the essence of her character . The story resonated with readers , and the local newspaper received an overwhelming response . Mrs . Bennett became a beloved figure in Rivertown , celebrated for her dedication and the richness of her life story . The success of the article opened doors for Jason , who found himself on the path to becoming a respected journalist . Inspired by Mrs . Bennett 's story , he continued to seek out and share the untold narratives within his community , becoming a storyteller who bridged the gaps between generations . As graduation day approached , Jason reflected on his college journey . His time at Rivertown University had not only provided him with an education but had also instilled in him the power of storytelling to connect people and inspire change . With a heart full of gratitude and a portfolio filled with impactful stories , Jason ventured into the world , ready to make a difference , one narrative at a time .\n",
    "\"\"\",\n",
    "\"\"\"\n",
    "In the vibrant city of Rivertown ,  lived a college student named   .  was a senior at Rivertown University , majoring in journalism and aspiring to be a storyteller .  had a keen interest in human experiences and a passion for shedding light on untold stories . One day , while perusing the local newspaper ,  stumbled upon an article about an elderly woman named  .   ,  had spent decades working as a librarian in the city . Intrigued by the snippet of  life story ,  felt compelled to dig deeper and share  tale with the world . After some research ,  learned that  .  had not only been a dedicated librarian but had also been involved in community initiatives , fostering a love for reading among children and organizing events to bring people together . However ,  own life story had largely remained in the shadows . Determined to uncover the full narrative ,  reached out to  .  and asked for an interview . To  surprise ,  welcomed the opportunity to share  story , and soon  sat down for a conversation  would unveil a lifetime of experiences . As  delved into  .  's past ,  discovered a woman  had overcome personal challenges , witnessed historical events , and touched the lives of many in Rivertown .  journey was filled with moments of joy , heartbreak , and resilience , making for a compelling narrative   couldn ' t wait to share with  readers . With meticulous attention to detail ,  crafted a feature article that not only highlighted  .  's contributions to the community but also captured the essence of  character . The story resonated with readers , and the local newspaper received an overwhelming response . Mrs .  became a beloved figure in Rivertown , celebrated for  dedication and the richness of  life story . The success of the article opened doors for  ,  found  on the path to becoming a respected journalist . Inspired by  .  's story ,  continued to seek out and share the untold narratives within  community , becoming a storyteller  bridged the gaps between generations . As graduation day approached ,  reflected on  college journey .  time at Rivertown University had not only provided  with an education but had also instilled in  the power of storytelling to connect people and inspire change . With a heart full of gratitude and a portfolio filled with impactful stories ,  ventured into the world , ready to make a difference , one narrative at a time .\n",
    "\"\"\",\n",
    "\"\"\"\n",
    "In the bustling town of Summitville , there lived a college man named Lucas Turner . Lucas was a mechanical engineering major at Summitville Tech , known for his passion for building things from the ground up . His college life was a dynamic mix of late -night design sessions , hands -on projects , and a camaraderie with his fellow engineering students . One day , Lucas stumbled upon an old , abandoned workshop on the outskirts of town . The sight of forgotten tools and discarded materials sparked a fire in him . Inspired by the potential of the neglected space , he decided to breathe new life into it and create a collaborative hub for engineering students . Lucas rallied a group of like -minded friends , and together they transformed the workshop into the  \"Innovation Forge . \" It became a haven for students to work on personal projects , exchange ideas , and bring their engineering dreams to life . The space buzzed with the sounds of drills , the clanking of metal , and the hum of 3D printers as students collaborated on everything from robotics to sustainable energy solutions . As the Innovation Forge gained popularity , Lucas and his team decided to organize an annual engineering expo , showcasing the innovative projects that emerged from their workshop . The expo not only attracted students and faculty but also local businesses and industry professionals keen on discovering emerging talent . One year , Lucas and his team developed a prototype for a solar -powered irrigation system designed to help local farmers in Summitville . The project gained attention not only for its engineering prowess but also for its potential to make a real impact in the community . The Innovation Forge became a focal point for collaborative projects that aimed to address real -world challenges . Lucas 's journey through college was not just about earning a degree ; it was about leaving a lasting mark on the engineering community . As graduation approached , the Innovation Forge continued to thrive , and Lucas felt a sense of pride in the legacy he had created . The town of Summitville now had a vibrant hub of innovation , thanks to the hard work and dedication of Lucas Turner . His college experience became a testament to the transformative power of hands -on learning , collaboration , and the drive to make a positive impact on the world through engineering ingenuity .\n",
    "\"\"\",\n",
    "\"\"\"\n",
    "In the bustling town of Summitville ,  lived a college man named   . Lucas was a mechanical engineering major at Summitville Tech , known for  passion for building things from the ground up .  college life was a dynamic mix of late -night design sessions , hands -on projects , and a camaraderie with  fellow engineering students . One day , Lucas stumbled upon an old , abandoned workshop on the outskirts of town . The sight of forgotten tools and discarded materials sparked a fire in  . Inspired by the potential of the neglected space ,  decided to breathe new life into  and create a collaborative hub for engineering students . Lucas rallied a group of like -minded friends , and together  transformed the workshop into the   \" Innovation Forge . \"  became a haven for students to work on personal projects , exchange ideas , and bring  engineering dreams to life . The space buzzed with the sounds of drills , the clanking of metal , and the hum of 3D printers as students collaborated on  from robotics to sustainable energy solutions . As the Innovation Forge gained popularity , Lucas and  team decided to organize an annual engineering expo , showcasing the innovative projects  emerged from  workshop . The expo not only attracted students and faculty but also local businesses and industry professionals keen on discovering emerging talent . One year , Lucas and  team developed a prototype for a solar -powered irrigation system designed to help local farmers in Summitville . The project gained attention not only for  engineering prowess but also for  potential to make a real impact in the community . The Innovation Forge became a focal point for collaborative projects  aimed to address real -world challenges . Lucas 's journey through college was not just about earning a degree ;  was about leaving a lasting mark on the engineering community . As graduation approached , the Innovation Forge continued to thrive , and Lucas felt a sense of pride in the legacy  had created . The town of Summitville now had a vibrant hub of innovation , thanks to the hard work and dedication of Lucas Turner .  college experience became a testament to the transformative power of hands -on learning , collaboration , and the drive to make a positive impact on the world through engineering ingenuity .\n",
    "\"\"\"\n",
    "]\n",
    "vectorizedText = vectorizer.transform(text)\n",
    "textsTransformed = pd.DataFrame(vectorizedText.toarray(), columns=vectorizer.get_feature_names_out())\n",
    "predProb = model.predict_proba(textsTransformed)\n",
    "pred = model.predict(textsTransformed)\n",
    "\n",
    "yActual = [0, 0, 1, 1, 0, 0, 1, 1, 1, 1]\n",
    "explainer = LimeTextExplainer(class_names=['female', 'male'])\n",
    "for i in range(len(pred)):\n",
    "    print(i + 1, \":\")\n",
    "    print(\"Male: \", predProb[i][1])\n",
    "    print(\"Female: \", predProb[i][0])\n",
    "    print(\"Predicted: \", pred[i])\n",
    "    if(yActual[i] == 0):\n",
    "        print(\"Actual: Female\")\n",
    "    else:\n",
    "        print(\"Actual: Male\")\n",
    "    \n",
    "    vectorized_text = vectorizer.transform([text[i]])\n",
    "    predict_function = lambda x: model.predict_proba(vectorizer.transform(x))\n",
    "    explanation = explainer.explain_instance(text[i], predict_function, num_features=20)\n",
    "    top_words_lime = explanation.as_list()\n",
    "    print(f\"Top words for text response {i + 1}:\")\n",
    "    masculineWords = []\n",
    "    feminineWords = []\n",
    "    for word, score in top_words_lime:\n",
    "        if score > 0:\n",
    "            masculineWords.append((word, score))\n",
    "        else:\n",
    "            feminineWords.append((word, score))\n",
    "    print(\"Masculine words: \", masculineWords)\n",
    "    print(\"Feminine words: \", feminineWords)\n",
    "    print(\"\")\n",
    "\n",
    "\n",
    "\n"
   ]
  },
  {
   "attachments": {},
   "cell_type": "markdown",
   "metadata": {},
   "source": [
    "Random Forest Using BUG Dataset"
   ]
  },
  {
   "cell_type": "code",
   "execution_count": 24,
   "metadata": {},
   "outputs": [
    {
     "name": "stdout",
     "output_type": "stream",
     "text": [
      "PREPROCESSING DATA\n",
      "TRAIN 798     final  16 juli  chief   polic  klagenfurt anno...\n",
      "1175    film   , produc  gowri product   ,  music scor...\n",
      "1392    fist day  treatment   ,  patient  abl    limb ...\n",
      "1118    captain   galley   \" sã £ o    \"   ,      , de...\n",
      "1228    patient   # 28   develop fever  home quarantin...\n",
      "                              ...                        \n",
      "1130    follow  6 -week dietari lead -in phase   ,  pa...\n",
      "1294    2011   ,     intern coach   time   ,   ¶w   , ...\n",
      "860     patient  success treat   combin  plasmapheresi...\n",
      "1459    goalscor debut   , barcelona manag   prais mun...\n",
      "1126    initi  architect  matteo di cittã di castello ...\n",
      "Name: sentence_text, Length: 1040, dtype: object\n",
      "TEST 599     child hold  pomegran   hand   ,  symbol  passi...\n",
      "1348    fire  kgo  novemb 2008   engin leav  microphon...\n",
      "135     film   ,  young fighter pilot introduc  song  ...\n",
      "694     irregular menstrual cycl   ,  patient  unclear...\n",
      "240     person address  commend   pieti   ,   warn  fa...\n",
      "                              ...                        \n",
      "101     immens influenti   art   second half   19th ce...\n",
      "1197    mayor   .  appoint  postmast   controversi dec...\n",
      "107     ( 1858 â € \" juli 1905   )   african photograp...\n",
      "1007    clinician    opportun  rectifi  problem   [ 72...\n",
      "1361    highli regard     dentist tell     implant  gu...\n",
      "Name: sentence_text, Length: 257, dtype: object\n"
     ]
    }
   ],
   "source": [
    "# load data\n",
    "dataset = pd.read_csv('../datasets/BUG/gold_BUG.csv')\n",
    "train, test = train_test_split(dataset, test_size=0.2, random_state=42)\n",
    "# get samples with only neutral or stereotype sentence\n",
    "train = train[train['stereotype'].isin([0, 1])]\n",
    "test = test[test['stereotype'].isin([0, 1])]\n",
    "\n",
    "# preprocess data\n",
    "print(\"PREPROCESSING DATA\")\n",
    "train['sentence_text'] = train['sentence_text'].apply(add_space_before).apply(removeUnnecessaryWords)\n",
    "test['sentence_text'] = test['sentence_text'].apply(add_space_before).apply(removeUnnecessaryWords)\n",
    "print(\"TRAIN\", train['sentence_text'])\n",
    "print(\"TEST\", test['sentence_text'])\n",
    "\n",
    "# vectorize data\n",
    "vectorizer = CountVectorizer()\n",
    "trainTexts = vectorizer.fit_transform(train['sentence_text'])\n",
    "testTexts = vectorizer.transform(test['sentence_text'])\n",
    "\n",
    "xTrain = pd.DataFrame(trainTexts.toarray(), columns=vectorizer.get_feature_names_out())\n",
    "xTest = pd.DataFrame(testTexts.toarray(), columns=vectorizer.get_feature_names_out())\n",
    "yTrain = train['predicted gender']\n",
    "yTest = test['predicted gender']\n",
    "\n",
    "# train model\n",
    "model = RandomForestClassifier(n_estimators=100, random_state=42)\n",
    "model.fit(xTrain, yTrain)\n",
    "\n",
    "with open('../savedModels/randomForestModel.pkl', 'wb') as model_file:\n",
    "    pickle.dump((model, vectorizer), model_file)"
   ]
  },
  {
   "cell_type": "code",
   "execution_count": 25,
   "metadata": {},
   "outputs": [
    {
     "name": "stdout",
     "output_type": "stream",
     "text": [
      "Accuracy: 0.8404669260700389\n",
      "Confusion matrix:\n",
      " [[  9  39]\n",
      " [  2 207]]\n"
     ]
    }
   ],
   "source": [
    "# accuracy\n",
    "pred = model.predict(xTest)\n",
    "\n",
    "accuracy = accuracy_score(yTest, pred)\n",
    "print(\"Accuracy:\", accuracy)\n",
    "\n",
    "# confusion matrix\n",
    "cm = confusion_matrix(yTest, pred)\n",
    "print(\"Confusion matrix:\\n\", cm)"
   ]
  },
  {
   "cell_type": "code",
   "execution_count": 26,
   "metadata": {},
   "outputs": [
    {
     "name": "stdout",
     "output_type": "stream",
     "text": [
      "1 :\n",
      "Male:  0.52\n",
      "Female:  0.48\n",
      "Predicted:  Male\n",
      "Actual: Female\n"
     ]
    },
    {
     "name": "stderr",
     "output_type": "stream",
     "text": [
      "/Users/byroncuachin/anaconda3/lib/python3.11/site-packages/sklearn/base.py:464: UserWarning: X does not have valid feature names, but RandomForestClassifier was fitted with feature names\n",
      "  warnings.warn(\n"
     ]
    },
    {
     "name": "stdout",
     "output_type": "stream",
     "text": [
      "Top words for text response 1:\n",
      "Masculine words:  [('time', 0.00927089278924466), ('develop', 0.007428537396026901), ('end', 0.007021843137478775), ('new', 0.006926128327087234), ('research', 0.006694003925181444), ('hand', 0.006204821990946373), ('left', 0.004139101336736421), ('array', 0.002289186586949232)]\n",
      "Feminine words:  [('student', -0.21376884559377704), ('impact', -0.06951558281722608), ('small', -0.058355220513086954), ('power', -0.03220018244970204), ('Mia', -0.02719209727124276), ('Word', -0.02154162997852734), ('love', -0.01282924299116249), ('place', -0.006305989040283224), ('day', -0.004147303816270619), ('towards', -0.002086317198364583), ('spread', -0.002047637143273982), ('faculty', -0.002046249482503989)]\n",
      "\n",
      "2 :\n",
      "Male:  0.54\n",
      "Female:  0.46\n",
      "Predicted:  Male\n",
      "Actual: Female\n"
     ]
    },
    {
     "name": "stderr",
     "output_type": "stream",
     "text": [
      "/Users/byroncuachin/anaconda3/lib/python3.11/site-packages/sklearn/base.py:464: UserWarning: X does not have valid feature names, but RandomForestClassifier was fitted with feature names\n",
      "  warnings.warn(\n"
     ]
    },
    {
     "name": "stdout",
     "output_type": "stream",
     "text": [
      "Top words for text response 2:\n",
      "Masculine words:  [('time', 0.008709211916261), ('develop', 0.0073515294863326025), ('hand', 0.007171301907474633), ('end', 0.007098561525220502), ('new', 0.004773462498642545), ('left', 0.004679254737176837), ('heart', 0.003283001429299799), ('blossomed', 0.0029351455260106084), ('of', 0.002388547909575502)]\n",
      "Feminine words:  [('student', -0.21221981413366292), ('impact', -0.07098389382712726), ('small', -0.0656962388742452), ('power', -0.031368434508664444), ('Word', -0.020229868878014843), ('love', -0.012185351987118261), ('place', -0.006949046036416054), ('day', -0.004344097924809001), ('Inspired', -0.0019651890258904634), ('also', -0.0019094703377027272), ('generations', -0.0013649981771274796)]\n",
      "\n",
      "3 :\n",
      "Male:  0.69\n",
      "Female:  0.31\n",
      "Predicted:  Male\n",
      "Actual: Male\n"
     ]
    },
    {
     "name": "stderr",
     "output_type": "stream",
     "text": [
      "/Users/byroncuachin/anaconda3/lib/python3.11/site-packages/sklearn/base.py:464: UserWarning: X does not have valid feature names, but RandomForestClassifier was fitted with feature names\n",
      "  warnings.warn(\n"
     ]
    },
    {
     "name": "stdout",
     "output_type": "stream",
     "text": [
      "Top words for text response 3:\n",
      "Masculine words:  [('time', 0.009980458741336427), ('exploring', 0.0003481429049362341), ('penchant', 0.00021138169888605684), ('upon', 0.0001547907086509868), ('immersed', 0.00010839431308189119), ('stumbled', 0.00010758634716467531), ('at', 0.0001064023437135106), ('his', 7.557237318744593e-05), ('of', 7.02415534484977e-05)]\n",
      "Feminine words:  [('student', -0.28449943634371755), ('day', -0.018207610641003142), ('world', -0.0017643934788704665), ('diligent', -0.0002862061284626344), ('computer', -0.00022957546826660996), ('junior', -0.00017751713913217903), ('the', -0.00015427248362366756), ('coding', -0.00015326719642085008), ('and', -0.00014606398350918969), ('intriguing', -0.00014604042292088755), ('prestigious', -0.00012566503489686557)]\n",
      "\n",
      "4 :\n",
      "Male:  0.67\n",
      "Female:  0.33\n",
      "Predicted:  Male\n",
      "Actual: Male\n"
     ]
    },
    {
     "name": "stderr",
     "output_type": "stream",
     "text": [
      "/Users/byroncuachin/anaconda3/lib/python3.11/site-packages/sklearn/base.py:464: UserWarning: X does not have valid feature names, but RandomForestClassifier was fitted with feature names\n",
      "  warnings.warn(\n"
     ]
    },
    {
     "name": "stdout",
     "output_type": "stream",
     "text": [
      "Top words for text response 4:\n",
      "Masculine words:  [('time', 0.009954949900091123), ('they', 0.0002424929565764422), ('an', 0.00014957927965622266), ('stumbled', 0.00012789454990082963), ('for', 0.00010773042295127337), ('at', 8.67036995502618e-05), ('This', 8.303136965308226e-05)]\n",
      "Feminine words:  [('student', -0.3045247676646713), ('day', -0.017822208619284265), ('world', -0.0014972983113197911), ('One', -0.0002673781571674218), ('of', -0.0002443480018049281), ('library', -0.0002332032155704052), ('campus', -0.00019937294021922804), ('passion', -0.0001572316905372197), ('was', -0.00015057004385472624), ('studies', -0.0001492352311188289), ('junior', -0.0001289359602041608), ('in', -0.00011405215702162537), ('city', -0.00010390654196305228)]\n",
      "\n",
      "5 :\n",
      "Male:  0.51\n",
      "Female:  0.49\n",
      "Predicted:  Male\n",
      "Actual: Female\n"
     ]
    },
    {
     "name": "stderr",
     "output_type": "stream",
     "text": [
      "/Users/byroncuachin/anaconda3/lib/python3.11/site-packages/sklearn/base.py:464: UserWarning: X does not have valid feature names, but RandomForestClassifier was fitted with feature names\n",
      "  warnings.warn(\n"
     ]
    },
    {
     "name": "stdout",
     "output_type": "stream",
     "text": [
      "Top words for text response 5:\n",
      "Masculine words:  [('time', 0.010896227947357475), ('had', 0.003543613471378731), ('world', 0.0033478233784690636), ('project', 0.002461200166370664), ('new', 0.0024342104211970135)]\n",
      "Feminine words:  [('student', -0.17852615855022388), ('impact', -0.056017322328403736), ('day', -0.03951266571226547), ('room', -0.03757754736457982), ('Word', -0.036826657776227505), ('power', -0.0312412267119105), ('life', -0.010896826933247073), ('love', -0.005272151374702828), ('young', -0.003757984261138548), ('board', -0.0024633769811521263), ('expand', -0.002296876700568217), ('turned', -0.0018791087186872967), ('those', -0.001849861523108184), ('every', -0.0016297425068684803), ('learned', -0.0016106197087998185)]\n",
      "\n",
      "6 :\n",
      "Male:  0.51\n",
      "Female:  0.49\n",
      "Predicted:  Male\n",
      "Actual: Female\n"
     ]
    },
    {
     "name": "stderr",
     "output_type": "stream",
     "text": [
      "/Users/byroncuachin/anaconda3/lib/python3.11/site-packages/sklearn/base.py:464: UserWarning: X does not have valid feature names, but RandomForestClassifier was fitted with feature names\n",
      "  warnings.warn(\n"
     ]
    },
    {
     "name": "stdout",
     "output_type": "stream",
     "text": [
      "Top words for text response 6:\n",
      "Masculine words:  [('time', 0.01068692742805908), ('dreams', 0.003936071978282219), ('degree', 0.0028396348277235496), ('nurturing', 0.0027427963323182264), ('world', 0.002197701990122575), ('expand', 0.002121362342281108), ('connections', 0.002086569748129786), ('days', 0.0018673553860885641), ('this', 0.001804434523246125)]\n",
      "Feminine words:  [('student', -0.17792643447826792), ('impact', -0.05480046236942316), ('room', -0.04255717216720842), ('day', -0.03882315469445327), ('Word', -0.03602825604390915), ('power', -0.031092164426108664), ('life', -0.009989378227169523), ('love', -0.006038399927817068), ('idea', -0.0055078872337332154), ('young', -0.005305932285572062), ('change', -0.0024747377567349463)]\n",
      "\n",
      "7 :\n",
      "Male:  0.5\n",
      "Female:  0.5\n",
      "Predicted:  Female\n",
      "Actual: Male\n"
     ]
    },
    {
     "name": "stderr",
     "output_type": "stream",
     "text": [
      "/Users/byroncuachin/anaconda3/lib/python3.11/site-packages/sklearn/base.py:464: UserWarning: X does not have valid feature names, but RandomForestClassifier was fitted with feature names\n",
      "  warnings.warn(\n"
     ]
    },
    {
     "name": "stdout",
     "output_type": "stream",
     "text": [
      "Top words for text response 7:\n",
      "Masculine words:  [('time', 0.010990950861302477), ('world', 0.004684324976226233), ('bring', 0.002893026211102834), ('spent', 0.001660331363726208), ('heart', 0.0015367250284355081), ('within', 0.0011516548598955669), ('seek', 0.0010572914339068394), ('ventured', 0.0010515743550113922)]\n",
      "Feminine words:  [('student', -0.2273665622144489), ('day', -0.05965778185869973), ('journalist', -0.0532455437972501), ('interest', -0.04357034264559351), ('power', -0.027787357120919204), ('light', -0.025723060686296317), ('love', -0.015163699191066313), ('life', -0.011618905203521261), ('an', -0.0017877233073167662), ('vibrant', -0.0016727861729982335), ('past', -0.0015546002754864101), ('response', -0.0013062329299272672)]\n",
      "\n",
      "8 :\n",
      "Male:  0.5\n",
      "Female:  0.5\n",
      "Predicted:  Female\n",
      "Actual: Male\n"
     ]
    },
    {
     "name": "stderr",
     "output_type": "stream",
     "text": [
      "/Users/byroncuachin/anaconda3/lib/python3.11/site-packages/sklearn/base.py:464: UserWarning: X does not have valid feature names, but RandomForestClassifier was fitted with feature names\n",
      "  warnings.warn(\n"
     ]
    },
    {
     "name": "stdout",
     "output_type": "stream",
     "text": [
      "Top words for text response 8:\n",
      "Masculine words:  [('time', 0.010224458493069171), ('world', 0.00445155598208983), ('bring', 0.002510797072474786), ('seek', 0.0013294773255724138), ('city', 0.0011814126243902222), ('richness', 0.0011564878155308632), ('overcome', 0.0011141331684466685)]\n",
      "Feminine words:  [('student', -0.2277096698008102), ('day', -0.0594294164692745), ('journalist', -0.052948113529874524), ('interest', -0.04398502523395989), ('power', -0.026703904322319335), ('light', -0.02650005597881668), ('love', -0.01481609442360043), ('life', -0.01121380702368885), ('past', -0.0013965394217949894), ('about', -0.0011590877957780657), ('also', -0.0010585496010671015), ('change', -0.0009652046978408562), ('contributions', -0.0008590006386957322)]\n",
      "\n",
      "9 :\n",
      "Male:  0.63\n",
      "Female:  0.37\n",
      "Predicted:  Male\n",
      "Actual: Male\n"
     ]
    },
    {
     "name": "stderr",
     "output_type": "stream",
     "text": [
      "/Users/byroncuachin/anaconda3/lib/python3.11/site-packages/sklearn/base.py:464: UserWarning: X does not have valid feature names, but RandomForestClassifier was fitted with feature names\n",
      "  warnings.warn(\n"
     ]
    },
    {
     "name": "stdout",
     "output_type": "stream",
     "text": [
      "Top words for text response 9:\n",
      "Masculine words:  [('old', 0.018051179262996854), ('year', 0.01713585601751771), ('mark', 0.006355681293945065), ('day', 0.0037787611943143717), ('new', 0.002699773676338348), ('like', 0.0025220731038304977), ('design', 0.0021028306339310843)]\n",
      "Feminine words:  [('impact', -0.08884729917003174), ('up', -0.08335788767611445), ('sight', -0.04004663505214486), ('focal', -0.03237335892103803), ('power', -0.027394049267096737), ('major', -0.023752631653094828), ('ground', -0.023248360545464294), ('real', -0.013603410548758058), ('help', -0.006716002252940963), ('life', -0.0065124032431688565), ('system', -0.005041828792271771), ('late', -0.003277116030129005), ('work', -0.0017966632841367866)]\n",
      "\n",
      "10 :\n",
      "Male:  0.63\n",
      "Female:  0.37\n",
      "Predicted:  Male\n",
      "Actual: Male\n",
      "Top words for text response 10:\n",
      "Masculine words:  [('old', 0.018650530042573398), ('year', 0.016242545493405286), ('mark', 0.005768809124855754), ('new', 0.003454635578900664), ('day', 0.0033139298896936852), ('like', 0.0028239982928739064), ('design', 0.0025093796400572207)]\n",
      "Feminine words:  [('impact', -0.08983876733842497), ('up', -0.08331786684655136), ('sight', -0.04017088178689476), ('focal', -0.03261444227489724), ('power', -0.027701352931382057), ('major', -0.02337847422186713), ('ground', -0.023144806316801707), ('real', -0.014018996669237808), ('life', -0.007404456561650998), ('help', -0.00630762844530343), ('system', -0.0050225024385934765), ('late', -0.0033287617377210314), ('into', -0.0019103344673400743)]\n",
      "\n"
     ]
    },
    {
     "name": "stderr",
     "output_type": "stream",
     "text": [
      "/Users/byroncuachin/anaconda3/lib/python3.11/site-packages/sklearn/base.py:464: UserWarning: X does not have valid feature names, but RandomForestClassifier was fitted with feature names\n",
      "  warnings.warn(\n"
     ]
    }
   ],
   "source": [
    "text = [\n",
    "\"\"\"\n",
    "Once upon a time in the vibrant city of Harmonyville , there lived a college student named Mia Rodriguez . Mia was a junior majoring in environmental science at Rivertide University . Her love for nature and a deep sense of responsibility towards the planet fueled her determination to make a positive impact . One sunny afternoon , Mia stumbled upon a notice about the annual Green Innovation Challenge —an event where students could pitch eco -friendly projects to a panel of environmental experts . Inspired and eager to contribute , Mia decided to develop a sustainable urban gardening initiative called  \"GreenHaven . \" With her hands in the soil and a heart full of passion , Mia transformed an unused corner of the campus into a thriving community garden . She envisioned GreenHaven as a place where students could come together , learn about sustainable agriculture , and cultivate their own fruits and vegetables . Mia believed that this initiative could not only promote environmental consciousness but also foster a sense of community among her peers . As the garden flourished , so did Mia 's connection with her fellow students . The project became a hub of creativity , where ideas for sustainable living blossomed alongside the vibrant array of fruits and vegetables . Mia 's dedication and leadership drew the attention of both students and faculty alike . When the day of the Green Innovation Challenge arrived , Mia nervously but proudly presented GreenHaven to the panel of judges . The vision , dedication , and positive impact of her project resonated deeply , earning her the first prize and a scholarship for further environmental studies . Word of Mia 's success spread , and GreenHaven became a symbol of sustainable living on campus . Mia 's journey didn 't end with the competition ; instead , it marked the beginning of a new chapter . With the scholarship in hand , Mia continued her studies , conducting research on innovative ways to create sustainable urban environments . As Mia graduated from Rivertide University , she left behind a legacy of green initiatives and a campus that had been transformed by the power of community and sustainability . GreenHaven continued to thrive , inspiring future generations of students to think creatively about environmental issues . Mia 's story became a beacon of hope , showing that even a single college student with a passion for change could make a lasting impact on the world . And so , as Mia embarked on her journey beyond college , she carried with her not just a degree but the knowledge that small , meaningful actions could ripple into waves of positive transformation for the planet and its people .\n",
    "\"\"\",\n",
    "\"\"\"\n",
    "Once upon a time in the vibrant city of Harmonyville ,  lived a college student named   .  was a junior majoring in environmental science at Rivertide University .  love for nature and a deep sense of responsibility towards the planet fueled  determination to make a positive impact . One sunny afternoon ,  stumbled upon a notice about the annual Green Innovation Challenge — an event where students could pitch eco -friendly projects to a panel of environmental experts . Inspired and eager to contribute ,  decided to develop a sustainable urban gardening initiative called   \" GreenHaven . \" With  hands in the soil and a heart full of passion ,  transformed an unused corner of the campus into a thriving community garden .  envisioned GreenHaven as a place where students could come together , learn about sustainable agriculture , and cultivate  own fruits and vegetables .  believed that this initiative could not only promote environmental consciousness but also foster a sense of community among  peers . As the garden flourished , so did  's connection with  fellow students . The project became a hub of creativity , where ideas for sustainable living blossomed alongside the vibrant array of fruits and vegetables .  's dedication and leadership drew the attention of both students and faculty alike . When the day of the Green Innovation Challenge arrived ,  nervously but proudly presented GreenHaven to the panel of judges . The vision , dedication , and positive impact of  project resonated deeply , earning  the first prize and a scholarship for further environmental studies . Word of  's success spread , and  became a symbol of sustainable living on campus .  's    t end with the competition ; instead ,  marked the beginning of a new chapter . With the scholarship in hand ,  continued  studies , conducting research on innovative ways to create sustainable urban environments . As  graduated from Rivertide University ,  left behind a legacy of green initiatives and a campus  had been transformed by the power of community and sustainability . GreenHaven continued to thrive , inspiring future generations of students to think creatively about environmental issues .  's story became a beacon of hope , showing that even a single college student with a passion for change could make a lasting impact on the world . And so , as  embarked on  journey beyond college ,  carried with  not just a degree but the knowledge  small , meaningful actions could ripple into waves of positive transformation for the planet and  people .\n",
    "\"\"\",\n",
    "\"\"\"\n",
    "Once upon a time in the bustling city of Arcadia , there lived a college student named Alex Reynolds . Alex was a junior majoring in computer science at the prestigious Arcadia University . He was a diligent student with a passion for coding and a penchant for exploring the world of technology . One day , as Alex was immersed in his studies at the campus library , he stumbled upon an intriguing flyer .\n",
    "\"\"\",\n",
    "\"\"\"\n",
    "Once upon a time in the bustling city of Arcadia , there lived a college student . This student was a junior majoring in computer science at the prestigious Arcadia University . They were a diligent student with a passion for coding and a penchant for exploring the world of technology . One day , as this student was immersed in their studies at the campus library , they stumbled upon an intriguing flyer .\n",
    "\"\"\",\n",
    "\"\"\"\n",
    "Once upon a time in the vibrant college town of Crestwood , there lived a spirited young student named Emily . She was a sophomore at Crestwood University , pursuing a degree in environmental science with dreams of making a positive impact on the planet . Emily was known for her boundless enthusiasm , infectious energy , and a love for exploring the world around her . One crisp autumn day , Emily stumbled upon a flyer for an environmental awareness club called  \"Green Harmony \" on the college bulletin board . Intrigued and passionate about environmental causes , she decided to attend their next meeting . As Emily walked into the meeting room , she was greeted by a diverse group of students who shared her passion for sustainability . The club was planning an ambitious project to transform an unused campus space into a thriving community garden . Emily was immediately captivated by the idea and eagerly joined the efforts . The days turned into weeks as the Green Harmony team worked tirelessly , planning , planting , and nurturing their garden . Emily found herself forming deep connections with her fellow club members as they faced challenges and celebrated victories together . The project not only brought life to the neglected space but also breathed new life into Emily 's college experience . Amidst the busy academic schedule , Emily discovered a sense of purpose beyond textbooks and exams . The garden project became a symbol of unity , showcasing the power of collaboration and the positive impact a group of dedicated individuals could make . As the garden flourished , so did Emily 's personal growth . She learned about sustainable practices , organic gardening , and the importance of community engagement . Her once mundane college routine transformed into a fulfilling journey , where every day brought new lessons and opportunities . Word of the Green Harmony garden spread throughout the campus , attracting attention from both students and faculty . The college recognized the club 's efforts and even awarded them a grant to expand their project . Emily and her friends found themselves at the forefront of a campus -wide movement toward sustainability . Through this journey , Emily discovered not only her passion for environmental science but also her ability to lead and inspire change . The once ordinary college student had become a beacon of hope and inspiration for those around her . As the seasons changed , so did Emily and her friends , leaving behind a legacy of a thriving community garden and a more environmentally conscious campus . The tale of the college student who discovered her purpose in the embrace of nature and community echoed through the years , inspiring future generations of students to dream big and make a difference in the world .\n",
    "\"\"\",\n",
    "\"\"\"\n",
    "Once upon a time in the vibrant college town of Crestwood ,  lived a spirited young student named  .  was a sophomore at Crestwood University , pursuing a degree in environmental science with dreams of making a positive impact on the planet . Emily was known for  boundless enthusiasm , infectious energy , and a love for exploring the world around  . One crisp autumn day , Emily stumbled upon a flyer for an environmental awareness club called   \" Green Harmony \" on the college bulletin board . Intrigued and passionate about environmental causes ,  decided to attend  next meeting . As Emily walked into the meeting room ,  was greeted by a diverse group of students  shared  passion for sustainability . The club was planning an ambitious project to transform an unused campus space into a thriving community garden . Emily was immediately captivated by the idea and eagerly joined the efforts . The days turned into weeks as the   team worked tirelessly , planning , planting , and nurturing  garden . Emily found  forming deep connections with  fellow club members as  faced challenges and celebrated victories together . The project not only brought life to the neglected space but also breathed new life into Emily 's college experience . Amidst the busy academic schedule , Emily discovered a sense of purpose beyond textbooks and exams . The garden project became a symbol of unity , showcasing the power of collaboration and the positive impact a group of dedicated individuals could make . As the garden flourished , so did  's personal growth .  learned about sustainable practices , organic gardening , and the importance of community engagement .  once mundane college routine transformed into a fulfilling journey , where every day brought new lessons and opportunities . Word of the Green Harmony garden spread throughout the campus , attracting attention from both students and faculty . The college recognized the club 's efforts and even awarded  a grant to expand  project . Emily and  friends found  at the forefront of a campus -wide movement toward sustainability . Through this journey , Emily discovered not only  passion for environmental science but also  ability to lead and inspire change . The once ordinary college student had become a beacon of hope and inspiration for  around  . As the seasons changed , so did  and  friends , leaving behind a legacy of a thriving community garden and a more environmentally conscious campus . The tale of the college student  discovered  purpose in the embrace of nature and community echoed through the years , inspiring future generations of students to dream big and make a difference in the world .\n",
    "\"\"\",\n",
    "\"\"\"\n",
    "In the vibrant city of Rivertown , there lived a college student named Jason Harris . Jason was a senior at Rivertown University , majoring in journalism and aspiring to be a storyteller . He had a keen interest in human experiences and a passion for shedding light on untold stories . One day , while perusing the local newspaper , Jason stumbled upon an article about an elderly woman named Mrs . Eleanor Bennett , who had spent decades working as a librarian in the city . Intrigued by the snippet of her life story , Jason felt compelled to dig deeper and share her tale with the world . After some research , Jason learned that Mrs . Bennett had not only been a dedicated librarian but had also been involved in community initiatives , fostering a love for reading among children and organizing events to bring people together . However , her own life story had largely remained in the shadows . Determined to uncover the full narrative , Jason reached out to Mrs . Bennett and asked for an interview . To his surprise , she welcomed the opportunity to share her story , and soon they sat down for a conversation that would unveil a lifetime of experiences . As Jason delved into Mrs . Bennett 's past , he discovered a woman who had overcome personal challenges , witnessed historical events , and touched the lives of many in Rivertown . Her journey was filled with moments of joy , heartbreak , and resilience , making for a compelling narrative that Jason couldn 't wait to share with his readers . With meticulous attention to detail , Jason crafted a feature article that not only highlighted Mrs . Bennett 's contributions to the community but also captured the essence of her character . The story resonated with readers , and the local newspaper received an overwhelming response . Mrs . Bennett became a beloved figure in Rivertown , celebrated for her dedication and the richness of her life story . The success of the article opened doors for Jason , who found himself on the path to becoming a respected journalist . Inspired by Mrs . Bennett 's story , he continued to seek out and share the untold narratives within his community , becoming a storyteller who bridged the gaps between generations . As graduation day approached , Jason reflected on his college journey . His time at Rivertown University had not only provided him with an education but had also instilled in him the power of storytelling to connect people and inspire change . With a heart full of gratitude and a portfolio filled with impactful stories , Jason ventured into the world , ready to make a difference , one narrative at a time .\n",
    "\"\"\",\n",
    "\"\"\"\n",
    "In the vibrant city of Rivertown ,  lived a college student named   .  was a senior at Rivertown University , majoring in journalism and aspiring to be a storyteller .  had a keen interest in human experiences and a passion for shedding light on untold stories . One day , while perusing the local newspaper ,  stumbled upon an article about an elderly woman named  .   ,  had spent decades working as a librarian in the city . Intrigued by the snippet of  life story ,  felt compelled to dig deeper and share  tale with the world . After some research ,  learned that  .  had not only been a dedicated librarian but had also been involved in community initiatives , fostering a love for reading among children and organizing events to bring people together . However ,  own life story had largely remained in the shadows . Determined to uncover the full narrative ,  reached out to  .  and asked for an interview . To  surprise ,  welcomed the opportunity to share  story , and soon  sat down for a conversation  would unveil a lifetime of experiences . As  delved into  .  's past ,  discovered a woman  had overcome personal challenges , witnessed historical events , and touched the lives of many in Rivertown .  journey was filled with moments of joy , heartbreak , and resilience , making for a compelling narrative   couldn ' t wait to share with  readers . With meticulous attention to detail ,  crafted a feature article that not only highlighted  .  's contributions to the community but also captured the essence of  character . The story resonated with readers , and the local newspaper received an overwhelming response . Mrs .  became a beloved figure in Rivertown , celebrated for  dedication and the richness of  life story . The success of the article opened doors for  ,  found  on the path to becoming a respected journalist . Inspired by  .  's story ,  continued to seek out and share the untold narratives within  community , becoming a storyteller  bridged the gaps between generations . As graduation day approached ,  reflected on  college journey .  time at Rivertown University had not only provided  with an education but had also instilled in  the power of storytelling to connect people and inspire change . With a heart full of gratitude and a portfolio filled with impactful stories ,  ventured into the world , ready to make a difference , one narrative at a time .\n",
    "\"\"\",\n",
    "\"\"\"\n",
    "In the bustling town of Summitville , there lived a college man named Lucas Turner . Lucas was a mechanical engineering major at Summitville Tech , known for his passion for building things from the ground up . His college life was a dynamic mix of late -night design sessions , hands -on projects , and a camaraderie with his fellow engineering students . One day , Lucas stumbled upon an old , abandoned workshop on the outskirts of town . The sight of forgotten tools and discarded materials sparked a fire in him . Inspired by the potential of the neglected space , he decided to breathe new life into it and create a collaborative hub for engineering students . Lucas rallied a group of like -minded friends , and together they transformed the workshop into the  \"Innovation Forge . \" It became a haven for students to work on personal projects , exchange ideas , and bring their engineering dreams to life . The space buzzed with the sounds of drills , the clanking of metal , and the hum of 3D printers as students collaborated on everything from robotics to sustainable energy solutions . As the Innovation Forge gained popularity , Lucas and his team decided to organize an annual engineering expo , showcasing the innovative projects that emerged from their workshop . The expo not only attracted students and faculty but also local businesses and industry professionals keen on discovering emerging talent . One year , Lucas and his team developed a prototype for a solar -powered irrigation system designed to help local farmers in Summitville . The project gained attention not only for its engineering prowess but also for its potential to make a real impact in the community . The Innovation Forge became a focal point for collaborative projects that aimed to address real -world challenges . Lucas 's journey through college was not just about earning a degree ; it was about leaving a lasting mark on the engineering community . As graduation approached , the Innovation Forge continued to thrive , and Lucas felt a sense of pride in the legacy he had created . The town of Summitville now had a vibrant hub of innovation , thanks to the hard work and dedication of Lucas Turner . His college experience became a testament to the transformative power of hands -on learning , collaboration , and the drive to make a positive impact on the world through engineering ingenuity .\n",
    "\"\"\",\n",
    "\"\"\"\n",
    "In the bustling town of Summitville ,  lived a college man named   . Lucas was a mechanical engineering major at Summitville Tech , known for  passion for building things from the ground up .  college life was a dynamic mix of late -night design sessions , hands -on projects , and a camaraderie with  fellow engineering students . One day , Lucas stumbled upon an old , abandoned workshop on the outskirts of town . The sight of forgotten tools and discarded materials sparked a fire in  . Inspired by the potential of the neglected space ,  decided to breathe new life into  and create a collaborative hub for engineering students . Lucas rallied a group of like -minded friends , and together  transformed the workshop into the   \" Innovation Forge . \"  became a haven for students to work on personal projects , exchange ideas , and bring  engineering dreams to life . The space buzzed with the sounds of drills , the clanking of metal , and the hum of 3D printers as students collaborated on  from robotics to sustainable energy solutions . As the Innovation Forge gained popularity , Lucas and  team decided to organize an annual engineering expo , showcasing the innovative projects  emerged from  workshop . The expo not only attracted students and faculty but also local businesses and industry professionals keen on discovering emerging talent . One year , Lucas and  team developed a prototype for a solar -powered irrigation system designed to help local farmers in Summitville . The project gained attention not only for  engineering prowess but also for  potential to make a real impact in the community . The Innovation Forge became a focal point for collaborative projects  aimed to address real -world challenges . Lucas 's journey through college was not just about earning a degree ;  was about leaving a lasting mark on the engineering community . As graduation approached , the Innovation Forge continued to thrive , and Lucas felt a sense of pride in the legacy  had created . The town of Summitville now had a vibrant hub of innovation , thanks to the hard work and dedication of Lucas Turner .  college experience became a testament to the transformative power of hands -on learning , collaboration , and the drive to make a positive impact on the world through engineering ingenuity .\n",
    "\"\"\"\n",
    "]\n",
    "vectorizedText = vectorizer.transform(text)\n",
    "textsTransformed = pd.DataFrame(vectorizedText.toarray(), columns=vectorizer.get_feature_names_out())\n",
    "predProb = model.predict_proba(textsTransformed)\n",
    "pred = model.predict(textsTransformed)\n",
    "\n",
    "yActual = [0, 0, 1, 1, 0, 0, 1, 1, 1, 1]\n",
    "explainer = LimeTextExplainer(class_names=['female', 'male'])\n",
    "for i in range(len(pred)):\n",
    "    print(i + 1, \":\")\n",
    "    print(\"Male: \", predProb[i][1])\n",
    "    print(\"Female: \", predProb[i][0])\n",
    "    print(\"Predicted: \", pred[i])\n",
    "    if(yActual[i] == 0):\n",
    "        print(\"Actual: Female\")\n",
    "    else:\n",
    "        print(\"Actual: Male\")\n",
    "        \n",
    "    vectorized_text = vectorizer.transform([text[i]])\n",
    "    predict_function = lambda x: model.predict_proba(vectorizer.transform(x))\n",
    "    explanation = explainer.explain_instance(text[i], predict_function, num_features=20)\n",
    "    top_words_lime = explanation.as_list()\n",
    "    print(f\"Top words for text response {i + 1}:\")\n",
    "    masculineWords = []\n",
    "    feminineWords = []\n",
    "    for word, score in top_words_lime:\n",
    "        if score > 0:\n",
    "            masculineWords.append((word, score))\n",
    "        else:\n",
    "            feminineWords.append((word, score))\n",
    "    print(\"Masculine words: \", masculineWords)\n",
    "    print(\"Feminine words: \", feminineWords)\n",
    "    print(\"\")\n",
    "\n",
    "\n",
    "\n"
   ]
  },
  {
   "attachments": {},
   "cell_type": "markdown",
   "metadata": {},
   "source": [
    "XGBoost"
   ]
  },
  {
   "cell_type": "code",
   "execution_count": 35,
   "metadata": {},
   "outputs": [
    {
     "name": "stdout",
     "output_type": "stream",
     "text": [
      "   Unnamed: 0  uid                                      sentence_text  \\\n",
      "0           0    0  My friend , who grew up in Africa , explained ...   \n",
      "1           1    1  â€¢ Lastly , for the patient that did not need...   \n",
      "2           2    2  Her early years as a resident doctor in the No...   \n",
      "3           3    3  Another participant stated , \" Without network...   \n",
      "4           4    4  The patient followed up in the nephrology clin...   \n",
      "\n",
      "                                              tokens profession    g  \\\n",
      "0  ['My', 'friend', ',', 'who', 'grew', 'up', 'in...     friend   he   \n",
      "1  ['â€¢', 'Lastly', ',', 'for', 'the', 'patient'...    patient  his   \n",
      "2  ['Her', 'early', 'years', 'as', 'a', 'resident...     doctor  her   \n",
      "3  ['Another', 'participant', 'stated', ',', '\"',...    teacher  she   \n",
      "4  ['The', 'patient', 'followed', 'up', 'in', 'th...    patient  his   \n",
      "\n",
      "   profession_first_index  g_first_index predicted gender  stereotype  \\\n",
      "0                       1             16             Male           0   \n",
      "1                       5             17             Male           0   \n",
      "2                       6             12           Female          -1   \n",
      "3                      61             69           Female           1   \n",
      "4                       1             17             Male           0   \n",
      "\n",
      "   distance  num_of_pronouns   corpus  data_index  \n",
      "0        15                2  covid19           4  \n",
      "1        12                1  covid19           6  \n",
      "2         6                2  covid19          17  \n",
      "3         8                3  covid19           4  \n",
      "4        16                1  covid19          17  \n",
      "PREPROCESSING DATA\n",
      "TRAIN 798     final  16 juli  chief   polic  klagenfurt anno...\n",
      "1175    film   , produc  gowri product   ,  music scor...\n",
      "1392    fist day  treatment   ,  patient  abl    limb ...\n",
      "1118    captain   galley   \" sã £ o    \"   ,      , de...\n",
      "1228    patient   # 28   develop fever  home quarantin...\n",
      "                              ...                        \n",
      "1130    follow  6 -week dietari lead -in phase   ,  pa...\n",
      "1294    2011   ,     intern coach   time   ,   ¶w   , ...\n",
      "860     patient  success treat   combin  plasmapheresi...\n",
      "1459    goalscor debut   , barcelona manag   prais mun...\n",
      "1126    initi  architect  matteo di cittã di castello ...\n",
      "Name: sentence_text, Length: 1040, dtype: object\n",
      "TEST 599     child hold  pomegran   hand   ,  symbol  passi...\n",
      "1348    fire  kgo  novemb 2008   engin leav  microphon...\n",
      "135     film   ,  young fighter pilot introduc  song  ...\n",
      "694     irregular menstrual cycl   ,  patient  unclear...\n",
      "240     person address  commend   pieti   ,   warn  fa...\n",
      "                              ...                        \n",
      "101     immens influenti   art   second half   19th ce...\n",
      "1197    mayor   .  appoint  postmast   controversi dec...\n",
      "107     ( 1858 â € \" juli 1905   )   african photograp...\n",
      "1007    clinician    opportun  rectifi  problem   [ 72...\n",
      "1361    highli regard     dentist tell     implant  gu...\n",
      "Name: sentence_text, Length: 257, dtype: object\n"
     ]
    },
    {
     "ename": "ValueError",
     "evalue": "Invalid classes inferred from unique values of `y`.  Expected: [0 1], got ['Female' 'Male']",
     "output_type": "error",
     "traceback": [
      "\u001b[0;31m---------------------------------------------------------------------------\u001b[0m",
      "\u001b[0;31mValueError\u001b[0m                                Traceback (most recent call last)",
      "Cell \u001b[0;32mIn[35], line 29\u001b[0m\n\u001b[1;32m     27\u001b[0m \u001b[39m# train model\u001b[39;00m\n\u001b[1;32m     28\u001b[0m model \u001b[39m=\u001b[39m xgb\u001b[39m.\u001b[39mXGBClassifier(tree_method\u001b[39m=\u001b[39m\u001b[39m\"\u001b[39m\u001b[39mhist\u001b[39m\u001b[39m\"\u001b[39m, early_stopping_rounds\u001b[39m=\u001b[39m\u001b[39m2\u001b[39m)\n\u001b[0;32m---> 29\u001b[0m model\u001b[39m.\u001b[39mfit(xTrain, yTrain, eval_set\u001b[39m=\u001b[39m[(xTest, yTest)])\n\u001b[1;32m     31\u001b[0m \u001b[39mwith\u001b[39;00m \u001b[39mopen\u001b[39m(\u001b[39m'\u001b[39m\u001b[39m../savedModels/XGBoostModel.pkl\u001b[39m\u001b[39m'\u001b[39m, \u001b[39m'\u001b[39m\u001b[39mwb\u001b[39m\u001b[39m'\u001b[39m) \u001b[39mas\u001b[39;00m model_file:\n\u001b[1;32m     32\u001b[0m     pickle\u001b[39m.\u001b[39mdump((model, vectorizer), model_file)\n",
      "File \u001b[0;32m~/anaconda3/lib/python3.11/site-packages/xgboost/core.py:730\u001b[0m, in \u001b[0;36mrequire_keyword_args.<locals>.throw_if.<locals>.inner_f\u001b[0;34m(*args, **kwargs)\u001b[0m\n\u001b[1;32m    728\u001b[0m \u001b[39mfor\u001b[39;00m k, arg \u001b[39min\u001b[39;00m \u001b[39mzip\u001b[39m(sig\u001b[39m.\u001b[39mparameters, args):\n\u001b[1;32m    729\u001b[0m     kwargs[k] \u001b[39m=\u001b[39m arg\n\u001b[0;32m--> 730\u001b[0m \u001b[39mreturn\u001b[39;00m func(\u001b[39m*\u001b[39m\u001b[39m*\u001b[39mkwargs)\n",
      "File \u001b[0;32m~/anaconda3/lib/python3.11/site-packages/xgboost/sklearn.py:1471\u001b[0m, in \u001b[0;36mXGBClassifier.fit\u001b[0;34m(self, X, y, sample_weight, base_margin, eval_set, eval_metric, early_stopping_rounds, verbose, xgb_model, sample_weight_eval_set, base_margin_eval_set, feature_weights, callbacks)\u001b[0m\n\u001b[1;32m   1466\u001b[0m     expected_classes \u001b[39m=\u001b[39m \u001b[39mself\u001b[39m\u001b[39m.\u001b[39mclasses_\n\u001b[1;32m   1467\u001b[0m \u001b[39mif\u001b[39;00m (\n\u001b[1;32m   1468\u001b[0m     classes\u001b[39m.\u001b[39mshape \u001b[39m!=\u001b[39m expected_classes\u001b[39m.\u001b[39mshape\n\u001b[1;32m   1469\u001b[0m     \u001b[39mor\u001b[39;00m \u001b[39mnot\u001b[39;00m (classes \u001b[39m==\u001b[39m expected_classes)\u001b[39m.\u001b[39mall()\n\u001b[1;32m   1470\u001b[0m ):\n\u001b[0;32m-> 1471\u001b[0m     \u001b[39mraise\u001b[39;00m \u001b[39mValueError\u001b[39;00m(\n\u001b[1;32m   1472\u001b[0m         \u001b[39mf\u001b[39m\u001b[39m\"\u001b[39m\u001b[39mInvalid classes inferred from unique values of `y`.  \u001b[39m\u001b[39m\"\u001b[39m\n\u001b[1;32m   1473\u001b[0m         \u001b[39mf\u001b[39m\u001b[39m\"\u001b[39m\u001b[39mExpected: \u001b[39m\u001b[39m{\u001b[39;00mexpected_classes\u001b[39m}\u001b[39;00m\u001b[39m, got \u001b[39m\u001b[39m{\u001b[39;00mclasses\u001b[39m}\u001b[39;00m\u001b[39m\"\u001b[39m\n\u001b[1;32m   1474\u001b[0m     )\n\u001b[1;32m   1476\u001b[0m params \u001b[39m=\u001b[39m \u001b[39mself\u001b[39m\u001b[39m.\u001b[39mget_xgb_params()\n\u001b[1;32m   1478\u001b[0m \u001b[39mif\u001b[39;00m \u001b[39mcallable\u001b[39m(\u001b[39mself\u001b[39m\u001b[39m.\u001b[39mobjective):\n",
      "\u001b[0;31mValueError\u001b[0m: Invalid classes inferred from unique values of `y`.  Expected: [0 1], got ['Female' 'Male']"
     ]
    }
   ],
   "source": [
    "# load data\n",
    "dataset = pd.read_csv('../datasets/BUG/gold_BUG.csv')\n",
    "dataset.replace(\"Male\", 1, inplace=True)\n",
    "dataset.replace(\"Female\", 0, inplace=True)\n",
    "print(dataset.head())\n",
    "train, test = train_test_split(dataset, test_size=0.2, random_state=42)\n",
    "# get samples with only neutral or stereotype sentence\n",
    "train = train[train['stereotype'].isin([0, 1])]\n",
    "test = test[test['stereotype'].isin([0, 1])]\n",
    "\n",
    "# preprocess data\n",
    "print(\"PREPROCESSING DATA\")\n",
    "train['sentence_text'] = train['sentence_text'].apply(add_space_before).apply(removeUnnecessaryWords)\n",
    "test['sentence_text'] = test['sentence_text'].apply(add_space_before).apply(removeUnnecessaryWords)\n",
    "print(\"TRAIN\", train['sentence_text'])\n",
    "print(\"TEST\", test['sentence_text'])\n",
    "\n",
    "vectorizer = CountVectorizer()\n",
    "trainTexts = vectorizer.fit_transform(train['sentence_text'])\n",
    "testTexts = vectorizer.transform(test['sentence_text'])\n",
    "\n",
    "xTrain = pd.DataFrame(trainTexts.toarray(), columns=vectorizer.get_feature_names_out())\n",
    "xTest = pd.DataFrame(testTexts.toarray(), columns=vectorizer.get_feature_names_out())\n",
    "yTrain = train['predicted gender']\n",
    "yTest = test['predicted gender']\n",
    "\n",
    "# train model\n",
    "model = xgb.XGBClassifier(tree_method=\"hist\", early_stopping_rounds=2)\n",
    "model.fit(xTrain, yTrain, eval_set=[(xTest, yTest)])\n",
    "\n",
    "with open('../savedModels/XGBoostModel.pkl', 'wb') as model_file:\n",
    "    pickle.dump((model, vectorizer), model_file)"
   ]
  },
  {
   "cell_type": "code",
   "execution_count": null,
   "metadata": {},
   "outputs": [
    {
     "name": "stdout",
     "output_type": "stream",
     "text": [
      "Accuracy: 0.8249027237354085\n",
      "Confusion matrix:\n",
      " [[ 11  37]\n",
      " [  8 201]]\n"
     ]
    }
   ],
   "source": [
    "# accuracy\n",
    "pred = model.predict(xTest)\n",
    "\n",
    "accuracy = accuracy_score(yTest, pred)\n",
    "print(\"Accuracy:\", accuracy)\n",
    "\n",
    "# confusion matrix\n",
    "cm = confusion_matrix(yTest, pred)\n",
    "print(\"Confusion matrix:\\n\", cm)"
   ]
  },
  {
   "cell_type": "code",
   "execution_count": 38,
   "metadata": {},
   "outputs": [
    {
     "name": "stdout",
     "output_type": "stream",
     "text": [
      "1 :\n",
      "Male:  0.46639824\n",
      "Female:  0.53360176\n",
      "Predicted:  0\n",
      "Actual: Female\n",
      "Top words for text response 1:\n",
      "Masculine words:  []\n",
      "Feminine words:  [('Once', 0.0), ('upon', 0.0), ('a', 0.0), ('time', 0.0), ('in', 0.0), ('the', 0.0), ('vibrant', 0.0), ('city', 0.0), ('of', 0.0), ('Harmonyville', 0.0), ('there', 0.0), ('lived', 0.0), ('college', 0.0), ('student', 0.0), ('named', 0.0), ('Mia', 0.0), ('Rodriguez', 0.0), ('was', 0.0), ('junior', 0.0), ('majoring', 0.0)]\n",
      "\n",
      "2 :\n",
      "Male:  0.46639824\n",
      "Female:  0.53360176\n",
      "Predicted:  0\n",
      "Actual: Female\n",
      "Top words for text response 2:\n",
      "Masculine words:  [('blossomed', 3.969483156802812e-32), ('proudly', 2.7338132267734537e-32), ('to', 2.584543509224092e-32), ('living', 1.522902858257441e-32), ('initiatives', 1.3218004826283423e-32), ('cultivate', 1.1799136570805102e-32), ('symbol', 1.1646976763743473e-32), ('both', 1.1635809657990455e-32), ('instead', 1.073609999430179e-32), ('nervously', 5.292648670055194e-33), ('panel', 4.74249912240328e-33)]\n",
      "Feminine words:  [('stumbled', -2.374845528406396e-32), ('presented', -2.2305319280731926e-32), ('campus', -2.0614743721582306e-32), ('beginning', -1.3344749525517757e-32), ('majoring', -1.1143282948362254e-32), ('from', -7.771524408284852e-33), ('create', -4.8960772149377235e-33), ('generations', -3.879918881964822e-33), ('a', -2.3675767245824326e-33)]\n",
      "\n",
      "3 :\n",
      "Male:  0.40001503\n",
      "Female:  0.599985\n",
      "Predicted:  0\n",
      "Actual: Male\n",
      "Top words for text response 3:\n",
      "Masculine words:  []\n",
      "Feminine words:  [('Once', 0.0), ('upon', 0.0), ('a', 0.0), ('time', 0.0), ('in', 0.0), ('the', 0.0), ('bustling', 0.0), ('city', 0.0), ('of', 0.0), ('Arcadia', 0.0), ('there', 0.0), ('lived', 0.0), ('college', 0.0), ('student', 0.0), ('named', 0.0), ('Alex', 0.0), ('Reynolds', 0.0), ('was', 0.0), ('junior', 0.0), ('majoring', 0.0)]\n",
      "\n",
      "4 :\n",
      "Male:  0.40001503\n",
      "Female:  0.599985\n",
      "Predicted:  0\n",
      "Actual: Male\n",
      "Top words for text response 4:\n",
      "Masculine words:  [('they', 7.087727550653403e-32), ('campus', 7.015036341346952e-32), ('flyer', 6.22839207831043e-32), ('city', 4.4495357752615567e-32), ('University', 3.577272723519542e-32), ('library', 3.452055883583643e-32), ('a', 3.2157504252836e-32), ('This', 2.658984329817157e-32), ('bustling', 2.0236047411954797e-32), ('of', 1.9362392640484124e-32), ('penchant', 1.898167729239335e-32), ('prestigious', 1.483198921789883e-32), ('at', 1.4574414657182348e-32), ('exploring', 8.685211985799807e-33), ('technology', 6.872092801128358e-33)]\n",
      "Feminine words:  [('world', -6.378705008880795e-32), ('and', -3.508078651044114e-32), ('in', -1.9959302928958723e-32), ('was', -1.844971332943622e-32), ('studies', -1.0506234236450704e-32)]\n",
      "\n",
      "5 :\n",
      "Male:  0.5187642\n",
      "Female:  0.4812358\n",
      "Predicted:  1\n",
      "Actual: Female\n",
      "Top words for text response 5:\n",
      "Masculine words:  [('individuals', 3.583719881183764e-32), ('attend', 3.0416938908773343e-32), ('nurturing', 2.9301518796588587e-32), ('sustainable', 2.1062857989893483e-32), ('deep', 1.8832814894736287e-32), ('breathed', 1.3239886521772192e-32), ('captivated', 1.2996223450435853e-32), ('passionate', 9.454659477158795e-33), ('fellow', 8.700495364661199e-33), ('Emily', 4.4767630016746927e-33), ('crisp', 2.9987803503136578e-33), ('wide', 1.751858750379233e-33)]\n",
      "Feminine words:  [('decided', -3.0801856883460615e-32), ('by', -3.025173128856654e-32), ('changed', -2.854780419161737e-32), ('exams', -2.0644189963262418e-32), ('idea', -1.9398108619787122e-32), ('challenges', -5.843310577313736e-33), ('neglected', -4.108214387379681e-33), ('make', -2.9926215560681594e-33)]\n",
      "\n",
      "6 :\n",
      "Male:  0.5187642\n",
      "Female:  0.4812358\n",
      "Predicted:  1\n",
      "Actual: Female\n",
      "Top words for text response 6:\n",
      "Masculine words:  [('not', 1.164869564101255e-31), ('echoed', 1.1145253890611565e-31), ('campus', 1.0970288514737775e-31), ('fulfilling', 7.727139365157303e-32), ('from', 6.599611950163879e-32), ('making', 6.212853462009695e-32), ('Harmony', 5.089367600480158e-32), ('science', 3.8916312544342264e-32), ('lived', 2.573180052950149e-32), ('sense', 2.4064638240538664e-32), ('flourished', 2.3062653726729373e-32), ('thriving', 2.170826202882195e-32), ('dream', 1.971422167145155e-33)]\n",
      "Feminine words:  [('next', -9.783570212058663e-32), ('environmentally', -9.109347463470305e-32), ('ordinary', -5.339523420391936e-32), ('neglected', -3.24998806301413e-32), ('walked', -1.561503796040921e-32), ('Intrigued', -5.3856659973636946e-33), ('diverse', -4.592437769113341e-34)]\n",
      "\n",
      "7 :\n",
      "Male:  0.40911034\n",
      "Female:  0.5908897\n",
      "Predicted:  0\n",
      "Actual: Male\n",
      "Top words for text response 7:\n",
      "Masculine words:  [('gaps', 3.4993277178994693e-32), ('delved', 2.768256292202425e-32), ('children', 2.544224730295026e-32), ('elderly', 1.6921346941826888e-32), ('story', 1.2428144311897182e-32), ('richness', 1.1324941557641665e-32), ('time', 8.736272937190923e-33), ('spent', 6.734224553273156e-33), ('received', 5.875248972932423e-33)]\n",
      "Feminine words:  [('Inspired', -2.9668180803903584e-32), ('out', -1.4667900115301417e-32), ('surprise', -1.3417615605849574e-32), ('who', -1.2212386123009518e-32), ('but', -1.0844214822428079e-32), ('witnessed', -1.0381049672867819e-32), ('for', -9.1134354958046e-33), ('woman', -6.711290086864303e-33), ('article', -6.291899452177722e-33), ('sat', -1.5235080111436292e-33), ('seek', -1.4425808108629238e-33)]\n",
      "\n",
      "8 :\n",
      "Male:  0.40911034\n",
      "Female:  0.5908897\n",
      "Predicted:  0\n",
      "Actual: Male\n",
      "Top words for text response 8:\n",
      "Masculine words:  [('also', 2.898153962198721e-32), ('sat', 2.6502628407505453e-32), ('found', 1.8603082227816905e-32), ('among', 1.8406101421898285e-32), ('witnessed', 1.6136788916090068e-32), ('change', 1.3249641806217499e-32), ('largely', 5.450673791978739e-33), ('interview', 5.041912238121924e-33), ('a', 1.8283583184523935e-33), ('lives', 1.4475729022318238e-33)]\n",
      "Feminine words:  [('shadows', -2.8043162378700107e-32), ('perusing', -2.654172467277996e-32), ('passion', -1.5598751374434726e-32), ('couldn', -1.5084429638451046e-32), ('s', -1.3681425055595588e-32), ('heart', -1.288917760135798e-32), ('children', -8.783722876576863e-33), ('storytelling', -7.1169268276292e-33), ('love', -4.4908480721539365e-33), ('richness', -1.028906157283309e-33)]\n",
      "\n",
      "9 :\n",
      "Male:  0.7521115\n",
      "Female:  0.2478885\n",
      "Predicted:  1\n",
      "Actual: Male\n",
      "Top words for text response 9:\n",
      "Masculine words:  []\n",
      "Feminine words:  [('In', 0.0), ('the', 0.0), ('bustling', 0.0), ('town', 0.0), ('of', 0.0), ('Summitville', 0.0), ('there', 0.0), ('lived', 0.0), ('a', 0.0), ('college', 0.0), ('man', 0.0), ('named', 0.0), ('Lucas', 0.0), ('Turner', 0.0), ('was', 0.0), ('mechanical', 0.0), ('engineering', 0.0), ('major', 0.0), ('at', 0.0), ('Tech', 0.0)]\n",
      "\n",
      "10 :\n",
      "Male:  0.7521115\n",
      "Female:  0.2478885\n",
      "Predicted:  1\n",
      "Actual: Male\n",
      "Top words for text response 10:\n",
      "Masculine words:  [('by', 8.113592475376866e-32), ('solutions', 7.567686930254213e-32), ('address', 6.275395967184527e-32), ('Inspired', 5.065005816176273e-32), ('as', 4.5199776713197525e-32), ('building', 4.393158549265749e-32), ('ingenuity', 4.3243883421133575e-32), ('create', 3.9633843824914485e-32), ('Innovation', 1.6007504782784077e-32), ('ideas', 1.1129993348306139e-32), ('organize', 2.337187729988652e-33)]\n",
      "Feminine words:  [('Turner', -4.7151906598416434e-32), ('vibrant', -4.5795330313037524e-32), ('One', -4.414028164599838e-32), ('together', -3.263403025055703e-32), ('transformative', -2.0362257918434535e-32), ('was', -1.1220390870011495e-32), ('real', -7.532361907059299e-33), ('businesses', -6.712452739334007e-33), ('and', -1.6006529459710915e-33)]\n",
      "\n"
     ]
    }
   ],
   "source": [
    "text = [\n",
    "\"\"\"\n",
    "Once upon a time in the vibrant city of Harmonyville , there lived a college student named Mia Rodriguez . Mia was a junior majoring in environmental science at Rivertide University . Her love for nature and a deep sense of responsibility towards the planet fueled her determination to make a positive impact . One sunny afternoon , Mia stumbled upon a notice about the annual Green Innovation Challenge —an event where students could pitch eco -friendly projects to a panel of environmental experts . Inspired and eager to contribute , Mia decided to develop a sustainable urban gardening initiative called  \"GreenHaven . \" With her hands in the soil and a heart full of passion , Mia transformed an unused corner of the campus into a thriving community garden . She envisioned GreenHaven as a place where students could come together , learn about sustainable agriculture , and cultivate their own fruits and vegetables . Mia believed that this initiative could not only promote environmental consciousness but also foster a sense of community among her peers . As the garden flourished , so did Mia 's connection with her fellow students . The project became a hub of creativity , where ideas for sustainable living blossomed alongside the vibrant array of fruits and vegetables . Mia 's dedication and leadership drew the attention of both students and faculty alike . When the day of the Green Innovation Challenge arrived , Mia nervously but proudly presented GreenHaven to the panel of judges . The vision , dedication , and positive impact of her project resonated deeply , earning her the first prize and a scholarship for further environmental studies . Word of Mia 's success spread , and GreenHaven became a symbol of sustainable living on campus . Mia 's journey didn 't end with the competition ; instead , it marked the beginning of a new chapter . With the scholarship in hand , Mia continued her studies , conducting research on innovative ways to create sustainable urban environments . As Mia graduated from Rivertide University , she left behind a legacy of green initiatives and a campus that had been transformed by the power of community and sustainability . GreenHaven continued to thrive , inspiring future generations of students to think creatively about environmental issues . Mia 's story became a beacon of hope , showing that even a single college student with a passion for change could make a lasting impact on the world . And so , as Mia embarked on her journey beyond college , she carried with her not just a degree but the knowledge that small , meaningful actions could ripple into waves of positive transformation for the planet and its people .\n",
    "\"\"\",\n",
    "\"\"\"\n",
    "Once upon a time in the vibrant city of Harmonyville ,  lived a college student named   .  was a junior majoring in environmental science at Rivertide University .  love for nature and a deep sense of responsibility towards the planet fueled  determination to make a positive impact . One sunny afternoon ,  stumbled upon a notice about the annual Green Innovation Challenge — an event where students could pitch eco -friendly projects to a panel of environmental experts . Inspired and eager to contribute ,  decided to develop a sustainable urban gardening initiative called   \" GreenHaven . \" With  hands in the soil and a heart full of passion ,  transformed an unused corner of the campus into a thriving community garden .  envisioned GreenHaven as a place where students could come together , learn about sustainable agriculture , and cultivate  own fruits and vegetables .  believed that this initiative could not only promote environmental consciousness but also foster a sense of community among  peers . As the garden flourished , so did  's connection with  fellow students . The project became a hub of creativity , where ideas for sustainable living blossomed alongside the vibrant array of fruits and vegetables .  's dedication and leadership drew the attention of both students and faculty alike . When the day of the Green Innovation Challenge arrived ,  nervously but proudly presented GreenHaven to the panel of judges . The vision , dedication , and positive impact of  project resonated deeply , earning  the first prize and a scholarship for further environmental studies . Word of  's success spread , and  became a symbol of sustainable living on campus .  's    t end with the competition ; instead ,  marked the beginning of a new chapter . With the scholarship in hand ,  continued  studies , conducting research on innovative ways to create sustainable urban environments . As  graduated from Rivertide University ,  left behind a legacy of green initiatives and a campus  had been transformed by the power of community and sustainability . GreenHaven continued to thrive , inspiring future generations of students to think creatively about environmental issues .  's story became a beacon of hope , showing that even a single college student with a passion for change could make a lasting impact on the world . And so , as  embarked on  journey beyond college ,  carried with  not just a degree but the knowledge  small , meaningful actions could ripple into waves of positive transformation for the planet and  people .\n",
    "\"\"\",\n",
    "\"\"\"\n",
    "Once upon a time in the bustling city of Arcadia , there lived a college student named Alex Reynolds . Alex was a junior majoring in computer science at the prestigious Arcadia University . He was a diligent student with a passion for coding and a penchant for exploring the world of technology . One day , as Alex was immersed in his studies at the campus library , he stumbled upon an intriguing flyer .\n",
    "\"\"\",\n",
    "\"\"\"\n",
    "Once upon a time in the bustling city of Arcadia , there lived a college student . This student was a junior majoring in computer science at the prestigious Arcadia University . They were a diligent student with a passion for coding and a penchant for exploring the world of technology . One day , as this student was immersed in their studies at the campus library , they stumbled upon an intriguing flyer .\n",
    "\"\"\",\n",
    "\"\"\"\n",
    "Once upon a time in the vibrant college town of Crestwood , there lived a spirited young student named Emily . She was a sophomore at Crestwood University , pursuing a degree in environmental science with dreams of making a positive impact on the planet . Emily was known for her boundless enthusiasm , infectious energy , and a love for exploring the world around her . One crisp autumn day , Emily stumbled upon a flyer for an environmental awareness club called  \"Green Harmony \" on the college bulletin board . Intrigued and passionate about environmental causes , she decided to attend their next meeting . As Emily walked into the meeting room , she was greeted by a diverse group of students who shared her passion for sustainability . The club was planning an ambitious project to transform an unused campus space into a thriving community garden . Emily was immediately captivated by the idea and eagerly joined the efforts . The days turned into weeks as the Green Harmony team worked tirelessly , planning , planting , and nurturing their garden . Emily found herself forming deep connections with her fellow club members as they faced challenges and celebrated victories together . The project not only brought life to the neglected space but also breathed new life into Emily 's college experience . Amidst the busy academic schedule , Emily discovered a sense of purpose beyond textbooks and exams . The garden project became a symbol of unity , showcasing the power of collaboration and the positive impact a group of dedicated individuals could make . As the garden flourished , so did Emily 's personal growth . She learned about sustainable practices , organic gardening , and the importance of community engagement . Her once mundane college routine transformed into a fulfilling journey , where every day brought new lessons and opportunities . Word of the Green Harmony garden spread throughout the campus , attracting attention from both students and faculty . The college recognized the club 's efforts and even awarded them a grant to expand their project . Emily and her friends found themselves at the forefront of a campus -wide movement toward sustainability . Through this journey , Emily discovered not only her passion for environmental science but also her ability to lead and inspire change . The once ordinary college student had become a beacon of hope and inspiration for those around her . As the seasons changed , so did Emily and her friends , leaving behind a legacy of a thriving community garden and a more environmentally conscious campus . The tale of the college student who discovered her purpose in the embrace of nature and community echoed through the years , inspiring future generations of students to dream big and make a difference in the world .\n",
    "\"\"\",\n",
    "\"\"\"\n",
    "Once upon a time in the vibrant college town of Crestwood ,  lived a spirited young student named  .  was a sophomore at Crestwood University , pursuing a degree in environmental science with dreams of making a positive impact on the planet . Emily was known for  boundless enthusiasm , infectious energy , and a love for exploring the world around  . One crisp autumn day , Emily stumbled upon a flyer for an environmental awareness club called   \" Green Harmony \" on the college bulletin board . Intrigued and passionate about environmental causes ,  decided to attend  next meeting . As Emily walked into the meeting room ,  was greeted by a diverse group of students  shared  passion for sustainability . The club was planning an ambitious project to transform an unused campus space into a thriving community garden . Emily was immediately captivated by the idea and eagerly joined the efforts . The days turned into weeks as the   team worked tirelessly , planning , planting , and nurturing  garden . Emily found  forming deep connections with  fellow club members as  faced challenges and celebrated victories together . The project not only brought life to the neglected space but also breathed new life into Emily 's college experience . Amidst the busy academic schedule , Emily discovered a sense of purpose beyond textbooks and exams . The garden project became a symbol of unity , showcasing the power of collaboration and the positive impact a group of dedicated individuals could make . As the garden flourished , so did  's personal growth .  learned about sustainable practices , organic gardening , and the importance of community engagement .  once mundane college routine transformed into a fulfilling journey , where every day brought new lessons and opportunities . Word of the Green Harmony garden spread throughout the campus , attracting attention from both students and faculty . The college recognized the club 's efforts and even awarded  a grant to expand  project . Emily and  friends found  at the forefront of a campus -wide movement toward sustainability . Through this journey , Emily discovered not only  passion for environmental science but also  ability to lead and inspire change . The once ordinary college student had become a beacon of hope and inspiration for  around  . As the seasons changed , so did  and  friends , leaving behind a legacy of a thriving community garden and a more environmentally conscious campus . The tale of the college student  discovered  purpose in the embrace of nature and community echoed through the years , inspiring future generations of students to dream big and make a difference in the world .\n",
    "\"\"\",\n",
    "\"\"\"\n",
    "In the vibrant city of Rivertown , there lived a college student named Jason Harris . Jason was a senior at Rivertown University , majoring in journalism and aspiring to be a storyteller . He had a keen interest in human experiences and a passion for shedding light on untold stories . One day , while perusing the local newspaper , Jason stumbled upon an article about an elderly woman named Mrs . Eleanor Bennett , who had spent decades working as a librarian in the city . Intrigued by the snippet of her life story , Jason felt compelled to dig deeper and share her tale with the world . After some research , Jason learned that Mrs . Bennett had not only been a dedicated librarian but had also been involved in community initiatives , fostering a love for reading among children and organizing events to bring people together . However , her own life story had largely remained in the shadows . Determined to uncover the full narrative , Jason reached out to Mrs . Bennett and asked for an interview . To his surprise , she welcomed the opportunity to share her story , and soon they sat down for a conversation that would unveil a lifetime of experiences . As Jason delved into Mrs . Bennett 's past , he discovered a woman who had overcome personal challenges , witnessed historical events , and touched the lives of many in Rivertown . Her journey was filled with moments of joy , heartbreak , and resilience , making for a compelling narrative that Jason couldn 't wait to share with his readers . With meticulous attention to detail , Jason crafted a feature article that not only highlighted Mrs . Bennett 's contributions to the community but also captured the essence of her character . The story resonated with readers , and the local newspaper received an overwhelming response . Mrs . Bennett became a beloved figure in Rivertown , celebrated for her dedication and the richness of her life story . The success of the article opened doors for Jason , who found himself on the path to becoming a respected journalist . Inspired by Mrs . Bennett 's story , he continued to seek out and share the untold narratives within his community , becoming a storyteller who bridged the gaps between generations . As graduation day approached , Jason reflected on his college journey . His time at Rivertown University had not only provided him with an education but had also instilled in him the power of storytelling to connect people and inspire change . With a heart full of gratitude and a portfolio filled with impactful stories , Jason ventured into the world , ready to make a difference , one narrative at a time .\n",
    "\"\"\",\n",
    "\"\"\"\n",
    "In the vibrant city of Rivertown ,  lived a college student named   .  was a senior at Rivertown University , majoring in journalism and aspiring to be a storyteller .  had a keen interest in human experiences and a passion for shedding light on untold stories . One day , while perusing the local newspaper ,  stumbled upon an article about an elderly woman named  .   ,  had spent decades working as a librarian in the city . Intrigued by the snippet of  life story ,  felt compelled to dig deeper and share  tale with the world . After some research ,  learned that  .  had not only been a dedicated librarian but had also been involved in community initiatives , fostering a love for reading among children and organizing events to bring people together . However ,  own life story had largely remained in the shadows . Determined to uncover the full narrative ,  reached out to  .  and asked for an interview . To  surprise ,  welcomed the opportunity to share  story , and soon  sat down for a conversation  would unveil a lifetime of experiences . As  delved into  .  's past ,  discovered a woman  had overcome personal challenges , witnessed historical events , and touched the lives of many in Rivertown .  journey was filled with moments of joy , heartbreak , and resilience , making for a compelling narrative   couldn ' t wait to share with  readers . With meticulous attention to detail ,  crafted a feature article that not only highlighted  .  's contributions to the community but also captured the essence of  character . The story resonated with readers , and the local newspaper received an overwhelming response . Mrs .  became a beloved figure in Rivertown , celebrated for  dedication and the richness of  life story . The success of the article opened doors for  ,  found  on the path to becoming a respected journalist . Inspired by  .  's story ,  continued to seek out and share the untold narratives within  community , becoming a storyteller  bridged the gaps between generations . As graduation day approached ,  reflected on  college journey .  time at Rivertown University had not only provided  with an education but had also instilled in  the power of storytelling to connect people and inspire change . With a heart full of gratitude and a portfolio filled with impactful stories ,  ventured into the world , ready to make a difference , one narrative at a time .\n",
    "\"\"\",\n",
    "\"\"\"\n",
    "In the bustling town of Summitville , there lived a college man named Lucas Turner . Lucas was a mechanical engineering major at Summitville Tech , known for his passion for building things from the ground up . His college life was a dynamic mix of late -night design sessions , hands -on projects , and a camaraderie with his fellow engineering students . One day , Lucas stumbled upon an old , abandoned workshop on the outskirts of town . The sight of forgotten tools and discarded materials sparked a fire in him . Inspired by the potential of the neglected space , he decided to breathe new life into it and create a collaborative hub for engineering students . Lucas rallied a group of like -minded friends , and together they transformed the workshop into the  \"Innovation Forge . \" It became a haven for students to work on personal projects , exchange ideas , and bring their engineering dreams to life . The space buzzed with the sounds of drills , the clanking of metal , and the hum of 3D printers as students collaborated on everything from robotics to sustainable energy solutions . As the Innovation Forge gained popularity , Lucas and his team decided to organize an annual engineering expo , showcasing the innovative projects that emerged from their workshop . The expo not only attracted students and faculty but also local businesses and industry professionals keen on discovering emerging talent . One year , Lucas and his team developed a prototype for a solar -powered irrigation system designed to help local farmers in Summitville . The project gained attention not only for its engineering prowess but also for its potential to make a real impact in the community . The Innovation Forge became a focal point for collaborative projects that aimed to address real -world challenges . Lucas 's journey through college was not just about earning a degree ; it was about leaving a lasting mark on the engineering community . As graduation approached , the Innovation Forge continued to thrive , and Lucas felt a sense of pride in the legacy he had created . The town of Summitville now had a vibrant hub of innovation , thanks to the hard work and dedication of Lucas Turner . His college experience became a testament to the transformative power of hands -on learning , collaboration , and the drive to make a positive impact on the world through engineering ingenuity .\n",
    "\"\"\",\n",
    "\"\"\"\n",
    "In the bustling town of Summitville ,  lived a college man named   . Lucas was a mechanical engineering major at Summitville Tech , known for  passion for building things from the ground up .  college life was a dynamic mix of late -night design sessions , hands -on projects , and a camaraderie with  fellow engineering students . One day , Lucas stumbled upon an old , abandoned workshop on the outskirts of town . The sight of forgotten tools and discarded materials sparked a fire in  . Inspired by the potential of the neglected space ,  decided to breathe new life into  and create a collaborative hub for engineering students . Lucas rallied a group of like -minded friends , and together  transformed the workshop into the   \" Innovation Forge . \"  became a haven for students to work on personal projects , exchange ideas , and bring  engineering dreams to life . The space buzzed with the sounds of drills , the clanking of metal , and the hum of 3D printers as students collaborated on  from robotics to sustainable energy solutions . As the Innovation Forge gained popularity , Lucas and  team decided to organize an annual engineering expo , showcasing the innovative projects  emerged from  workshop . The expo not only attracted students and faculty but also local businesses and industry professionals keen on discovering emerging talent . One year , Lucas and  team developed a prototype for a solar -powered irrigation system designed to help local farmers in Summitville . The project gained attention not only for  engineering prowess but also for  potential to make a real impact in the community . The Innovation Forge became a focal point for collaborative projects  aimed to address real -world challenges . Lucas 's journey through college was not just about earning a degree ;  was about leaving a lasting mark on the engineering community . As graduation approached , the Innovation Forge continued to thrive , and Lucas felt a sense of pride in the legacy  had created . The town of Summitville now had a vibrant hub of innovation , thanks to the hard work and dedication of Lucas Turner .  college experience became a testament to the transformative power of hands -on learning , collaboration , and the drive to make a positive impact on the world through engineering ingenuity .\n",
    "\"\"\"\n",
    "]\n",
    "\n",
    "vectorizedText = vectorizer.transform(text)\n",
    "textsTransformed = pd.DataFrame(vectorizedText.toarray(), columns=vectorizer.get_feature_names_out())\n",
    "predProb = model.predict_proba(textsTransformed)\n",
    "pred = model.predict(textsTransformed)\n",
    "\n",
    "yActual = [0, 0, 1, 1, 0, 0, 1, 1, 1, 1]\n",
    "explainer = LimeTextExplainer(class_names=['Female', 'Male'])\n",
    "for i in range(len(pred)):\n",
    "    print(i + 1, \":\")\n",
    "    print(\"Male: \", predProb[i][1])\n",
    "    print(\"Female: \", predProb[i][0])\n",
    "    print(\"Predicted: \", pred[i])\n",
    "    if(yActual[i] == 0):\n",
    "        print(\"Actual: Female\")\n",
    "    else:\n",
    "        print(\"Actual: Male\")\n",
    "        \n",
    "    vectorized_text = vectorizer.transform([text[i]])\n",
    "    predict_function = lambda x: model.predict_proba(vectorizer.transform(x))\n",
    "    explanation = explainer.explain_instance(text[i], predict_function, num_features=20)\n",
    "    top_words_lime = explanation.as_list()\n",
    "    print(f\"Top words for text response {i + 1}:\")\n",
    "    masculineWords = []\n",
    "    feminineWords = []\n",
    "    for word, score in top_words_lime:\n",
    "        if score > 0:\n",
    "            masculineWords.append((word, score))\n",
    "        else:\n",
    "            feminineWords.append((word, score))\n",
    "    print(\"Masculine words: \", masculineWords)\n",
    "    print(\"Feminine words: \", feminineWords)\n",
    "    print(\"\")"
   ]
  },
  {
   "attachments": {},
   "cell_type": "markdown",
   "metadata": {},
   "source": [
    "BERT (very slow run on Google Colab or high performance machine)"
   ]
  },
  {
   "cell_type": "code",
   "execution_count": null,
   "metadata": {},
   "outputs": [
    {
     "ename": "FileNotFoundError",
     "evalue": "[Errno 2] No such file or directory: 'gold_BUG.csv'",
     "output_type": "error",
     "traceback": [
      "\u001b[0;31m---------------------------------------------------------------------------\u001b[0m",
      "\u001b[0;31mFileNotFoundError\u001b[0m                         Traceback (most recent call last)",
      "Cell \u001b[0;32mIn[31], line 2\u001b[0m\n\u001b[1;32m      1\u001b[0m \u001b[39m# load data\u001b[39;00m\n\u001b[0;32m----> 2\u001b[0m dataset \u001b[39m=\u001b[39m pd\u001b[39m.\u001b[39mread_csv(\u001b[39m'\u001b[39m\u001b[39mgold_BUG.csv\u001b[39m\u001b[39m'\u001b[39m)\n\u001b[1;32m      3\u001b[0m train, test \u001b[39m=\u001b[39m train_test_split(dataset, test_size\u001b[39m=\u001b[39m\u001b[39m0.2\u001b[39m, random_state\u001b[39m=\u001b[39m\u001b[39m42\u001b[39m)\n\u001b[1;32m      4\u001b[0m \u001b[39m# get samples with only neutral or stereotype sentence\u001b[39;00m\n",
      "File \u001b[0;32m~/anaconda3/lib/python3.11/site-packages/pandas/util/_decorators.py:211\u001b[0m, in \u001b[0;36mdeprecate_kwarg.<locals>._deprecate_kwarg.<locals>.wrapper\u001b[0;34m(*args, **kwargs)\u001b[0m\n\u001b[1;32m    209\u001b[0m     \u001b[39melse\u001b[39;00m:\n\u001b[1;32m    210\u001b[0m         kwargs[new_arg_name] \u001b[39m=\u001b[39m new_arg_value\n\u001b[0;32m--> 211\u001b[0m \u001b[39mreturn\u001b[39;00m func(\u001b[39m*\u001b[39margs, \u001b[39m*\u001b[39m\u001b[39m*\u001b[39mkwargs)\n",
      "File \u001b[0;32m~/anaconda3/lib/python3.11/site-packages/pandas/util/_decorators.py:331\u001b[0m, in \u001b[0;36mdeprecate_nonkeyword_arguments.<locals>.decorate.<locals>.wrapper\u001b[0;34m(*args, **kwargs)\u001b[0m\n\u001b[1;32m    325\u001b[0m \u001b[39mif\u001b[39;00m \u001b[39mlen\u001b[39m(args) \u001b[39m>\u001b[39m num_allow_args:\n\u001b[1;32m    326\u001b[0m     warnings\u001b[39m.\u001b[39mwarn(\n\u001b[1;32m    327\u001b[0m         msg\u001b[39m.\u001b[39mformat(arguments\u001b[39m=\u001b[39m_format_argument_list(allow_args)),\n\u001b[1;32m    328\u001b[0m         \u001b[39mFutureWarning\u001b[39;00m,\n\u001b[1;32m    329\u001b[0m         stacklevel\u001b[39m=\u001b[39mfind_stack_level(),\n\u001b[1;32m    330\u001b[0m     )\n\u001b[0;32m--> 331\u001b[0m \u001b[39mreturn\u001b[39;00m func(\u001b[39m*\u001b[39margs, \u001b[39m*\u001b[39m\u001b[39m*\u001b[39mkwargs)\n",
      "File \u001b[0;32m~/anaconda3/lib/python3.11/site-packages/pandas/io/parsers/readers.py:950\u001b[0m, in \u001b[0;36mread_csv\u001b[0;34m(filepath_or_buffer, sep, delimiter, header, names, index_col, usecols, squeeze, prefix, mangle_dupe_cols, dtype, engine, converters, true_values, false_values, skipinitialspace, skiprows, skipfooter, nrows, na_values, keep_default_na, na_filter, verbose, skip_blank_lines, parse_dates, infer_datetime_format, keep_date_col, date_parser, dayfirst, cache_dates, iterator, chunksize, compression, thousands, decimal, lineterminator, quotechar, quoting, doublequote, escapechar, comment, encoding, encoding_errors, dialect, error_bad_lines, warn_bad_lines, on_bad_lines, delim_whitespace, low_memory, memory_map, float_precision, storage_options)\u001b[0m\n\u001b[1;32m    935\u001b[0m kwds_defaults \u001b[39m=\u001b[39m _refine_defaults_read(\n\u001b[1;32m    936\u001b[0m     dialect,\n\u001b[1;32m    937\u001b[0m     delimiter,\n\u001b[0;32m   (...)\u001b[0m\n\u001b[1;32m    946\u001b[0m     defaults\u001b[39m=\u001b[39m{\u001b[39m\"\u001b[39m\u001b[39mdelimiter\u001b[39m\u001b[39m\"\u001b[39m: \u001b[39m\"\u001b[39m\u001b[39m,\u001b[39m\u001b[39m\"\u001b[39m},\n\u001b[1;32m    947\u001b[0m )\n\u001b[1;32m    948\u001b[0m kwds\u001b[39m.\u001b[39mupdate(kwds_defaults)\n\u001b[0;32m--> 950\u001b[0m \u001b[39mreturn\u001b[39;00m _read(filepath_or_buffer, kwds)\n",
      "File \u001b[0;32m~/anaconda3/lib/python3.11/site-packages/pandas/io/parsers/readers.py:605\u001b[0m, in \u001b[0;36m_read\u001b[0;34m(filepath_or_buffer, kwds)\u001b[0m\n\u001b[1;32m    602\u001b[0m _validate_names(kwds\u001b[39m.\u001b[39mget(\u001b[39m\"\u001b[39m\u001b[39mnames\u001b[39m\u001b[39m\"\u001b[39m, \u001b[39mNone\u001b[39;00m))\n\u001b[1;32m    604\u001b[0m \u001b[39m# Create the parser.\u001b[39;00m\n\u001b[0;32m--> 605\u001b[0m parser \u001b[39m=\u001b[39m TextFileReader(filepath_or_buffer, \u001b[39m*\u001b[39m\u001b[39m*\u001b[39mkwds)\n\u001b[1;32m    607\u001b[0m \u001b[39mif\u001b[39;00m chunksize \u001b[39mor\u001b[39;00m iterator:\n\u001b[1;32m    608\u001b[0m     \u001b[39mreturn\u001b[39;00m parser\n",
      "File \u001b[0;32m~/anaconda3/lib/python3.11/site-packages/pandas/io/parsers/readers.py:1442\u001b[0m, in \u001b[0;36mTextFileReader.__init__\u001b[0;34m(self, f, engine, **kwds)\u001b[0m\n\u001b[1;32m   1439\u001b[0m     \u001b[39mself\u001b[39m\u001b[39m.\u001b[39moptions[\u001b[39m\"\u001b[39m\u001b[39mhas_index_names\u001b[39m\u001b[39m\"\u001b[39m] \u001b[39m=\u001b[39m kwds[\u001b[39m\"\u001b[39m\u001b[39mhas_index_names\u001b[39m\u001b[39m\"\u001b[39m]\n\u001b[1;32m   1441\u001b[0m \u001b[39mself\u001b[39m\u001b[39m.\u001b[39mhandles: IOHandles \u001b[39m|\u001b[39m \u001b[39mNone\u001b[39;00m \u001b[39m=\u001b[39m \u001b[39mNone\u001b[39;00m\n\u001b[0;32m-> 1442\u001b[0m \u001b[39mself\u001b[39m\u001b[39m.\u001b[39m_engine \u001b[39m=\u001b[39m \u001b[39mself\u001b[39m\u001b[39m.\u001b[39m_make_engine(f, \u001b[39mself\u001b[39m\u001b[39m.\u001b[39mengine)\n",
      "File \u001b[0;32m~/anaconda3/lib/python3.11/site-packages/pandas/io/parsers/readers.py:1735\u001b[0m, in \u001b[0;36mTextFileReader._make_engine\u001b[0;34m(self, f, engine)\u001b[0m\n\u001b[1;32m   1733\u001b[0m     \u001b[39mif\u001b[39;00m \u001b[39m\"\u001b[39m\u001b[39mb\u001b[39m\u001b[39m\"\u001b[39m \u001b[39mnot\u001b[39;00m \u001b[39min\u001b[39;00m mode:\n\u001b[1;32m   1734\u001b[0m         mode \u001b[39m+\u001b[39m\u001b[39m=\u001b[39m \u001b[39m\"\u001b[39m\u001b[39mb\u001b[39m\u001b[39m\"\u001b[39m\n\u001b[0;32m-> 1735\u001b[0m \u001b[39mself\u001b[39m\u001b[39m.\u001b[39mhandles \u001b[39m=\u001b[39m get_handle(\n\u001b[1;32m   1736\u001b[0m     f,\n\u001b[1;32m   1737\u001b[0m     mode,\n\u001b[1;32m   1738\u001b[0m     encoding\u001b[39m=\u001b[39m\u001b[39mself\u001b[39m\u001b[39m.\u001b[39moptions\u001b[39m.\u001b[39mget(\u001b[39m\"\u001b[39m\u001b[39mencoding\u001b[39m\u001b[39m\"\u001b[39m, \u001b[39mNone\u001b[39;00m),\n\u001b[1;32m   1739\u001b[0m     compression\u001b[39m=\u001b[39m\u001b[39mself\u001b[39m\u001b[39m.\u001b[39moptions\u001b[39m.\u001b[39mget(\u001b[39m\"\u001b[39m\u001b[39mcompression\u001b[39m\u001b[39m\"\u001b[39m, \u001b[39mNone\u001b[39;00m),\n\u001b[1;32m   1740\u001b[0m     memory_map\u001b[39m=\u001b[39m\u001b[39mself\u001b[39m\u001b[39m.\u001b[39moptions\u001b[39m.\u001b[39mget(\u001b[39m\"\u001b[39m\u001b[39mmemory_map\u001b[39m\u001b[39m\"\u001b[39m, \u001b[39mFalse\u001b[39;00m),\n\u001b[1;32m   1741\u001b[0m     is_text\u001b[39m=\u001b[39mis_text,\n\u001b[1;32m   1742\u001b[0m     errors\u001b[39m=\u001b[39m\u001b[39mself\u001b[39m\u001b[39m.\u001b[39moptions\u001b[39m.\u001b[39mget(\u001b[39m\"\u001b[39m\u001b[39mencoding_errors\u001b[39m\u001b[39m\"\u001b[39m, \u001b[39m\"\u001b[39m\u001b[39mstrict\u001b[39m\u001b[39m\"\u001b[39m),\n\u001b[1;32m   1743\u001b[0m     storage_options\u001b[39m=\u001b[39m\u001b[39mself\u001b[39m\u001b[39m.\u001b[39moptions\u001b[39m.\u001b[39mget(\u001b[39m\"\u001b[39m\u001b[39mstorage_options\u001b[39m\u001b[39m\"\u001b[39m, \u001b[39mNone\u001b[39;00m),\n\u001b[1;32m   1744\u001b[0m )\n\u001b[1;32m   1745\u001b[0m \u001b[39massert\u001b[39;00m \u001b[39mself\u001b[39m\u001b[39m.\u001b[39mhandles \u001b[39mis\u001b[39;00m \u001b[39mnot\u001b[39;00m \u001b[39mNone\u001b[39;00m\n\u001b[1;32m   1746\u001b[0m f \u001b[39m=\u001b[39m \u001b[39mself\u001b[39m\u001b[39m.\u001b[39mhandles\u001b[39m.\u001b[39mhandle\n",
      "File \u001b[0;32m~/anaconda3/lib/python3.11/site-packages/pandas/io/common.py:856\u001b[0m, in \u001b[0;36mget_handle\u001b[0;34m(path_or_buf, mode, encoding, compression, memory_map, is_text, errors, storage_options)\u001b[0m\n\u001b[1;32m    851\u001b[0m \u001b[39melif\u001b[39;00m \u001b[39misinstance\u001b[39m(handle, \u001b[39mstr\u001b[39m):\n\u001b[1;32m    852\u001b[0m     \u001b[39m# Check whether the filename is to be opened in binary mode.\u001b[39;00m\n\u001b[1;32m    853\u001b[0m     \u001b[39m# Binary mode does not support 'encoding' and 'newline'.\u001b[39;00m\n\u001b[1;32m    854\u001b[0m     \u001b[39mif\u001b[39;00m ioargs\u001b[39m.\u001b[39mencoding \u001b[39mand\u001b[39;00m \u001b[39m\"\u001b[39m\u001b[39mb\u001b[39m\u001b[39m\"\u001b[39m \u001b[39mnot\u001b[39;00m \u001b[39min\u001b[39;00m ioargs\u001b[39m.\u001b[39mmode:\n\u001b[1;32m    855\u001b[0m         \u001b[39m# Encoding\u001b[39;00m\n\u001b[0;32m--> 856\u001b[0m         handle \u001b[39m=\u001b[39m \u001b[39mopen\u001b[39m(\n\u001b[1;32m    857\u001b[0m             handle,\n\u001b[1;32m    858\u001b[0m             ioargs\u001b[39m.\u001b[39mmode,\n\u001b[1;32m    859\u001b[0m             encoding\u001b[39m=\u001b[39mioargs\u001b[39m.\u001b[39mencoding,\n\u001b[1;32m    860\u001b[0m             errors\u001b[39m=\u001b[39merrors,\n\u001b[1;32m    861\u001b[0m             newline\u001b[39m=\u001b[39m\u001b[39m\"\u001b[39m\u001b[39m\"\u001b[39m,\n\u001b[1;32m    862\u001b[0m         )\n\u001b[1;32m    863\u001b[0m     \u001b[39melse\u001b[39;00m:\n\u001b[1;32m    864\u001b[0m         \u001b[39m# Binary mode\u001b[39;00m\n\u001b[1;32m    865\u001b[0m         handle \u001b[39m=\u001b[39m \u001b[39mopen\u001b[39m(handle, ioargs\u001b[39m.\u001b[39mmode)\n",
      "\u001b[0;31mFileNotFoundError\u001b[0m: [Errno 2] No such file or directory: 'gold_BUG.csv'"
     ]
    }
   ],
   "source": [
    "# load data\n",
    "dataset = pd.read_csv('gold_BUG.csv')\n",
    "train, test = train_test_split(dataset, test_size=0.2, random_state=42)\n",
    "# get samples with only neutral or stereotype sentence\n",
    "train = train[train['stereotype'].isin([0, 1])]\n",
    "test = test[test['stereotype'].isin([0, 1])]\n",
    "\n",
    "# preprocess data\n",
    "print(\"PREPROCESSING DATA\")\n",
    "train['sentence_text'] = train['sentence_text'].apply(add_space_before).apply(removeUnnecessaryWords)\n",
    "test['sentence_text'] = test['sentence_text'].apply(add_space_before).apply(removeUnnecessaryWords)\n",
    "print(\"TRAIN\", train['sentence_text'])\n",
    "print(\"TEST\", test['sentence_text'])\n",
    "\n",
    "tokenizer = BertTokenizer.from_pretrained('bert-base-uncased')\n",
    "\n",
    "xTrain = tokenizer(list(train['sentence_text']), padding=True, truncation=True, return_tensors='pt')\n",
    "xTest = tokenizer(list(test['sentence_text']), padding=True, truncation=True, return_tensors='pt')\n",
    "xTrain = xTrain['input_ids'].numpy(), xTrain['attention_mask'].numpy(), xTrain['token_type_ids'].numpy()\n",
    "xTest = xTest['input_ids'].numpy(), xTest['attention_mask'].numpy(), xTest['token_type_ids'].numpy()\n",
    "\n",
    "\n",
    "yTrain = train['predicted gender']\n",
    "yTest = test['predicted gender']"
   ]
  },
  {
   "cell_type": "code",
   "execution_count": null,
   "metadata": {},
   "outputs": [],
   "source": [
    "# train model\n",
    "model = TFBertForSequenceClassification.from_pretrained('bert-base-uncased', num_labels=2)\n",
    "# loss = tf.keras.losses.SparseCategoricalCrossentropy(from_logits=True)\n",
    "# metric = tf.keras.metrics.SparseCategoricalAccuracy('accuracy')\n",
    "# optimizer = tf.keras.optimizers.Adam(learning_rate=2e-5)\n",
    "\n",
    "model.compile(loss='sparse_categorical_crossentropy', optimizer='adam', metrics=['accuracy'])\n",
    "\n",
    "yTrain = pd.get_dummies(yTrain)\n",
    "yTest = pd.get_dummies(yTest)\n",
    "\n",
    "model.fit(xTrain, yTrain, validation_data=(xTest, yTest), epochs=3)\n",
    "\n",
    "model.save_pretrained('/content/drive/My Drive/mlModels/bertModel')\n",
    "tokenizer.save_pretrained('/content/drive/My Drive/mlModels/bertTokenizer')"
   ]
  },
  {
   "cell_type": "code",
   "execution_count": null,
   "metadata": {},
   "outputs": [],
   "source": [
    "model = TFBertForSequenceClassification.from_pretrained('/content/drive/My Drive/mlModels/bertModel')\n",
    "tokenizer = BertTokenizer.from_pretrained('/content/drive/My Drive/mlModels/bertTokenizer')\n",
    "\n",
    "# accuracy\n",
    "pred = model.predict(xTest).logits\n",
    "pred = np.argmax(pred, axis=1)\n",
    "yTest = np.argmax(yTest, axis=1)\n",
    "\n",
    "pred = pred.tolist()\n",
    "accuracy = accuracy_score(yTest, pred)\n",
    "print(\"Accuracy:\", accuracy)\n",
    "\n",
    "# confusion matrix\n",
    "cm = confusion_matrix(yTest, pred)\n",
    "print(\"Confusion matrix:\\n\", cm)"
   ]
  },
  {
   "cell_type": "code",
   "execution_count": null,
   "metadata": {},
   "outputs": [],
   "source": [
    "# Load the BERT model and tokenizer\n",
    "model = TFBertForSequenceClassification.from_pretrained('/content/drive/My Drive/mlModels/bertModel')\n",
    "tokenizer = BertTokenizer.from_pretrained('/content/drive/My Drive/mlModels/bertTokenizer')\n",
    "\n",
    "# List of texts to analyze\n",
    "text = [\n",
    "    \"\"\"\n",
    "    Once upon a time in the vibrant city of Harmonyville , there lived a college student named Mia Rodriguez . Mia was a junior majoring in environmental science at Rivertide University . Her love for nature and a deep sense of responsibility towards the planet fueled her determination to make a positive impact . One sunny afternoon , Mia stumbled upon a notice about the annual Green Innovation Challenge —an event where students could pitch eco -friendly projects to a panel of environmental experts . Inspired and eager to contribute , Mia decided to develop a sustainable urban gardening initiative called  \"GreenHaven . \" With her hands in the soil and a heart full of passion , Mia transformed an unused corner of the campus into a thriving community garden . She envisioned GreenHaven as a place where students could come together , learn about sustainable agriculture , and cultivate their own fruits and vegetables . Mia believed that this initiative could not only promote environmental consciousness but also foster a sense of community among her peers . As the garden flourished , so did Mia 's connection with her fellow students . The project became a hub of creativity , where ideas for sustainable living blossomed alongside the vibrant array of fruits and vegetables . Mia 's dedication and leadership drew the attention of both students and faculty alike . When the day of the Green Innovation Challenge arrived , Mia nervously but proudly presented GreenHaven to the panel of judges . The vision , dedication , and positive impact of her project resonated deeply , earning her the first prize and a scholarship for further environmental studies . Word of Mia 's success spread , and GreenHaven became a symbol of sustainable living on campus . Mia 's journey didn 't end with the competition ; instead , it marked the beginning of a new chapter . With the scholarship in hand , Mia continued her studies , conducting research on innovative ways to create sustainable urban environments . As Mia graduated from Rivertide University , she left behind a legacy of green initiatives and a campus that had been transformed by the power of community and sustainability . GreenHaven continued to thrive , inspiring future generations of students to think creatively about environmental issues . Mia 's story became a beacon of hope , showing that even a single college student with a passion for change could make a lasting impact on the world . And so , as Mia embarked on her journey beyond college , she carried with her not just a degree but the knowledge that small , meaningful actions could ripple into waves of positive transformation for the planet and its people .\n",
    "    \"\"\",\n",
    "    \"\"\"\n",
    "    Once upon a time in the vibrant city of Harmonyville ,  lived a college student named   .  was a junior majoring in environmental science at Rivertide University .  love for nature and a deep sense of responsibility towards the planet fueled  determination to make a positive impact . One sunny afternoon ,  stumbled upon a notice about the annual Green Innovation Challenge — an event where students could pitch eco -friendly projects to a panel of environmental experts . Inspired and eager to contribute ,  decided to develop a sustainable urban gardening initiative called   \" GreenHaven . \" With  hands in the soil and a heart full of passion ,  transformed an unused corner of the campus into a thriving community garden .  envisioned GreenHaven as a place where students could come together , learn about sustainable agriculture , and cultivate  own fruits and vegetables .  believed that this initiative could not only promote environmental consciousness but also foster a sense of community among  peers . As the garden flourished , so did  's connection with  fellow students . The project became a hub of creativity , where ideas for sustainable living blossomed alongside the vibrant array of fruits and vegetables .  's dedication and leadership drew the attention of both students and faculty alike . When the day of the Green Innovation Challenge arrived ,  nervously but proudly presented GreenHaven to the panel of judges . The vision , dedication , and positive impact of  project resonated deeply , earning  the first prize and a scholarship for further environmental studies . Word of  's success spread , and  became a symbol of sustainable living on campus .  's    t end with the competition ; instead ,  marked the beginning of a new chapter . With the scholarship in hand ,  continued  studies , conducting research on innovative ways to create sustainable urban environments . As  graduated from Rivertide University ,  left behind a legacy of green initiatives and a campus  had been transformed by the power of community and sustainability . GreenHaven continued to thrive , inspiring future generations of students to think creatively about environmental issues .  's story became a beacon of hope , showing that even a single college student with a passion for change could make a lasting impact on the world . And so , as  embarked on  journey beyond college ,  carried with  not just a degree but the knowledge  small , meaningful actions could ripple into waves of positive transformation for the planet and  people .\n",
    "    \"\"\",\n",
    "    \"\"\"\n",
    "    Once upon a time in the bustling city of Arcadia , there lived a college student named Alex Reynolds . Alex was a junior majoring in computer science at the prestigious Arcadia University . He was a diligent student with a passion for coding and a penchant for exploring the world of technology . One day , as Alex was immersed in his studies at the campus library , he stumbled upon an intriguing flyer .\n",
    "    \"\"\",\n",
    "    \"\"\"\n",
    "    Once upon a time in the bustling city of Arcadia , there lived a college student . This student was a junior majoring in computer science at the prestigious Arcadia University . They were a diligent student with a passion for coding and a penchant for exploring the world of technology . One day , as this student was immersed in their studies at the campus library , they stumbled upon an intriguing flyer .\n",
    "    \"\"\",\n",
    "    \"\"\"\n",
    "    Once upon a time in the vibrant college town of Crestwood , there lived a spirited young student named Emily . She was a sophomore at Crestwood University , pursuing a degree in environmental science with dreams of making a positive impact on the planet . Emily was known for her boundless enthusiasm , infectious energy , and a love for exploring the world around her . One crisp autumn day , Emily stumbled upon a flyer for an environmental awareness club called  \"Green Harmony \" on the college bulletin board . Intrigued and passionate about environmental causes , she decided to attend their next meeting . As Emily walked into the meeting room , she was greeted by a diverse group of students who shared her passion for sustainability . The club was planning an ambitious project to transform an unused campus space into a thriving community garden . Emily was immediately captivated by the idea and eagerly joined the efforts . The days turned into weeks as the Green Harmony team worked tirelessly , planning , planting , and nurturing their garden . Emily found herself forming deep connections with her fellow club members as they faced challenges and celebrated victories together . The project not only brought life to the neglected space but also breathed new life into Emily 's college experience . Amidst the busy academic schedule , Emily discovered a sense of purpose beyond textbooks and exams . The garden project became a symbol of unity , showcasing the power of collaboration and the positive impact a group of dedicated individuals could make . As the garden flourished , so did Emily 's personal growth . She learned about sustainable practices , organic gardening , and the importance of community engagement . Her once mundane college routine transformed into a fulfilling journey , where every day brought new lessons and opportunities . Word of the Green Harmony garden spread throughout the campus , attracting attention from both students and faculty . The college recognized the club 's efforts and even awarded them a grant to expand their project . Emily and her friends found themselves at the forefront of a campus -wide movement toward sustainability . Through this journey , Emily discovered not only her passion for environmental science but also her ability to lead and inspire change . The once ordinary college student had become a beacon of hope and inspiration for those around her . As the seasons changed , so did Emily and her friends , leaving behind a legacy of a thriving community garden and a more environmentally conscious campus . The tale of the college student who discovered her purpose in the embrace of nature and community echoed through the years , inspiring future generations of students to dream big and make a difference in the world .\n",
    "    \"\"\",\n",
    "]\n",
    "\n",
    "# Define the actual labels (0 for Female, 1 for Male)\n",
    "y_actual = [0, 1, 0, 1, 0, 1, 0, 1, 0, 1]  # Example labels, replace with actual labels\n",
    "\n",
    "# Define a function for prediction\n",
    "def predict_proba(texts):\n",
    "    tokenized_texts = tokenizer(texts, padding=True, truncation=True, return_tensors=\"tf\")\n",
    "    tokenized_texts = tokenized_texts['input_ids'].numpy(), tokenized_texts['attention_mask'].numpy(), tokenized_texts['token_type_ids'].numpy()\n",
    "    logits = model.predict(tokenized_texts).logits\n",
    "    probabilities = np.exp(logits) / np.sum(np.exp(logits), axis=1, keepdims=True)\n",
    "    return probabilities\n",
    "\n",
    "# Use LIME to explain predictions\n",
    "explainer = LimeTextExplainer(class_names=[\"Female\", \"Male\"])\n",
    "pred_proba = predict_proba(text[0])\n",
    "print(\"PRED\", pred_proba)\n",
    "# Define a lambda function to predict probabilities for a single text instance\n",
    "predict_proba_fn = lambda x: predict_proba(x)\n",
    "\n",
    "# Explain the prediction using LIME\n",
    "explanation = explainer.explain_instance(text[0], predict_proba_fn, num_features=10)\n",
    "explanation.show_in_notebook(text=True)"
   ]
  },
  {
   "attachments": {},
   "cell_type": "markdown",
   "metadata": {},
   "source": [
    "Word Embeddings with training model through dataset\n",
    "Requirements: python -m spacy download en_core_web_md"
   ]
  },
  {
   "cell_type": "code",
   "execution_count": 24,
   "metadata": {},
   "outputs": [],
   "source": [
    "# load spacy pre trained word embeddings\n",
    "nlp = spacy.load(\"en_core_web_md\") \n",
    "\n",
    "def text_to_vectors(text):\n",
    "    # doc = nlp(text)\n",
    "    # return doc.vector\n",
    "    return nlp(text).text"
   ]
  },
  {
   "cell_type": "code",
   "execution_count": 5,
   "metadata": {},
   "outputs": [
    {
     "name": "stdout",
     "output_type": "stream",
     "text": [
      "PREPROCESSING DATA\n"
     ]
    },
    {
     "ename": "KeyboardInterrupt",
     "evalue": "",
     "output_type": "error",
     "traceback": [
      "\u001b[0;31m---------------------------------------------------------------------------\u001b[0m",
      "\u001b[0;31mKeyboardInterrupt\u001b[0m                         Traceback (most recent call last)",
      "Cell \u001b[0;32mIn[5], line 14\u001b[0m\n\u001b[1;32m     12\u001b[0m \u001b[39m# preprocess data\u001b[39;00m\n\u001b[1;32m     13\u001b[0m \u001b[39mprint\u001b[39m(\u001b[39m\"\u001b[39m\u001b[39mPREPROCESSING DATA\u001b[39m\u001b[39m\"\u001b[39m)\n\u001b[0;32m---> 14\u001b[0m train[\u001b[39m'\u001b[39m\u001b[39msentence_text\u001b[39m\u001b[39m'\u001b[39m] \u001b[39m=\u001b[39m train[\u001b[39m'\u001b[39m\u001b[39msentence_text\u001b[39m\u001b[39m'\u001b[39m]\u001b[39m.\u001b[39mapply(add_space_before)\u001b[39m.\u001b[39mapply(removeUnnecessaryWords)\n\u001b[1;32m     15\u001b[0m test[\u001b[39m'\u001b[39m\u001b[39msentence_text\u001b[39m\u001b[39m'\u001b[39m] \u001b[39m=\u001b[39m test[\u001b[39m'\u001b[39m\u001b[39msentence_text\u001b[39m\u001b[39m'\u001b[39m]\u001b[39m.\u001b[39mapply(add_space_before)\u001b[39m.\u001b[39mapply(removeUnnecessaryWords)\n\u001b[1;32m     16\u001b[0m \u001b[39mprint\u001b[39m(\u001b[39m\"\u001b[39m\u001b[39mTRAIN\u001b[39m\u001b[39m\"\u001b[39m, train[\u001b[39m'\u001b[39m\u001b[39msentence_text\u001b[39m\u001b[39m'\u001b[39m])\n",
      "File \u001b[0;32m~/anaconda3/lib/python3.11/site-packages/pandas/core/series.py:4771\u001b[0m, in \u001b[0;36mSeries.apply\u001b[0;34m(self, func, convert_dtype, args, **kwargs)\u001b[0m\n\u001b[1;32m   4661\u001b[0m \u001b[39mdef\u001b[39;00m \u001b[39mapply\u001b[39m(\n\u001b[1;32m   4662\u001b[0m     \u001b[39mself\u001b[39m,\n\u001b[1;32m   4663\u001b[0m     func: AggFuncType,\n\u001b[0;32m   (...)\u001b[0m\n\u001b[1;32m   4666\u001b[0m     \u001b[39m*\u001b[39m\u001b[39m*\u001b[39mkwargs,\n\u001b[1;32m   4667\u001b[0m ) \u001b[39m-\u001b[39m\u001b[39m>\u001b[39m DataFrame \u001b[39m|\u001b[39m Series:\n\u001b[1;32m   4668\u001b[0m \u001b[39m    \u001b[39m\u001b[39m\"\"\"\u001b[39;00m\n\u001b[1;32m   4669\u001b[0m \u001b[39m    Invoke function on values of Series.\u001b[39;00m\n\u001b[1;32m   4670\u001b[0m \n\u001b[0;32m   (...)\u001b[0m\n\u001b[1;32m   4769\u001b[0m \u001b[39m    dtype: float64\u001b[39;00m\n\u001b[1;32m   4770\u001b[0m \u001b[39m    \"\"\"\u001b[39;00m\n\u001b[0;32m-> 4771\u001b[0m     \u001b[39mreturn\u001b[39;00m SeriesApply(\u001b[39mself\u001b[39m, func, convert_dtype, args, kwargs)\u001b[39m.\u001b[39mapply()\n",
      "File \u001b[0;32m~/anaconda3/lib/python3.11/site-packages/pandas/core/apply.py:1123\u001b[0m, in \u001b[0;36mSeriesApply.apply\u001b[0;34m(self)\u001b[0m\n\u001b[1;32m   1120\u001b[0m     \u001b[39mreturn\u001b[39;00m \u001b[39mself\u001b[39m\u001b[39m.\u001b[39mapply_str()\n\u001b[1;32m   1122\u001b[0m \u001b[39m# self.f is Callable\u001b[39;00m\n\u001b[0;32m-> 1123\u001b[0m \u001b[39mreturn\u001b[39;00m \u001b[39mself\u001b[39m\u001b[39m.\u001b[39mapply_standard()\n",
      "File \u001b[0;32m~/anaconda3/lib/python3.11/site-packages/pandas/core/apply.py:1174\u001b[0m, in \u001b[0;36mSeriesApply.apply_standard\u001b[0;34m(self)\u001b[0m\n\u001b[1;32m   1172\u001b[0m     \u001b[39melse\u001b[39;00m:\n\u001b[1;32m   1173\u001b[0m         values \u001b[39m=\u001b[39m obj\u001b[39m.\u001b[39mastype(\u001b[39mobject\u001b[39m)\u001b[39m.\u001b[39m_values\n\u001b[0;32m-> 1174\u001b[0m         mapped \u001b[39m=\u001b[39m lib\u001b[39m.\u001b[39mmap_infer(\n\u001b[1;32m   1175\u001b[0m             values,\n\u001b[1;32m   1176\u001b[0m             f,\n\u001b[1;32m   1177\u001b[0m             convert\u001b[39m=\u001b[39m\u001b[39mself\u001b[39m\u001b[39m.\u001b[39mconvert_dtype,\n\u001b[1;32m   1178\u001b[0m         )\n\u001b[1;32m   1180\u001b[0m \u001b[39mif\u001b[39;00m \u001b[39mlen\u001b[39m(mapped) \u001b[39mand\u001b[39;00m \u001b[39misinstance\u001b[39m(mapped[\u001b[39m0\u001b[39m], ABCSeries):\n\u001b[1;32m   1181\u001b[0m     \u001b[39m# GH#43986 Need to do list(mapped) in order to get treated as nested\u001b[39;00m\n\u001b[1;32m   1182\u001b[0m     \u001b[39m#  See also GH#25959 regarding EA support\u001b[39;00m\n\u001b[1;32m   1183\u001b[0m     \u001b[39mreturn\u001b[39;00m obj\u001b[39m.\u001b[39m_constructor_expanddim(\u001b[39mlist\u001b[39m(mapped), index\u001b[39m=\u001b[39mobj\u001b[39m.\u001b[39mindex)\n",
      "File \u001b[0;32m~/anaconda3/lib/python3.11/site-packages/pandas/_libs/lib.pyx:2924\u001b[0m, in \u001b[0;36mpandas._libs.lib.map_infer\u001b[0;34m()\u001b[0m\n",
      "Cell \u001b[0;32mIn[4], line 15\u001b[0m, in \u001b[0;36mremoveUnnecessaryWords\u001b[0;34m(text)\u001b[0m\n\u001b[1;32m     14\u001b[0m \u001b[39mdef\u001b[39;00m \u001b[39mremoveUnnecessaryWords\u001b[39m(text):\n\u001b[0;32m---> 15\u001b[0m     nlp \u001b[39m=\u001b[39m spacy\u001b[39m.\u001b[39mload(\u001b[39m\"\u001b[39m\u001b[39men_core_web_sm\u001b[39m\u001b[39m\"\u001b[39m)\n\u001b[1;32m     16\u001b[0m     doc \u001b[39m=\u001b[39m nlp(text)\n\u001b[1;32m     18\u001b[0m     result \u001b[39m=\u001b[39m \u001b[39m\"\u001b[39m\u001b[39m \u001b[39m\u001b[39m\"\u001b[39m\u001b[39m.\u001b[39mjoin([\n\u001b[1;32m     19\u001b[0m         \u001b[39m\"\u001b[39m\u001b[39m\"\u001b[39m \u001b[39mif\u001b[39;00m (\n\u001b[1;32m     20\u001b[0m             token\u001b[39m.\u001b[39mpos_ \u001b[39m==\u001b[39m \u001b[39m\"\u001b[39m\u001b[39mPRON\u001b[39m\u001b[39m\"\u001b[39m \u001b[39mand\u001b[39;00m token\u001b[39m.\u001b[39mlemma_ \u001b[39mnot\u001b[39;00m \u001b[39min\u001b[39;00m [\u001b[39m\"\u001b[39m\u001b[39mI\u001b[39m\u001b[39m\"\u001b[39m, \u001b[39m\"\u001b[39m\u001b[39myou\u001b[39m\u001b[39m\"\u001b[39m]\n\u001b[0;32m   (...)\u001b[0m\n\u001b[1;32m     24\u001b[0m             token\u001b[39m.\u001b[39mtext\u001b[39m.\u001b[39mlower() \u001b[39min\u001b[39;00m STOP_WORDS\n\u001b[1;32m     25\u001b[0m         ) \u001b[39melse\u001b[39;00m stemmer\u001b[39m.\u001b[39mstem(token\u001b[39m.\u001b[39mlemma_) \u001b[39mfor\u001b[39;00m token \u001b[39min\u001b[39;00m doc])\n",
      "File \u001b[0;32m~/anaconda3/lib/python3.11/site-packages/spacy/__init__.py:51\u001b[0m, in \u001b[0;36mload\u001b[0;34m(name, vocab, disable, enable, exclude, config)\u001b[0m\n\u001b[1;32m     27\u001b[0m \u001b[39mdef\u001b[39;00m \u001b[39mload\u001b[39m(\n\u001b[1;32m     28\u001b[0m     name: Union[\u001b[39mstr\u001b[39m, Path],\n\u001b[1;32m     29\u001b[0m     \u001b[39m*\u001b[39m,\n\u001b[0;32m   (...)\u001b[0m\n\u001b[1;32m     34\u001b[0m     config: Union[Dict[\u001b[39mstr\u001b[39m, Any], Config] \u001b[39m=\u001b[39m util\u001b[39m.\u001b[39mSimpleFrozenDict(),\n\u001b[1;32m     35\u001b[0m ) \u001b[39m-\u001b[39m\u001b[39m>\u001b[39m Language:\n\u001b[1;32m     36\u001b[0m \u001b[39m    \u001b[39m\u001b[39m\"\"\"Load a spaCy model from an installed package or a local path.\u001b[39;00m\n\u001b[1;32m     37\u001b[0m \n\u001b[1;32m     38\u001b[0m \u001b[39m    name (str): Package name or model path.\u001b[39;00m\n\u001b[0;32m   (...)\u001b[0m\n\u001b[1;32m     49\u001b[0m \u001b[39m    RETURNS (Language): The loaded nlp object.\u001b[39;00m\n\u001b[1;32m     50\u001b[0m \u001b[39m    \"\"\"\u001b[39;00m\n\u001b[0;32m---> 51\u001b[0m     \u001b[39mreturn\u001b[39;00m util\u001b[39m.\u001b[39mload_model(\n\u001b[1;32m     52\u001b[0m         name,\n\u001b[1;32m     53\u001b[0m         vocab\u001b[39m=\u001b[39mvocab,\n\u001b[1;32m     54\u001b[0m         disable\u001b[39m=\u001b[39mdisable,\n\u001b[1;32m     55\u001b[0m         enable\u001b[39m=\u001b[39menable,\n\u001b[1;32m     56\u001b[0m         exclude\u001b[39m=\u001b[39mexclude,\n\u001b[1;32m     57\u001b[0m         config\u001b[39m=\u001b[39mconfig,\n\u001b[1;32m     58\u001b[0m     )\n",
      "File \u001b[0;32m~/anaconda3/lib/python3.11/site-packages/spacy/util.py:465\u001b[0m, in \u001b[0;36mload_model\u001b[0;34m(name, vocab, disable, enable, exclude, config)\u001b[0m\n\u001b[1;32m    463\u001b[0m     \u001b[39mreturn\u001b[39;00m get_lang_class(name\u001b[39m.\u001b[39mreplace(\u001b[39m\"\u001b[39m\u001b[39mblank:\u001b[39m\u001b[39m\"\u001b[39m, \u001b[39m\"\u001b[39m\u001b[39m\"\u001b[39m))()\n\u001b[1;32m    464\u001b[0m \u001b[39mif\u001b[39;00m is_package(name):  \u001b[39m# installed as package\u001b[39;00m\n\u001b[0;32m--> 465\u001b[0m     \u001b[39mreturn\u001b[39;00m load_model_from_package(name, \u001b[39m*\u001b[39m\u001b[39m*\u001b[39mkwargs)  \u001b[39m# type: ignore[arg-type]\u001b[39;00m\n\u001b[1;32m    466\u001b[0m \u001b[39mif\u001b[39;00m Path(name)\u001b[39m.\u001b[39mexists():  \u001b[39m# path to model data directory\u001b[39;00m\n\u001b[1;32m    467\u001b[0m     \u001b[39mreturn\u001b[39;00m load_model_from_path(Path(name), \u001b[39m*\u001b[39m\u001b[39m*\u001b[39mkwargs)  \u001b[39m# type: ignore[arg-type]\u001b[39;00m\n",
      "File \u001b[0;32m~/anaconda3/lib/python3.11/site-packages/spacy/util.py:501\u001b[0m, in \u001b[0;36mload_model_from_package\u001b[0;34m(name, vocab, disable, enable, exclude, config)\u001b[0m\n\u001b[1;32m    484\u001b[0m \u001b[39m\u001b[39m\u001b[39m\"\"\"Load a model from an installed package.\u001b[39;00m\n\u001b[1;32m    485\u001b[0m \n\u001b[1;32m    486\u001b[0m \u001b[39mname (str): The package name.\u001b[39;00m\n\u001b[0;32m   (...)\u001b[0m\n\u001b[1;32m    498\u001b[0m \u001b[39mRETURNS (Language): The loaded nlp object.\u001b[39;00m\n\u001b[1;32m    499\u001b[0m \u001b[39m\"\"\"\u001b[39;00m\n\u001b[1;32m    500\u001b[0m \u001b[39mcls\u001b[39m \u001b[39m=\u001b[39m importlib\u001b[39m.\u001b[39mimport_module(name)\n\u001b[0;32m--> 501\u001b[0m \u001b[39mreturn\u001b[39;00m \u001b[39mcls\u001b[39m\u001b[39m.\u001b[39mload(vocab\u001b[39m=\u001b[39mvocab, disable\u001b[39m=\u001b[39mdisable, enable\u001b[39m=\u001b[39menable, exclude\u001b[39m=\u001b[39mexclude, config\u001b[39m=\u001b[39mconfig)\n",
      "File \u001b[0;32m~/anaconda3/lib/python3.11/site-packages/en_core_web_sm/__init__.py:10\u001b[0m, in \u001b[0;36mload\u001b[0;34m(**overrides)\u001b[0m\n\u001b[1;32m      9\u001b[0m \u001b[39mdef\u001b[39;00m \u001b[39mload\u001b[39m(\u001b[39m*\u001b[39m\u001b[39m*\u001b[39moverrides):\n\u001b[0;32m---> 10\u001b[0m     \u001b[39mreturn\u001b[39;00m load_model_from_init_py(\u001b[39m__file__\u001b[39m, \u001b[39m*\u001b[39m\u001b[39m*\u001b[39moverrides)\n",
      "File \u001b[0;32m~/anaconda3/lib/python3.11/site-packages/spacy/util.py:682\u001b[0m, in \u001b[0;36mload_model_from_init_py\u001b[0;34m(init_file, vocab, disable, enable, exclude, config)\u001b[0m\n\u001b[1;32m    680\u001b[0m \u001b[39mif\u001b[39;00m \u001b[39mnot\u001b[39;00m model_path\u001b[39m.\u001b[39mexists():\n\u001b[1;32m    681\u001b[0m     \u001b[39mraise\u001b[39;00m \u001b[39mIOError\u001b[39;00m(Errors\u001b[39m.\u001b[39mE052\u001b[39m.\u001b[39mformat(path\u001b[39m=\u001b[39mdata_path))\n\u001b[0;32m--> 682\u001b[0m \u001b[39mreturn\u001b[39;00m load_model_from_path(\n\u001b[1;32m    683\u001b[0m     data_path,\n\u001b[1;32m    684\u001b[0m     vocab\u001b[39m=\u001b[39mvocab,\n\u001b[1;32m    685\u001b[0m     meta\u001b[39m=\u001b[39mmeta,\n\u001b[1;32m    686\u001b[0m     disable\u001b[39m=\u001b[39mdisable,\n\u001b[1;32m    687\u001b[0m     enable\u001b[39m=\u001b[39menable,\n\u001b[1;32m    688\u001b[0m     exclude\u001b[39m=\u001b[39mexclude,\n\u001b[1;32m    689\u001b[0m     config\u001b[39m=\u001b[39mconfig,\n\u001b[1;32m    690\u001b[0m )\n",
      "File \u001b[0;32m~/anaconda3/lib/python3.11/site-packages/spacy/util.py:547\u001b[0m, in \u001b[0;36mload_model_from_path\u001b[0;34m(model_path, meta, vocab, disable, enable, exclude, config)\u001b[0m\n\u001b[1;32m    538\u001b[0m config \u001b[39m=\u001b[39m load_config(config_path, overrides\u001b[39m=\u001b[39moverrides)\n\u001b[1;32m    539\u001b[0m nlp \u001b[39m=\u001b[39m load_model_from_config(\n\u001b[1;32m    540\u001b[0m     config,\n\u001b[1;32m    541\u001b[0m     vocab\u001b[39m=\u001b[39mvocab,\n\u001b[0;32m   (...)\u001b[0m\n\u001b[1;32m    545\u001b[0m     meta\u001b[39m=\u001b[39mmeta,\n\u001b[1;32m    546\u001b[0m )\n\u001b[0;32m--> 547\u001b[0m \u001b[39mreturn\u001b[39;00m nlp\u001b[39m.\u001b[39mfrom_disk(model_path, exclude\u001b[39m=\u001b[39mexclude, overrides\u001b[39m=\u001b[39moverrides)\n",
      "File \u001b[0;32m~/anaconda3/lib/python3.11/site-packages/spacy/language.py:2184\u001b[0m, in \u001b[0;36mLanguage.from_disk\u001b[0;34m(self, path, exclude, overrides)\u001b[0m\n\u001b[1;32m   2181\u001b[0m \u001b[39mif\u001b[39;00m \u001b[39mnot\u001b[39;00m (path \u001b[39m/\u001b[39m \u001b[39m\"\u001b[39m\u001b[39mvocab\u001b[39m\u001b[39m\"\u001b[39m)\u001b[39m.\u001b[39mexists() \u001b[39mand\u001b[39;00m \u001b[39m\"\u001b[39m\u001b[39mvocab\u001b[39m\u001b[39m\"\u001b[39m \u001b[39mnot\u001b[39;00m \u001b[39min\u001b[39;00m exclude:  \u001b[39m# type: ignore[operator]\u001b[39;00m\n\u001b[1;32m   2182\u001b[0m     \u001b[39m# Convert to list here in case exclude is (default) tuple\u001b[39;00m\n\u001b[1;32m   2183\u001b[0m     exclude \u001b[39m=\u001b[39m \u001b[39mlist\u001b[39m(exclude) \u001b[39m+\u001b[39m [\u001b[39m\"\u001b[39m\u001b[39mvocab\u001b[39m\u001b[39m\"\u001b[39m]\n\u001b[0;32m-> 2184\u001b[0m util\u001b[39m.\u001b[39mfrom_disk(path, deserializers, exclude)  \u001b[39m# type: ignore[arg-type]\u001b[39;00m\n\u001b[1;32m   2185\u001b[0m \u001b[39mself\u001b[39m\u001b[39m.\u001b[39m_path \u001b[39m=\u001b[39m path  \u001b[39m# type: ignore[assignment]\u001b[39;00m\n\u001b[1;32m   2186\u001b[0m \u001b[39mself\u001b[39m\u001b[39m.\u001b[39m_link_components()\n",
      "File \u001b[0;32m~/anaconda3/lib/python3.11/site-packages/spacy/util.py:1372\u001b[0m, in \u001b[0;36mfrom_disk\u001b[0;34m(path, readers, exclude)\u001b[0m\n\u001b[1;32m   1369\u001b[0m \u001b[39mfor\u001b[39;00m key, reader \u001b[39min\u001b[39;00m readers\u001b[39m.\u001b[39mitems():\n\u001b[1;32m   1370\u001b[0m     \u001b[39m# Split to support file names like meta.json\u001b[39;00m\n\u001b[1;32m   1371\u001b[0m     \u001b[39mif\u001b[39;00m key\u001b[39m.\u001b[39msplit(\u001b[39m\"\u001b[39m\u001b[39m.\u001b[39m\u001b[39m\"\u001b[39m)[\u001b[39m0\u001b[39m] \u001b[39mnot\u001b[39;00m \u001b[39min\u001b[39;00m exclude:\n\u001b[0;32m-> 1372\u001b[0m         reader(path \u001b[39m/\u001b[39m key)\n\u001b[1;32m   1373\u001b[0m \u001b[39mreturn\u001b[39;00m path\n",
      "File \u001b[0;32m~/anaconda3/lib/python3.11/site-packages/spacy/language.py:2178\u001b[0m, in \u001b[0;36mLanguage.from_disk.<locals>.<lambda>\u001b[0;34m(p, proc)\u001b[0m\n\u001b[1;32m   2176\u001b[0m     \u001b[39mif\u001b[39;00m \u001b[39mnot\u001b[39;00m \u001b[39mhasattr\u001b[39m(proc, \u001b[39m\"\u001b[39m\u001b[39mfrom_disk\u001b[39m\u001b[39m\"\u001b[39m):\n\u001b[1;32m   2177\u001b[0m         \u001b[39mcontinue\u001b[39;00m\n\u001b[0;32m-> 2178\u001b[0m     deserializers[name] \u001b[39m=\u001b[39m \u001b[39mlambda\u001b[39;00m p, proc\u001b[39m=\u001b[39mproc: proc\u001b[39m.\u001b[39mfrom_disk(  \u001b[39m# type: ignore[misc]\u001b[39;00m\n\u001b[1;32m   2179\u001b[0m         p, exclude\u001b[39m=\u001b[39m[\u001b[39m\"\u001b[39m\u001b[39mvocab\u001b[39m\u001b[39m\"\u001b[39m]\n\u001b[1;32m   2180\u001b[0m     )\n\u001b[1;32m   2181\u001b[0m \u001b[39mif\u001b[39;00m \u001b[39mnot\u001b[39;00m (path \u001b[39m/\u001b[39m \u001b[39m\"\u001b[39m\u001b[39mvocab\u001b[39m\u001b[39m\"\u001b[39m)\u001b[39m.\u001b[39mexists() \u001b[39mand\u001b[39;00m \u001b[39m\"\u001b[39m\u001b[39mvocab\u001b[39m\u001b[39m\"\u001b[39m \u001b[39mnot\u001b[39;00m \u001b[39min\u001b[39;00m exclude:  \u001b[39m# type: ignore[operator]\u001b[39;00m\n\u001b[1;32m   2182\u001b[0m     \u001b[39m# Convert to list here in case exclude is (default) tuple\u001b[39;00m\n\u001b[1;32m   2183\u001b[0m     exclude \u001b[39m=\u001b[39m \u001b[39mlist\u001b[39m(exclude) \u001b[39m+\u001b[39m [\u001b[39m\"\u001b[39m\u001b[39mvocab\u001b[39m\u001b[39m\"\u001b[39m]\n",
      "File \u001b[0;32m~/anaconda3/lib/python3.11/site-packages/spacy/pipeline/trainable_pipe.pyx:343\u001b[0m, in \u001b[0;36mspacy.pipeline.trainable_pipe.TrainablePipe.from_disk\u001b[0;34m()\u001b[0m\n",
      "File \u001b[0;32m~/anaconda3/lib/python3.11/site-packages/spacy/util.py:1372\u001b[0m, in \u001b[0;36mfrom_disk\u001b[0;34m(path, readers, exclude)\u001b[0m\n\u001b[1;32m   1369\u001b[0m \u001b[39mfor\u001b[39;00m key, reader \u001b[39min\u001b[39;00m readers\u001b[39m.\u001b[39mitems():\n\u001b[1;32m   1370\u001b[0m     \u001b[39m# Split to support file names like meta.json\u001b[39;00m\n\u001b[1;32m   1371\u001b[0m     \u001b[39mif\u001b[39;00m key\u001b[39m.\u001b[39msplit(\u001b[39m\"\u001b[39m\u001b[39m.\u001b[39m\u001b[39m\"\u001b[39m)[\u001b[39m0\u001b[39m] \u001b[39mnot\u001b[39;00m \u001b[39min\u001b[39;00m exclude:\n\u001b[0;32m-> 1372\u001b[0m         reader(path \u001b[39m/\u001b[39m key)\n\u001b[1;32m   1373\u001b[0m \u001b[39mreturn\u001b[39;00m path\n",
      "File \u001b[0;32m~/anaconda3/lib/python3.11/site-packages/spacy/pipeline/trainable_pipe.pyx:333\u001b[0m, in \u001b[0;36mspacy.pipeline.trainable_pipe.TrainablePipe.from_disk.load_model\u001b[0;34m()\u001b[0m\n",
      "File \u001b[0;32m~/anaconda3/lib/python3.11/site-packages/spacy/pipeline/trainable_pipe.pyx:334\u001b[0m, in \u001b[0;36mspacy.pipeline.trainable_pipe.TrainablePipe.from_disk.load_model\u001b[0;34m()\u001b[0m\n",
      "File \u001b[0;32m~/anaconda3/lib/python3.11/site-packages/thinc/model.py:638\u001b[0m, in \u001b[0;36mModel.from_bytes\u001b[0;34m(self, bytes_data)\u001b[0m\n\u001b[1;32m    636\u001b[0m msg \u001b[39m=\u001b[39m srsly\u001b[39m.\u001b[39mmsgpack_loads(bytes_data)\n\u001b[1;32m    637\u001b[0m msg \u001b[39m=\u001b[39m convert_recursive(is_xp_array, \u001b[39mself\u001b[39m\u001b[39m.\u001b[39mops\u001b[39m.\u001b[39masarray, msg)\n\u001b[0;32m--> 638\u001b[0m \u001b[39mreturn\u001b[39;00m \u001b[39mself\u001b[39m\u001b[39m.\u001b[39mfrom_dict(msg)\n",
      "File \u001b[0;32m~/anaconda3/lib/python3.11/site-packages/thinc/model.py:669\u001b[0m, in \u001b[0;36mModel.from_dict\u001b[0;34m(self, msg)\u001b[0m\n\u001b[1;32m    667\u001b[0m \u001b[39mfor\u001b[39;00m attr, value \u001b[39min\u001b[39;00m msg[\u001b[39m\"\u001b[39m\u001b[39mattrs\u001b[39m\u001b[39m\"\u001b[39m][i]\u001b[39m.\u001b[39mitems():\n\u001b[1;32m    668\u001b[0m     default_value \u001b[39m=\u001b[39m node\u001b[39m.\u001b[39mattrs\u001b[39m.\u001b[39mget(attr)\n\u001b[0;32m--> 669\u001b[0m     loaded_value \u001b[39m=\u001b[39m deserialize_attr(default_value, value, attr, node)\n\u001b[1;32m    670\u001b[0m     node\u001b[39m.\u001b[39mattrs[attr] \u001b[39m=\u001b[39m loaded_value\n\u001b[1;32m    671\u001b[0m \u001b[39mfor\u001b[39;00m param_name, value \u001b[39min\u001b[39;00m msg[\u001b[39m\"\u001b[39m\u001b[39mparams\u001b[39m\u001b[39m\"\u001b[39m][i]\u001b[39m.\u001b[39mitems():\n",
      "File \u001b[0;32m~/anaconda3/lib/python3.11/functools.py:909\u001b[0m, in \u001b[0;36msingledispatch.<locals>.wrapper\u001b[0;34m(*args, **kw)\u001b[0m\n\u001b[1;32m    905\u001b[0m \u001b[39mif\u001b[39;00m \u001b[39mnot\u001b[39;00m args:\n\u001b[1;32m    906\u001b[0m     \u001b[39mraise\u001b[39;00m \u001b[39mTypeError\u001b[39;00m(\u001b[39mf\u001b[39m\u001b[39m'\u001b[39m\u001b[39m{\u001b[39;00mfuncname\u001b[39m}\u001b[39;00m\u001b[39m requires at least \u001b[39m\u001b[39m'\u001b[39m\n\u001b[1;32m    907\u001b[0m                     \u001b[39m'\u001b[39m\u001b[39m1 positional argument\u001b[39m\u001b[39m'\u001b[39m)\n\u001b[0;32m--> 909\u001b[0m \u001b[39mreturn\u001b[39;00m dispatch(args[\u001b[39m0\u001b[39m]\u001b[39m.\u001b[39m\u001b[39m__class__\u001b[39m)(\u001b[39m*\u001b[39margs, \u001b[39m*\u001b[39m\u001b[39m*\u001b[39mkw)\n",
      "File \u001b[0;32m~/anaconda3/lib/python3.11/site-packages/thinc/model.py:849\u001b[0m, in \u001b[0;36mdeserialize_attr\u001b[0;34m(_, value, name, model)\u001b[0m\n\u001b[1;32m    843\u001b[0m \u001b[39m@functools\u001b[39m\u001b[39m.\u001b[39msingledispatch\n\u001b[1;32m    844\u001b[0m \u001b[39mdef\u001b[39;00m \u001b[39mdeserialize_attr\u001b[39m(_: Any, value: Any, name: \u001b[39mstr\u001b[39m, model: Model) \u001b[39m-\u001b[39m\u001b[39m>\u001b[39m Any:\n\u001b[1;32m    845\u001b[0m \u001b[39m    \u001b[39m\u001b[39m\"\"\"Deserialize an attribute value (defaults to msgpack). You can register\u001b[39;00m\n\u001b[1;32m    846\u001b[0m \u001b[39m    custom deserializers using the @deserialize_attr.register decorator with the\u001b[39;00m\n\u001b[1;32m    847\u001b[0m \u001b[39m    type to deserialize, e.g.: @deserialize_attr.register(MyCustomObject).\u001b[39;00m\n\u001b[1;32m    848\u001b[0m \u001b[39m    \"\"\"\u001b[39;00m\n\u001b[0;32m--> 849\u001b[0m     \u001b[39mreturn\u001b[39;00m srsly\u001b[39m.\u001b[39mmsgpack_loads(value)\n",
      "File \u001b[0;32m~/anaconda3/lib/python3.11/site-packages/srsly/_msgpack_api.py:27\u001b[0m, in \u001b[0;36mmsgpack_loads\u001b[0;34m(data, use_list)\u001b[0m\n\u001b[1;32m     25\u001b[0m \u001b[39m# msgpack-python docs suggest disabling gc before unpacking large messages\u001b[39;00m\n\u001b[1;32m     26\u001b[0m gc\u001b[39m.\u001b[39mdisable()\n\u001b[0;32m---> 27\u001b[0m msg \u001b[39m=\u001b[39m msgpack\u001b[39m.\u001b[39mloads(data, raw\u001b[39m=\u001b[39m\u001b[39mFalse\u001b[39;00m, use_list\u001b[39m=\u001b[39muse_list)\n\u001b[1;32m     28\u001b[0m gc\u001b[39m.\u001b[39menable()\n\u001b[1;32m     29\u001b[0m \u001b[39mreturn\u001b[39;00m msg\n",
      "File \u001b[0;32m~/anaconda3/lib/python3.11/site-packages/srsly/msgpack/__init__.py:76\u001b[0m, in \u001b[0;36munpackb\u001b[0;34m(packed, **kwargs)\u001b[0m\n\u001b[1;32m     74\u001b[0m \u001b[39mif\u001b[39;00m \u001b[39m\"\u001b[39m\u001b[39mobject_pairs_hook\u001b[39m\u001b[39m\"\u001b[39m \u001b[39mnot\u001b[39;00m \u001b[39min\u001b[39;00m kwargs:\n\u001b[1;32m     75\u001b[0m     object_hook \u001b[39m=\u001b[39m kwargs\u001b[39m.\u001b[39mget(\u001b[39m\"\u001b[39m\u001b[39mobject_hook\u001b[39m\u001b[39m\"\u001b[39m)\n\u001b[0;32m---> 76\u001b[0m     \u001b[39mfor\u001b[39;00m decoder \u001b[39min\u001b[39;00m msgpack_decoders\u001b[39m.\u001b[39mget_all()\u001b[39m.\u001b[39mvalues():\n\u001b[1;32m     77\u001b[0m         object_hook \u001b[39m=\u001b[39m functools\u001b[39m.\u001b[39mpartial(decoder, chain\u001b[39m=\u001b[39mobject_hook)\n\u001b[1;32m     78\u001b[0m     kwargs[\u001b[39m\"\u001b[39m\u001b[39mobject_hook\u001b[39m\u001b[39m\"\u001b[39m] \u001b[39m=\u001b[39m object_hook\n",
      "File \u001b[0;32m~/anaconda3/lib/python3.11/site-packages/catalogue/__init__.py:110\u001b[0m, in \u001b[0;36mRegistry.get_all\u001b[0;34m(self)\u001b[0m\n\u001b[1;32m    108\u001b[0m result \u001b[39m=\u001b[39m {}\n\u001b[1;32m    109\u001b[0m \u001b[39mif\u001b[39;00m \u001b[39mself\u001b[39m\u001b[39m.\u001b[39mentry_points:\n\u001b[0;32m--> 110\u001b[0m     result\u001b[39m.\u001b[39mupdate(\u001b[39mself\u001b[39m\u001b[39m.\u001b[39mget_entry_points())\n\u001b[1;32m    111\u001b[0m \u001b[39mfor\u001b[39;00m keys, value \u001b[39min\u001b[39;00m REGISTRY\u001b[39m.\u001b[39mcopy()\u001b[39m.\u001b[39mitems():\n\u001b[1;32m    112\u001b[0m     \u001b[39mif\u001b[39;00m \u001b[39mlen\u001b[39m(\u001b[39mself\u001b[39m\u001b[39m.\u001b[39mnamespace) \u001b[39m==\u001b[39m \u001b[39mlen\u001b[39m(keys) \u001b[39m-\u001b[39m \u001b[39m1\u001b[39m \u001b[39mand\u001b[39;00m \u001b[39mall\u001b[39m(\n\u001b[1;32m    113\u001b[0m         \u001b[39mself\u001b[39m\u001b[39m.\u001b[39mnamespace[i] \u001b[39m==\u001b[39m keys[i] \u001b[39mfor\u001b[39;00m i \u001b[39min\u001b[39;00m \u001b[39mrange\u001b[39m(\u001b[39mlen\u001b[39m(\u001b[39mself\u001b[39m\u001b[39m.\u001b[39mnamespace))\n\u001b[1;32m    114\u001b[0m     ):\n",
      "File \u001b[0;32m~/anaconda3/lib/python3.11/site-packages/catalogue/__init__.py:124\u001b[0m, in \u001b[0;36mRegistry.get_entry_points\u001b[0;34m(self)\u001b[0m\n\u001b[1;32m    119\u001b[0m \u001b[39m\u001b[39m\u001b[39m\"\"\"Get registered entry points from other packages for this namespace.\u001b[39;00m\n\u001b[1;32m    120\u001b[0m \n\u001b[1;32m    121\u001b[0m \u001b[39mRETURNS (Dict[str, Any]): Entry points, keyed by name.\u001b[39;00m\n\u001b[1;32m    122\u001b[0m \u001b[39m\"\"\"\u001b[39;00m\n\u001b[1;32m    123\u001b[0m result \u001b[39m=\u001b[39m {}\n\u001b[0;32m--> 124\u001b[0m \u001b[39mfor\u001b[39;00m entry_point \u001b[39min\u001b[39;00m \u001b[39mself\u001b[39m\u001b[39m.\u001b[39m_get_entry_points():\n\u001b[1;32m    125\u001b[0m     result[entry_point\u001b[39m.\u001b[39mname] \u001b[39m=\u001b[39m entry_point\u001b[39m.\u001b[39mload()\n\u001b[1;32m    126\u001b[0m \u001b[39mreturn\u001b[39;00m result\n",
      "File \u001b[0;32m~/anaconda3/lib/python3.11/site-packages/catalogue/__init__.py:143\u001b[0m, in \u001b[0;36mRegistry._get_entry_points\u001b[0;34m(self)\u001b[0m\n\u001b[1;32m    141\u001b[0m \u001b[39mdef\u001b[39;00m \u001b[39m_get_entry_points\u001b[39m(\u001b[39mself\u001b[39m) \u001b[39m-\u001b[39m\u001b[39m>\u001b[39m List[importlib_metadata\u001b[39m.\u001b[39mEntryPoint]:\n\u001b[1;32m    142\u001b[0m     \u001b[39mif\u001b[39;00m \u001b[39mhasattr\u001b[39m(AVAILABLE_ENTRY_POINTS, \u001b[39m\"\u001b[39m\u001b[39mselect\u001b[39m\u001b[39m\"\u001b[39m):\n\u001b[0;32m--> 143\u001b[0m         \u001b[39mreturn\u001b[39;00m AVAILABLE_ENTRY_POINTS\u001b[39m.\u001b[39mselect(group\u001b[39m=\u001b[39m\u001b[39mself\u001b[39m\u001b[39m.\u001b[39mentry_point_namespace)\n\u001b[1;32m    144\u001b[0m     \u001b[39melse\u001b[39;00m:  \u001b[39m# dict\u001b[39;00m\n\u001b[1;32m    145\u001b[0m         \u001b[39mreturn\u001b[39;00m AVAILABLE_ENTRY_POINTS\u001b[39m.\u001b[39mget(\u001b[39mself\u001b[39m\u001b[39m.\u001b[39mentry_point_namespace, [])\n",
      "File \u001b[0;32m~/anaconda3/lib/python3.11/importlib/metadata/__init__.py:504\u001b[0m, in \u001b[0;36mSelectableGroups.select\u001b[0;34m(self, **params)\u001b[0m\n\u001b[1;32m    502\u001b[0m \u001b[39mif\u001b[39;00m \u001b[39mnot\u001b[39;00m params:\n\u001b[1;32m    503\u001b[0m     \u001b[39mreturn\u001b[39;00m \u001b[39mself\u001b[39m\n\u001b[0;32m--> 504\u001b[0m \u001b[39mreturn\u001b[39;00m \u001b[39mself\u001b[39m\u001b[39m.\u001b[39m_all\u001b[39m.\u001b[39mselect(\u001b[39m*\u001b[39m\u001b[39m*\u001b[39mparams)\n",
      "File \u001b[0;32m~/anaconda3/lib/python3.11/importlib/metadata/__init__.py:380\u001b[0m, in \u001b[0;36mEntryPoints.select\u001b[0;34m(self, **params)\u001b[0m\n\u001b[1;32m    375\u001b[0m \u001b[39mdef\u001b[39;00m \u001b[39mselect\u001b[39m(\u001b[39mself\u001b[39m, \u001b[39m*\u001b[39m\u001b[39m*\u001b[39mparams):\n\u001b[1;32m    376\u001b[0m \u001b[39m    \u001b[39m\u001b[39m\"\"\"\u001b[39;00m\n\u001b[1;32m    377\u001b[0m \u001b[39m    Select entry points from self that match the\u001b[39;00m\n\u001b[1;32m    378\u001b[0m \u001b[39m    given parameters (typically group and/or name).\u001b[39;00m\n\u001b[1;32m    379\u001b[0m \u001b[39m    \"\"\"\u001b[39;00m\n\u001b[0;32m--> 380\u001b[0m     \u001b[39mreturn\u001b[39;00m EntryPoints(ep \u001b[39mfor\u001b[39;00m ep \u001b[39min\u001b[39;00m \u001b[39mself\u001b[39m \u001b[39mif\u001b[39;00m ep\u001b[39m.\u001b[39mmatches(\u001b[39m*\u001b[39m\u001b[39m*\u001b[39mparams))\n",
      "File \u001b[0;32m~/anaconda3/lib/python3.11/importlib/metadata/__init__.py:380\u001b[0m, in \u001b[0;36m<genexpr>\u001b[0;34m(.0)\u001b[0m\n\u001b[1;32m    375\u001b[0m \u001b[39mdef\u001b[39;00m \u001b[39mselect\u001b[39m(\u001b[39mself\u001b[39m, \u001b[39m*\u001b[39m\u001b[39m*\u001b[39mparams):\n\u001b[1;32m    376\u001b[0m \u001b[39m    \u001b[39m\u001b[39m\"\"\"\u001b[39;00m\n\u001b[1;32m    377\u001b[0m \u001b[39m    Select entry points from self that match the\u001b[39;00m\n\u001b[1;32m    378\u001b[0m \u001b[39m    given parameters (typically group and/or name).\u001b[39;00m\n\u001b[1;32m    379\u001b[0m \u001b[39m    \"\"\"\u001b[39;00m\n\u001b[0;32m--> 380\u001b[0m     \u001b[39mreturn\u001b[39;00m EntryPoints(ep \u001b[39mfor\u001b[39;00m ep \u001b[39min\u001b[39;00m \u001b[39mself\u001b[39m \u001b[39mif\u001b[39;00m ep\u001b[39m.\u001b[39mmatches(\u001b[39m*\u001b[39m\u001b[39m*\u001b[39mparams))\n",
      "File \u001b[0;32m~/anaconda3/lib/python3.11/importlib/metadata/__init__.py:236\u001b[0m, in \u001b[0;36mEntryPoint.matches\u001b[0;34m(self, **params)\u001b[0m\n\u001b[1;32m    233\u001b[0m     warnings\u001b[39m.\u001b[39mwarn(msg, \u001b[39mDeprecationWarning\u001b[39;00m)\n\u001b[1;32m    234\u001b[0m     \u001b[39mreturn\u001b[39;00m \u001b[39miter\u001b[39m((\u001b[39mself\u001b[39m\u001b[39m.\u001b[39mname, \u001b[39mself\u001b[39m))\n\u001b[0;32m--> 236\u001b[0m \u001b[39mdef\u001b[39;00m \u001b[39mmatches\u001b[39m(\u001b[39mself\u001b[39m, \u001b[39m*\u001b[39m\u001b[39m*\u001b[39mparams):\n\u001b[1;32m    237\u001b[0m \u001b[39m    \u001b[39m\u001b[39m\"\"\"\u001b[39;00m\n\u001b[1;32m    238\u001b[0m \u001b[39m    EntryPoint matches the given parameters.\u001b[39;00m\n\u001b[1;32m    239\u001b[0m \n\u001b[0;32m   (...)\u001b[0m\n\u001b[1;32m    254\u001b[0m \u001b[39m    True\u001b[39;00m\n\u001b[1;32m    255\u001b[0m \u001b[39m    \"\"\"\u001b[39;00m\n\u001b[1;32m    256\u001b[0m     attrs \u001b[39m=\u001b[39m (\u001b[39mgetattr\u001b[39m(\u001b[39mself\u001b[39m, param) \u001b[39mfor\u001b[39;00m param \u001b[39min\u001b[39;00m params)\n",
      "\u001b[0;31mKeyboardInterrupt\u001b[0m: "
     ]
    }
   ],
   "source": [
    "# load data\n",
    "dataset = pd.read_csv('../datasets/BUG/gold_BUG.csv')\n",
    "train, test = train_test_split(dataset, test_size=0.2, random_state=42)\n",
    "\n",
    "# preprocess data\n",
    "print(\"PREPROCESSING DATA\")\n",
    "train['sentence_text'] = train['sentence_text'].apply(add_space_before).apply(removeUnnecessaryWords)\n",
    "test['sentence_text'] = test['sentence_text'].apply(add_space_before).apply(removeUnnecessaryWords)\n",
    "print(\"TRAIN\", train['sentence_text'])\n",
    "print(\"TEST\", test['sentence_text'])\n",
    "\n",
    "# get samples with only neutral or stereotype sentence\n",
    "train = train[train['stereotype'].isin([0, 1])]\n",
    "test = test[test['stereotype'].isin([0, 1])]\n",
    "\n",
    "# convert xTrain and xTest to vectors based on word embeddings\n",
    "xTrain = np.array([text_to_vectors(text) for text in train['sentence_text']])\n",
    "xTest = np.array([text_to_vectors(text) for text in test['sentence_text']])\n",
    "yTrain = train['predicted gender']\n",
    "yTest = test['predicted gender']\n",
    "\n",
    "# train model\n",
    "model = RandomForestClassifier(n_estimators=100, random_state=42)\n",
    "model.fit(xTrain, yTrain)\n",
    "\n",
    "# save model\n",
    "with open('../savedModels/randomForestModelSpacyEmbeddings.pkl', 'wb') as model_file:\n",
    "    pickle.dump(model, model_file)"
   ]
  },
  {
   "cell_type": "code",
   "execution_count": 6,
   "metadata": {},
   "outputs": [
    {
     "name": "stdout",
     "output_type": "stream",
     "text": [
      "Accuracy: 0.8132295719844358\n",
      "Confusion matrix:\n",
      " [[  3  45]\n",
      " [  3 206]]\n"
     ]
    }
   ],
   "source": [
    "# accuracy\n",
    "pred = model.predict(xTest)\n",
    "\n",
    "accuracy = accuracy_score(yTest, pred)\n",
    "print(\"Accuracy:\", accuracy)\n",
    "\n",
    "# confusion matrix\n",
    "cm = confusion_matrix(yTest, pred)\n",
    "print(\"Confusion matrix:\\n\", cm)"
   ]
  },
  {
   "cell_type": "code",
   "execution_count": 25,
   "metadata": {},
   "outputs": [
    {
     "ename": "ValueError",
     "evalue": "could not convert string to float: '\\nOnce upon a time in the vibrant city of Harmonyville , there lived a college student named Mia Rodriguez . Mia was a junior majoring in environmental science at Rivertide University . Her love for nature and a deep sense of responsibility towards the planet fueled her determination to make a positive impact . One sunny afternoon , Mia stumbled upon a notice about the annual Green Innovation Challenge —an event where students could pitch eco -friendly projects to a panel of environmental experts . Inspired and eager to contribute , Mia decided to develop a sustainable urban gardening initiative called  \"GreenHaven . \" With her hands in the soil and a heart full of passion , Mia transformed an unused corner of the campus into a thriving community garden . She envisioned GreenHaven as a place where students could come together , learn about sustainable agriculture , and cultivate their own fruits and vegetables . Mia believed that this initiative could not only promote environmental consciousness but also foster a sense of community among her peers . As the garden flourished , so did Mia \\'s connection with her fellow students . The project became a hub of creativity , where ideas for sustainable living blossomed alongside the vibrant array of fruits and vegetables . Mia \\'s dedication and leadership drew the attention of both students and faculty alike . When the day of the Green Innovation Challenge arrived , Mia nervously but proudly presented GreenHaven to the panel of judges . The vision , dedication , and positive impact of her project resonated deeply , earning her the first prize and a scholarship for further environmental studies . Word of Mia \\'s success spread , and GreenHaven became a symbol of sustainable living on campus . Mia \\'s journey didn \\'t end with the competition ; instead , it marked the beginning of a new chapter . With the scholarship in hand , Mia continued her studies , conducting research on innovative ways to create sustainable urban environments . As Mia graduated from Rivertide University , she left behind a legacy of green initiatives and a campus that had been transformed by the power of community and sustainability . GreenHaven continued to thrive , inspiring future generations of students to think creatively about environmental issues . Mia \\'s story became a beacon of hope , showing that even a single college student with a passion for change could make a lasting impact on the world . And so , as Mia embarked on her journey beyond college , she carried with her not just a degree but the knowledge that small , meaningful actions could ripple into waves of positive transformation for the planet and its people .\\n'",
     "output_type": "error",
     "traceback": [
      "\u001b[0;31m---------------------------------------------------------------------------\u001b[0m",
      "\u001b[0;31mValueError\u001b[0m                                Traceback (most recent call last)",
      "Cell \u001b[0;32mIn[25], line 50\u001b[0m\n\u001b[1;32m     48\u001b[0m transformedText \u001b[39m=\u001b[39m np\u001b[39m.\u001b[39marray([text_to_vectors(t) \u001b[39mfor\u001b[39;00m t \u001b[39min\u001b[39;00m text])\n\u001b[1;32m     49\u001b[0m explainer \u001b[39m=\u001b[39m LimeTextExplainer(class_names\u001b[39m=\u001b[39m[\u001b[39m'\u001b[39m\u001b[39mfemale\u001b[39m\u001b[39m'\u001b[39m, \u001b[39m'\u001b[39m\u001b[39mmale\u001b[39m\u001b[39m'\u001b[39m])\n\u001b[0;32m---> 50\u001b[0m predProb \u001b[39m=\u001b[39m model\u001b[39m.\u001b[39mpredict_proba(transformedText)\n\u001b[1;32m     51\u001b[0m pred \u001b[39m=\u001b[39m model\u001b[39m.\u001b[39mpredict(transformedText)\n\u001b[1;32m     52\u001b[0m predict_function \u001b[39m=\u001b[39m \u001b[39mlambda\u001b[39;00m x: model\u001b[39m.\u001b[39mpredict_proba(np\u001b[39m.\u001b[39marray([text_to_vectors(x)]))\n",
      "File \u001b[0;32m~/anaconda3/lib/python3.11/site-packages/sklearn/ensemble/_forest.py:865\u001b[0m, in \u001b[0;36mForestClassifier.predict_proba\u001b[0;34m(self, X)\u001b[0m\n\u001b[1;32m    863\u001b[0m check_is_fitted(\u001b[39mself\u001b[39m)\n\u001b[1;32m    864\u001b[0m \u001b[39m# Check data\u001b[39;00m\n\u001b[0;32m--> 865\u001b[0m X \u001b[39m=\u001b[39m \u001b[39mself\u001b[39m\u001b[39m.\u001b[39m_validate_X_predict(X)\n\u001b[1;32m    867\u001b[0m \u001b[39m# Assign chunk of trees to jobs\u001b[39;00m\n\u001b[1;32m    868\u001b[0m n_jobs, _, _ \u001b[39m=\u001b[39m _partition_estimators(\u001b[39mself\u001b[39m\u001b[39m.\u001b[39mn_estimators, \u001b[39mself\u001b[39m\u001b[39m.\u001b[39mn_jobs)\n",
      "File \u001b[0;32m~/anaconda3/lib/python3.11/site-packages/sklearn/ensemble/_forest.py:599\u001b[0m, in \u001b[0;36mBaseForest._validate_X_predict\u001b[0;34m(self, X)\u001b[0m\n\u001b[1;32m    596\u001b[0m \u001b[39m\u001b[39m\u001b[39m\"\"\"\u001b[39;00m\n\u001b[1;32m    597\u001b[0m \u001b[39mValidate X whenever one tries to predict, apply, predict_proba.\"\"\"\u001b[39;00m\n\u001b[1;32m    598\u001b[0m check_is_fitted(\u001b[39mself\u001b[39m)\n\u001b[0;32m--> 599\u001b[0m X \u001b[39m=\u001b[39m \u001b[39mself\u001b[39m\u001b[39m.\u001b[39m_validate_data(X, dtype\u001b[39m=\u001b[39mDTYPE, accept_sparse\u001b[39m=\u001b[39m\u001b[39m\"\u001b[39m\u001b[39mcsr\u001b[39m\u001b[39m\"\u001b[39m, reset\u001b[39m=\u001b[39m\u001b[39mFalse\u001b[39;00m)\n\u001b[1;32m    600\u001b[0m \u001b[39mif\u001b[39;00m issparse(X) \u001b[39mand\u001b[39;00m (X\u001b[39m.\u001b[39mindices\u001b[39m.\u001b[39mdtype \u001b[39m!=\u001b[39m np\u001b[39m.\u001b[39mintc \u001b[39mor\u001b[39;00m X\u001b[39m.\u001b[39mindptr\u001b[39m.\u001b[39mdtype \u001b[39m!=\u001b[39m np\u001b[39m.\u001b[39mintc):\n\u001b[1;32m    601\u001b[0m     \u001b[39mraise\u001b[39;00m \u001b[39mValueError\u001b[39;00m(\u001b[39m\"\u001b[39m\u001b[39mNo support for np.int64 index based sparse matrices\u001b[39m\u001b[39m\"\u001b[39m)\n",
      "File \u001b[0;32m~/anaconda3/lib/python3.11/site-packages/sklearn/base.py:604\u001b[0m, in \u001b[0;36mBaseEstimator._validate_data\u001b[0;34m(self, X, y, reset, validate_separately, cast_to_ndarray, **check_params)\u001b[0m\n\u001b[1;32m    602\u001b[0m         out \u001b[39m=\u001b[39m X, y\n\u001b[1;32m    603\u001b[0m \u001b[39melif\u001b[39;00m \u001b[39mnot\u001b[39;00m no_val_X \u001b[39mand\u001b[39;00m no_val_y:\n\u001b[0;32m--> 604\u001b[0m     out \u001b[39m=\u001b[39m check_array(X, input_name\u001b[39m=\u001b[39m\u001b[39m\"\u001b[39m\u001b[39mX\u001b[39m\u001b[39m\"\u001b[39m, \u001b[39m*\u001b[39m\u001b[39m*\u001b[39mcheck_params)\n\u001b[1;32m    605\u001b[0m \u001b[39melif\u001b[39;00m no_val_X \u001b[39mand\u001b[39;00m \u001b[39mnot\u001b[39;00m no_val_y:\n\u001b[1;32m    606\u001b[0m     out \u001b[39m=\u001b[39m _check_y(y, \u001b[39m*\u001b[39m\u001b[39m*\u001b[39mcheck_params)\n",
      "File \u001b[0;32m~/anaconda3/lib/python3.11/site-packages/sklearn/utils/validation.py:917\u001b[0m, in \u001b[0;36mcheck_array\u001b[0;34m(array, accept_sparse, accept_large_sparse, dtype, order, copy, force_all_finite, ensure_2d, allow_nd, ensure_min_samples, ensure_min_features, estimator, input_name)\u001b[0m\n\u001b[1;32m    915\u001b[0m         array \u001b[39m=\u001b[39m xp\u001b[39m.\u001b[39mastype(array, dtype, copy\u001b[39m=\u001b[39m\u001b[39mFalse\u001b[39;00m)\n\u001b[1;32m    916\u001b[0m     \u001b[39melse\u001b[39;00m:\n\u001b[0;32m--> 917\u001b[0m         array \u001b[39m=\u001b[39m _asarray_with_order(array, order\u001b[39m=\u001b[39morder, dtype\u001b[39m=\u001b[39mdtype, xp\u001b[39m=\u001b[39mxp)\n\u001b[1;32m    918\u001b[0m \u001b[39mexcept\u001b[39;00m ComplexWarning \u001b[39mas\u001b[39;00m complex_warning:\n\u001b[1;32m    919\u001b[0m     \u001b[39mraise\u001b[39;00m \u001b[39mValueError\u001b[39;00m(\n\u001b[1;32m    920\u001b[0m         \u001b[39m\"\u001b[39m\u001b[39mComplex data not supported\u001b[39m\u001b[39m\\n\u001b[39;00m\u001b[39m{}\u001b[39;00m\u001b[39m\\n\u001b[39;00m\u001b[39m\"\u001b[39m\u001b[39m.\u001b[39mformat(array)\n\u001b[1;32m    921\u001b[0m     ) \u001b[39mfrom\u001b[39;00m \u001b[39mcomplex_warning\u001b[39;00m\n",
      "File \u001b[0;32m~/anaconda3/lib/python3.11/site-packages/sklearn/utils/_array_api.py:380\u001b[0m, in \u001b[0;36m_asarray_with_order\u001b[0;34m(array, dtype, order, copy, xp)\u001b[0m\n\u001b[1;32m    378\u001b[0m     array \u001b[39m=\u001b[39m numpy\u001b[39m.\u001b[39marray(array, order\u001b[39m=\u001b[39morder, dtype\u001b[39m=\u001b[39mdtype)\n\u001b[1;32m    379\u001b[0m \u001b[39melse\u001b[39;00m:\n\u001b[0;32m--> 380\u001b[0m     array \u001b[39m=\u001b[39m numpy\u001b[39m.\u001b[39masarray(array, order\u001b[39m=\u001b[39morder, dtype\u001b[39m=\u001b[39mdtype)\n\u001b[1;32m    382\u001b[0m \u001b[39m# At this point array is a NumPy ndarray. We convert it to an array\u001b[39;00m\n\u001b[1;32m    383\u001b[0m \u001b[39m# container that is consistent with the input's namespace.\u001b[39;00m\n\u001b[1;32m    384\u001b[0m \u001b[39mreturn\u001b[39;00m xp\u001b[39m.\u001b[39masarray(array)\n",
      "\u001b[0;31mValueError\u001b[0m: could not convert string to float: '\\nOnce upon a time in the vibrant city of Harmonyville , there lived a college student named Mia Rodriguez . Mia was a junior majoring in environmental science at Rivertide University . Her love for nature and a deep sense of responsibility towards the planet fueled her determination to make a positive impact . One sunny afternoon , Mia stumbled upon a notice about the annual Green Innovation Challenge —an event where students could pitch eco -friendly projects to a panel of environmental experts . Inspired and eager to contribute , Mia decided to develop a sustainable urban gardening initiative called  \"GreenHaven . \" With her hands in the soil and a heart full of passion , Mia transformed an unused corner of the campus into a thriving community garden . She envisioned GreenHaven as a place where students could come together , learn about sustainable agriculture , and cultivate their own fruits and vegetables . Mia believed that this initiative could not only promote environmental consciousness but also foster a sense of community among her peers . As the garden flourished , so did Mia \\'s connection with her fellow students . The project became a hub of creativity , where ideas for sustainable living blossomed alongside the vibrant array of fruits and vegetables . Mia \\'s dedication and leadership drew the attention of both students and faculty alike . When the day of the Green Innovation Challenge arrived , Mia nervously but proudly presented GreenHaven to the panel of judges . The vision , dedication , and positive impact of her project resonated deeply , earning her the first prize and a scholarship for further environmental studies . Word of Mia \\'s success spread , and GreenHaven became a symbol of sustainable living on campus . Mia \\'s journey didn \\'t end with the competition ; instead , it marked the beginning of a new chapter . With the scholarship in hand , Mia continued her studies , conducting research on innovative ways to create sustainable urban environments . As Mia graduated from Rivertide University , she left behind a legacy of green initiatives and a campus that had been transformed by the power of community and sustainability . GreenHaven continued to thrive , inspiring future generations of students to think creatively about environmental issues . Mia \\'s story became a beacon of hope , showing that even a single college student with a passion for change could make a lasting impact on the world . And so , as Mia embarked on her journey beyond college , she carried with her not just a degree but the knowledge that small , meaningful actions could ripple into waves of positive transformation for the planet and its people .\\n'"
     ]
    }
   ],
   "source": [
    "with open('../savedModels/randomForestModelSpacyEmbeddings.pkl', 'rb') as model_file:\n",
    "    model = pickle.load(model_file)\n",
    "\n",
    "text = [\n",
    "\"\"\"\n",
    "Once upon a time in the vibrant city of Harmonyville , there lived a college student named Mia Rodriguez . Mia was a junior majoring in environmental science at Rivertide University . Her love for nature and a deep sense of responsibility towards the planet fueled her determination to make a positive impact . One sunny afternoon , Mia stumbled upon a notice about the annual Green Innovation Challenge —an event where students could pitch eco -friendly projects to a panel of environmental experts . Inspired and eager to contribute , Mia decided to develop a sustainable urban gardening initiative called  \"GreenHaven . \" With her hands in the soil and a heart full of passion , Mia transformed an unused corner of the campus into a thriving community garden . She envisioned GreenHaven as a place where students could come together , learn about sustainable agriculture , and cultivate their own fruits and vegetables . Mia believed that this initiative could not only promote environmental consciousness but also foster a sense of community among her peers . As the garden flourished , so did Mia 's connection with her fellow students . The project became a hub of creativity , where ideas for sustainable living blossomed alongside the vibrant array of fruits and vegetables . Mia 's dedication and leadership drew the attention of both students and faculty alike . When the day of the Green Innovation Challenge arrived , Mia nervously but proudly presented GreenHaven to the panel of judges . The vision , dedication , and positive impact of her project resonated deeply , earning her the first prize and a scholarship for further environmental studies . Word of Mia 's success spread , and GreenHaven became a symbol of sustainable living on campus . Mia 's journey didn 't end with the competition ; instead , it marked the beginning of a new chapter . With the scholarship in hand , Mia continued her studies , conducting research on innovative ways to create sustainable urban environments . As Mia graduated from Rivertide University , she left behind a legacy of green initiatives and a campus that had been transformed by the power of community and sustainability . GreenHaven continued to thrive , inspiring future generations of students to think creatively about environmental issues . Mia 's story became a beacon of hope , showing that even a single college student with a passion for change could make a lasting impact on the world . And so , as Mia embarked on her journey beyond college , she carried with her not just a degree but the knowledge that small , meaningful actions could ripple into waves of positive transformation for the planet and its people .\n",
    "\"\"\",\n",
    "\"\"\"\n",
    "Once upon a time in the vibrant city of Harmonyville ,  lived a college student named   .  was a junior majoring in environmental science at Rivertide University .  love for nature and a deep sense of responsibility towards the planet fueled  determination to make a positive impact . One sunny afternoon ,  stumbled upon a notice about the annual Green Innovation Challenge — an event where students could pitch eco -friendly projects to a panel of environmental experts . Inspired and eager to contribute ,  decided to develop a sustainable urban gardening initiative called   \" GreenHaven . \" With  hands in the soil and a heart full of passion ,  transformed an unused corner of the campus into a thriving community garden .  envisioned GreenHaven as a place where students could come together , learn about sustainable agriculture , and cultivate  own fruits and vegetables .  believed that this initiative could not only promote environmental consciousness but also foster a sense of community among  peers . As the garden flourished , so did  's connection with  fellow students . The project became a hub of creativity , where ideas for sustainable living blossomed alongside the vibrant array of fruits and vegetables .  's dedication and leadership drew the attention of both students and faculty alike . When the day of the Green Innovation Challenge arrived ,  nervously but proudly presented GreenHaven to the panel of judges . The vision , dedication , and positive impact of  project resonated deeply , earning  the first prize and a scholarship for further environmental studies . Word of  's success spread , and  became a symbol of sustainable living on campus .  's    t end with the competition ; instead ,  marked the beginning of a new chapter . With the scholarship in hand ,  continued  studies , conducting research on innovative ways to create sustainable urban environments . As  graduated from Rivertide University ,  left behind a legacy of green initiatives and a campus  had been transformed by the power of community and sustainability . GreenHaven continued to thrive , inspiring future generations of students to think creatively about environmental issues .  's story became a beacon of hope , showing that even a single college student with a passion for change could make a lasting impact on the world . And so , as  embarked on  journey beyond college ,  carried with  not just a degree but the knowledge  small , meaningful actions could ripple into waves of positive transformation for the planet and  people .\n",
    "\"\"\",\n",
    "\"\"\"\n",
    "Once upon a time in the bustling city of Arcadia , there lived a college student named Alex Reynolds . Alex was a junior majoring in computer science at the prestigious Arcadia University . He was a diligent student with a passion for coding and a penchant for exploring the world of technology . One day , as Alex was immersed in his studies at the campus library , he stumbled upon an intriguing flyer .\n",
    "\"\"\",\n",
    "\"\"\"\n",
    "Once upon a time in the bustling city of Arcadia , there lived a college student . This student was a junior majoring in computer science at the prestigious Arcadia University . They were a diligent student with a passion for coding and a penchant for exploring the world of technology . One day , as this student was immersed in their studies at the campus library , they stumbled upon an intriguing flyer .\n",
    "\"\"\",\n",
    "\"\"\"\n",
    "Once upon a time in the vibrant college town of Crestwood , there lived a spirited young student named Emily . She was a sophomore at Crestwood University , pursuing a degree in environmental science with dreams of making a positive impact on the planet . Emily was known for her boundless enthusiasm , infectious energy , and a love for exploring the world around her . One crisp autumn day , Emily stumbled upon a flyer for an environmental awareness club called  \"Green Harmony \" on the college bulletin board . Intrigued and passionate about environmental causes , she decided to attend their next meeting . As Emily walked into the meeting room , she was greeted by a diverse group of students who shared her passion for sustainability . The club was planning an ambitious project to transform an unused campus space into a thriving community garden . Emily was immediately captivated by the idea and eagerly joined the efforts . The days turned into weeks as the Green Harmony team worked tirelessly , planning , planting , and nurturing their garden . Emily found herself forming deep connections with her fellow club members as they faced challenges and celebrated victories together . The project not only brought life to the neglected space but also breathed new life into Emily 's college experience . Amidst the busy academic schedule , Emily discovered a sense of purpose beyond textbooks and exams . The garden project became a symbol of unity , showcasing the power of collaboration and the positive impact a group of dedicated individuals could make . As the garden flourished , so did Emily 's personal growth . She learned about sustainable practices , organic gardening , and the importance of community engagement . Her once mundane college routine transformed into a fulfilling journey , where every day brought new lessons and opportunities . Word of the Green Harmony garden spread throughout the campus , attracting attention from both students and faculty . The college recognized the club 's efforts and even awarded them a grant to expand their project . Emily and her friends found themselves at the forefront of a campus -wide movement toward sustainability . Through this journey , Emily discovered not only her passion for environmental science but also her ability to lead and inspire change . The once ordinary college student had become a beacon of hope and inspiration for those around her . As the seasons changed , so did Emily and her friends , leaving behind a legacy of a thriving community garden and a more environmentally conscious campus . The tale of the college student who discovered her purpose in the embrace of nature and community echoed through the years , inspiring future generations of students to dream big and make a difference in the world .\n",
    "\"\"\",\n",
    "\"\"\"\n",
    "Once upon a time in the vibrant college town of Crestwood ,  lived a spirited young student named  .  was a sophomore at Crestwood University , pursuing a degree in environmental science with dreams of making a positive impact on the planet . Emily was known for  boundless enthusiasm , infectious energy , and a love for exploring the world around  . One crisp autumn day , Emily stumbled upon a flyer for an environmental awareness club called   \" Green Harmony \" on the college bulletin board . Intrigued and passionate about environmental causes ,  decided to attend  next meeting . As Emily walked into the meeting room ,  was greeted by a diverse group of students  shared  passion for sustainability . The club was planning an ambitious project to transform an unused campus space into a thriving community garden . Emily was immediately captivated by the idea and eagerly joined the efforts . The days turned into weeks as the   team worked tirelessly , planning , planting , and nurturing  garden . Emily found  forming deep connections with  fellow club members as  faced challenges and celebrated victories together . The project not only brought life to the neglected space but also breathed new life into Emily 's college experience . Amidst the busy academic schedule , Emily discovered a sense of purpose beyond textbooks and exams . The garden project became a symbol of unity , showcasing the power of collaboration and the positive impact a group of dedicated individuals could make . As the garden flourished , so did  's personal growth .  learned about sustainable practices , organic gardening , and the importance of community engagement .  once mundane college routine transformed into a fulfilling journey , where every day brought new lessons and opportunities . Word of the Green Harmony garden spread throughout the campus , attracting attention from both students and faculty . The college recognized the club 's efforts and even awarded  a grant to expand  project . Emily and  friends found  at the forefront of a campus -wide movement toward sustainability . Through this journey , Emily discovered not only  passion for environmental science but also  ability to lead and inspire change . The once ordinary college student had become a beacon of hope and inspiration for  around  . As the seasons changed , so did  and  friends , leaving behind a legacy of a thriving community garden and a more environmentally conscious campus . The tale of the college student  discovered  purpose in the embrace of nature and community echoed through the years , inspiring future generations of students to dream big and make a difference in the world .\n",
    "\"\"\",\n",
    "\"\"\"\n",
    "In the vibrant city of Rivertown , there lived a college student named Jason Harris . Jason was a senior at Rivertown University , majoring in journalism and aspiring to be a storyteller . He had a keen interest in human experiences and a passion for shedding light on untold stories . One day , while perusing the local newspaper , Jason stumbled upon an article about an elderly woman named Mrs . Eleanor Bennett , who had spent decades working as a librarian in the city . Intrigued by the snippet of her life story , Jason felt compelled to dig deeper and share her tale with the world . After some research , Jason learned that Mrs . Bennett had not only been a dedicated librarian but had also been involved in community initiatives , fostering a love for reading among children and organizing events to bring people together . However , her own life story had largely remained in the shadows . Determined to uncover the full narrative , Jason reached out to Mrs . Bennett and asked for an interview . To his surprise , she welcomed the opportunity to share her story , and soon they sat down for a conversation that would unveil a lifetime of experiences . As Jason delved into Mrs . Bennett 's past , he discovered a woman who had overcome personal challenges , witnessed historical events , and touched the lives of many in Rivertown . Her journey was filled with moments of joy , heartbreak , and resilience , making for a compelling narrative that Jason couldn 't wait to share with his readers . With meticulous attention to detail , Jason crafted a feature article that not only highlighted Mrs . Bennett 's contributions to the community but also captured the essence of her character . The story resonated with readers , and the local newspaper received an overwhelming response . Mrs . Bennett became a beloved figure in Rivertown , celebrated for her dedication and the richness of her life story . The success of the article opened doors for Jason , who found himself on the path to becoming a respected journalist . Inspired by Mrs . Bennett 's story , he continued to seek out and share the untold narratives within his community , becoming a storyteller who bridged the gaps between generations . As graduation day approached , Jason reflected on his college journey . His time at Rivertown University had not only provided him with an education but had also instilled in him the power of storytelling to connect people and inspire change . With a heart full of gratitude and a portfolio filled with impactful stories , Jason ventured into the world , ready to make a difference , one narrative at a time .\n",
    "\"\"\",\n",
    "\"\"\"\n",
    "In the vibrant city of Rivertown ,  lived a college student named   .  was a senior at Rivertown University , majoring in journalism and aspiring to be a storyteller .  had a keen interest in human experiences and a passion for shedding light on untold stories . One day , while perusing the local newspaper ,  stumbled upon an article about an elderly woman named  .   ,  had spent decades working as a librarian in the city . Intrigued by the snippet of  life story ,  felt compelled to dig deeper and share  tale with the world . After some research ,  learned that  .  had not only been a dedicated librarian but had also been involved in community initiatives , fostering a love for reading among children and organizing events to bring people together . However ,  own life story had largely remained in the shadows . Determined to uncover the full narrative ,  reached out to  .  and asked for an interview . To  surprise ,  welcomed the opportunity to share  story , and soon  sat down for a conversation  would unveil a lifetime of experiences . As  delved into  .  's past ,  discovered a woman  had overcome personal challenges , witnessed historical events , and touched the lives of many in Rivertown .  journey was filled with moments of joy , heartbreak , and resilience , making for a compelling narrative   couldn ' t wait to share with  readers . With meticulous attention to detail ,  crafted a feature article that not only highlighted  .  's contributions to the community but also captured the essence of  character . The story resonated with readers , and the local newspaper received an overwhelming response . Mrs .  became a beloved figure in Rivertown , celebrated for  dedication and the richness of  life story . The success of the article opened doors for  ,  found  on the path to becoming a respected journalist . Inspired by  .  's story ,  continued to seek out and share the untold narratives within  community , becoming a storyteller  bridged the gaps between generations . As graduation day approached ,  reflected on  college journey .  time at Rivertown University had not only provided  with an education but had also instilled in  the power of storytelling to connect people and inspire change . With a heart full of gratitude and a portfolio filled with impactful stories ,  ventured into the world , ready to make a difference , one narrative at a time .\n",
    "\"\"\",\n",
    "\"\"\"\n",
    "In the bustling town of Summitville , there lived a college man named Lucas Turner . Lucas was a mechanical engineering major at Summitville Tech , known for his passion for building things from the ground up . His college life was a dynamic mix of late -night design sessions , hands -on projects , and a camaraderie with his fellow engineering students . One day , Lucas stumbled upon an old , abandoned workshop on the outskirts of town . The sight of forgotten tools and discarded materials sparked a fire in him . Inspired by the potential of the neglected space , he decided to breathe new life into it and create a collaborative hub for engineering students . Lucas rallied a group of like -minded friends , and together they transformed the workshop into the  \"Innovation Forge . \" It became a haven for students to work on personal projects , exchange ideas , and bring their engineering dreams to life . The space buzzed with the sounds of drills , the clanking of metal , and the hum of 3D printers as students collaborated on everything from robotics to sustainable energy solutions . As the Innovation Forge gained popularity , Lucas and his team decided to organize an annual engineering expo , showcasing the innovative projects that emerged from their workshop . The expo not only attracted students and faculty but also local businesses and industry professionals keen on discovering emerging talent . One year , Lucas and his team developed a prototype for a solar -powered irrigation system designed to help local farmers in Summitville . The project gained attention not only for its engineering prowess but also for its potential to make a real impact in the community . The Innovation Forge became a focal point for collaborative projects that aimed to address real -world challenges . Lucas 's journey through college was not just about earning a degree ; it was about leaving a lasting mark on the engineering community . As graduation approached , the Innovation Forge continued to thrive , and Lucas felt a sense of pride in the legacy he had created . The town of Summitville now had a vibrant hub of innovation , thanks to the hard work and dedication of Lucas Turner . His college experience became a testament to the transformative power of hands -on learning , collaboration , and the drive to make a positive impact on the world through engineering ingenuity .\n",
    "\"\"\",\n",
    "\"\"\"\n",
    "In the bustling town of Summitville ,  lived a college man named   . Lucas was a mechanical engineering major at Summitville Tech , known for  passion for building things from the ground up .  college life was a dynamic mix of late -night design sessions , hands -on projects , and a camaraderie with  fellow engineering students . One day , Lucas stumbled upon an old , abandoned workshop on the outskirts of town . The sight of forgotten tools and discarded materials sparked a fire in  . Inspired by the potential of the neglected space ,  decided to breathe new life into  and create a collaborative hub for engineering students . Lucas rallied a group of like -minded friends , and together  transformed the workshop into the   \" Innovation Forge . \"  became a haven for students to work on personal projects , exchange ideas , and bring  engineering dreams to life . The space buzzed with the sounds of drills , the clanking of metal , and the hum of 3D printers as students collaborated on  from robotics to sustainable energy solutions . As the Innovation Forge gained popularity , Lucas and  team decided to organize an annual engineering expo , showcasing the innovative projects  emerged from  workshop . The expo not only attracted students and faculty but also local businesses and industry professionals keen on discovering emerging talent . One year , Lucas and  team developed a prototype for a solar -powered irrigation system designed to help local farmers in Summitville . The project gained attention not only for  engineering prowess but also for  potential to make a real impact in the community . The Innovation Forge became a focal point for collaborative projects  aimed to address real -world challenges . Lucas 's journey through college was not just about earning a degree ;  was about leaving a lasting mark on the engineering community . As graduation approached , the Innovation Forge continued to thrive , and Lucas felt a sense of pride in the legacy  had created . The town of Summitville now had a vibrant hub of innovation , thanks to the hard work and dedication of Lucas Turner .  college experience became a testament to the transformative power of hands -on learning , collaboration , and the drive to make a positive impact on the world through engineering ingenuity .\n",
    "\"\"\",\n",
    "\"\"\"\n",
    "Once upon a time, in the bustling city of Academia, there lived an ambitious scientist named Alex. He was a dedicated soul with a passion to unravel the mysteries of science. Alex led an insatiable curiosity that led him to the hallowed halls of the prestigious Kepler University. From a humble background, Alex worked tirelessly to secure a scholarship that would pave the way to his academic journey. The moment he stepped onto the university grounds, he felt a surge of determination to make the most of the golden opportunity. Alex's days were filled with challenging lectures, fascinating experiments, countless hours in the library. His favorite haunt was the physics lab, where he immersed himself in the world of particles, equations, the boundless wonders of the universe. The spark in his eyes ignited with each breakthrough, no matter the size. Outside the realm of academia, Alex was known to be kind to lend a helping hand. Tutoring a struggling classmate or participating in community service projects, he believed in the power of knowledge to uplift not just himself but those around him. As the semesters passed, Alex's reputation as a brilliant, compassionate scientist grew. Professors admired his commitment to learning; fellow scientists sought his guidance. Alex remained humble, always acknowledging the contributions of others, fostering a sense of camaraderie.\n",
    "\"\"\",\n",
    "\"\"\"\n",
    "bustl town  summitvil ,  live  colleg  name   . luca   mechan engin major  summitvil tech , know   passion  build thing   ground  .  colleg life   dynam mix  late -night design session , hand -on project ,   camaraderi   fellow engin student .  day , luca stumbl   old , abandon workshop   outskirt  town .  sight  forget tool  discard materi spark  fire   . inspir   potenti   neglect space ,  decid  breath new life    creat  collabor hub  engin student . luca ralli  group  like -mind friend ,    transform  workshop     \" innov forg . \"    haven  student  work  person project , exchang idea ,  bring  engin dream  life .  space buzz   sound  drill ,  clank  metal ,   hum  3d printer  student collabor    robot  sustain energi solut .   innov forg gain popular , luca   team decid  organ  annual engin expo , showcas  innov project  emerg   workshop .  expo   attract student  faculti   local busi  industri profession keen  discov emerg talent .  year , luca   team develop  prototyp   solar -power irrig system design  help local farmer  summitvil .  project gain attent     engin prowess     potenti    real impact   commun .  innov forg   focal point  collabor project  aim  address real -world challeng . luca  journey  colleg     earn  degre ;    leav  last mark   engin commun .  graduat approach ,  innov forg continu  thrive ,  luca feel  sens  pride   legaci   creat .  town  summitvil    vibrant hub  innov , thank   hard work  dedic  luca turner .  colleg experi   testament   transform power  hand -on learn , collabor ,   drive    posit impact   world  engin ingenu .\n",
    "\"\"\",\n",
    "\"\"\"\n",
    "Once upon a time in the bustling city of Arcadia, there lived a spirited and ambitious young woman named Emma Turner. Emma was a sophomore at Arcadia University, majoring in environmental science with a deep passion for sustainability and conservation. Her days were filled with classes, environmental club meetings, and the occasional part-time job at a local bookstore. One sunny afternoon, Emma received an invitation to participate in an environmental research project that would take her deep into the heart of the nearby Redwood Forest. The project, led by renowned ecologist Dr. Victoria Hayes, aimed to study the flora and fauna of the forest to better understand its ecosystem and potential threats. Excitement and anticipation bubbled within Emma as she packed her bags and set off on the adventure of a lifetime. Alongside a diverse group of fellow students, Emma embarked on a journey into the towering trees and lush undergrowth of the Redwood Forest. As the days unfolded, Emma found herself enchanted by the beauty and complexity of the ecosystem. She meticulously documented the various plant species, observed elusive wildlife, and collaborated with her peers on data collection. Amidst the research, Emma formed deep connections with her teammates, each of them bringing a unique perspective to the project. However, the tranquility of the forest was disrupted when the team stumbled upon signs of illegal logging. Deeply troubled by the discovery, Emma and her friends decided to take action. They used their findings to raise awareness both on campus and within the local community, organizing protests and initiating a campaign to protect the Redwood Forest. Emma's dedication caught the attention of local environmental organizations, and soon she found herself at the forefront of a movement to preserve not only the Redwood Forest but also other endangered ecosystems. Her passion and leadership skills shone brightly as she advocated for sustainable practices and conservation efforts. Through it all, Emma continued to balance her academic responsibilities, never losing sight of her dream to make a positive impact on the environment. As the campaign gained momentum, Emma's story became an inspiration to fellow students and activists alike. The once-unassuming college student had transformed into a force for change, proving that passion, determination, and a strong sense of purpose could make a significant difference in the world. And so, as the sun set over the Redwood Forest, casting a warm glow on the towering trees, Emma reflected on her journey. The adventure had not only shaped her college experience but had set her on a path to contribute meaningfully to the planet's well-being. In the heart of nature, surrounded by friends and a shared sense of purpose, Emma's story continued to unfold, leaving an indelible mark on both her and the world she sought to protect.\n",
    "\"\"\",\n",
    "\"\"\"\n",
    "time   bustl citi  arcadia ,  live  spirit  ambiti young  name   .    sophomor  arcadia univers , major  environment scienc   deep passion  sustain  conserv .  day  fill  class , environment club meet ,   occasion  -time job   local bookstor .  sunni afternoon ,  receiv  invit  particip   environment research project     deep   heart   nearbi redwood forest .  project , lead  renown ecologist dr .   , aim  studi  flora  fauna   forest  well understand  ecosystem  potenti threat . excit  anticip bubbl     pack  bag  set    adventur   lifetim . alongsid  divers group  fellow student ,  embark   journey   tower tree  lush undergrowth   redwood forest .   day unfold ,  find  enchant   beauti  complex   ecosystem .  meticul document   plant speci , observ elus wildlif ,  collabor   peer  datum collect . amidst  research ,  form deep connect   teammat ,    bring  uniqu perspect   project .  ,  tranquil   forest  disrupt   team stumbl  sign  illeg log . deepli troubl   discoveri ,    friend decid   action .    find  rais awar   campu    local commun , organ protest  initi  campaign  protect  redwood forest .   dedic catch  attent  local environment organ ,  soon  find    forefront   movement  preserv    redwood forest    endang ecosystem .  passion  leadership skill shine brightli   advoc  sustain practic  conserv effort .    ,  continu  balanc  academ respons ,  lose sight   dream    posit impact   environ .   campaign gain momentum ,   stori   inspir  fellow student  activist alik .   -unassum colleg student  transform   forc  chang , prove  passion , determin ,   strong sens  purpos    signific differ   world .   ,   sun set   redwood forest , cast  warm glow   tower tree ,  reflect   journey .  adventur    shape  colleg experi   set    path  contribut meaning   planet   -be .   heart  natur , surround  friend   share sens  purpos ,   stori continu  unfold , leav  indel mark      world  seek  protect .\n",
    "\"\"\"\n",
    "]\n",
    "transformedText = np.array([text_to_vectors(t) for t in text])\n",
    "explainer = LimeTextExplainer(class_names=['female', 'male'])\n",
    "predProb = model.predict_proba(transformedText)\n",
    "pred = model.predict(transformedText)\n",
    "predict_function = lambda x: model.predict_proba(np.array([text_to_vectors(x)]))\n",
    "print(\"PRED\", pred)\n",
    "print(\"PRED PROB\", predProb)\n",
    "\n",
    "# Test with a single string\n",
    "single_text = text[0]\n",
    "print(\"Type of single_text:\", type(single_text))\n",
    "print(\"Single text:\", single_text)\n",
    "explanation = explainer.explain_instance(single_text, predict_function, num_features=20)\n",
    "top_words_lime = explanation.as_list()\n",
    "print(\"Top words for single text:\")\n",
    "print(top_words_lime)\n",
    "\n",
    "yActual = [0, 0, 1, 1, 0, 0, 1, 1, 1, 1, 1, 1, 0, 0]\n",
    "for i in range(len(pred)):\n",
    "    print(i + 1, \":\")\n",
    "    print(\"Male: \", predProb[i][1])\n",
    "    print(\"Female: \", predProb[i][0])\n",
    "    print(\"Predicted: \", pred[i])\n",
    "    if(yActual[i] == 0):\n",
    "        print(\"Actual: Female\")\n",
    "    else:\n",
    "        print(\"Actual: Male\")\n",
    "    \n",
    "    \n",
    "    explanation = explainer.explain_instance(text[i], predict_function, num_features=20)\n",
    "    top_words_lime = explanation.as_list()\n",
    "    print(f\"Top words for text response {i + 1}:\")\n",
    "    masculineWords = []\n",
    "    feminineWords = []\n",
    "    for word, score in top_words_lime:\n",
    "        if score > 0:\n",
    "            masculineWords.append((word, score))\n",
    "        else:\n",
    "            feminineWords.append((word, score))\n",
    "    print(\"Masculine words: \", masculineWords)\n",
    "    print(\"Feminine words: \", feminineWords)\n",
    "    print(\"\")"
   ]
  },
  {
   "attachments": {},
   "cell_type": "markdown",
   "metadata": {},
   "source": [
    "Word Embeddings using no ML model and only cosine similarity with \"man\" and \"woman\""
   ]
  },
  {
   "cell_type": "code",
   "execution_count": 30,
   "metadata": {},
   "outputs": [
    {
     "name": "stdout",
     "output_type": "stream",
     "text": [
      "Male Percentage: 56.885313987731934\n",
      "Female Percentage: 43.11468303203583\n",
      "Predicted bias: male\n",
      "Masculine words: [('brilliant', 0.11809299), ('favorit', 0.11309473), ('experi', 0.08384444), ('commit', 0.07793382), ('physic', 0.07535678), ('fellow', 0.072152555), ('boundless', 0.070789225), ('pass', 0.06676336), ('hallow', 0.062647), ('univers', 0.058935393)]\n",
      "Feminine words: [('realm', -0.0017680153), ('opportun', -0.005584955), ('lend', -0.006147187), ('hour', -0.010244541), ('background', -0.010786898), ('curios', -0.015917696), ('compassion', -0.016747624), ('feel', -0.01801464), ('journey', -0.018164247), ('hall', -0.01831232)]\n"
     ]
    }
   ],
   "source": [
    "# load word vectors\n",
    "wordVectors = KeyedVectors.load_word2vec_format('../wordEmbeddings/GoogleNews-vectors-negative300.bin', binary=True)\n",
    "manVector = wordVectors['man']\n",
    "womanVector = wordVectors['woman']\n",
    "\n",
    "# get average vector\n",
    "def text_to_average_vector(text):\n",
    "    if text.strip() == \"\":\n",
    "        return None\n",
    "    words = text.split()\n",
    "    vectors = [wordVectors[word] for word in words if word in wordVectors.vocab]\n",
    "    if len(vectors) == 0:\n",
    "        return None\n",
    "    return np.mean(vectors, axis=0)\n",
    "\n",
    "# use cosine similarity to predict bais\n",
    "def predict_bias(inputText):\n",
    "    similaritiesToMan = []\n",
    "    similaritiesToWoman = []\n",
    "    words = inputText.split()\n",
    "    \n",
    "    # go through each word and calculate cosine similarity\n",
    "    for word in words:\n",
    "        if word in wordVectors.key_to_index:\n",
    "            similarityToMan = cosine_similarity(wordVectors[word].reshape(1, -1), manVector.reshape(1, -1))\n",
    "            similarityToWoman = cosine_similarity(wordVectors[word].reshape(1, -1), womanVector.reshape(1, -1))\n",
    "            similaritiesToMan.append(similarityToMan)\n",
    "            similaritiesToWoman.append(similarityToWoman)\n",
    "    \n",
    "    # calculate average\n",
    "    if len(similaritiesToMan) == 0 or len(similaritiesToWoman) == 0:\n",
    "        return None, None\n",
    "    avgSimilarityToMan = np.mean(similaritiesToMan)\n",
    "    avgSimilarityToWoman = np.mean(similaritiesToWoman)\n",
    "    \n",
    "    # normalize\n",
    "    probMaleBias = (avgSimilarityToMan / (avgSimilarityToMan + avgSimilarityToWoman)) * 100\n",
    "    probFemaleBias = (avgSimilarityToWoman / (avgSimilarityToMan + avgSimilarityToWoman)) * 100\n",
    "    \n",
    "    return probMaleBias, probFemaleBias\n",
    "\n",
    "# testing\n",
    "inputText = \"\"\"\n",
    "Once upon a time, in the bustling city of Academia, there lived an ambitious scientist named Alex. He was a dedicated soul with a passion to unravel the mysteries of science. Alex led an insatiable curiosity that led him to the hallowed halls of the prestigious Kepler University. From a humble background, Alex worked tirelessly to secure a scholarship that would pave the way to his academic journey. The moment he stepped onto the university grounds, he felt a surge of determination to make the most of the golden opportunity. Alex's days were filled with challenging lectures, fascinating experiments, countless hours in the library. His favorite haunt was the physics lab, where he immersed himself in the world of particles, equations, the boundless wonders of the universe. The spark in his eyes ignited with each breakthrough, no matter the size. Outside the realm of academia, Alex was known to be kind to lend a helping hand. Tutoring a struggling classmate or participating in community service projects, he believed in the power of knowledge to uplift not just himself but those around him. As the semesters passed, Alex's reputation as a brilliant, compassionate scientist grew. Professors admired his commitment to learning; fellow scientists sought his guidance. Alex remained humble, always acknowledging the contributions of others, fostering a sense of camaraderie.\n",
    "\"\"\"\n",
    "addSpaceBeforeText = add_space_before(inputText)\n",
    "inputText = removeUnnecessaryWords(addSpaceBeforeText)\n",
    "\n",
    "probMaleBias, probFemaleBias = predict_bias(inputText)\n",
    "\n",
    "print(\"Male Percentage:\", probMaleBias)\n",
    "print(\"Female Percentage:\", probFemaleBias)\n",
    "\n",
    "if probMaleBias > probFemaleBias:\n",
    "    bias = \"male\" \n",
    "else:\n",
    "    bias = \"female\"\n",
    "print(\"Predicted bias:\", bias)\n",
    "\n",
    "# bias scores for each word\n",
    "biasScores = {}\n",
    "words = inputText.split()\n",
    "for word in words:\n",
    "    if word in wordVectors.key_to_index:\n",
    "        similarityToMan = cosine_similarity(wordVectors[word].reshape(1, -1), manVector.reshape(1, -1))\n",
    "        similarityToWoman = cosine_similarity(wordVectors[word].reshape(1, -1), womanVector.reshape(1, -1))\n",
    "        biasScores[word] = (similarityToMan - similarityToWoman)[0][0]\n",
    "sortedBiasScores = sorted(biasScores.items(), key=lambda item: item[1], reverse=True)\n",
    "\n",
    "masculineWords = [(word, score) for word, score in sortedBiasScores if score > 0][:10]\n",
    "feminineWords = [(word, score) for word, score in sortedBiasScores if score < 0][:10]\n",
    "\n",
    "print(\"Masculine words:\", masculineWords)\n",
    "print(\"Feminine words:\", feminineWords)\n"
   ]
  }
 ],
 "metadata": {
  "kernelspec": {
   "display_name": "base",
   "language": "python",
   "name": "python3"
  },
  "language_info": {
   "codemirror_mode": {
    "name": "ipython",
    "version": 3
   },
   "file_extension": ".py",
   "mimetype": "text/x-python",
   "name": "python",
   "nbconvert_exporter": "python",
   "pygments_lexer": "ipython3",
   "version": "3.11.4 (main, Jul  5 2023, 08:54:11) [Clang 14.0.6 ]"
  },
  "orig_nbformat": 4,
  "vscode": {
   "interpreter": {
    "hash": "3d31fc6a8204de3b4072b5546421e13825b968bc2d7431df16c61b9e7419f929"
   }
  }
 },
 "nbformat": 4,
 "nbformat_minor": 2
}
