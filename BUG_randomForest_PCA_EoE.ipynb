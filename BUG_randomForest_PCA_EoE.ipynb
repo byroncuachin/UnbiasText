{
 "cells": [
  {
   "cell_type": "code",
   "execution_count": 2,
   "metadata": {},
   "outputs": [],
   "source": [
    "from sklearn.feature_extraction.text import CountVectorizer\n",
    "from sklearn.decomposition import PCA\n",
    "from sklearn.pipeline import Pipeline\n",
    "from sklearn.linear_model import LogisticRegression\n",
    "from sklearn.model_selection import RepeatedStratifiedKFold\n",
    "from sklearn.model_selection import cross_val_score\n",
    "from sklearn.model_selection import train_test_split\n",
    "from numpy import mean\n",
    "from numpy import std\n",
    "import pandas as pd\n",
    "import numpy as np"
   ]
  },
  {
   "cell_type": "code",
   "execution_count": 3,
   "metadata": {},
   "outputs": [],
   "source": [
    "# load data\n",
    "dataset = pd.read_csv('datasets/BUG/balanced_BUG.csv')\n",
    "train, test = train_test_split(dataset, test_size=0.2, random_state=42)\n",
    "# get samples with only neutral or stereotype sentence\n",
    "train = train[train['stereotype'].isin([0, 1])]\n",
    "test = test[test['stereotype'].isin([0, 1])]\n",
    "\n",
    "countV = CountVectorizer()\n",
    "trainTexts = countV.fit_transform(train['sentence_text'])\n",
    "testTexts = countV.transform(test['sentence_text'])\n",
    "\n",
    "X_train = pd.DataFrame(trainTexts.toarray(), columns=countV.get_feature_names_out())\n",
    "X_test = pd.DataFrame(testTexts.toarray(), columns=countV.get_feature_names_out())\n",
    "y_train = train['predicted gender']\n",
    "y_test = test['predicted gender']"
   ]
  },
  {
   "cell_type": "code",
   "execution_count": 4,
   "metadata": {},
   "outputs": [],
   "source": [
    "# Function that utilizes cross validation to test accuracy of model\n",
    "def evaluate_model(model):\n",
    "    # cv = RepeatedStratifiedKFold(n_splits=10, n_repeats=3, random_state=1)\n",
    "    cv = RepeatedStratifiedKFold(n_splits=10, n_repeats=1, random_state=1)\n",
    "    scores = cross_val_score(model, X_test, y_test, cv=cv, scoring='accuracy', n_jobs=-1, error_score='raise')\n",
    "    return scores"
   ]
  },
  {
   "cell_type": "markdown",
   "metadata": {},
   "source": [
    "Random Forest"
   ]
  },
  {
   "cell_type": "code",
   "execution_count": 13,
   "metadata": {},
   "outputs": [
    {
     "name": "stdout",
     "output_type": "stream",
     "text": [
      "Score: 0.9871\n"
     ]
    }
   ],
   "source": [
    "from sklearn.ensemble import RandomForestClassifier\n",
    "rf = RandomForestClassifier(n_estimators=100, random_state=42)\n",
    "scores = evaluate_model(rf)\n",
    "print('Score: {:.4f}'.format(scores.mean()))"
   ]
  },
  {
   "cell_type": "markdown",
   "metadata": {},
   "source": [
    "PCA (better on ChatGPT samples below)"
   ]
  },
  {
   "cell_type": "code",
   "execution_count": 6,
   "metadata": {},
   "outputs": [
    {
     "name": "stdout",
     "output_type": "stream",
     "text": [
      "Accuracy: 0.957 (0.010)\n"
     ]
    }
   ],
   "source": [
    "# define the pipeline\n",
    "steps = [('pca', PCA(n_components=10)), ('m', LogisticRegression())]\n",
    "model1 = Pipeline(steps=steps)\n",
    "\n",
    "# evaluate model\n",
    "n_scores1 = evaluate_model(model1)\n",
    "\n",
    "# report performance\n",
    "print('Accuracy: %.3f (%.3f)' % (mean(n_scores1), std(n_scores1)))"
   ]
  },
  {
   "cell_type": "code",
   "execution_count": 7,
   "metadata": {},
   "outputs": [
    {
     "name": "stdout",
     "output_type": "stream",
     "text": [
      "Accuracy: 0.611 (0.056)\n"
     ]
    }
   ],
   "source": [
    "X_samples= ['''In the bustling halls of his college, a young man navigated the complexities of academia, \n",
    "            friendships, and love, discovering his passion for astronomy while forging lifelong connections \n",
    "            under the starlit campus nights.''',\n",
    "            '''At the forefront of environmental activism, a passionate college girl spearheaded a movement \n",
    "            for sustainability, rallying her peers to embrace eco-friendly practices and leaving an enduring \n",
    "            green legacy on the university campus''',\n",
    "            '''Amid the chaos of exams and late-night study sessions, a college guy found unexpected \n",
    "            inspiration in a quirky poetry club, where he unearthed his hidden talent for weaving words \n",
    "            and discovered the transformative power of self-expression.''',\n",
    "            '''Juggling lectures, part-time work, and a secret flair for dance, a college guy discovered \n",
    "            the joy of breaking societal expectations and embracing his love for rhythm in the unlikeliest places''',\n",
    "            '''Fueled by caffeine and dreams, a college male embarked on a coding marathon, racing against deadlines \n",
    "            and debugging errors, only to realize that the true beauty lay not in perfection but in the process of \n",
    "            creation''',\n",
    "            '''Navigating the complexities of relationships and self-discovery, a young woman in college learned \n",
    "            the art of balancing vulnerability and strength, discovering that love was not a distraction but an \n",
    "            integral part of personal growth''',\n",
    "            '''In the heart of campus activism, a socially conscious college guy led a passionate movement, \n",
    "            challenging the status quo and igniting conversations that echoed beyond lecture halls, leaving \n",
    "            an indelible mark on the institution''',\n",
    "            '''Navigating the whirlwind of college relationships, a young man learned the delicate dance of \n",
    "            vulnerability and trust, discovering that love's lessons often unfolded in unexpected moments \n",
    "            of connection and understanding''',\n",
    "            '''Battling imposter syndrome and academic pressures, a college male found solace and empowerment in \n",
    "            a supportive mentorship program, where guidance and camaraderie transformed his doubts into \n",
    "            unwavering self-confidence''',\n",
    "            '''From quiet study sessions to the loud cheers of the basketball court, a college guy embraced \n",
    "            the duality of his passions, discovering that both the pursuit of knowledge and the thrill of \n",
    "            competition were essential components of his identity''',\n",
    "            '''Battling imposter syndrome and academic challenges, a college female sought guidance in a mentorship \n",
    "            program, where the wisdom of experienced women empowered her to overcome obstacles and embrace her own \n",
    "            capabilities''',\n",
    "            '''In the realm of campus journalism, a determined college male delved into investigative reporting, \n",
    "            unearthing hidden truths and exposing corruption, challenging the notion that the pen was not, indeed, \n",
    "            mightier than the sword''',\n",
    "            '''Faced with the crossroads of post-graduation uncertainty, a college guy embarked on a solo \n",
    "            backpacking journey, traversing landscapes both external and internal, finding unexpected clarity \n",
    "            and purpose in the uncharted territories of self-discovery''',\n",
    "            '''Balancing lectures and a part-time job, a college girl discovered her love for urban gardening, \n",
    "            cultivating not just plants but also a sense of tranquility amidst the bustling campus''',\n",
    "            '''Fueled by curiosity and countless cups of tea, a college female delved into the world of \n",
    "            ancient history, unraveling forgotten tales and finding parallels that connected her to the roots of \n",
    "            civilizations''',\n",
    "            '''A tenacious college woman, armed with a camera and a passion for storytelling, joined the ranks of \n",
    "            campus journalism, unearthing hidden narratives and giving voice to the marginalized, proving that \n",
    "            the pursuit of truth could be a powerful force for change''',\n",
    "            '''Confronting post-graduation uncertainties with resilience, a college female embarked on a solo \n",
    "            backpacking adventure, navigating both physical landscapes and the landscapes of her own ambitions, \n",
    "            discovering that the journey of self-discovery knows no gender''',\n",
    "            '''From late-night coding sessions to the spotlight on the theater stage, a college girl embraced the \n",
    "            diversity of her interests, realizing that the fusion of logic and creativity was the key to \n",
    "            unlocking her full potential''']\n",
    "y_cgpt = [1, 0, 1, 1, 1, 0, 1, 1, 1, 1, 0, 1, 1, 0, 0, 0, 0, 0] # 1 is male; 0 is female\n",
    "\n",
    "cv_cgpt = countV.transform(X_samples)\n",
    "pd_cgpt = pd.DataFrame(data = cv_cgpt.toarray())\n",
    "X_cgpt = pd_cgpt.iloc[:,:].values\n",
    "\n",
    "steps_cgpt = [('pca', PCA(n_components=5)), ('m', LogisticRegression())]\n",
    "model2 = Pipeline(steps=steps_cgpt)\n",
    "\n",
    "cv2 = RepeatedStratifiedKFold(n_splits=2, n_repeats=1, random_state=1)\n",
    "scores2 = cross_val_score(model2, X_cgpt, y_cgpt, cv=cv2, scoring='accuracy', n_jobs=-1, error_score='raise')\n",
    "\n",
    "# report performance\n",
    "print('Accuracy: %.3f (%.3f)' % (mean(scores2), std(scores2)))"
   ]
  },
  {
   "cell_type": "code",
   "execution_count": 8,
   "metadata": {},
   "outputs": [],
   "source": [
    "test_sample = ['''Determined to bridge the gap in STEM fields, a college woman immersed herself in robotics \n",
    "             and artificial intelligence, breaking barriers and inspiring the next generation of female \n",
    "             engineers with her innovative projects and unwavering passion''']\n",
    "\n",
    "cv_test_cgpt = countV.transform(X_samples)\n",
    "# cv_test_cgpt = countV.transform(test_sample)\n",
    "pd_test_cgpt = pd.DataFrame(data = cv_test_cgpt.toarray())\n",
    "test_cgpt = pd_test_cgpt.iloc[:,:].values\n",
    "\n",
    "pd_tr = pd.DataFrame(data = trainTexts.toarray())\n",
    "\n",
    "# add filler columns so that test_cgpt will have the same number of columns as X_train\n",
    "test_cgpt = pd.DataFrame(test_cgpt).reindex(labels=pd_tr.columns,axis=1,fill_value=0)\n",
    "test_cgpt = test_cgpt.iloc[:,:].values"
   ]
  },
  {
   "cell_type": "code",
   "execution_count": 9,
   "metadata": {},
   "outputs": [],
   "source": [
    "# Training the classifier\n",
    "model2 = model1.fit(X_train, y_train)"
   ]
  },
  {
   "cell_type": "code",
   "execution_count": 10,
   "metadata": {},
   "outputs": [],
   "source": [
    "model3 = rf.fit(X_train, y_train)"
   ]
  },
  {
   "cell_type": "code",
   "execution_count": 11,
   "metadata": {},
   "outputs": [
    {
     "name": "stdout",
     "output_type": "stream",
     "text": [
      "Predicted PCA: ['male' 'female' 'male' 'male' 'female' 'female' 'male' 'female' 'male'\n",
      " 'male' 'female' 'male' 'female' 'female' 'female' 'female' 'female'\n",
      " 'female']\n",
      "Predicted Random Forest: ['male' 'female' 'male' 'male' 'female' 'female' 'female' 'female' 'male'\n",
      " 'male' 'female' 'female' 'male' 'female' 'female' 'female' 'female'\n",
      " 'female']\n",
      "Expected: [1, 0, 1, 1, 1, 0, 1, 1, 1, 1, 0, 1, 1, 0, 0, 0, 0, 0]\n"
     ]
    },
    {
     "name": "stderr",
     "output_type": "stream",
     "text": [
      "c:\\Users\\kcpra\\AppData\\Local\\Programs\\Python\\Python311\\Lib\\site-packages\\sklearn\\base.py:439: UserWarning: X does not have valid feature names, but PCA was fitted with feature names\n",
      "  warnings.warn(\n",
      "c:\\Users\\kcpra\\AppData\\Local\\Programs\\Python\\Python311\\Lib\\site-packages\\sklearn\\base.py:439: UserWarning: X does not have valid feature names, but RandomForestClassifier was fitted with feature names\n",
      "  warnings.warn(\n"
     ]
    }
   ],
   "source": [
    "# Testing the classifier\n",
    "pca_cgpt_pred = model2.predict(test_cgpt)\n",
    "rf_cgpt_pred = model3.predict(test_cgpt)\n",
    "\n",
    "expected = y_cgpt   # for X_samples\n",
    "# expected = [0]    # for test_sample\n",
    "\n",
    "print('Predicted PCA:', pca_cgpt_pred)\n",
    "print('Predicted Random Forest:', rf_cgpt_pred)\n",
    "print('Expected:', expected)"
   ]
  },
  {
   "cell_type": "markdown",
   "metadata": {},
   "source": [
    "Ensemble of Ensembles"
   ]
  },
  {
   "cell_type": "code",
   "execution_count": 12,
   "metadata": {},
   "outputs": [
    {
     "name": "stdout",
     "output_type": "stream",
     "text": [
      "F1-score: 0.9789\n"
     ]
    }
   ],
   "source": [
    "from sklearn.ensemble import AdaBoostClassifier\n",
    "from sklearn.tree import DecisionTreeClassifier\n",
    "from sklearn.ensemble import BaggingClassifier\n",
    "from sklearn.ensemble import VotingClassifier\n",
    "from sklearn.metrics import f1_score\n",
    "\n",
    "clf1 = DecisionTreeClassifier(max_features=1, random_state=0)\n",
    "clf2 = BaggingClassifier(max_features=4, random_state=0)\n",
    "clf3 = RandomForestClassifier(max_features=1, random_state=0)\n",
    "clf4 = AdaBoostClassifier(n_estimators=50, random_state=0)\n",
    "eclf1 = VotingClassifier(estimators=[('dt', clf1), ('bdt', clf2), ('rf', clf3), ('ab', clf4)], voting='hard')\n",
    "eclf1 = eclf1.fit(X_train, y_train)\n",
    "pred = eclf1.predict(X_test)\n",
    "print('F1-score: {:.4f}'.format(f1_score(y_test, pred, average='macro')))"
   ]
  },
  {
   "cell_type": "code",
   "execution_count": 14,
   "metadata": {},
   "outputs": [
    {
     "name": "stdout",
     "output_type": "stream",
     "text": [
      "Predicted Random Forest: ['male' 'female' 'female' 'female' 'male' 'female' 'female' 'female'\n",
      " 'male' 'male' 'female' 'male' 'male' 'female' 'female' 'female' 'female'\n",
      " 'female']\n",
      "Expected: [1, 0, 1, 1, 1, 0, 1, 1, 1, 1, 0, 1, 1, 0, 0, 0, 0, 0]\n"
     ]
    },
    {
     "name": "stderr",
     "output_type": "stream",
     "text": [
      "c:\\Users\\kcpra\\AppData\\Local\\Programs\\Python\\Python311\\Lib\\site-packages\\sklearn\\base.py:439: UserWarning: X does not have valid feature names, but DecisionTreeClassifier was fitted with feature names\n",
      "  warnings.warn(\n",
      "c:\\Users\\kcpra\\AppData\\Local\\Programs\\Python\\Python311\\Lib\\site-packages\\sklearn\\base.py:439: UserWarning: X does not have valid feature names, but BaggingClassifier was fitted with feature names\n",
      "  warnings.warn(\n",
      "c:\\Users\\kcpra\\AppData\\Local\\Programs\\Python\\Python311\\Lib\\site-packages\\sklearn\\base.py:439: UserWarning: X does not have valid feature names, but RandomForestClassifier was fitted with feature names\n",
      "  warnings.warn(\n",
      "c:\\Users\\kcpra\\AppData\\Local\\Programs\\Python\\Python311\\Lib\\site-packages\\sklearn\\base.py:439: UserWarning: X does not have valid feature names, but AdaBoostClassifier was fitted with feature names\n",
      "  warnings.warn(\n"
     ]
    }
   ],
   "source": [
    "eoe_model_cgpt = eclf1.predict(test_cgpt)\n",
    "\n",
    "print('Predicted Random Forest:', eoe_model_cgpt)\n",
    "print('Expected:', expected)"
   ]
  }
 ],
 "metadata": {
  "kernelspec": {
   "display_name": "Python 3",
   "language": "python",
   "name": "python3"
  },
  "language_info": {
   "codemirror_mode": {
    "name": "ipython",
    "version": 3
   },
   "file_extension": ".py",
   "mimetype": "text/x-python",
   "name": "python",
   "nbconvert_exporter": "python",
   "pygments_lexer": "ipython3",
   "version": "3.11.1"
  }
 },
 "nbformat": 4,
 "nbformat_minor": 2
}
