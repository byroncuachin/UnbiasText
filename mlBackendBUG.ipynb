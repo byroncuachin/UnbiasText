{
 "cells": [
  {
   "attachments": {},
   "cell_type": "markdown",
   "metadata": {},
   "source": [
    "SVM using BUG dataset"
   ]
  },
  {
   "cell_type": "code",
   "execution_count": 98,
   "metadata": {},
   "outputs": [],
   "source": [
    "import pandas as pd\n",
    "import numpy as np\n",
    "from sklearn.feature_extraction.text import CountVectorizer\n",
    "from sklearn.metrics import accuracy_score, confusion_matrix\n",
    "from sklearn.svm import LinearSVC\n",
    "from sklearn.calibration import CalibratedClassifierCV\n",
    "from sklearn.model_selection import train_test_split\n",
    "from sklearn.ensemble import RandomForestClassifier\n",
    "from lime import lime_text\n",
    "from lime.lime_text import LimeTextExplainer\n",
    "import pickle"
   ]
  },
  {
   "cell_type": "code",
   "execution_count": 99,
   "metadata": {},
   "outputs": [
    {
     "name": "stderr",
     "output_type": "stream",
     "text": [
      "/Users/byroncuachin/anaconda3/lib/python3.11/site-packages/sklearn/svm/_classes.py:32: FutureWarning: The default value of `dual` will change from `True` to `'auto'` in 1.5. Set the value of `dual` explicitly to suppress the warning.\n",
      "  warnings.warn(\n"
     ]
    }
   ],
   "source": [
    "# load data\n",
    "dataset = pd.read_csv('datasets/BUG/balanced_BUG.csv')\n",
    "train, test = train_test_split(dataset, test_size=0.2, random_state=42)\n",
    "# get samples with only neutral or stereotype sentence\n",
    "train = train[train['stereotype'].isin([0, 1])]\n",
    "test = test[test['stereotype'].isin([0, 1])]\n",
    "\n",
    "vectorizer = CountVectorizer()\n",
    "trainTexts = vectorizer.fit_transform(train['sentence_text'])\n",
    "testTexts = vectorizer.transform(test['sentence_text'])\n",
    "\n",
    "xTrain = pd.DataFrame(trainTexts.toarray(), columns=vectorizer.get_feature_names_out())\n",
    "xTest = pd.DataFrame(testTexts.toarray(), columns=vectorizer.get_feature_names_out())\n",
    "yTrain = train['predicted gender']\n",
    "yTest = test['predicted gender']\n",
    "\n",
    "# train model\n",
    "model = LinearSVC()\n",
    "model.fit(xTrain, yTrain)\n",
    "\n",
    "model = CalibratedClassifierCV(model, method='sigmoid', cv='prefit')\n",
    "model.fit(xTrain, yTrain)\n",
    "\n",
    "with open('svmModel.pkl', 'wb') as model_file:\n",
    "    pickle.dump((model, vectorizer), model_file)"
   ]
  },
  {
   "cell_type": "code",
   "execution_count": 100,
   "metadata": {},
   "outputs": [
    {
     "name": "stdout",
     "output_type": "stream",
     "text": [
      "Accuracy: 0.9875097580015613\n",
      "Confusion matrix:\n",
      " [[1280   15]\n",
      " [  17 1250]]\n"
     ]
    }
   ],
   "source": [
    "# accuracy\n",
    "pred = model.predict(xTest)\n",
    "\n",
    "accuracy = accuracy_score(yTest, pred)\n",
    "print(\"Accuracy:\", accuracy)\n",
    "\n",
    "# confusion matrix\n",
    "cm = confusion_matrix(yTest, pred)\n",
    "print(\"Confusion matrix:\\n\", cm)"
   ]
  },
  {
   "cell_type": "code",
   "execution_count": 101,
   "metadata": {},
   "outputs": [
    {
     "name": "stdout",
     "output_type": "stream",
     "text": [
      "1 :\n",
      "Male:  4.583407051718981e-37\n",
      "Female:  1.0\n",
      "Predicted:  female\n",
      "Actual: Female\n"
     ]
    },
    {
     "name": "stderr",
     "output_type": "stream",
     "text": [
      "/Users/byroncuachin/anaconda3/lib/python3.11/site-packages/sklearn/base.py:464: UserWarning: X does not have valid feature names, but LinearSVC was fitted with feature names\n",
      "  warnings.warn(\n"
     ]
    },
    {
     "name": "stdout",
     "output_type": "stream",
     "text": [
      "Top words for text response 1:\n",
      "Masculine words:  [('of', 0.023889305706260525), ('the', 0.022509045058220045), ('Once', 0.012033914260813664), ('to', 0.010223661226169098), ('first', 0.008815718908405752), ('actions', 0.008113367510618861), ('come', 0.007773714505959946), ('also', 0.0077422289356570495), ('arrived', 0.00645465036596769), ('vibrant', 0.0058471199630072196)]\n",
      "Feminine words:  [('her', -0.05492489415291262), ('she', -0.052026689164497576), ('student', -0.05097987049085918), ('She', -0.037901470544518145), ('Her', -0.03451036896138427), ('as', -0.018732021455593953), ('became', -0.014145100571237263), ('green', -0.013132546944907071), ('about', -0.013024794635806221), ('competition', -0.011167348553064737)]\n",
      "\n",
      "2 :\n",
      "Male:  3.34660035449224e-05\n",
      "Female:  0.9999665339964551\n",
      "Predicted:  female\n",
      "Actual: Female\n"
     ]
    },
    {
     "name": "stderr",
     "output_type": "stream",
     "text": [
      "/Users/byroncuachin/anaconda3/lib/python3.11/site-packages/sklearn/base.py:464: UserWarning: X does not have valid feature names, but LinearSVC was fitted with feature names\n",
      "  warnings.warn(\n"
     ]
    },
    {
     "name": "stdout",
     "output_type": "stream",
     "text": [
      "Top words for text response 2:\n",
      "Masculine words:  [('of', 0.14362471047594233), ('the', 0.1357491075917767), ('come', 0.05058507783604051), ('to', 0.03861815568236246), ('Once', 0.03732183201363074), ('college', 0.03711929049188478), ('for', 0.034373453134801744), ('first', 0.034106625552241525), ('on', 0.03249697400115549), ('but', 0.026373538774423156)]\n",
      "Feminine words:  [('student', -0.5287127311015), ('about', -0.10404458133331347), ('could', -0.07925132555997587), ('Green', -0.07154953000089609), ('became', -0.06837650012458879), ('living', -0.061800364457321386), ('where', -0.060177757079863836), ('even', -0.05806464750505931), ('When', -0.056182151291778906), ('green', -0.05033345471613056)]\n",
      "\n",
      "3 :\n",
      "Male:  0.702690851134862\n",
      "Female:  0.29730914886513804\n",
      "Predicted:  male\n",
      "Actual: Male\n",
      "Top words for text response 3:\n",
      "Masculine words:  [('his', 0.27493393457741755), ('He', 0.23502540984000567), ('he', 0.22072718571959624), ('Once', 0.07789895472747387), ('the', 0.0759986763273506), ('University', 0.031669083041000246), ('college', 0.03038996802678609), ('for', 0.029791112953128192), ('of', 0.02347748539202915), ('an', 0.022571786355101948), ('science', 0.022314849790124294)]\n",
      "Feminine words:  [('student', -0.6614880593693618), ('lived', -0.07369658432660449), ('was', -0.07222729180866393), ('at', -0.06927997297155995), ('One', -0.06108529440452125), ('in', -0.05552986317731846), ('day', -0.034100630926505344), ('library', -0.031110349011619323), ('studies', -0.02856980368714697)]\n",
      "\n",
      "4 :\n",
      "Male:  7.120905078999165e-10\n",
      "Female:  0.9999999992879095\n",
      "Predicted:  female\n",
      "Actual: Male\n"
     ]
    },
    {
     "name": "stderr",
     "output_type": "stream",
     "text": [
      "/Users/byroncuachin/anaconda3/lib/python3.11/site-packages/sklearn/base.py:464: UserWarning: X does not have valid feature names, but LinearSVC was fitted with feature names\n",
      "  warnings.warn(\n",
      "/Users/byroncuachin/anaconda3/lib/python3.11/site-packages/sklearn/base.py:464: UserWarning: X does not have valid feature names, but LinearSVC was fitted with feature names\n",
      "  warnings.warn(\n"
     ]
    },
    {
     "name": "stdout",
     "output_type": "stream",
     "text": [
      "Top words for text response 4:\n",
      "Masculine words:  [('Once', 0.0691475419796024), ('the', 0.05128281013310219), ('University', 0.030021709841413176), ('for', 0.026614752731861254), ('they', 0.023080070945004864), ('college', 0.02180843317696223), ('with', 0.020545560108283605), ('of', 0.0200974305460976)]\n",
      "Feminine words:  [('student', -0.5699302611494752), ('lived', -0.06812772841538786), ('at', -0.061818049365124764), ('One', -0.04257517935954823), ('library', -0.038251687847477456), ('was', -0.03759298128137249), ('in', -0.03717140774370204), ('day', -0.035972689848856494), ('studies', -0.026500853785536186), ('time', -0.024595405389640466), ('this', -0.02391124141755992), ('This', -0.0203861840488186)]\n",
      "\n",
      "5 :\n",
      "Male:  2.2985749430290082e-45\n",
      "Female:  1.0\n",
      "Predicted:  female\n",
      "Actual: Female\n"
     ]
    },
    {
     "name": "stderr",
     "output_type": "stream",
     "text": [
      "/Users/byroncuachin/anaconda3/lib/python3.11/site-packages/sklearn/base.py:464: UserWarning: X does not have valid feature names, but LinearSVC was fitted with feature names\n",
      "  warnings.warn(\n"
     ]
    },
    {
     "name": "stdout",
     "output_type": "stream",
     "text": [
      "Top words for text response 5:\n",
      "Masculine words:  [('the', 0.013468718078131445), ('discovered', 0.012126318163542562), ('life', 0.008663261344561734), ('big', 0.008612922498122934), ('of', 0.00754604997511336), ('found', 0.0070121714557356335), ('college', 0.0066487537627113995), ('and', 0.005919829282769264), ('but', 0.005882670375788093), ('crisp', 0.005760464728162664)]\n",
      "Feminine words:  [('her', -0.03916739343427052), ('student', -0.038684075881400805), ('She', -0.032947843409304026), ('she', -0.03273577544189918), ('herself', -0.025478117973207006), ('Her', -0.020072091156767714), ('about', -0.012117189243082886), ('around', -0.011643404771619317), ('personal', -0.010646636234272845), ('challenges', -0.010532338483157355)]\n",
      "\n",
      "6 :\n",
      "Male:  0.0002787163006622993\n",
      "Female:  0.9997212836993377\n",
      "Predicted:  female\n",
      "Actual: Female\n"
     ]
    },
    {
     "name": "stderr",
     "output_type": "stream",
     "text": [
      "/Users/byroncuachin/anaconda3/lib/python3.11/site-packages/sklearn/base.py:464: UserWarning: X does not have valid feature names, but LinearSVC was fitted with feature names\n",
      "  warnings.warn(\n"
     ]
    },
    {
     "name": "stdout",
     "output_type": "stream",
     "text": [
      "Top words for text response 6:\n",
      "Masculine words:  [('the', 0.11946167986950089), ('of', 0.07626239386278667), ('college', 0.05819809149712012), ('discovered', 0.05677637486524613), ('into', 0.04246036344785205), ('life', 0.04040710683739484), ('once', 0.04016096616909749), ('The', 0.03328563603563697), ('for', 0.03125316357057395), ('wide', 0.02528182325657122)]\n",
      "Feminine words:  [('student', -0.8100665767001513), ('garden', -0.057712669145465384), ('about', -0.0500528786496894), ('was', -0.04640539441042187), ('become', -0.046142663778726084), ('Green', -0.04599679486192099), ('personal', -0.04430223546318799), ('in', -0.042921856366107444), ('idea', -0.03996938600196791), ('only', -0.03757223920998756)]\n",
      "\n",
      "7 :\n",
      "Male:  5.180413855238868e-19\n",
      "Female:  1.0\n",
      "Predicted:  female\n",
      "Actual: Male\n"
     ]
    },
    {
     "name": "stderr",
     "output_type": "stream",
     "text": [
      "/Users/byroncuachin/anaconda3/lib/python3.11/site-packages/sklearn/base.py:464: UserWarning: X does not have valid feature names, but LinearSVC was fitted with feature names\n",
      "  warnings.warn(\n"
     ]
    },
    {
     "name": "stdout",
     "output_type": "stream",
     "text": [
      "Top words for text response 7:\n",
      "Masculine words:  [('his', 0.16080196941036043), ('the', 0.06402285345356928), ('he', 0.0580535635817013), ('himself', 0.05250162438429639), ('had', 0.03958114307630196), ('life', 0.036831743548580535), ('His', 0.03305161115175645), ('to', 0.028241143957691943), ('an', 0.02578988531450424), ('of', 0.025491482408344653), ('He', 0.022620695756789194)]\n",
      "Feminine words:  [('her', -0.5152169094497102), ('Mrs', -0.18054034593678858), ('Her', -0.07851672960093165), ('librarian', -0.06459242456935496), ('she', -0.05819665385956236), ('student', -0.055846066762765365), ('story', -0.0554581180394151), ('journalist', -0.05147004607319622), ('only', -0.030436138781852015)]\n",
      "\n",
      "8 :\n",
      "Male:  2.378840240314542e-05\n",
      "Female:  0.9999762115975969\n",
      "Predicted:  female\n",
      "Actual: Male\n"
     ]
    },
    {
     "name": "stderr",
     "output_type": "stream",
     "text": [
      "/Users/byroncuachin/anaconda3/lib/python3.11/site-packages/sklearn/base.py:464: UserWarning: X does not have valid feature names, but LinearSVC was fitted with feature names\n",
      "  warnings.warn(\n"
     ]
    },
    {
     "name": "stdout",
     "output_type": "stream",
     "text": [
      "Top words for text response 8:\n",
      "Masculine words:  [('the', 0.14332065308514733), ('had', 0.10798278989004066), ('life', 0.10535782596940162), ('of', 0.07793515587329246), ('for', 0.06420278739259198), ('to', 0.06254268516770548), ('an', 0.05939795710955695), ('full', 0.053904532785219075), ('local', 0.044427309966408784)]\n",
      "Feminine words:  [('student', -0.23273687703500479), ('librarian', -0.22902344390291418), ('journalist', -0.17803176832153317), ('story', -0.14051504220780553), ('in', -0.10437711890953182), ('Mrs', -0.10147196146953831), ('out', -0.08183499298341494), ('people', -0.0660600863251217), ('own', -0.0651661754604483), ('only', -0.06166529445491519), ('readers', -0.0562966459310846)]\n",
      "\n",
      "9 :\n",
      "Male:  1.0\n",
      "Female:  0.0\n",
      "Predicted:  male\n",
      "Actual: Male\n"
     ]
    },
    {
     "name": "stderr",
     "output_type": "stream",
     "text": [
      "/Users/byroncuachin/anaconda3/lib/python3.11/site-packages/sklearn/base.py:464: UserWarning: X does not have valid feature names, but LinearSVC was fitted with feature names\n",
      "  warnings.warn(\n"
     ]
    },
    {
     "name": "stdout",
     "output_type": "stream",
     "text": [
      "Top words for text response 9:\n",
      "Masculine words:  [('his', 0.03457657349794363), ('His', 0.03191807819576094), ('he', 0.029450326309635507), ('the', 0.025282155797568782), ('life', 0.020660279256804432), ('of', 0.015879389698596896), ('to', 0.014156954212146283), ('college', 0.012535517750240279), ('attention', 0.01115760667814439), ('for', 0.007734224694972404)]\n",
      "Feminine words:  [('night', -0.010496947147545514), ('sessions', -0.010421998588474764), ('was', -0.010228453059071423), ('major', -0.010013182788536888), ('like', -0.009571037098178031), ('work', -0.008976747454607652), ('him', -0.008266036721240556), ('only', -0.0079735973549353), ('help', -0.007866937425115132), ('became', -0.007709632513977954)]\n",
      "\n",
      "10 :\n",
      "Male:  0.9999548140259166\n",
      "Female:  4.518597408342817e-05\n",
      "Predicted:  male\n",
      "Actual: Male\n",
      "Top words for text response 10:\n",
      "Masculine words:  [('the', 0.13073391738000564), ('of', 0.09611817325470597), ('life', 0.09594084362702518), ('on', 0.0720740251843928), ('to', 0.06161101907960132), ('for', 0.05834691626741749), ('college', 0.047786529016594075), ('hands', 0.04769278932872829), ('The', 0.030150985909322855), ('engineering', 0.02925544319951919), ('decided', 0.02818265718386333), ('had', 0.027195269789963974)]\n",
      "Feminine words:  [('about', -0.059503878174148934), ('town', -0.056176582454598584), ('help', -0.052147003001886065), ('students', -0.04775365882888434), ('from', -0.04478120481906055), ('One', -0.04170049789870318), ('night', -0.041200204569463064), ('became', -0.040000127260962824)]\n",
      "\n"
     ]
    },
    {
     "name": "stderr",
     "output_type": "stream",
     "text": [
      "/Users/byroncuachin/anaconda3/lib/python3.11/site-packages/sklearn/base.py:464: UserWarning: X does not have valid feature names, but LinearSVC was fitted with feature names\n",
      "  warnings.warn(\n"
     ]
    }
   ],
   "source": [
    "text = [\n",
    "\"\"\"\n",
    "Once upon a time in the vibrant city of Harmonyville , there lived a college student named Mia Rodriguez . Mia was a junior majoring in environmental science at Rivertide University . Her love for nature and a deep sense of responsibility towards the planet fueled her determination to make a positive impact . One sunny afternoon , Mia stumbled upon a notice about the annual Green Innovation Challenge —an event where students could pitch eco -friendly projects to a panel of environmental experts . Inspired and eager to contribute , Mia decided to develop a sustainable urban gardening initiative called  \"GreenHaven . \" With her hands in the soil and a heart full of passion , Mia transformed an unused corner of the campus into a thriving community garden . She envisioned GreenHaven as a place where students could come together , learn about sustainable agriculture , and cultivate their own fruits and vegetables . Mia believed that this initiative could not only promote environmental consciousness but also foster a sense of community among her peers . As the garden flourished , so did Mia 's connection with her fellow students . The project became a hub of creativity , where ideas for sustainable living blossomed alongside the vibrant array of fruits and vegetables . Mia 's dedication and leadership drew the attention of both students and faculty alike . When the day of the Green Innovation Challenge arrived , Mia nervously but proudly presented GreenHaven to the panel of judges . The vision , dedication , and positive impact of her project resonated deeply , earning her the first prize and a scholarship for further environmental studies . Word of Mia 's success spread , and GreenHaven became a symbol of sustainable living on campus . Mia 's journey didn 't end with the competition ; instead , it marked the beginning of a new chapter . With the scholarship in hand , Mia continued her studies , conducting research on innovative ways to create sustainable urban environments . As Mia graduated from Rivertide University , she left behind a legacy of green initiatives and a campus that had been transformed by the power of community and sustainability . GreenHaven continued to thrive , inspiring future generations of students to think creatively about environmental issues . Mia 's story became a beacon of hope , showing that even a single college student with a passion for change could make a lasting impact on the world . And so , as Mia embarked on her journey beyond college , she carried with her not just a degree but the knowledge that small , meaningful actions could ripple into waves of positive transformation for the planet and its people .\n",
    "\"\"\",\n",
    "\"\"\"\n",
    "Once upon a time in the vibrant city of Harmonyville ,  lived a college student named   .  was a junior majoring in environmental science at Rivertide University .  love for nature and a deep sense of responsibility towards the planet fueled  determination to make a positive impact . One sunny afternoon ,  stumbled upon a notice about the annual Green Innovation Challenge — an event where students could pitch eco -friendly projects to a panel of environmental experts . Inspired and eager to contribute ,  decided to develop a sustainable urban gardening initiative called   \" GreenHaven . \" With  hands in the soil and a heart full of passion ,  transformed an unused corner of the campus into a thriving community garden .  envisioned GreenHaven as a place where students could come together , learn about sustainable agriculture , and cultivate  own fruits and vegetables .  believed that this initiative could not only promote environmental consciousness but also foster a sense of community among  peers . As the garden flourished , so did  's connection with  fellow students . The project became a hub of creativity , where ideas for sustainable living blossomed alongside the vibrant array of fruits and vegetables .  's dedication and leadership drew the attention of both students and faculty alike . When the day of the Green Innovation Challenge arrived ,  nervously but proudly presented GreenHaven to the panel of judges . The vision , dedication , and positive impact of  project resonated deeply , earning  the first prize and a scholarship for further environmental studies . Word of  's success spread , and  became a symbol of sustainable living on campus .  's    t end with the competition ; instead ,  marked the beginning of a new chapter . With the scholarship in hand ,  continued  studies , conducting research on innovative ways to create sustainable urban environments . As  graduated from Rivertide University ,  left behind a legacy of green initiatives and a campus  had been transformed by the power of community and sustainability . GreenHaven continued to thrive , inspiring future generations of students to think creatively about environmental issues .  's story became a beacon of hope , showing that even a single college student with a passion for change could make a lasting impact on the world . And so , as  embarked on  journey beyond college ,  carried with  not just a degree but the knowledge  small , meaningful actions could ripple into waves of positive transformation for the planet and  people .\n",
    "\"\"\",\n",
    "\"\"\"\n",
    "Once upon a time in the bustling city of Arcadia , there lived a college student named Alex Reynolds . Alex was a junior majoring in computer science at the prestigious Arcadia University . He was a diligent student with a passion for coding and a penchant for exploring the world of technology . One day , as Alex was immersed in his studies at the campus library , he stumbled upon an intriguing flyer .\n",
    "\"\"\",\n",
    "\"\"\"\n",
    "Once upon a time in the bustling city of Arcadia , there lived a college student . This student was a junior majoring in computer science at the prestigious Arcadia University . They were a diligent student with a passion for coding and a penchant for exploring the world of technology . One day , as this student was immersed in their studies at the campus library , they stumbled upon an intriguing flyer .\n",
    "\"\"\",\n",
    "\"\"\"\n",
    "Once upon a time in the vibrant college town of Crestwood , there lived a spirited young student named Emily . She was a sophomore at Crestwood University , pursuing a degree in environmental science with dreams of making a positive impact on the planet . Emily was known for her boundless enthusiasm , infectious energy , and a love for exploring the world around her . One crisp autumn day , Emily stumbled upon a flyer for an environmental awareness club called  \"Green Harmony \" on the college bulletin board . Intrigued and passionate about environmental causes , she decided to attend their next meeting . As Emily walked into the meeting room , she was greeted by a diverse group of students who shared her passion for sustainability . The club was planning an ambitious project to transform an unused campus space into a thriving community garden . Emily was immediately captivated by the idea and eagerly joined the efforts . The days turned into weeks as the Green Harmony team worked tirelessly , planning , planting , and nurturing their garden . Emily found herself forming deep connections with her fellow club members as they faced challenges and celebrated victories together . The project not only brought life to the neglected space but also breathed new life into Emily 's college experience . Amidst the busy academic schedule , Emily discovered a sense of purpose beyond textbooks and exams . The garden project became a symbol of unity , showcasing the power of collaboration and the positive impact a group of dedicated individuals could make . As the garden flourished , so did Emily 's personal growth . She learned about sustainable practices , organic gardening , and the importance of community engagement . Her once mundane college routine transformed into a fulfilling journey , where every day brought new lessons and opportunities . Word of the Green Harmony garden spread throughout the campus , attracting attention from both students and faculty . The college recognized the club 's efforts and even awarded them a grant to expand their project . Emily and her friends found themselves at the forefront of a campus -wide movement toward sustainability . Through this journey , Emily discovered not only her passion for environmental science but also her ability to lead and inspire change . The once ordinary college student had become a beacon of hope and inspiration for those around her . As the seasons changed , so did Emily and her friends , leaving behind a legacy of a thriving community garden and a more environmentally conscious campus . The tale of the college student who discovered her purpose in the embrace of nature and community echoed through the years , inspiring future generations of students to dream big and make a difference in the world .\n",
    "\"\"\",\n",
    "\"\"\"\n",
    "Once upon a time in the vibrant college town of Crestwood ,  lived a spirited young student named  .  was a sophomore at Crestwood University , pursuing a degree in environmental science with dreams of making a positive impact on the planet . Emily was known for  boundless enthusiasm , infectious energy , and a love for exploring the world around  . One crisp autumn day , Emily stumbled upon a flyer for an environmental awareness club called   \" Green Harmony \" on the college bulletin board . Intrigued and passionate about environmental causes ,  decided to attend  next meeting . As Emily walked into the meeting room ,  was greeted by a diverse group of students  shared  passion for sustainability . The club was planning an ambitious project to transform an unused campus space into a thriving community garden . Emily was immediately captivated by the idea and eagerly joined the efforts . The days turned into weeks as the   team worked tirelessly , planning , planting , and nurturing  garden . Emily found  forming deep connections with  fellow club members as  faced challenges and celebrated victories together . The project not only brought life to the neglected space but also breathed new life into Emily 's college experience . Amidst the busy academic schedule , Emily discovered a sense of purpose beyond textbooks and exams . The garden project became a symbol of unity , showcasing the power of collaboration and the positive impact a group of dedicated individuals could make . As the garden flourished , so did  's personal growth .  learned about sustainable practices , organic gardening , and the importance of community engagement .  once mundane college routine transformed into a fulfilling journey , where every day brought new lessons and opportunities . Word of the Green Harmony garden spread throughout the campus , attracting attention from both students and faculty . The college recognized the club 's efforts and even awarded  a grant to expand  project . Emily and  friends found  at the forefront of a campus -wide movement toward sustainability . Through this journey , Emily discovered not only  passion for environmental science but also  ability to lead and inspire change . The once ordinary college student had become a beacon of hope and inspiration for  around  . As the seasons changed , so did  and  friends , leaving behind a legacy of a thriving community garden and a more environmentally conscious campus . The tale of the college student  discovered  purpose in the embrace of nature and community echoed through the years , inspiring future generations of students to dream big and make a difference in the world .\n",
    "\"\"\",\n",
    "\"\"\"\n",
    "In the vibrant city of Rivertown , there lived a college student named Jason Harris . Jason was a senior at Rivertown University , majoring in journalism and aspiring to be a storyteller . He had a keen interest in human experiences and a passion for shedding light on untold stories . One day , while perusing the local newspaper , Jason stumbled upon an article about an elderly woman named Mrs . Eleanor Bennett , who had spent decades working as a librarian in the city . Intrigued by the snippet of her life story , Jason felt compelled to dig deeper and share her tale with the world . After some research , Jason learned that Mrs . Bennett had not only been a dedicated librarian but had also been involved in community initiatives , fostering a love for reading among children and organizing events to bring people together . However , her own life story had largely remained in the shadows . Determined to uncover the full narrative , Jason reached out to Mrs . Bennett and asked for an interview . To his surprise , she welcomed the opportunity to share her story , and soon they sat down for a conversation that would unveil a lifetime of experiences . As Jason delved into Mrs . Bennett 's past , he discovered a woman who had overcome personal challenges , witnessed historical events , and touched the lives of many in Rivertown . Her journey was filled with moments of joy , heartbreak , and resilience , making for a compelling narrative that Jason couldn 't wait to share with his readers . With meticulous attention to detail , Jason crafted a feature article that not only highlighted Mrs . Bennett 's contributions to the community but also captured the essence of her character . The story resonated with readers , and the local newspaper received an overwhelming response . Mrs . Bennett became a beloved figure in Rivertown , celebrated for her dedication and the richness of her life story . The success of the article opened doors for Jason , who found himself on the path to becoming a respected journalist . Inspired by Mrs . Bennett 's story , he continued to seek out and share the untold narratives within his community , becoming a storyteller who bridged the gaps between generations . As graduation day approached , Jason reflected on his college journey . His time at Rivertown University had not only provided him with an education but had also instilled in him the power of storytelling to connect people and inspire change . With a heart full of gratitude and a portfolio filled with impactful stories , Jason ventured into the world , ready to make a difference , one narrative at a time .\n",
    "\"\"\",\n",
    "\"\"\"\n",
    "In the vibrant city of Rivertown ,  lived a college student named   .  was a senior at Rivertown University , majoring in journalism and aspiring to be a storyteller .  had a keen interest in human experiences and a passion for shedding light on untold stories . One day , while perusing the local newspaper ,  stumbled upon an article about an elderly woman named  .   ,  had spent decades working as a librarian in the city . Intrigued by the snippet of  life story ,  felt compelled to dig deeper and share  tale with the world . After some research ,  learned that  .  had not only been a dedicated librarian but had also been involved in community initiatives , fostering a love for reading among children and organizing events to bring people together . However ,  own life story had largely remained in the shadows . Determined to uncover the full narrative ,  reached out to  .  and asked for an interview . To  surprise ,  welcomed the opportunity to share  story , and soon  sat down for a conversation  would unveil a lifetime of experiences . As  delved into  .  's past ,  discovered a woman  had overcome personal challenges , witnessed historical events , and touched the lives of many in Rivertown .  journey was filled with moments of joy , heartbreak , and resilience , making for a compelling narrative   couldn ' t wait to share with  readers . With meticulous attention to detail ,  crafted a feature article that not only highlighted  .  's contributions to the community but also captured the essence of  character . The story resonated with readers , and the local newspaper received an overwhelming response . Mrs .  became a beloved figure in Rivertown , celebrated for  dedication and the richness of  life story . The success of the article opened doors for  ,  found  on the path to becoming a respected journalist . Inspired by  .  's story ,  continued to seek out and share the untold narratives within  community , becoming a storyteller  bridged the gaps between generations . As graduation day approached ,  reflected on  college journey .  time at Rivertown University had not only provided  with an education but had also instilled in  the power of storytelling to connect people and inspire change . With a heart full of gratitude and a portfolio filled with impactful stories ,  ventured into the world , ready to make a difference , one narrative at a time .\n",
    "\"\"\",\n",
    "\"\"\"\n",
    "In the bustling town of Summitville , there lived a college man named Lucas Turner . Lucas was a mechanical engineering major at Summitville Tech , known for his passion for building things from the ground up . His college life was a dynamic mix of late -night design sessions , hands -on projects , and a camaraderie with his fellow engineering students . One day , Lucas stumbled upon an old , abandoned workshop on the outskirts of town . The sight of forgotten tools and discarded materials sparked a fire in him . Inspired by the potential of the neglected space , he decided to breathe new life into it and create a collaborative hub for engineering students . Lucas rallied a group of like -minded friends , and together they transformed the workshop into the  \"Innovation Forge . \" It became a haven for students to work on personal projects , exchange ideas , and bring their engineering dreams to life . The space buzzed with the sounds of drills , the clanking of metal , and the hum of 3D printers as students collaborated on everything from robotics to sustainable energy solutions . As the Innovation Forge gained popularity , Lucas and his team decided to organize an annual engineering expo , showcasing the innovative projects that emerged from their workshop . The expo not only attracted students and faculty but also local businesses and industry professionals keen on discovering emerging talent . One year , Lucas and his team developed a prototype for a solar -powered irrigation system designed to help local farmers in Summitville . The project gained attention not only for its engineering prowess but also for its potential to make a real impact in the community . The Innovation Forge became a focal point for collaborative projects that aimed to address real -world challenges . Lucas 's journey through college was not just about earning a degree ; it was about leaving a lasting mark on the engineering community . As graduation approached , the Innovation Forge continued to thrive , and Lucas felt a sense of pride in the legacy he had created . The town of Summitville now had a vibrant hub of innovation , thanks to the hard work and dedication of Lucas Turner . His college experience became a testament to the transformative power of hands -on learning , collaboration , and the drive to make a positive impact on the world through engineering ingenuity .\n",
    "\"\"\",\n",
    "\"\"\"\n",
    "In the bustling town of Summitville ,  lived a college man named   . Lucas was a mechanical engineering major at Summitville Tech , known for  passion for building things from the ground up .  college life was a dynamic mix of late -night design sessions , hands -on projects , and a camaraderie with  fellow engineering students . One day , Lucas stumbled upon an old , abandoned workshop on the outskirts of town . The sight of forgotten tools and discarded materials sparked a fire in  . Inspired by the potential of the neglected space ,  decided to breathe new life into  and create a collaborative hub for engineering students . Lucas rallied a group of like -minded friends , and together  transformed the workshop into the   \" Innovation Forge . \"  became a haven for students to work on personal projects , exchange ideas , and bring  engineering dreams to life . The space buzzed with the sounds of drills , the clanking of metal , and the hum of 3D printers as students collaborated on  from robotics to sustainable energy solutions . As the Innovation Forge gained popularity , Lucas and  team decided to organize an annual engineering expo , showcasing the innovative projects  emerged from  workshop . The expo not only attracted students and faculty but also local businesses and industry professionals keen on discovering emerging talent . One year , Lucas and  team developed a prototype for a solar -powered irrigation system designed to help local farmers in Summitville . The project gained attention not only for  engineering prowess but also for  potential to make a real impact in the community . The Innovation Forge became a focal point for collaborative projects  aimed to address real -world challenges . Lucas 's journey through college was not just about earning a degree ;  was about leaving a lasting mark on the engineering community . As graduation approached , the Innovation Forge continued to thrive , and Lucas felt a sense of pride in the legacy  had created . The town of Summitville now had a vibrant hub of innovation , thanks to the hard work and dedication of Lucas Turner .  college experience became a testament to the transformative power of hands -on learning , collaboration , and the drive to make a positive impact on the world through engineering ingenuity .\n",
    "\"\"\"\n",
    "]\n",
    "vectorizedText = vectorizer.transform(text)\n",
    "textsTransformed = pd.DataFrame(vectorizedText.toarray(), columns=vectorizer.get_feature_names_out())\n",
    "predProb = model.predict_proba(textsTransformed)\n",
    "pred = model.predict(textsTransformed)\n",
    "\n",
    "yActual = [0, 0, 1, 1, 0, 0, 1, 1, 1, 1]\n",
    "explainer = LimeTextExplainer(class_names=['female', 'male'])\n",
    "for i in range(len(pred)):\n",
    "    print(i + 1, \":\")\n",
    "    print(\"Male: \", predProb[i][1])\n",
    "    print(\"Female: \", predProb[i][0])\n",
    "    print(\"Predicted: \", pred[i])\n",
    "    if(yActual[i] == 0):\n",
    "        print(\"Actual: Female\")\n",
    "    else:\n",
    "        print(\"Actual: Male\")\n",
    "    \n",
    "    vectorized_text = vectorizer.transform([text[i]])\n",
    "    predict_function = lambda x: model.predict_proba(vectorizer.transform(x))\n",
    "    explanation = explainer.explain_instance(text[i], predict_function, num_features=20)\n",
    "    top_words_lime = explanation.as_list()\n",
    "    print(f\"Top words for text response {i + 1}:\")\n",
    "    masculineWords = []\n",
    "    feminineWords = []\n",
    "    for word, score in top_words_lime:\n",
    "        if score > 0:\n",
    "            masculineWords.append((word, score))\n",
    "        else:\n",
    "            feminineWords.append((word, score))\n",
    "    print(\"Masculine words: \", masculineWords)\n",
    "    print(\"Feminine words: \", feminineWords)\n",
    "    print(\"\")\n",
    "\n",
    "\n",
    "\n"
   ]
  },
  {
   "attachments": {},
   "cell_type": "markdown",
   "metadata": {},
   "source": [
    "Random Forest Using BUG Dataset"
   ]
  },
  {
   "cell_type": "code",
   "execution_count": 105,
   "metadata": {},
   "outputs": [],
   "source": [
    "# load data\n",
    "dataset = pd.read_csv('datasets/BUG/balanced_BUG.csv')\n",
    "train, test = train_test_split(dataset, test_size=0.2, random_state=42)\n",
    "# get samples with only neutral or stereotype sentence\n",
    "train = train[train['stereotype'].isin([0, 1])]\n",
    "test = test[test['stereotype'].isin([0, 1])]\n",
    "\n",
    "vectorizer = CountVectorizer()\n",
    "trainTexts = vectorizer.fit_transform(train['sentence_text'])\n",
    "testTexts = vectorizer.transform(test['sentence_text'])\n",
    "\n",
    "xTrain = pd.DataFrame(trainTexts.toarray(), columns=vectorizer.get_feature_names_out())\n",
    "xTest = pd.DataFrame(testTexts.toarray(), columns=vectorizer.get_feature_names_out())\n",
    "yTrain = train['predicted gender']\n",
    "yTest = test['predicted gender']\n",
    "\n",
    "# train model\n",
    "model = RandomForestClassifier(n_estimators=100, random_state=42)\n",
    "model.fit(xTrain, yTrain)\n",
    "\n",
    "with open('randomForestModel.pkl', 'wb') as model_file:\n",
    "    pickle.dump((model, vectorizer), model_file)"
   ]
  },
  {
   "cell_type": "code",
   "execution_count": 106,
   "metadata": {},
   "outputs": [
    {
     "name": "stdout",
     "output_type": "stream",
     "text": [
      "Accuracy: 0.9914129586260734\n",
      "Confusion matrix:\n",
      " [[1291    4]\n",
      " [  18 1249]]\n"
     ]
    }
   ],
   "source": [
    "# accuracy\n",
    "pred = model.predict(xTest)\n",
    "\n",
    "accuracy = accuracy_score(yTest, pred)\n",
    "print(\"Accuracy:\", accuracy)\n",
    "\n",
    "# confusion matrix\n",
    "cm = confusion_matrix(yTest, pred)\n",
    "print(\"Confusion matrix:\\n\", cm)"
   ]
  },
  {
   "cell_type": "code",
   "execution_count": 107,
   "metadata": {},
   "outputs": [
    {
     "name": "stdout",
     "output_type": "stream",
     "text": [
      "1 :\n",
      "Male:  0.3\n",
      "Female:  0.7\n",
      "Predicted:  female\n",
      "Actual: Female\n"
     ]
    },
    {
     "name": "stderr",
     "output_type": "stream",
     "text": [
      "/Users/byroncuachin/anaconda3/lib/python3.11/site-packages/sklearn/base.py:464: UserWarning: X does not have valid feature names, but RandomForestClassifier was fitted with feature names\n",
      "  warnings.warn(\n"
     ]
    },
    {
     "name": "stdout",
     "output_type": "stream",
     "text": [
      "Top words for text response 1:\n",
      "Masculine words:  [('an', 0.03881001779009798), ('continued', 0.026671373748517576), ('the', 0.02019839133436416), ('about', 0.01995379882675494), ('to', 0.017195105329217388), ('peers', 0.017055799526091528), ('on', 0.01666617960909363), ('of', 0.015776486540651814), ('among', 0.015042518271359991), ('believed', 0.014206935528434984), ('their', 0.013368955561480775), ('arrived', 0.01334768551170358)]\n",
      "Feminine words:  [('student', -0.04484451583553814), ('Her', -0.039660207745517366), ('her', -0.03957481434568894), ('She', -0.022581092633221236), ('she', -0.02250244533506502), ('students', -0.01950212957354425), ('story', -0.005017598065172543), ('only', -0.003234681191705741)]\n",
      "\n",
      "2 :\n",
      "Male:  0.41\n",
      "Female:  0.59\n",
      "Predicted:  female\n",
      "Actual: Female\n"
     ]
    },
    {
     "name": "stderr",
     "output_type": "stream",
     "text": [
      "/Users/byroncuachin/anaconda3/lib/python3.11/site-packages/sklearn/base.py:464: UserWarning: X does not have valid feature names, but RandomForestClassifier was fitted with feature names\n",
      "  warnings.warn(\n"
     ]
    },
    {
     "name": "stdout",
     "output_type": "stream",
     "text": [
      "Top words for text response 2:\n",
      "Masculine words:  [('an', 0.029857424437760568), ('the', 0.023363149421702745), ('believed', 0.01859610148463281), ('about', 0.017640703755345814), ('in', 0.01626962691520522), ('of', 0.012417207577566444), ('peers', 0.012148653703924534), ('arrived', 0.011232703740408355), ('full', 0.010473605070417634), ('new', 0.010298294240615534)]\n",
      "Feminine words:  [('student', -0.08204084598683085), ('students', -0.05787155048408309), ('that', -0.017731685743295145), ('story', -0.012221270216606031), ('only', -0.012078621339060182), ('ideas', -0.008947841347620361), ('community', -0.008744167391669184), ('had', -0.007755757885560713), ('presented', -0.006837024159138517), ('studies', -0.004367784493341503)]\n",
      "\n",
      "3 :\n",
      "Male:  0.67\n",
      "Female:  0.33\n",
      "Predicted:  male\n",
      "Actual: Male\n"
     ]
    },
    {
     "name": "stderr",
     "output_type": "stream",
     "text": [
      "/Users/byroncuachin/anaconda3/lib/python3.11/site-packages/sklearn/base.py:464: UserWarning: X does not have valid feature names, but RandomForestClassifier was fitted with feature names\n",
      "  warnings.warn(\n"
     ]
    },
    {
     "name": "stdout",
     "output_type": "stream",
     "text": [
      "Top words for text response 3:\n",
      "Masculine words:  [('his', 0.13811764963523301), ('He', 0.06157788699976804), ('he', 0.05981701383806729), ('the', 0.024826670469329917), ('was', 0.022261896788297576), ('as', 0.01758125802090856), ('University', 0.003427398348363866)]\n",
      "Feminine words:  [('student', -0.21119468525915336), ('library', -0.02549156905474997), ('studies', -0.013592152631205752), ('One', -0.010658871187814443), ('science', -0.010007720126649591), ('with', -0.009221738653362675), ('lived', -0.0071219361047746114), ('time', -0.006899589386091277), ('at', -0.006844944667064366), ('junior', -0.00625867863396771), ('campus', -0.005762261984155897), ('and', -0.003170920442732569), ('bustling', -0.002732970519699992)]\n",
      "\n",
      "4 :\n",
      "Male:  0.32\n",
      "Female:  0.68\n",
      "Predicted:  female\n",
      "Actual: Male\n"
     ]
    },
    {
     "name": "stderr",
     "output_type": "stream",
     "text": [
      "/Users/byroncuachin/anaconda3/lib/python3.11/site-packages/sklearn/base.py:464: UserWarning: X does not have valid feature names, but RandomForestClassifier was fitted with feature names\n",
      "  warnings.warn(\n"
     ]
    },
    {
     "name": "stdout",
     "output_type": "stream",
     "text": [
      "Top words for text response 4:\n",
      "Masculine words:  [('the', 0.021267907133062043), ('were', 0.01116886878354225), ('their', 0.010089227945997096), ('for', 0.009905356514916239), ('was', 0.005921833639522977), ('in', 0.004437965726350528), ('as', 0.003987027254179643), ('an', 0.0032586929566329774)]\n",
      "Feminine words:  [('student', -0.1598061449723437), ('library', -0.01612340067188241), ('world', -0.012183618920960346), ('with', -0.008360007953198153), ('studies', -0.00795407580831456), ('junior', -0.006824164366932409), ('This', -0.006016507269655917), ('this', -0.005104712948160854), ('at', -0.003795539298592762), ('day', -0.003212128921864708), ('exploring', -0.002742559596368847), ('and', -0.0021091174413192903)]\n",
      "\n",
      "5 :\n",
      "Male:  0.27\n",
      "Female:  0.73\n",
      "Predicted:  female\n",
      "Actual: Female\n"
     ]
    },
    {
     "name": "stderr",
     "output_type": "stream",
     "text": [
      "/Users/byroncuachin/anaconda3/lib/python3.11/site-packages/sklearn/base.py:464: UserWarning: X does not have valid feature names, but RandomForestClassifier was fitted with feature names\n",
      "  warnings.warn(\n"
     ]
    },
    {
     "name": "stdout",
     "output_type": "stream",
     "text": [
      "Top words for text response 5:\n",
      "Masculine words:  [('club', 0.041227657663517485), ('personal', 0.025549419103295654), ('life', 0.016861169653212216), ('on', 0.016826912670350545), ('for', 0.01485338489588543), ('became', 0.013301510917788037), ('leaving', 0.01255797667843485), ('team', 0.012339131753402982), ('found', 0.011833254237890507), ('One', 0.011792468950416947), ('nature', 0.011483044831226167), ('awarded', 0.011327848557488016)]\n",
      "Feminine words:  [('herself', -0.046212776352241525), ('student', -0.039872144642471345), ('her', -0.02989470542020386), ('she', -0.026877826159633567), ('She', -0.026863838631755347), ('Her', -0.02602801025261219), ('students', -0.01892179819413567), ('movement', -0.005815203314215996)]\n",
      "\n",
      "6 :\n",
      "Male:  0.45\n",
      "Female:  0.55\n",
      "Predicted:  female\n",
      "Actual: Female\n"
     ]
    },
    {
     "name": "stderr",
     "output_type": "stream",
     "text": [
      "/Users/byroncuachin/anaconda3/lib/python3.11/site-packages/sklearn/base.py:464: UserWarning: X does not have valid feature names, but RandomForestClassifier was fitted with feature names\n",
      "  warnings.warn(\n"
     ]
    },
    {
     "name": "stdout",
     "output_type": "stream",
     "text": [
      "Top words for text response 6:\n",
      "Masculine words:  [('club', 0.03580038451693447), ('life', 0.022839061203399732), ('for', 0.018919504058514718), ('team', 0.01787291028300186), ('also', 0.0163422258519267), ('was', 0.01598089622060578), ('on', 0.014961798364634413), ('about', 0.01344946961631035), ('change', 0.013278579423093052), ('leaving', 0.009716433493651942)]\n",
      "Feminine words:  [('student', -0.07969250057064443), ('students', -0.03367770661037372), ('experience', -0.03194786597793556), ('had', -0.013169539824416038), ('this', -0.012471405130709096), ('passionate', -0.00967222285541301), ('movement', -0.008623631966854143), ('collaboration', -0.007950546681132624), ('inspiration', -0.006871070084255999), ('of', -0.006431305883758672)]\n",
      "\n",
      "7 :\n",
      "Male:  0.33\n",
      "Female:  0.67\n",
      "Predicted:  female\n",
      "Actual: Male\n"
     ]
    },
    {
     "name": "stderr",
     "output_type": "stream",
     "text": [
      "/Users/byroncuachin/anaconda3/lib/python3.11/site-packages/sklearn/base.py:464: UserWarning: X does not have valid feature names, but RandomForestClassifier was fitted with feature names\n",
      "  warnings.warn(\n"
     ]
    },
    {
     "name": "stdout",
     "output_type": "stream",
     "text": [
      "Top words for text response 7:\n",
      "Masculine words:  [('himself', 0.04840960806832717), ('his', 0.021589465489703506), ('His', 0.02013112760886331), ('of', 0.016860346537880138), ('he', 0.016007110511223863), ('He', 0.014611736340467295), ('After', 0.014057329833833914), ('into', 0.013628636178286534), ('children', 0.011712352619385104), ('time', 0.011493066088448061)]\n",
      "Feminine words:  [('student', -0.05570123280119258), ('journalist', -0.0418576414145329), ('she', -0.03514710509781079), ('Mrs', -0.03126123321010188), ('experiences', -0.02636303901286821), ('Her', -0.0243877779926739), ('her', -0.022232453978332494), ('woman', -0.01464646872335561), ('that', -0.010906540382479624), ('stories', -0.010153786604577539)]\n",
      "\n",
      "8 :\n",
      "Male:  0.28\n",
      "Female:  0.72\n",
      "Predicted:  female\n",
      "Actual: Male\n"
     ]
    },
    {
     "name": "stderr",
     "output_type": "stream",
     "text": [
      "/Users/byroncuachin/anaconda3/lib/python3.11/site-packages/sklearn/base.py:464: UserWarning: X does not have valid feature names, but RandomForestClassifier was fitted with feature names\n",
      "  warnings.warn(\n"
     ]
    },
    {
     "name": "stdout",
     "output_type": "stream",
     "text": [
      "Top words for text response 8:\n",
      "Masculine words:  [('about', 0.01841146361468445), ('children', 0.017909506833597762), ('After', 0.01650359869710947), ('also', 0.013089135134471606), ('of', 0.012988669262363254), ('life', 0.01191638281418575), ('into', 0.011066444443682022), ('remained', 0.011056957809876287), ('local', 0.01038374200715613), ('at', 0.010080801233865221)]\n",
      "Feminine words:  [('journalist', -0.053045085915520526), ('student', -0.03621574635354447), ('Mrs', -0.02668528311169106), ('librarian', -0.02118522551014899), ('experiences', -0.02080142322363682), ('article', -0.013629075664216894), ('character', -0.01180944338940139), ('woman', -0.010593216742426024), ('stories', -0.009635764633306348), ('human', -0.008396341372931661)]\n",
      "\n",
      "9 :\n",
      "Male:  0.66\n",
      "Female:  0.34\n",
      "Predicted:  male\n",
      "Actual: Male\n"
     ]
    },
    {
     "name": "stderr",
     "output_type": "stream",
     "text": [
      "/Users/byroncuachin/anaconda3/lib/python3.11/site-packages/sklearn/base.py:464: UserWarning: X does not have valid feature names, but RandomForestClassifier was fitted with feature names\n",
      "  warnings.warn(\n"
     ]
    },
    {
     "name": "stdout",
     "output_type": "stream",
     "text": [
      "Top words for text response 9:\n",
      "Masculine words:  [('his', 0.043109753920806716), ('His', 0.039365378451328516), ('he', 0.03853802484147003), ('One', 0.01840432036098858), ('team', 0.013365499962925374), ('of', 0.011916978450077897), ('him', 0.01174460927252988), ('personal', 0.011111901798917495), ('design', 0.008633511628620945), ('their', 0.008422795876121485), ('through', 0.007449658805397833), ('decided', 0.007076573744367237)]\n",
      "Feminine words:  [('students', -0.062345079653131234), ('experience', -0.052441328124246206), ('had', -0.01668762847557768), ('sight', -0.013618244900212713), ('old', -0.013347925969784156), ('ideas', -0.012973942822968475), ('talent', -0.012918478056609489), ('night', -0.010981438051236166)]\n",
      "\n",
      "10 :\n",
      "Male:  0.55\n",
      "Female:  0.45\n",
      "Predicted:  male\n",
      "Actual: Male\n",
      "Top words for text response 10:\n",
      "Masculine words:  [('design', 0.0262314305752681), ('of', 0.026096467033496516), ('building', 0.01862708940634001), ('about', 0.015616077845728979), ('was', 0.01517807391232122), ('fire', 0.013677808943223792), ('As', 0.01165356075404428), ('became', 0.011219892748155182), ('an', 0.010888265292346551), ('like', 0.010632164342329154), ('on', 0.01037990567093838), ('personal', 0.009541128527750086)]\n",
      "Feminine words:  [('students', -0.04175056460719982), ('experience', -0.04169386839380025), ('but', -0.010332278107771235), ('learning', -0.008439760205002688), ('life', -0.007089942476987591), ('challenges', -0.006588451715290833), ('year', -0.006529561388829103), ('only', -0.006488668398473252)]\n",
      "\n"
     ]
    },
    {
     "name": "stderr",
     "output_type": "stream",
     "text": [
      "/Users/byroncuachin/anaconda3/lib/python3.11/site-packages/sklearn/base.py:464: UserWarning: X does not have valid feature names, but RandomForestClassifier was fitted with feature names\n",
      "  warnings.warn(\n"
     ]
    }
   ],
   "source": [
    "text = [\n",
    "\"\"\"\n",
    "Once upon a time in the vibrant city of Harmonyville , there lived a college student named Mia Rodriguez . Mia was a junior majoring in environmental science at Rivertide University . Her love for nature and a deep sense of responsibility towards the planet fueled her determination to make a positive impact . One sunny afternoon , Mia stumbled upon a notice about the annual Green Innovation Challenge —an event where students could pitch eco -friendly projects to a panel of environmental experts . Inspired and eager to contribute , Mia decided to develop a sustainable urban gardening initiative called  \"GreenHaven . \" With her hands in the soil and a heart full of passion , Mia transformed an unused corner of the campus into a thriving community garden . She envisioned GreenHaven as a place where students could come together , learn about sustainable agriculture , and cultivate their own fruits and vegetables . Mia believed that this initiative could not only promote environmental consciousness but also foster a sense of community among her peers . As the garden flourished , so did Mia 's connection with her fellow students . The project became a hub of creativity , where ideas for sustainable living blossomed alongside the vibrant array of fruits and vegetables . Mia 's dedication and leadership drew the attention of both students and faculty alike . When the day of the Green Innovation Challenge arrived , Mia nervously but proudly presented GreenHaven to the panel of judges . The vision , dedication , and positive impact of her project resonated deeply , earning her the first prize and a scholarship for further environmental studies . Word of Mia 's success spread , and GreenHaven became a symbol of sustainable living on campus . Mia 's journey didn 't end with the competition ; instead , it marked the beginning of a new chapter . With the scholarship in hand , Mia continued her studies , conducting research on innovative ways to create sustainable urban environments . As Mia graduated from Rivertide University , she left behind a legacy of green initiatives and a campus that had been transformed by the power of community and sustainability . GreenHaven continued to thrive , inspiring future generations of students to think creatively about environmental issues . Mia 's story became a beacon of hope , showing that even a single college student with a passion for change could make a lasting impact on the world . And so , as Mia embarked on her journey beyond college , she carried with her not just a degree but the knowledge that small , meaningful actions could ripple into waves of positive transformation for the planet and its people .\n",
    "\"\"\",\n",
    "\"\"\"\n",
    "Once upon a time in the vibrant city of Harmonyville ,  lived a college student named   .  was a junior majoring in environmental science at Rivertide University .  love for nature and a deep sense of responsibility towards the planet fueled  determination to make a positive impact . One sunny afternoon ,  stumbled upon a notice about the annual Green Innovation Challenge — an event where students could pitch eco -friendly projects to a panel of environmental experts . Inspired and eager to contribute ,  decided to develop a sustainable urban gardening initiative called   \" GreenHaven . \" With  hands in the soil and a heart full of passion ,  transformed an unused corner of the campus into a thriving community garden .  envisioned GreenHaven as a place where students could come together , learn about sustainable agriculture , and cultivate  own fruits and vegetables .  believed that this initiative could not only promote environmental consciousness but also foster a sense of community among  peers . As the garden flourished , so did  's connection with  fellow students . The project became a hub of creativity , where ideas for sustainable living blossomed alongside the vibrant array of fruits and vegetables .  's dedication and leadership drew the attention of both students and faculty alike . When the day of the Green Innovation Challenge arrived ,  nervously but proudly presented GreenHaven to the panel of judges . The vision , dedication , and positive impact of  project resonated deeply , earning  the first prize and a scholarship for further environmental studies . Word of  's success spread , and  became a symbol of sustainable living on campus .  's    t end with the competition ; instead ,  marked the beginning of a new chapter . With the scholarship in hand ,  continued  studies , conducting research on innovative ways to create sustainable urban environments . As  graduated from Rivertide University ,  left behind a legacy of green initiatives and a campus  had been transformed by the power of community and sustainability . GreenHaven continued to thrive , inspiring future generations of students to think creatively about environmental issues .  's story became a beacon of hope , showing that even a single college student with a passion for change could make a lasting impact on the world . And so , as  embarked on  journey beyond college ,  carried with  not just a degree but the knowledge  small , meaningful actions could ripple into waves of positive transformation for the planet and  people .\n",
    "\"\"\",\n",
    "\"\"\"\n",
    "Once upon a time in the bustling city of Arcadia , there lived a college student named Alex Reynolds . Alex was a junior majoring in computer science at the prestigious Arcadia University . He was a diligent student with a passion for coding and a penchant for exploring the world of technology . One day , as Alex was immersed in his studies at the campus library , he stumbled upon an intriguing flyer .\n",
    "\"\"\",\n",
    "\"\"\"\n",
    "Once upon a time in the bustling city of Arcadia , there lived a college student . This student was a junior majoring in computer science at the prestigious Arcadia University . They were a diligent student with a passion for coding and a penchant for exploring the world of technology . One day , as this student was immersed in their studies at the campus library , they stumbled upon an intriguing flyer .\n",
    "\"\"\",\n",
    "\"\"\"\n",
    "Once upon a time in the vibrant college town of Crestwood , there lived a spirited young student named Emily . She was a sophomore at Crestwood University , pursuing a degree in environmental science with dreams of making a positive impact on the planet . Emily was known for her boundless enthusiasm , infectious energy , and a love for exploring the world around her . One crisp autumn day , Emily stumbled upon a flyer for an environmental awareness club called  \"Green Harmony \" on the college bulletin board . Intrigued and passionate about environmental causes , she decided to attend their next meeting . As Emily walked into the meeting room , she was greeted by a diverse group of students who shared her passion for sustainability . The club was planning an ambitious project to transform an unused campus space into a thriving community garden . Emily was immediately captivated by the idea and eagerly joined the efforts . The days turned into weeks as the Green Harmony team worked tirelessly , planning , planting , and nurturing their garden . Emily found herself forming deep connections with her fellow club members as they faced challenges and celebrated victories together . The project not only brought life to the neglected space but also breathed new life into Emily 's college experience . Amidst the busy academic schedule , Emily discovered a sense of purpose beyond textbooks and exams . The garden project became a symbol of unity , showcasing the power of collaboration and the positive impact a group of dedicated individuals could make . As the garden flourished , so did Emily 's personal growth . She learned about sustainable practices , organic gardening , and the importance of community engagement . Her once mundane college routine transformed into a fulfilling journey , where every day brought new lessons and opportunities . Word of the Green Harmony garden spread throughout the campus , attracting attention from both students and faculty . The college recognized the club 's efforts and even awarded them a grant to expand their project . Emily and her friends found themselves at the forefront of a campus -wide movement toward sustainability . Through this journey , Emily discovered not only her passion for environmental science but also her ability to lead and inspire change . The once ordinary college student had become a beacon of hope and inspiration for those around her . As the seasons changed , so did Emily and her friends , leaving behind a legacy of a thriving community garden and a more environmentally conscious campus . The tale of the college student who discovered her purpose in the embrace of nature and community echoed through the years , inspiring future generations of students to dream big and make a difference in the world .\n",
    "\"\"\",\n",
    "\"\"\"\n",
    "Once upon a time in the vibrant college town of Crestwood ,  lived a spirited young student named  .  was a sophomore at Crestwood University , pursuing a degree in environmental science with dreams of making a positive impact on the planet . Emily was known for  boundless enthusiasm , infectious energy , and a love for exploring the world around  . One crisp autumn day , Emily stumbled upon a flyer for an environmental awareness club called   \" Green Harmony \" on the college bulletin board . Intrigued and passionate about environmental causes ,  decided to attend  next meeting . As Emily walked into the meeting room ,  was greeted by a diverse group of students  shared  passion for sustainability . The club was planning an ambitious project to transform an unused campus space into a thriving community garden . Emily was immediately captivated by the idea and eagerly joined the efforts . The days turned into weeks as the   team worked tirelessly , planning , planting , and nurturing  garden . Emily found  forming deep connections with  fellow club members as  faced challenges and celebrated victories together . The project not only brought life to the neglected space but also breathed new life into Emily 's college experience . Amidst the busy academic schedule , Emily discovered a sense of purpose beyond textbooks and exams . The garden project became a symbol of unity , showcasing the power of collaboration and the positive impact a group of dedicated individuals could make . As the garden flourished , so did  's personal growth .  learned about sustainable practices , organic gardening , and the importance of community engagement .  once mundane college routine transformed into a fulfilling journey , where every day brought new lessons and opportunities . Word of the Green Harmony garden spread throughout the campus , attracting attention from both students and faculty . The college recognized the club 's efforts and even awarded  a grant to expand  project . Emily and  friends found  at the forefront of a campus -wide movement toward sustainability . Through this journey , Emily discovered not only  passion for environmental science but also  ability to lead and inspire change . The once ordinary college student had become a beacon of hope and inspiration for  around  . As the seasons changed , so did  and  friends , leaving behind a legacy of a thriving community garden and a more environmentally conscious campus . The tale of the college student  discovered  purpose in the embrace of nature and community echoed through the years , inspiring future generations of students to dream big and make a difference in the world .\n",
    "\"\"\",\n",
    "\"\"\"\n",
    "In the vibrant city of Rivertown , there lived a college student named Jason Harris . Jason was a senior at Rivertown University , majoring in journalism and aspiring to be a storyteller . He had a keen interest in human experiences and a passion for shedding light on untold stories . One day , while perusing the local newspaper , Jason stumbled upon an article about an elderly woman named Mrs . Eleanor Bennett , who had spent decades working as a librarian in the city . Intrigued by the snippet of her life story , Jason felt compelled to dig deeper and share her tale with the world . After some research , Jason learned that Mrs . Bennett had not only been a dedicated librarian but had also been involved in community initiatives , fostering a love for reading among children and organizing events to bring people together . However , her own life story had largely remained in the shadows . Determined to uncover the full narrative , Jason reached out to Mrs . Bennett and asked for an interview . To his surprise , she welcomed the opportunity to share her story , and soon they sat down for a conversation that would unveil a lifetime of experiences . As Jason delved into Mrs . Bennett 's past , he discovered a woman who had overcome personal challenges , witnessed historical events , and touched the lives of many in Rivertown . Her journey was filled with moments of joy , heartbreak , and resilience , making for a compelling narrative that Jason couldn 't wait to share with his readers . With meticulous attention to detail , Jason crafted a feature article that not only highlighted Mrs . Bennett 's contributions to the community but also captured the essence of her character . The story resonated with readers , and the local newspaper received an overwhelming response . Mrs . Bennett became a beloved figure in Rivertown , celebrated for her dedication and the richness of her life story . The success of the article opened doors for Jason , who found himself on the path to becoming a respected journalist . Inspired by Mrs . Bennett 's story , he continued to seek out and share the untold narratives within his community , becoming a storyteller who bridged the gaps between generations . As graduation day approached , Jason reflected on his college journey . His time at Rivertown University had not only provided him with an education but had also instilled in him the power of storytelling to connect people and inspire change . With a heart full of gratitude and a portfolio filled with impactful stories , Jason ventured into the world , ready to make a difference , one narrative at a time .\n",
    "\"\"\",\n",
    "\"\"\"\n",
    "In the vibrant city of Rivertown ,  lived a college student named   .  was a senior at Rivertown University , majoring in journalism and aspiring to be a storyteller .  had a keen interest in human experiences and a passion for shedding light on untold stories . One day , while perusing the local newspaper ,  stumbled upon an article about an elderly woman named  .   ,  had spent decades working as a librarian in the city . Intrigued by the snippet of  life story ,  felt compelled to dig deeper and share  tale with the world . After some research ,  learned that  .  had not only been a dedicated librarian but had also been involved in community initiatives , fostering a love for reading among children and organizing events to bring people together . However ,  own life story had largely remained in the shadows . Determined to uncover the full narrative ,  reached out to  .  and asked for an interview . To  surprise ,  welcomed the opportunity to share  story , and soon  sat down for a conversation  would unveil a lifetime of experiences . As  delved into  .  's past ,  discovered a woman  had overcome personal challenges , witnessed historical events , and touched the lives of many in Rivertown .  journey was filled with moments of joy , heartbreak , and resilience , making for a compelling narrative   couldn ' t wait to share with  readers . With meticulous attention to detail ,  crafted a feature article that not only highlighted  .  's contributions to the community but also captured the essence of  character . The story resonated with readers , and the local newspaper received an overwhelming response . Mrs .  became a beloved figure in Rivertown , celebrated for  dedication and the richness of  life story . The success of the article opened doors for  ,  found  on the path to becoming a respected journalist . Inspired by  .  's story ,  continued to seek out and share the untold narratives within  community , becoming a storyteller  bridged the gaps between generations . As graduation day approached ,  reflected on  college journey .  time at Rivertown University had not only provided  with an education but had also instilled in  the power of storytelling to connect people and inspire change . With a heart full of gratitude and a portfolio filled with impactful stories ,  ventured into the world , ready to make a difference , one narrative at a time .\n",
    "\"\"\",\n",
    "\"\"\"\n",
    "In the bustling town of Summitville , there lived a college man named Lucas Turner . Lucas was a mechanical engineering major at Summitville Tech , known for his passion for building things from the ground up . His college life was a dynamic mix of late -night design sessions , hands -on projects , and a camaraderie with his fellow engineering students . One day , Lucas stumbled upon an old , abandoned workshop on the outskirts of town . The sight of forgotten tools and discarded materials sparked a fire in him . Inspired by the potential of the neglected space , he decided to breathe new life into it and create a collaborative hub for engineering students . Lucas rallied a group of like -minded friends , and together they transformed the workshop into the  \"Innovation Forge . \" It became a haven for students to work on personal projects , exchange ideas , and bring their engineering dreams to life . The space buzzed with the sounds of drills , the clanking of metal , and the hum of 3D printers as students collaborated on everything from robotics to sustainable energy solutions . As the Innovation Forge gained popularity , Lucas and his team decided to organize an annual engineering expo , showcasing the innovative projects that emerged from their workshop . The expo not only attracted students and faculty but also local businesses and industry professionals keen on discovering emerging talent . One year , Lucas and his team developed a prototype for a solar -powered irrigation system designed to help local farmers in Summitville . The project gained attention not only for its engineering prowess but also for its potential to make a real impact in the community . The Innovation Forge became a focal point for collaborative projects that aimed to address real -world challenges . Lucas 's journey through college was not just about earning a degree ; it was about leaving a lasting mark on the engineering community . As graduation approached , the Innovation Forge continued to thrive , and Lucas felt a sense of pride in the legacy he had created . The town of Summitville now had a vibrant hub of innovation , thanks to the hard work and dedication of Lucas Turner . His college experience became a testament to the transformative power of hands -on learning , collaboration , and the drive to make a positive impact on the world through engineering ingenuity .\n",
    "\"\"\",\n",
    "\"\"\"\n",
    "In the bustling town of Summitville ,  lived a college man named   . Lucas was a mechanical engineering major at Summitville Tech , known for  passion for building things from the ground up .  college life was a dynamic mix of late -night design sessions , hands -on projects , and a camaraderie with  fellow engineering students . One day , Lucas stumbled upon an old , abandoned workshop on the outskirts of town . The sight of forgotten tools and discarded materials sparked a fire in  . Inspired by the potential of the neglected space ,  decided to breathe new life into  and create a collaborative hub for engineering students . Lucas rallied a group of like -minded friends , and together  transformed the workshop into the   \" Innovation Forge . \"  became a haven for students to work on personal projects , exchange ideas , and bring  engineering dreams to life . The space buzzed with the sounds of drills , the clanking of metal , and the hum of 3D printers as students collaborated on  from robotics to sustainable energy solutions . As the Innovation Forge gained popularity , Lucas and  team decided to organize an annual engineering expo , showcasing the innovative projects  emerged from  workshop . The expo not only attracted students and faculty but also local businesses and industry professionals keen on discovering emerging talent . One year , Lucas and  team developed a prototype for a solar -powered irrigation system designed to help local farmers in Summitville . The project gained attention not only for  engineering prowess but also for  potential to make a real impact in the community . The Innovation Forge became a focal point for collaborative projects  aimed to address real -world challenges . Lucas 's journey through college was not just about earning a degree ;  was about leaving a lasting mark on the engineering community . As graduation approached , the Innovation Forge continued to thrive , and Lucas felt a sense of pride in the legacy  had created . The town of Summitville now had a vibrant hub of innovation , thanks to the hard work and dedication of Lucas Turner .  college experience became a testament to the transformative power of hands -on learning , collaboration , and the drive to make a positive impact on the world through engineering ingenuity .\n",
    "\"\"\"\n",
    "]\n",
    "vectorizedText = vectorizer.transform(text)\n",
    "textsTransformed = pd.DataFrame(vectorizedText.toarray(), columns=vectorizer.get_feature_names_out())\n",
    "predProb = model.predict_proba(textsTransformed)\n",
    "pred = model.predict(textsTransformed)\n",
    "\n",
    "yActual = [0, 0, 1, 1, 0, 0, 1, 1, 1, 1]\n",
    "explainer = LimeTextExplainer(class_names=['female', 'male'])\n",
    "for i in range(len(pred)):\n",
    "    print(i + 1, \":\")\n",
    "    print(\"Male: \", predProb[i][1])\n",
    "    print(\"Female: \", predProb[i][0])\n",
    "    print(\"Predicted: \", pred[i])\n",
    "    if(yActual[i] == 0):\n",
    "        print(\"Actual: Female\")\n",
    "    else:\n",
    "        print(\"Actual: Male\")\n",
    "        \n",
    "    vectorized_text = vectorizer.transform([text[i]])\n",
    "    predict_function = lambda x: model.predict_proba(vectorizer.transform(x))\n",
    "    explanation = explainer.explain_instance(text[i], predict_function, num_features=20)\n",
    "    top_words_lime = explanation.as_list()\n",
    "    print(f\"Top words for text response {i + 1}:\")\n",
    "    masculineWords = []\n",
    "    feminineWords = []\n",
    "    for word, score in top_words_lime:\n",
    "        if score > 0:\n",
    "            masculineWords.append((word, score))\n",
    "        else:\n",
    "            feminineWords.append((word, score))\n",
    "    print(\"Masculine words: \", masculineWords)\n",
    "    print(\"Feminine words: \", feminineWords)\n",
    "    print(\"\")\n",
    "\n",
    "\n",
    "\n"
   ]
  }
 ],
 "metadata": {
  "kernelspec": {
   "display_name": "base",
   "language": "python",
   "name": "python3"
  },
  "language_info": {
   "codemirror_mode": {
    "name": "ipython",
    "version": 3
   },
   "file_extension": ".py",
   "mimetype": "text/x-python",
   "name": "python",
   "nbconvert_exporter": "python",
   "pygments_lexer": "ipython3",
   "version": "3.11.4"
  },
  "orig_nbformat": 4,
  "vscode": {
   "interpreter": {
    "hash": "3d31fc6a8204de3b4072b5546421e13825b968bc2d7431df16c61b9e7419f929"
   }
  }
 },
 "nbformat": 4,
 "nbformat_minor": 2
}
